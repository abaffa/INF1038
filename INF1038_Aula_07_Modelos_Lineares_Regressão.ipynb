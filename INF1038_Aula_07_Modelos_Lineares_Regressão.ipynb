{
 "cells": [
  {
   "cell_type": "markdown",
   "id": "a1638ed8",
   "metadata": {},
   "source": [
    "# Gerando Dados p/ Exemplo bidimensional simples"
   ]
  },
  {
   "cell_type": "markdown",
   "id": "5ab9a768",
   "metadata": {},
   "source": [
    "$y = x + 2 + \\eta$"
   ]
  },
  {
   "cell_type": "code",
   "execution_count": 21,
   "id": "849fe933",
   "metadata": {},
   "outputs": [],
   "source": [
    "import numpy as np\n",
    "\n",
    "X = np.arange(-5, 5, 0.05)\n",
    "\n",
    "nb_samples = len(X)\n",
    "\n",
    "Y = X + 2\n",
    "Y += np.random.normal(0.0, 10.5, size=nb_samples)"
   ]
  },
  {
   "cell_type": "code",
   "execution_count": 22,
   "id": "3d3aebe3",
   "metadata": {},
   "outputs": [
    {
     "data": {
      "image/png": "[encoded data removed]",
      "text/plain": [
       "<Figure size 432x288 with 1 Axes>"
      ]
     },
     "metadata": {
      "needs_background": "light"
     },
     "output_type": "display_data"
    }
   ],
   "source": [
    "import matplotlib.pyplot as plt\n",
    "\n",
    "plt.scatter(X, Y)\n",
    "plt.show()"
   ]
  },
  {
   "cell_type": "markdown",
   "id": "7c029388",
   "metadata": {},
   "source": [
    "### Função de Perda\n",
    "\n",
    "$ 𝐿=\\frac{1}{2} \\sum_{𝑖=1}^m (\\alpha + \\beta x_i + y_i)^2$\n",
    "\n",
    "\n",
    "### Gradiente\n",
    "$\\Biggl\\{\n",
    "\\begin{array}{ll}\n",
    " \\frac{\\delta L}{\\delta \\alpha} \\sum_{𝑖=1}^n (\\alpha + \\beta x_i - y_i) = 0\\\\ \n",
    " \\frac{\\delta L}{\\delta \\beta} \\sum_{𝑖=1}^n (\\alpha + \\beta x_i - y_i)x_i = 0\n",
    "\\end{array}$\n",
    "\n"
   ]
  },
  {
   "cell_type": "code",
   "execution_count": 23,
   "id": "98744291",
   "metadata": {},
   "outputs": [],
   "source": [
    "def loss(v):\n",
    "   e = 0.0\n",
    "   for i in range(nb_samples):\n",
    "      e += np.square(v[0] + v[1]*X[i] - Y[i])\n",
    "   return 0.5 * e\n",
    "\n",
    "\n",
    "def gradient(v):\n",
    "   g = np.zeros(shape=2)\n",
    "   for i in range(nb_samples):\n",
    "      g[0] += (v[0] + v[1]*X[i] - Y[i])\n",
    "      g[1] += ((v[0] + v[1]*X[i] - Y[i]) * X[i])\n",
    "   return g"
   ]
  },
  {
   "cell_type": "markdown",
   "id": "551a92ea",
   "metadata": {},
   "source": [
    "### Minimizar"
   ]
  },
  {
   "cell_type": "code",
   "execution_count": 24,
   "id": "d0d90e0e",
   "metadata": {},
   "outputs": [
    {
     "data": {
      "text/plain": [
       "      fun: 9927.145309422773\n",
       " hess_inv: <2x2 LbfgsInvHessProduct with dtype=float64>\n",
       "      jac: array([ 0.00294054, -0.0003704 ])\n",
       "  message: 'CONVERGENCE: REL_REDUCTION_OF_F_<=_FACTR*EPSMCH'\n",
       "     nfev: 8\n",
       "      nit: 7\n",
       "     njev: 8\n",
       "   status: 0\n",
       "  success: True\n",
       "        x: array([2.88644306, 1.30776228])"
      ]
     },
     "execution_count": 24,
     "metadata": {},
     "output_type": "execute_result"
    }
   ],
   "source": [
    "from scipy.optimize import minimize\n",
    "res = minimize(fun=loss, x0=[0.0, 0.0], jac=gradient, method='L-BFGS-B')\n",
    "res"
   ]
  },
  {
   "cell_type": "code",
   "execution_count": 25,
   "id": "64e97a12",
   "metadata": {},
   "outputs": [],
   "source": [
    "def predictY(X, alpha, beta):\n",
    "    Ym = []\n",
    "    for i in range(len(X)):\n",
    "        Ym.append(beta * X[i] + alpha)\n",
    "    return Ym"
   ]
  },
  {
   "cell_type": "code",
   "execution_count": 26,
   "id": "9058b587",
   "metadata": {},
   "outputs": [
    {
     "name": "stdout",
     "output_type": "stream",
     "text": [
      "r2 score for perfect model is 0.12553976603937245\n"
     ]
    }
   ],
   "source": [
    "Ym = predictY(X, res.x[0], res.x[1])\n",
    "\n",
    "from sklearn.metrics import r2_score\n",
    "r2 = r2_score(Y,Ym)\n",
    "print('r2 score for perfect model is', r2)"
   ]
  },
  {
   "cell_type": "code",
   "execution_count": 27,
   "id": "7fc5a6ef",
   "metadata": {},
   "outputs": [
    {
     "data": {
      "image/png": "[encoded data removed]",
      "text/plain": [
       "<Figure size 432x288 with 1 Axes>"
      ]
     },
     "metadata": {
      "needs_background": "light"
     },
     "output_type": "display_data"
    }
   ],
   "source": [
    "import matplotlib.pyplot as plt\n",
    "\n",
    "alpha =  res.x[0]\n",
    "beta = res.x[1]\n",
    "\n",
    "Ym = predictY(X, alpha, beta)\n",
    "\n",
    "plt.scatter(X, Y)\n",
    "plt.plot(X, Ym, color=\"red\", linewidth=3)\n",
    "plt.show()"
   ]
  },
  {
   "cell_type": "markdown",
   "id": "48b83ebb",
   "metadata": {},
   "source": [
    "## Método Matricial"
   ]
  },
  {
   "cell_type": "code",
   "execution_count": 159,
   "id": "af8633b5",
   "metadata": {},
   "outputs": [
    {
     "name": "stdout",
     "output_type": "stream",
     "text": [
      "2.001064981038512 0.9822057836236007\n",
      "y =  2 + 0.98x\n"
     ]
    }
   ],
   "source": [
    "Xs = np.expand_dims(X, axis=1)\n",
    "Ys = np.expand_dims(Y, axis=1)\n",
    "Xs = np.concatenate((Xs, np.ones_like(Xs)), axis=1)\n",
    "\n",
    "result = np.linalg.inv(np.dot(Xs.T, Xs)).dot(Xs.T).dot(Y)\n",
    "print(result[1], result[0])\n",
    "print('y = %2.f + %.2fx' % (result[1], result[0]))\n"
   ]
  },
  {
   "cell_type": "code",
   "execution_count": 160,
   "id": "e3da4606",
   "metadata": {},
   "outputs": [
    {
     "data": {
      "text/plain": [
       "array([0.98220578, 2.00106498])"
      ]
     },
     "execution_count": 160,
     "metadata": {},
     "output_type": "execute_result"
    }
   ],
   "source": [
    "result"
   ]
  },
  {
   "cell_type": "code",
   "execution_count": 161,
   "id": "03823ac3",
   "metadata": {},
   "outputs": [
    {
     "name": "stdout",
     "output_type": "stream",
     "text": [
      "r2 score for perfect model is 0.9696432421271788\n"
     ]
    }
   ],
   "source": [
    "Ym = predictY(X, result[1], result[0])\n",
    "\n",
    "from sklearn.metrics import r2_score\n",
    "r2 = r2_score(Y,Ym)\n",
    "print('r2 score for perfect model is', r2)"
   ]
  },
  {
   "cell_type": "code",
   "execution_count": 162,
   "id": "fff59b4e",
   "metadata": {},
   "outputs": [
    {
     "data": {
      "image/png": "[encoded data removed]",
      "text/plain": [
       "<Figure size 432x288 with 1 Axes>"
      ]
     },
     "metadata": {
      "needs_background": "light"
     },
     "output_type": "display_data"
    }
   ],
   "source": [
    "import matplotlib.pyplot as plt\n",
    "\n",
    "alpha = result[1]\n",
    "beta = result[0]\n",
    "\n",
    "Ym = predictY(X, alpha, beta)\n",
    "\n",
    "plt.scatter(X, Y)\n",
    "plt.plot(X, Ym, color=\"red\", linewidth=3)\n",
    "plt.show()"
   ]
  },
  {
   "cell_type": "markdown",
   "id": "9f5b1d50",
   "metadata": {},
   "source": [
    "## Exemplo de Regressão"
   ]
  },
  {
   "cell_type": "code",
   "execution_count": 28,
   "id": "03091d2b",
   "metadata": {},
   "outputs": [],
   "source": [
    "import pandas as pd  # doctest: +SKIP\n",
    "import numpy as np\n",
    "\n",
    "data_url = \"http://lib.stat.cmu.edu/datasets/boston\"\n",
    "raw_df = pd.read_csv(data_url, sep=\"\\s+\", skiprows=22, header=None)\n",
    "\n",
    "boston={}\n",
    "boston[\"data\"] = np.hstack([raw_df.values[::2, :], raw_df.values[1::2, :2]])\n",
    "boston[\"target\"] = raw_df.values[1::2, 2]"
   ]
  },
  {
   "cell_type": "code",
   "execution_count": 31,
   "id": "f5018760",
   "metadata": {},
   "outputs": [
    {
     "name": "stdout",
     "output_type": "stream",
     "text": [
      "(506, 13)\n",
      "(506,)\n"
     ]
    }
   ],
   "source": [
    "print(boston[\"data\"].shape)\n",
    "\n",
    "print(boston[\"target\"].shape)\n"
   ]
  },
  {
   "cell_type": "code",
   "execution_count": 126,
   "id": "1dc59015",
   "metadata": {},
   "outputs": [],
   "source": [
    "def norma_l2(X):\n",
    "    X = X - np.mean(X, axis=0)\n",
    "    X = X / np.linalg.norm(X, axis=0)\n",
    "    return X"
   ]
  },
  {
   "cell_type": "code",
   "execution_count": 44,
   "id": "1eea72a6",
   "metadata": {},
   "outputs": [],
   "source": [
    "from sklearn.linear_model import LinearRegression\n",
    "from sklearn.pipeline import make_pipeline\n",
    "from sklearn.preprocessing import StandardScaler\n",
    "from sklearn.model_selection import train_test_split\n",
    "\n",
    "X_train, X_test, Y_train, Y_test = train_test_split(boston[\"data\"], boston[\"target\"], test_size=0.3)\n",
    "\n",
    "lr = make_pipeline(StandardScaler(with_mean=False), LinearRegression())\n",
    "reg = lr.fit(X_train, Y_train)\n"
   ]
  },
  {
   "cell_type": "code",
   "execution_count": 45,
   "id": "75194ef8",
   "metadata": {},
   "outputs": [
    {
     "name": "stdout",
     "output_type": "stream",
     "text": [
      "[-9.22660656e-01  9.79560844e-01 -1.57338429e-03  6.38484779e-01\n",
      " -1.94980447e+00  2.47431674e+00 -6.89016269e-02 -3.23778543e+00\n",
      "  2.91093042e+00 -1.88951199e+00 -2.10703192e+00  1.08632575e+00\n",
      " -3.74673893e+00]\n",
      "38.5524132209822\n",
      "0.7866925596774145\n"
     ]
    }
   ],
   "source": [
    "print(reg['linearregression'].coef_)\n",
    "print(reg['linearregression'].intercept_)\n",
    "print(reg.score(X_test, Y_test))\n"
   ]
  },
  {
   "cell_type": "code",
   "execution_count": 46,
   "id": "c24ca5e0",
   "metadata": {},
   "outputs": [
    {
     "data": {
      "text/plain": [
       "array([ -11.30795492,  -10.94743251,  -32.12487323,  -33.57836799,\n",
       "        -10.54825524, -149.57087382,  -12.93285837])"
      ]
     },
     "execution_count": 46,
     "metadata": {},
     "output_type": "execute_result"
    }
   ],
   "source": [
    "from sklearn.model_selection import cross_val_score\n",
    "\n",
    "scores = cross_val_score(lr, boston[\"data\"], boston[\"target\"], cv=7, scoring='neg_mean_squared_error')\n",
    "scores"
   ]
  },
  {
   "cell_type": "code",
   "execution_count": 47,
   "id": "9453f3de",
   "metadata": {},
   "outputs": [
    {
     "name": "stdout",
     "output_type": "stream",
     "text": [
      "-37.28723086835311\n",
      "46.78955638801999\n"
     ]
    }
   ],
   "source": [
    "print(scores.mean())\n",
    "print(scores.std())\n"
   ]
  },
  {
   "cell_type": "code",
   "execution_count": 64,
   "id": "ef741b39",
   "metadata": {},
   "outputs": [
    {
     "data": {
      "text/plain": [
       "array([ 0.64286835,  0.6124552 ,  0.51498797,  0.78529513, -0.14696285,\n",
       "       -0.00747687])"
      ]
     },
     "execution_count": 64,
     "metadata": {},
     "output_type": "execute_result"
    }
   ],
   "source": [
    "scores = cross_val_score(lr, boston[\"data\"], boston[\"target\"], cv=6, scoring='r2')\n",
    "scores"
   ]
  },
  {
   "cell_type": "code",
   "execution_count": 65,
   "id": "180ff614",
   "metadata": {},
   "outputs": [
    {
     "name": "stdout",
     "output_type": "stream",
     "text": [
      "0.4001944881138499\n",
      "0.3490468795601584\n"
     ]
    }
   ],
   "source": [
    "print(scores.mean())\n",
    "print(scores.std())\n"
   ]
  },
  {
   "cell_type": "markdown",
   "id": "b0d87810",
   "metadata": {},
   "source": [
    "## Variância Explicada"
   ]
  },
  {
   "cell_type": "markdown",
   "id": "1a9fab15",
   "metadata": {},
   "source": [
    "$EV = 1-\\frac{Var[Y-\\tilde{Y}]}{Var[Y]}$"
   ]
  },
  {
   "cell_type": "code",
   "execution_count": 16,
   "id": "bce9c75d",
   "metadata": {},
   "outputs": [
    {
     "name": "stdout",
     "output_type": "stream",
     "text": [
      "0.27263956979413884\n"
     ]
    }
   ],
   "source": [
    "print(cross_val_score(lr, boston[\"data\"], boston[\"target\"], cv=10, scoring='explained_variance').mean())"
   ]
  },
  {
   "cell_type": "markdown",
   "id": "262c1a9b",
   "metadata": {},
   "source": [
    "## Ridge Regression"
   ]
  },
  {
   "cell_type": "code",
   "execution_count": 61,
   "id": "16c68e01",
   "metadata": {},
   "outputs": [
    {
     "name": "stdout",
     "output_type": "stream",
     "text": [
      "0.20252899006056593\n",
      "0.29806328292521655\n"
     ]
    }
   ],
   "source": [
    "from sklearn.linear_model import Ridge\n",
    "\n",
    "lr = LinearRegression()\n",
    "rg = Ridge(0.05)\n",
    "\n",
    "lr_scores = cross_val_score(lr,  norma_l2(boston[\"data\"]), boston[\"target\"], cv=10)\n",
    "print(lr_scores.mean())\n",
    "\n",
    "\n",
    "rg_scores = cross_val_score(rg,  norma_l2(boston[\"data\"]), boston[\"target\"], cv=10)\n",
    "print(rg_scores.mean())"
   ]
  },
  {
   "cell_type": "code",
   "execution_count": 63,
   "id": "31be5a48",
   "metadata": {},
   "outputs": [
    {
     "name": "stdout",
     "output_type": "stream",
     "text": [
      "0.01\n"
     ]
    }
   ],
   "source": [
    "from sklearn.linear_model import RidgeCV\n",
    "\n",
    "rg = RidgeCV(alphas=(1.0, 0.1, 0.01, 0.005, 0.0025, 0.001, 0.00025))\n",
    "rg.fit(norma_l2(boston[\"data\"]), boston[\"target\"])\n",
    "\n",
    "print(rg.alpha_)"
   ]
  },
  {
   "cell_type": "markdown",
   "id": "120dabde",
   "metadata": {},
   "source": [
    "## Lasso Regression"
   ]
  },
  {
   "cell_type": "code",
   "execution_count": 76,
   "id": "6b177c7a",
   "metadata": {},
   "outputs": [
    {
     "name": "stdout",
     "output_type": "stream",
     "text": [
      "0.26553989145732915\n"
     ]
    }
   ],
   "source": [
    "from sklearn.linear_model import Lasso\n",
    "\n",
    "ls = Lasso(alpha=0.01)\n",
    "\n",
    "ls_scores = cross_val_score(ls, norma_l2(boston[\"data\"]), boston[\"target\"], cv=10)\n",
    "\n",
    "print(ls_scores.mean())\n"
   ]
  },
  {
   "cell_type": "code",
   "execution_count": 77,
   "id": "d61dc97d",
   "metadata": {},
   "outputs": [
    {
     "name": "stdout",
     "output_type": "stream",
     "text": [
      "0.005\n"
     ]
    }
   ],
   "source": [
    "from sklearn.linear_model import LassoCV\n",
    "\n",
    "rs = LassoCV(alphas=(1.0, 0.1, 0.01, 0.005, 0.0025, 0.001, 0.00025))\n",
    "rs.fit(norma_l2(boston[\"data\"]), boston[\"target\"])\n",
    "\n",
    "print(rs.alpha_)"
   ]
  },
  {
   "cell_type": "markdown",
   "id": "e0eb3e85",
   "metadata": {},
   "source": [
    "## ElasticNet Regression"
   ]
  },
  {
   "cell_type": "code",
   "execution_count": 82,
   "id": "1ce43934",
   "metadata": {},
   "outputs": [
    {
     "name": "stdout",
     "output_type": "stream",
     "text": [
      "0.35447309380549197\n"
     ]
    }
   ],
   "source": [
    "from sklearn.linear_model import ElasticNet, ElasticNetCV\n",
    "\n",
    "en = ElasticNet(alpha=0.001, l1_ratio=0.8)\n",
    "en_scores = cross_val_score(en, norma_l2(boston[\"data\"]), boston[\"target\"], cv=10)\n",
    "\n",
    "print(en_scores.mean())"
   ]
  },
  {
   "cell_type": "code",
   "execution_count": 83,
   "id": "29a95389",
   "metadata": {},
   "outputs": [
    {
     "name": "stdout",
     "output_type": "stream",
     "text": [
      "0.001\n",
      "0.5\n"
     ]
    }
   ],
   "source": [
    "encv = ElasticNetCV(alphas=(0.1, 0.01, 0.005, 0.0025, 0.001), l1_ratio=(0.1, 0.25, 0.5, 0.75, 0.8))\n",
    "encv.fit(norma_l2(boston[\"data\"]), boston[\"target\"])\n",
    "\n",
    "print(encv.alpha_)\n",
    "print(encv.l1_ratio_)\n"
   ]
  },
  {
   "cell_type": "markdown",
   "id": "9daf22a4",
   "metadata": {},
   "source": [
    "## RANSAC"
   ]
  },
  {
   "cell_type": "code",
   "execution_count": 119,
   "id": "52d69204",
   "metadata": {},
   "outputs": [],
   "source": [
    "import numpy as np\n",
    "\n",
    "X1 = np.arange(-5, 2.5, 0.05)\n",
    "\n",
    "X2 = np.arange(2.5, 5, 0.05)\n",
    "\n",
    "X = np.concatenate((X1, X2))\n",
    "\n",
    "Y1 = X1 + 2\n",
    "Y1 += np.random.normal(0.0, 0.5, size=len(X1))\n",
    "\n",
    "Y2 = X2 + 10\n",
    "Y2 += np.random.normal(0.0, 1, size=len(X2))\n",
    "\n",
    "Y = np.concatenate((Y1, Y2))"
   ]
  },
  {
   "cell_type": "code",
   "execution_count": 121,
   "id": "be51b5cb",
   "metadata": {},
   "outputs": [
    {
     "data": {
      "image/png": "[encoded data removed]",
      "text/plain": [
       "<Figure size 432x288 with 1 Axes>"
      ]
     },
     "metadata": {
      "needs_background": "light"
     },
     "output_type": "display_data"
    }
   ],
   "source": [
    "import matplotlib.pyplot as plt\n",
    "\n",
    "plt.scatter(X, Y)\n",
    "plt.show()"
   ]
  },
  {
   "cell_type": "code",
   "execution_count": 146,
   "id": "60793b9d",
   "metadata": {},
   "outputs": [
    {
     "name": "stdout",
     "output_type": "stream",
     "text": [
      "[3.93623878]\n",
      "[[1.88436868]]\n"
     ]
    }
   ],
   "source": [
    "from sklearn.linear_model import LinearRegression\n",
    "\n",
    "lr = LinearRegression()\n",
    "lr.fit(X.reshape((-1, 1)), Y.reshape((-1, 1)))\n",
    "\n",
    "print(lr.intercept_)\n",
    "\n",
    "print(lr.coef_)\n"
   ]
  },
  {
   "cell_type": "code",
   "execution_count": 149,
   "id": "65246901",
   "metadata": {},
   "outputs": [
    {
     "data": {
      "image/png": "[encoded data removed]",
      "text/plain": [
       "<Figure size 432x288 with 1 Axes>"
      ]
     },
     "metadata": {
      "needs_background": "light"
     },
     "output_type": "display_data"
    }
   ],
   "source": [
    "import matplotlib.pyplot as plt\n",
    "\n",
    "alpha =  lr.intercept_[0]\n",
    "beta = lr.coef_[0][0]\n",
    "\n",
    "Ym = predictY(X, alpha, beta)\n",
    "\n",
    "plt.scatter(X, Y)\n",
    "plt.plot(X, Ym, color=\"red\", linewidth=3)\n",
    "plt.show()"
   ]
  },
  {
   "cell_type": "code",
   "execution_count": 136,
   "id": "9d8f0b5a",
   "metadata": {},
   "outputs": [
    {
     "name": "stdout",
     "output_type": "stream",
     "text": [
      "[1.92086819]\n",
      "[[0.98923544]]\n"
     ]
    }
   ],
   "source": [
    "from sklearn.linear_model import RANSACRegressor\n",
    "\n",
    "rs = RANSACRegressor(lr)\n",
    "rs.fit(X.reshape((-1, 1)), Y.reshape((-1, 1)))\n",
    "\n",
    "print(rs.estimator_.intercept_)\n",
    "print(rs.estimator_.coef_)\n"
   ]
  },
  {
   "cell_type": "markdown",
   "id": "4e7553d8",
   "metadata": {},
   "source": [
    "## Huber Regression"
   ]
  },
  {
   "cell_type": "code",
   "execution_count": 144,
   "id": "3dec3a73",
   "metadata": {},
   "outputs": [
    {
     "data": {
      "image/png": "[encoded data removed]",
      "text/plain": [
       "<Figure size 432x288 with 1 Axes>"
      ]
     },
     "metadata": {
      "needs_background": "light"
     },
     "output_type": "display_data"
    }
   ],
   "source": [
    "import matplotlib.pyplot as plt\n",
    "\n",
    "alpha =  rs.estimator_.intercept_[0]\n",
    "beta = rs.estimator_.coef_[0][0]\n",
    "\n",
    "Ym = predictY(X, alpha, beta)\n",
    "\n",
    "plt.scatter(X, Y)\n",
    "plt.plot(X, Ym, color=\"red\", linewidth=3)\n",
    "plt.show()"
   ]
  },
  {
   "cell_type": "code",
   "execution_count": 186,
   "id": "70c37dec",
   "metadata": {},
   "outputs": [],
   "source": [
    "import numpy as np\n",
    "from random import random, randint\n",
    "\n",
    "X = np.arange(-5, 5, 0.05)\n",
    "\n",
    "Y = X + 2\n",
    "\n",
    "Y += np.random.normal(0.0, 0.5, size=len(X))\n",
    "\n",
    "for i in range(0,len(Y)):\n",
    "    if random() > 0.7:\n",
    "        Y[i] += randint(0,10)\n",
    "    \n",
    "\n",
    "\n"
   ]
  },
  {
   "cell_type": "code",
   "execution_count": 187,
   "id": "7d980d5d",
   "metadata": {},
   "outputs": [
    {
     "data": {
      "image/png": "[encoded data removed]",
      "text/plain": [
       "<Figure size 432x288 with 1 Axes>"
      ]
     },
     "metadata": {
      "needs_background": "light"
     },
     "output_type": "display_data"
    }
   ],
   "source": [
    "import matplotlib.pyplot as plt\n",
    "\n",
    "plt.scatter(X, Y)\n",
    "plt.show()"
   ]
  },
  {
   "cell_type": "code",
   "execution_count": 192,
   "id": "5f58a73f",
   "metadata": {},
   "outputs": [
    {
     "name": "stdout",
     "output_type": "stream",
     "text": [
      "[3.47103818]\n",
      "[[0.98154113]]\n"
     ]
    }
   ],
   "source": [
    "from sklearn.linear_model import LinearRegression\n",
    "\n",
    "lr = LinearRegression()\n",
    "lr.fit(X.reshape((-1, 1)), Y.reshape((-1, 1)))\n",
    "\n",
    "print(lr.intercept_)\n",
    "\n",
    "print(lr.coef_)\n"
   ]
  },
  {
   "cell_type": "code",
   "execution_count": 193,
   "id": "890ee7df",
   "metadata": {},
   "outputs": [
    {
     "data": {
      "image/png": "[encoded data removed]",
      "text/plain": [
       "<Figure size 432x288 with 1 Axes>"
      ]
     },
     "metadata": {
      "needs_background": "light"
     },
     "output_type": "display_data"
    }
   ],
   "source": [
    "import matplotlib.pyplot as plt\n",
    "\n",
    "alpha =  lr.intercept_[0]\n",
    "beta = lr.coef_[0][0]\n",
    "\n",
    "Ym = predictY(X, alpha, beta)\n",
    "\n",
    "plt.scatter(X, Y)\n",
    "plt.plot(X, Ym, color=\"red\", linewidth=3)\n",
    "plt.show()"
   ]
  },
  {
   "cell_type": "code",
   "execution_count": 194,
   "id": "e1754ade",
   "metadata": {},
   "outputs": [
    {
     "name": "stdout",
     "output_type": "stream",
     "text": [
      "2.2577984371212283\n",
      "[0.99938317]\n"
     ]
    }
   ],
   "source": [
    "from sklearn.linear_model import HuberRegressor\n",
    "\n",
    "hr = HuberRegressor(epsilon=1.25)\n",
    "hr.fit(X.reshape(-1, 1), Y)\n",
    "\n",
    "print(hr.intercept_)\n",
    "print(hr.coef_)\n"
   ]
  },
  {
   "cell_type": "code",
   "execution_count": 195,
   "id": "5cd1c67d",
   "metadata": {},
   "outputs": [
    {
     "data": {
      "image/png": "[encoded data removed]",
      "text/plain": [
       "<Figure size 432x288 with 1 Axes>"
      ]
     },
     "metadata": {
      "needs_background": "light"
     },
     "output_type": "display_data"
    }
   ],
   "source": [
    "import matplotlib.pyplot as plt\n",
    "\n",
    "alpha =  hr.intercept_\n",
    "beta = hr.coef_[0]\n",
    "\n",
    "Ym = predictY(X, alpha, beta)\n",
    "\n",
    "plt.scatter(X, Y)\n",
    "plt.plot(X, Ym, color=\"red\", linewidth=3)\n",
    "plt.show()"
   ]
  },
  {
   "cell_type": "markdown",
   "id": "3e1298be",
   "metadata": {},
   "source": [
    "## Polinomial Regression"
   ]
  },
  {
   "cell_type": "code",
   "execution_count": 304,
   "id": "ca0ece76",
   "metadata": {},
   "outputs": [],
   "source": [
    "import numpy as np\n",
    "\n",
    "X = np.arange(-5, 5, 0.05)\n",
    "\n",
    "nb_samples = len(X)\n",
    "\n",
    "Y = X**2 + 2\n",
    "Y += np.random.normal(0.0, 0.5, size=nb_samples)"
   ]
  },
  {
   "cell_type": "code",
   "execution_count": 305,
   "id": "1cd59a2a",
   "metadata": {},
   "outputs": [
    {
     "data": {
      "image/png": "[encoded data removed]",
      "text/plain": [
       "<Figure size 432x288 with 1 Axes>"
      ]
     },
     "metadata": {
      "needs_background": "light"
     },
     "output_type": "display_data"
    }
   ],
   "source": [
    "import matplotlib.pyplot as plt\n",
    "\n",
    "plt.scatter(X, Y)\n",
    "plt.show()"
   ]
  },
  {
   "cell_type": "code",
   "execution_count": 306,
   "id": "459bb014",
   "metadata": {},
   "outputs": [
    {
     "name": "stdout",
     "output_type": "stream",
     "text": [
      "0.0003862829935938894\n",
      "[10.31653219]\n",
      "[[-0.05099142]]\n"
     ]
    }
   ],
   "source": [
    "from sklearn.linear_model import LinearRegression\n",
    "\n",
    "lr = LinearRegression()\n",
    "lr.fit(X.reshape((-1, 1)), Y.reshape((-1, 1)))\n",
    "\n",
    "print(lr.score(X.reshape((-1, 1)), Y.reshape((-1, 1))))\n",
    "\n",
    "print(lr.intercept_)\n",
    "print(lr.coef_)"
   ]
  },
  {
   "cell_type": "code",
   "execution_count": 308,
   "id": "8253bb2b",
   "metadata": {
    "scrolled": true
   },
   "outputs": [
    {
     "data": {
      "image/png": "[encoded data removed]",
      "text/plain": [
       "<Figure size 432x288 with 1 Axes>"
      ]
     },
     "metadata": {
      "needs_background": "light"
     },
     "output_type": "display_data"
    }
   ],
   "source": [
    "import matplotlib.pyplot as plt\n",
    "\n",
    "alpha =  lr.intercept_\n",
    "beta = lr.coef_[0]\n",
    "\n",
    "Ym = predictY(X, alpha, beta)\n",
    "\n",
    "plt.scatter(X, Y)\n",
    "plt.plot(X, Ym, color=\"red\", linewidth=3)\n",
    "plt.show()"
   ]
  },
  {
   "cell_type": "code",
   "execution_count": 309,
   "id": "f29be777",
   "metadata": {},
   "outputs": [],
   "source": [
    "def predictYpolinomial(X, alpha, beta):\n",
    "    Ym = []\n",
    "    print(len(beta))\n",
    "    for i in range(len(X)):\n",
    "        y = alpha\n",
    "        for c in range(1, len(beta)):\n",
    "            y += beta[c] * (X[i]**c)\n",
    "        Ym.append(y)\n",
    "    \n",
    "    return Ym"
   ]
  },
  {
   "cell_type": "code",
   "execution_count": 310,
   "id": "856fbce0",
   "metadata": {},
   "outputs": [
    {
     "name": "stdout",
     "output_type": "stream",
     "text": [
      "0.9952589283720149\n",
      "[1.96491265]\n",
      "[[ 0.00000000e+00 -8.76688592e-04  1.00229457e+00]]\n"
     ]
    }
   ],
   "source": [
    "from sklearn.preprocessing import PolynomialFeatures\n",
    "\n",
    "pf = PolynomialFeatures(degree=2)\n",
    "Xp = pf.fit_transform(X.reshape(-1, 1))\n",
    "\n",
    "lr.fit(Xp, Y.reshape((-1, 1)))\n",
    "\n",
    "print(lr.score(Xp, Y.reshape((-1, 1))))\n",
    "print(lr.intercept_)\n",
    "print(lr.coef_)"
   ]
  },
  {
   "cell_type": "code",
   "execution_count": 311,
   "id": "14c65b18",
   "metadata": {
    "scrolled": true
   },
   "outputs": [
    {
     "name": "stdout",
     "output_type": "stream",
     "text": [
      "3\n"
     ]
    },
    {
     "data": {
      "image/png": "[encoded data removed]",
      "text/plain": [
       "<Figure size 432x288 with 1 Axes>"
      ]
     },
     "metadata": {
      "needs_background": "light"
     },
     "output_type": "display_data"
    }
   ],
   "source": [
    "import matplotlib.pyplot as plt\n",
    "\n",
    "alpha =  lr.intercept_[0]\n",
    "\n",
    "Ym = predictYpolinomial(X, alpha, lr.coef_[0])\n",
    "\n",
    "plt.scatter(X, Y)\n",
    "plt.plot(X, Ym, color=\"red\", linewidth=3)\n",
    "plt.show()"
   ]
  },
  {
   "cell_type": "markdown",
   "id": "50c77c91",
   "metadata": {},
   "source": [
    "### Grau 3"
   ]
  },
  {
   "cell_type": "code",
   "execution_count": 312,
   "id": "6f17b71c",
   "metadata": {},
   "outputs": [],
   "source": [
    "import numpy as np\n",
    "\n",
    "X = np.arange(-5, 5, 0.05)\n",
    "\n",
    "nb_samples = len(X)\n",
    "\n",
    "Y = 2*(X**3) + 0.5*(X**2) + X + 2\n",
    "Y += np.random.normal(0.0, 0.5, size=nb_samples)"
   ]
  },
  {
   "cell_type": "code",
   "execution_count": 313,
   "id": "1920d5cd",
   "metadata": {},
   "outputs": [
    {
     "data": {
      "image/png": "[encoded data removed]",
      "text/plain": [
       "<Figure size 432x288 with 1 Axes>"
      ]
     },
     "metadata": {
      "needs_background": "light"
     },
     "output_type": "display_data"
    }
   ],
   "source": [
    "import matplotlib.pyplot as plt\n",
    "\n",
    "plt.scatter(X, Y)\n",
    "plt.show()"
   ]
  },
  {
   "cell_type": "code",
   "execution_count": 314,
   "id": "17ec0cfc",
   "metadata": {},
   "outputs": [
    {
     "name": "stdout",
     "output_type": "stream",
     "text": [
      "0.8474369483320915\n",
      "[5.6535421]\n",
      "[[30.96417615]]\n"
     ]
    }
   ],
   "source": [
    "from sklearn.linear_model import LinearRegression\n",
    "\n",
    "lr = LinearRegression()\n",
    "lr.fit(X.reshape((-1, 1)), Y.reshape((-1, 1)))\n",
    "\n",
    "print(lr.score(X.reshape((-1, 1)), Y.reshape((-1, 1))))\n",
    "\n",
    "print(lr.intercept_)\n",
    "print(lr.coef_)"
   ]
  },
  {
   "cell_type": "code",
   "execution_count": 316,
   "id": "4d718fa0",
   "metadata": {
    "scrolled": true
   },
   "outputs": [
    {
     "data": {
      "image/png": "[encoded data removed]",
      "text/plain": [
       "<Figure size 432x288 with 1 Axes>"
      ]
     },
     "metadata": {
      "needs_background": "light"
     },
     "output_type": "display_data"
    }
   ],
   "source": [
    "import matplotlib.pyplot as plt\n",
    "\n",
    "alpha =  lr.intercept_\n",
    "beta = lr.coef_[0]\n",
    "\n",
    "Ym = predictY(X, alpha, beta)\n",
    "\n",
    "plt.scatter(X, Y)\n",
    "plt.plot(X, Ym, color=\"red\", linewidth=3)\n",
    "plt.show()"
   ]
  },
  {
   "cell_type": "code",
   "execution_count": 317,
   "id": "8f6352de",
   "metadata": {},
   "outputs": [
    {
     "name": "stdout",
     "output_type": "stream",
     "text": [
      "0.9999759720578412\n",
      "[2.03105965]\n",
      "[[0.         0.95050121 0.49481419 2.00242755]]\n"
     ]
    }
   ],
   "source": [
    "from sklearn.preprocessing import PolynomialFeatures\n",
    "\n",
    "pf = PolynomialFeatures(degree=3)\n",
    "Xp = pf.fit_transform(X.reshape(-1, 1))\n",
    "\n",
    "lr.fit(Xp, Y.reshape((-1, 1)))\n",
    "\n",
    "print(lr.score(Xp, Y.reshape((-1, 1))))\n",
    "print(lr.intercept_)\n",
    "print(lr.coef_)"
   ]
  },
  {
   "cell_type": "code",
   "execution_count": 318,
   "id": "c902e74c",
   "metadata": {
    "scrolled": true
   },
   "outputs": [
    {
     "name": "stdout",
     "output_type": "stream",
     "text": [
      "4\n"
     ]
    },
    {
     "data": {
      "image/png": "[encoded data removed]",
      "text/plain": [
       "<Figure size 432x288 with 1 Axes>"
      ]
     },
     "metadata": {
      "needs_background": "light"
     },
     "output_type": "display_data"
    }
   ],
   "source": [
    "import matplotlib.pyplot as plt\n",
    "\n",
    "alpha =  lr.intercept_[0]\n",
    "\n",
    "Ym = predictYpolinomial(X, alpha, lr.coef_[0])\n",
    "\n",
    "plt.scatter(X, Y)\n",
    "plt.plot(X, Ym, color=\"red\", linewidth=3)\n",
    "plt.show()"
   ]
  },
  {
   "cell_type": "markdown",
   "id": "73732f5f",
   "metadata": {},
   "source": [
    "### e a base boston housing?"
   ]
  },
  {
   "cell_type": "code",
   "execution_count": 327,
   "id": "27566905",
   "metadata": {},
   "outputs": [
    {
     "name": "stdout",
     "output_type": "stream",
     "text": [
      "(506, 105)\n",
      "0.9239966561367284\n"
     ]
    }
   ],
   "source": [
    "from sklearn.feature_selection import SelectFromModel\n",
    "\n",
    "pf = PolynomialFeatures(degree=2)\n",
    "Xp = pf.fit_transform(boston[\"data\"])\n",
    "\n",
    "print(Xp.shape)\n",
    "\n",
    "lr = LinearRegression()\n",
    "lr.fit(Xp, boston[\"target\"])\n",
    "print(lr.score(Xp, boston[\"target\"]))"
   ]
  },
  {
   "cell_type": "code",
   "execution_count": 328,
   "id": "b032c665",
   "metadata": {},
   "outputs": [
    {
     "name": "stdout",
     "output_type": "stream",
     "text": [
      "0.9239966561367284\n",
      "(506, 9)\n"
     ]
    }
   ],
   "source": [
    "sm = SelectFromModel(lr, threshold=10)\n",
    "Xt = sm.fit_transform(Xp, boston[\"target\"])\n",
    "\n",
    "print(sm.estimator_.score(Xp, boston[\"target\"]))\n",
    "print(Xt.shape)\n"
   ]
  },
  {
   "cell_type": "code",
   "execution_count": 329,
   "id": "dd8bd687",
   "metadata": {},
   "outputs": [
    {
     "name": "stdout",
     "output_type": "stream",
     "text": [
      "(506, 105)\n"
     ]
    }
   ],
   "source": [
    "Xo = sm.inverse_transform(Xt)\n",
    "print(Xo.shape)\n"
   ]
  },
  {
   "cell_type": "markdown",
   "id": "5fa87864",
   "metadata": {},
   "source": [
    "## Modelo Não-Linear\n"
   ]
  },
  {
   "cell_type": "code",
   "execution_count": 343,
   "id": "fa0fab01",
   "metadata": {},
   "outputs": [],
   "source": [
    "import matplotlib.pyplot as plt\n",
    "from scipy.optimize import curve_fit\n",
    "\n",
    "def func(x, a, b, c):\n",
    "    return a * np.exp(-b * x) + c\n",
    "\n",
    "X = np.linspace(0, 4, 50)\n",
    "Y = func(X, 2.5, 1.3, 0.5)\n",
    "\n",
    "rng = np.random.default_rng()\n",
    "\n",
    "Y_noise = 0.2 * rng.normal(size=X.size)\n",
    "\n",
    "Y = Y + Y_noise"
   ]
  },
  {
   "cell_type": "code",
   "execution_count": 349,
   "id": "14a6002f",
   "metadata": {},
   "outputs": [
    {
     "data": {
      "image/png": "[encoded data removed]",
      "text/plain": [
       "<Figure size 432x288 with 1 Axes>"
      ]
     },
     "metadata": {
      "needs_background": "light"
     },
     "output_type": "display_data"
    }
   ],
   "source": [
    "popt, pcov = curve_fit(func, xdata, ydata)\n",
    "\n",
    "plt.scatter(X, Y)\n",
    "plt.show()"
   ]
  },
  {
   "cell_type": "code",
   "execution_count": 356,
   "id": "6a0de194",
   "metadata": {},
   "outputs": [
    {
     "name": "stdout",
     "output_type": "stream",
     "text": [
      "[2.6913083  1.56856385 0.57213197]\n",
      "[[ 0.02543451  0.01281616 -0.00084001]\n",
      " [ 0.01281616  0.03432656  0.00693842]\n",
      " [-0.00084001  0.00693842  0.00323043]]\n"
     ]
    },
    {
     "data": {
      "image/png": "[encoded data removed]",
      "text/plain": [
       "<Figure size 432x288 with 1 Axes>"
      ]
     },
     "metadata": {
      "needs_background": "light"
     },
     "output_type": "display_data"
    }
   ],
   "source": [
    "popt, pcov = curve_fit(func, X, Y)\n",
    "print(popt)\n",
    "print(pcov)\n",
    "\n",
    "plt.scatter(X, Y,  label='data')\n",
    "plt.plot(xdata, func(xdata, *popt), 'r-', label='fit: a=%5.3f, b=%5.3f, c=%5.3f' % tuple(popt))\n",
    "plt.legend()\n",
    "plt.show()"
   ]
  },
  {
   "cell_type": "code",
   "execution_count": 358,
   "id": "472bb627",
   "metadata": {},
   "outputs": [
    {
     "name": "stdout",
     "output_type": "stream",
     "text": [
      "[2.46997853 1.         0.39969942]\n",
      "[[ 0.02346768  0.0044277  -0.00344592]\n",
      " [ 0.0044277   0.02518717  0.01277211]\n",
      " [-0.00344592  0.01277211  0.00948823]]\n"
     ]
    },
    {
     "data": {
      "image/png": "[encoded data removed]",
      "text/plain": [
       "<Figure size 432x288 with 1 Axes>"
      ]
     },
     "metadata": {
      "needs_background": "light"
     },
     "output_type": "display_data"
    }
   ],
   "source": [
    "popt2, pcov2 = curve_fit(func, X, Y, bounds=(0, [3., 1., 0.5]))\n",
    "print(popt2)\n",
    "print(pcov2)\n",
    "\n",
    "plt.scatter(X, Y,  label='data')\n",
    "plt.plot(xdata, func(X, *popt), 'r-', label='fit: a=%5.3f, b=%5.3f, c=%5.3f' % tuple(popt))\n",
    "plt.plot(xdata, func(X, *popt2), 'g--', label='fit: a=%5.3f, b=%5.3f, c=%5.3f' % tuple(popt2))\n",
    "plt.legend()\n",
    "plt.show()"
   ]
  },
  {
   "cell_type": "code",
   "execution_count": null,
   "id": "c9ea7386",
   "metadata": {},
   "outputs": [],
   "source": []
  },
  {
   "cell_type": "code",
   "execution_count": null,
   "id": "5251ca20",
   "metadata": {},
   "outputs": [],
   "source": []
  }
 ],
 "metadata": {
  "kernelspec": {
   "display_name": "Python 3 (ipykernel)",
   "language": "python",
   "name": "python3"
  },
  "language_info": {
   "codemirror_mode": {
    "name": "ipython",
    "version": 3
   },
   "file_extension": ".py",
   "mimetype": "text/x-python",
   "name": "python",
   "nbconvert_exporter": "python",
   "pygments_lexer": "ipython3",
   "version": "3.7.9"
  }
 },
 "nbformat": 4,
 "nbformat_minor": 5
}

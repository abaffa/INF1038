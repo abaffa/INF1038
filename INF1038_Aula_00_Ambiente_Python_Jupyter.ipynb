{
 "cells": [
  {
   "cell_type": "markdown",
   "metadata": {},
   "source": [
    "# Primeira Equação\n",
    "\n",
    "Vamos agora implementar a seguinte equação:\n",
    "$$ y = x^2$$\n",
    "\n",
    "Onde $x = 2$\n"
   ]
  },
  {
   "cell_type": "code",
   "execution_count": 1,
   "metadata": {},
   "outputs": [
    {
     "name": "stdout",
     "output_type": "stream",
     "text": [
      "4\n"
     ]
    }
   ],
   "source": [
    "x = 2\n",
    "y = x**2\n",
    "print(y)\n"
   ]
  },
  {
   "cell_type": "markdown",
   "metadata": {},
   "source": [
    "***\n",
    "# Cabeçalhos (Headers)"
   ]
  },
  {
   "cell_type": "markdown",
   "metadata": {},
   "source": [
    "`# Header1`\n",
    "# Header1"
   ]
  },
  {
   "cell_type": "markdown",
   "metadata": {},
   "source": [
    "`## Header2`\n",
    "## Header2"
   ]
  },
  {
   "cell_type": "markdown",
   "metadata": {},
   "source": [
    "`### Header3`\n",
    "### Header3"
   ]
  },
  {
   "cell_type": "markdown",
   "metadata": {},
   "source": [
    "`#### Header4`\n",
    "#### Header4"
   ]
  },
  {
   "cell_type": "markdown",
   "metadata": {},
   "source": [
    "***\n",
    "# Listas Ordenadas\n",
    "\n",
    "    1. Python\n",
    "        1. PyQt\n",
    "        10. Flask\n",
    "        6. Pandas\n",
    "    5. Java\n",
    "        1. Hibernate\n",
    "        2. Spring\n",
    "    10. PHP\n",
    "    5. ruby\n",
    "\n",
    "1. Python\n",
    "    1. PyQt\n",
    "    10. Flask\n",
    "    6. Pandas\n",
    "5. Java\n",
    "    1. Hibernate\n",
    "    2. Spring\n",
    "10. PHP\n",
    "5. ruby"
   ]
  },
  {
   "cell_type": "markdown",
   "metadata": {},
   "source": [
    "***\n",
    "# Listas Não-Ordenadas (Bullets)\n",
    "    - Python\n",
    "        * PyQt\n",
    "        * Flask\n",
    "        * Pandas\n",
    "    - Java\n",
    "        * Hibernate\n",
    "        * Spring\n",
    "    - PHP\n",
    "    - ruby\n",
    "\n",
    "- Python\n",
    "    * PyQt\n",
    "    * Flask\n",
    "    * Pandas\n",
    "- Java\n",
    "    * Hibernate\n",
    "    * Spring\n",
    "- PHP\n",
    "- ruby"
   ]
  },
  {
   "cell_type": "markdown",
   "metadata": {},
   "source": [
    "***\n",
    "# Hyperlinks\n",
    "\n",
    "`[Home page of Project Jupyter](https://www.jupyter.org \"Project Jupyter\")`\n",
    "\n",
    "[Home page of Project Jupyter](https://www.jupyter.org \"Project Jupyter\")\n"
   ]
  },
  {
   "cell_type": "markdown",
   "metadata": {},
   "source": [
    "***\n",
    "# Negrito / Itálico\n",
    "\n",
    "`**Beautiful** is better than *ugly*`\n",
    "\n",
    "**Beautiful** is better than *ugly* \n",
    "\n",
    "`__explicit__ is better than _implicit_`\n",
    "\n",
    "__explicit__ is better than _implicit_\n"
   ]
  },
  {
   "cell_type": "markdown",
   "metadata": {},
   "source": [
    "***\n",
    "# Imagens\n",
    "\n",
    "`![jupyterlogo.png](jupyterlogo.png \"Jupyter Logo\")`\n",
    "\n",
    "![jupyterlogo.png](jupyterlogo.png \"Jupyter Logo\")"
   ]
  },
  {
   "cell_type": "markdown",
   "metadata": {},
   "source": [
    "***\n",
    "# Tabelas\n",
    "\n",
    "    |Name|Age|Marks|\n",
    "    |----|---|-----|\n",
    "    |Kiran|21|165|\n",
    "    |Tejaswini|20|215|\n",
    "\n",
    "|Name|Age|Marks|\n",
    "|----|---|-----|\n",
    "|Kiran|21|165|\n",
    "|Tejaswini|20|215|"
   ]
  },
  {
   "cell_type": "markdown",
   "metadata": {},
   "source": [
    "***\n",
    "# Citações\n",
    "\n",
    "    Conforme email recebido:\n",
    "\n",
    "    > Será necessário revisar o código\n",
    "    > Também devemos refazer os cálculos abaixo:\n",
    "    > $ f(x) = X^2$\n",
    "\n",
    "    Vamos apresentar as respostas ao final desta revisão.\n",
    "\n",
    "Conforme email recebido:\n",
    "    \n",
    "> Será necessário revisar o código\n",
    "> Também devemos refazer os cálculos abaixo:\n",
    "> $ f(x) = X^2$\n",
    "\n",
    "Vamos apresentar as respostas ao final desta revisão."
   ]
  },
  {
   "cell_type": "markdown",
   "metadata": {},
   "source": [
    "***\n",
    "# Linha Horizontal (divisor)\n",
    "\n",
    "    $f(x) = x^2$\n",
    "\n",
    "    ***\n",
    "\n",
    "    $avg(y) = \\frac{\\sum_{i=1}^n f(y_i)}{n}$\n",
    "\n",
    "$f(x) = x^2$\n",
    "\n",
    "***\n",
    "\n",
    "$avg(y) = \\frac{\\sum_{i=1}^n f(y_i)}{n}$"
   ]
  },
  {
   "cell_type": "code",
   "execution_count": null,
   "metadata": {},
   "outputs": [],
   "source": []
  }
 ],
 "metadata": {
  "kernelspec": {
   "display_name": "Python 3 (ipykernel)",
   "language": "python",
   "name": "python3"
  },
  "language_info": {
   "codemirror_mode": {
    "name": "ipython",
    "version": 3
   },
   "file_extension": ".py",
   "mimetype": "text/x-python",
   "name": "python",
   "nbconvert_exporter": "python",
   "pygments_lexer": "ipython3",
   "version": "3.10.4"
  }
 },
 "nbformat": 4,
 "nbformat_minor": 4
}

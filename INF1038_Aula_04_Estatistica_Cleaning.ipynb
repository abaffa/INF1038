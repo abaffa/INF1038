{
 "cells": [
  {
   "cell_type": "markdown",
   "metadata": {
    "id": "s3pR0l9E7b16"
   },
   "source": [
    "# Codificação de caracteres"
   ]
  },
  {
   "cell_type": "markdown",
   "metadata": {
    "id": "h-GeXfj_7b18"
   },
   "source": [
    "A codificação de texto padrão do código Python é UTF-8\n",
    "\n",
    "Para converter uma variável string de ascii para bytes podemos usar o código abaixo:"
   ]
  },
  {
   "cell_type": "code",
   "execution_count": 1,
   "metadata": {
    "colab": {
     "base_uri": "https://localhost:8080/"
    },
    "id": "hWMkPrjX7b19",
    "outputId": "34560960-bced-4f66-f146-37b2742c11f4"
   },
   "outputs": [
    {
     "name": "stdout",
     "output_type": "stream",
     "text": [
      "Este é o símbolo do euro: €\n",
      "b'Este \\xc3\\xa9 o s\\xc3\\xadmbolo do euro: \\xe2\\x82\\xac'\n"
     ]
    }
   ],
   "source": [
    "antes = \"Este é o símbolo do euro: €\"\n",
    "depois = antes.encode(\"utf-8\", errors = \"replace\")\n",
    "\n",
    "print(antes)\n",
    "print(depois)"
   ]
  },
  {
   "cell_type": "markdown",
   "metadata": {
    "id": "I2h4Ys7Q7b2A"
   },
   "source": [
    "Para visualizar o texto corretamente é necessário converter de bytes para ascii"
   ]
  },
  {
   "cell_type": "code",
   "execution_count": 2,
   "metadata": {
    "colab": {
     "base_uri": "https://localhost:8080/"
    },
    "id": "7KwbrW2t7b2A",
    "outputId": "5378a583-08ed-4f9a-8f4c-d5b768645f84"
   },
   "outputs": [
    {
     "name": "stdout",
     "output_type": "stream",
     "text": [
      "Este é o símbolo do euro: €\n"
     ]
    }
   ],
   "source": [
    "print(depois.decode(\"utf-8\"))"
   ]
  },
  {
   "cell_type": "markdown",
   "metadata": {
    "id": "giFJwWyZ7b2B"
   },
   "source": [
    "### Lendo arquivos com problemas de codificação"
   ]
  },
  {
   "cell_type": "code",
   "execution_count": 3,
   "metadata": {
    "colab": {
     "base_uri": "https://localhost:8080/"
    },
    "id": "74GreEs67b2C",
    "outputId": "bd49f0c5-f401-4549-b663-afbb750252f7"
   },
   "outputs": [
    {
     "name": "stdout",
     "output_type": "stream",
     "text": [
      "{'encoding': 'ISO-8859-1', 'confidence': 0.73, 'language': ''}\n"
     ]
    }
   ],
   "source": [
    "#!pip install chardet\n",
    "import chardet\n",
    "\"\"\"\n",
    "with open(\"BrasilSocial_charset.csv\", 'rb') as rawdata:\n",
    "    print(chardet.detect(rawdata.read(10000)))\n",
    "\"\"\"\n",
    "\n",
    "import urllib.request\n",
    "with urllib.request.urlopen(\"https://raw.githubusercontent.com/abaffa/INF1038/main/dataset/BrasilSocial_charset.csv\") as rawdata:\n",
    "    print(chardet.detect(rawdata.read(10000)))"
   ]
  },
  {
   "cell_type": "markdown",
   "metadata": {
    "id": "zTevT-po7b2D"
   },
   "source": [
    "Podemos carregar o arquivo com a codificação encontrada utilizando o código:"
   ]
  },
  {
   "cell_type": "code",
   "execution_count": 4,
   "metadata": {
    "colab": {
     "base_uri": "https://localhost:8080/",
     "height": 206
    },
    "id": "ZoLlDvnh7b2D",
    "outputId": "9d1b880d-7f87-4d8f-a62c-bfebbafe8c76"
   },
   "outputs": [
    {
     "data": {
      "text/html": [
       "<div>\n",
       "<style scoped>\n",
       "    .dataframe tbody tr th:only-of-type {\n",
       "        vertical-align: middle;\n",
       "    }\n",
       "\n",
       "    .dataframe tbody tr th {\n",
       "        vertical-align: top;\n",
       "    }\n",
       "\n",
       "    .dataframe thead th {\n",
       "        text-align: right;\n",
       "    }\n",
       "</style>\n",
       "<table border=\"1\" class=\"dataframe\">\n",
       "  <thead>\n",
       "    <tr style=\"text-align: right;\">\n",
       "      <th></th>\n",
       "      <th>Regiao</th>\n",
       "      <th>Anos Estudo</th>\n",
       "      <th>Renda Média</th>\n",
       "      <th>Área</th>\n",
       "      <th>Homicídios</th>\n",
       "      <th>Suicídios</th>\n",
       "      <th>Populaçao</th>\n",
       "      <th>Desemprego</th>\n",
       "    </tr>\n",
       "  </thead>\n",
       "  <tbody>\n",
       "    <tr>\n",
       "      <th>0</th>\n",
       "      <td>Regiao Centro-oeste</td>\n",
       "      <td>8.1</td>\n",
       "      <td>1394.40</td>\n",
       "      <td>1596294.72</td>\n",
       "      <td>5207</td>\n",
       "      <td>1118</td>\n",
       "      <td>14058094</td>\n",
       "      <td>0.105</td>\n",
       "    </tr>\n",
       "    <tr>\n",
       "      <th>1</th>\n",
       "      <td>Regiao Norte</td>\n",
       "      <td>7.3</td>\n",
       "      <td>782.76</td>\n",
       "      <td>3846293.15</td>\n",
       "      <td>8470</td>\n",
       "      <td>894</td>\n",
       "      <td>15864454</td>\n",
       "      <td>0.127</td>\n",
       "    </tr>\n",
       "    <tr>\n",
       "      <th>2</th>\n",
       "      <td>Regiao Nordeste</td>\n",
       "      <td>6.4</td>\n",
       "      <td>730.24</td>\n",
       "      <td>1551626.90</td>\n",
       "      <td>27572</td>\n",
       "      <td>2973</td>\n",
       "      <td>53073882</td>\n",
       "      <td>0.159</td>\n",
       "    </tr>\n",
       "    <tr>\n",
       "      <th>3</th>\n",
       "      <td>Regiao Sul</td>\n",
       "      <td>8.1</td>\n",
       "      <td>1413.81</td>\n",
       "      <td>563450.28</td>\n",
       "      <td>7109</td>\n",
       "      <td>2857</td>\n",
       "      <td>27386891</td>\n",
       "      <td>0.840</td>\n",
       "    </tr>\n",
       "    <tr>\n",
       "      <th>4</th>\n",
       "      <td>Regiao Sudeste</td>\n",
       "      <td>8.5</td>\n",
       "      <td>1378.32</td>\n",
       "      <td>924565.47</td>\n",
       "      <td>16294</td>\n",
       "      <td>4626</td>\n",
       "      <td>80364410</td>\n",
       "      <td>0.138</td>\n",
       "    </tr>\n",
       "  </tbody>\n",
       "</table>\n",
       "</div>"
      ],
      "text/plain": [
       "                Regiao  Anos Estudo  Renda Média        Área  Homicídios   \n",
       "0  Regiao Centro-oeste          8.1      1394.40  1596294.72        5207  \\\n",
       "1         Regiao Norte          7.3       782.76  3846293.15        8470   \n",
       "2      Regiao Nordeste          6.4       730.24  1551626.90       27572   \n",
       "3           Regiao Sul          8.1      1413.81   563450.28        7109   \n",
       "4       Regiao Sudeste          8.5      1378.32   924565.47       16294   \n",
       "\n",
       "   Suicídios  Populaçao  Desemprego  \n",
       "0       1118   14058094       0.105  \n",
       "1        894   15864454       0.127  \n",
       "2       2973   53073882       0.159  \n",
       "3       2857   27386891       0.840  \n",
       "4       4626   80364410       0.138  "
      ]
     },
     "execution_count": 4,
     "metadata": {},
     "output_type": "execute_result"
    }
   ],
   "source": [
    "import pandas as pd\n",
    "pd.read_csv(\"https://raw.githubusercontent.com/abaffa/INF1038/main/dataset/BrasilSocial_charset.csv\", encoding='ISO-8859-1')"
   ]
  },
  {
   "cell_type": "code",
   "execution_count": 5,
   "metadata": {
    "colab": {
     "base_uri": "https://localhost:8080/"
    },
    "id": "CT5KuskV7b2E",
    "outputId": "e77a3dc1-d7ca-42c6-d43e-4982ad33bf2a",
    "scrolled": true
   },
   "outputs": [
    {
     "name": "stdout",
     "output_type": "stream",
     "text": [
      "Correct the sentence using \"ftfy\".\n",
      "✔ No problems with text\n",
      "à perturber la réflexion\n"
     ]
    }
   ],
   "source": [
    "#!pip install ftfy\n",
    "import ftfy\n",
    "\n",
    "print(ftfy.fix_text('Correct the sentence using â€œftfyâ€\\x9d.'))\n",
    "print(ftfy.fix_text('âœ” No problems with text'))\n",
    "print(ftfy.fix_text('Ã perturber la rÃ©flexion'))"
   ]
  },
  {
   "cell_type": "markdown",
   "metadata": {
    "id": "xCbOgFA07b2E"
   },
   "source": [
    "# Limpeza"
   ]
  },
  {
   "cell_type": "markdown",
   "metadata": {
    "id": "pg-AC1oj7b2E"
   },
   "source": [
    "### Manipulação de Dados Faltantes"
   ]
  },
  {
   "cell_type": "markdown",
   "metadata": {
    "id": "yQKnsAtm7b2F"
   },
   "source": [
    "Primeiro, vamos simular um dataframe com dados faltantes através dos comandos abaixo:\n",
    "\n",
    "* O método sample sorteia registros\n",
    "do dataframe original e cria dfupdate\n",
    "\n",
    "* O método update atualiza os registros\n",
    "do dataframe original\n",
    "\n",
    "* O método replace substitui “nan” por\n",
    "np.nan"
   ]
  },
  {
   "cell_type": "code",
   "execution_count": 6,
   "metadata": {
    "id": "KrPimpsY7b2F"
   },
   "outputs": [],
   "source": [
    "import numpy as np\n",
    "\n",
    "df = pd.read_csv(\"https://raw.githubusercontent.com/abaffa/INF1038/main/dataset/california_housing_train.csv\")\n",
    "\n",
    "#population\n",
    "qt_nan = int(df.shape[0] * 0.4)\n",
    "dfupdate = df.sample(qt_nan)\n",
    "dfupdate.population = 'nan'\n",
    "df.update(dfupdate)\n",
    "\n",
    "#households\n",
    "qt_nan = int(df.shape[0] * 0.70)\n",
    "dfupdate = df.sample(qt_nan)\n",
    "dfupdate.households = 'nan'\n",
    "df.update(dfupdate)\n",
    "\n",
    "df = df.replace(\"nan\", np.nan)"
   ]
  },
  {
   "cell_type": "code",
   "execution_count": 7,
   "metadata": {
    "colab": {
     "base_uri": "https://localhost:8080/"
    },
    "id": "TSQrf6Hg7b2G",
    "outputId": "bbef11b5-7420-460f-d76f-44f45a3f61e9"
   },
   "outputs": [
    {
     "data": {
      "text/plain": [
       "(17000, 9)"
      ]
     },
     "execution_count": 7,
     "metadata": {},
     "output_type": "execute_result"
    }
   ],
   "source": [
    "df.shape"
   ]
  },
  {
   "cell_type": "markdown",
   "metadata": {
    "id": "UIyDHz4C7b2G"
   },
   "source": [
    "Para calculamos o porcentual de valores faltantes podemos utilizar o código:"
   ]
  },
  {
   "cell_type": "code",
   "execution_count": 8,
   "metadata": {
    "colab": {
     "base_uri": "https://localhost:8080/"
    },
    "id": "cijshiyo7b2G",
    "outputId": "f6596551-3d97-40be-f170-29bd94315630"
   },
   "outputs": [
    {
     "name": "stdout",
     "output_type": "stream",
     "text": [
      "12.222222222222221\n"
     ]
    }
   ],
   "source": [
    "missing_values_count = df.isnull().sum()\n",
    "\n",
    "total_cells = np.product(df.shape)\n",
    "total_missing = missing_values_count.sum()\n",
    "\n",
    "print((total_missing/total_cells) * 100)"
   ]
  },
  {
   "cell_type": "markdown",
   "metadata": {
    "id": "M1UQQEFF7b2H"
   },
   "source": [
    "Podemos visualizar algumas informações sobre os dados faltantes utilizando a biblioteca missingno:"
   ]
  },
  {
   "cell_type": "code",
   "execution_count": 9,
   "metadata": {
    "colab": {
     "base_uri": "https://localhost:8080/",
     "height": 900
    },
    "id": "faFf9TaP7b2H",
    "outputId": "fa6094f0-4bad-4d77-d0f5-2f18d1ca58a3"
   },
   "outputs": [
    {
     "data": {
      "text/plain": [
       "<Axes: >"
      ]
     },
     "execution_count": 9,
     "metadata": {},
     "output_type": "execute_result"
    },
    {
     "data": {
      "image/png": "[encoded data removed]",
      "text/plain": [
       "<Figure size 2500x1000 with 2 Axes>"
      ]
     },
     "metadata": {},
     "output_type": "display_data"
    }
   ],
   "source": [
    "#!pip install missingno\n",
    "import missingno as msno\n",
    "%matplotlib inline\n",
    "\n",
    "msno.matrix(df)"
   ]
  },
  {
   "cell_type": "markdown",
   "metadata": {
    "id": "TYAy2Tfr7b2H"
   },
   "source": [
    "Exibir a informação como gráfico de barras:"
   ]
  },
  {
   "cell_type": "code",
   "execution_count": 10,
   "metadata": {
    "colab": {
     "base_uri": "https://localhost:8080/",
     "height": 943
    },
    "id": "DCiSLraE7b2H",
    "outputId": "528ed8ea-e260-4cd3-d9cb-ef7f1df0136e"
   },
   "outputs": [
    {
     "data": {
      "text/plain": [
       "<Axes: >"
      ]
     },
     "execution_count": 10,
     "metadata": {},
     "output_type": "execute_result"
    },
    {
     "data": {
      "image/png": "[encoded data removed]",
      "text/plain": [
       "<Figure size 2500x1000 with 3 Axes>"
      ]
     },
     "metadata": {},
     "output_type": "display_data"
    }
   ],
   "source": [
    "msno.bar(df)"
   ]
  },
  {
   "cell_type": "markdown",
   "metadata": {
    "id": "P7r3v9Lf7b2I"
   },
   "source": [
    "...ou como dendograma:"
   ]
  },
  {
   "cell_type": "code",
   "execution_count": 11,
   "metadata": {
    "colab": {
     "base_uri": "https://localhost:8080/",
     "height": 906
    },
    "id": "XIZhI69v7b2I",
    "outputId": "61e59a22-13c5-452c-d3aa-85eb8c5637a4"
   },
   "outputs": [
    {
     "data": {
      "text/plain": [
       "<Axes: >"
      ]
     },
     "execution_count": 11,
     "metadata": {},
     "output_type": "execute_result"
    },
    {
     "data": {
      "image/png": "[encoded data removed]",
      "text/plain": [
       "<Figure size 2500x1000 with 1 Axes>"
      ]
     },
     "metadata": {},
     "output_type": "display_data"
    }
   ],
   "source": [
    "msno.dendrogram(df)"
   ]
  },
  {
   "cell_type": "markdown",
   "metadata": {
    "id": "NEtSCI9L7b2I"
   },
   "source": [
    "### Descartar valores ausentes"
   ]
  },
  {
   "cell_type": "markdown",
   "metadata": {
    "id": "RGw8eBVM7b2J"
   },
   "source": [
    "Remove todos os registros que contém pelo menos um valor ausente:"
   ]
  },
  {
   "cell_type": "code",
   "execution_count": 12,
   "metadata": {
    "colab": {
     "base_uri": "https://localhost:8080/"
    },
    "id": "5jziKgmm7b2J",
    "outputId": "660399be-f85e-4a07-9235-13f432bda057"
   },
   "outputs": [
    {
     "name": "stdout",
     "output_type": "stream",
     "text": [
      "(17000, 9) -> (3090, 9)\n"
     ]
    }
   ],
   "source": [
    "df2 = df.dropna()\n",
    "print(str(df.shape) + \" -> \" + str(df2.shape))"
   ]
  },
  {
   "cell_type": "markdown",
   "metadata": {
    "id": "Vqh-Telz7b2J"
   },
   "source": [
    "Podemos remover todas as colunas que contém um valor ausente modificando o eixo através do parâmetro axis=1:"
   ]
  },
  {
   "cell_type": "code",
   "execution_count": 13,
   "metadata": {
    "colab": {
     "base_uri": "https://localhost:8080/"
    },
    "id": "ktMnOvzz7b2J",
    "outputId": "0e62ebc0-867e-407b-dd47-45c2f473c4aa"
   },
   "outputs": [
    {
     "name": "stdout",
     "output_type": "stream",
     "text": [
      "(17000, 9) -> (17000, 7)\n"
     ]
    }
   ],
   "source": [
    "df2 = df.dropna(axis = 1)\n",
    "print(str(df.shape) + \" -> \" + str(df2.shape))"
   ]
  },
  {
   "cell_type": "markdown",
   "metadata": {
    "id": "Q2Zyxvx37b2K"
   },
   "source": [
    "### Preencher valores ausentes"
   ]
  },
  {
   "cell_type": "markdown",
   "metadata": {
    "id": "fylt4CvT7b2K"
   },
   "source": [
    "Substituir todos os valores numéricos nulos (NaN) por zero com o comando:"
   ]
  },
  {
   "cell_type": "code",
   "execution_count": 14,
   "metadata": {
    "colab": {
     "base_uri": "https://localhost:8080/"
    },
    "id": "6HsHIm7R7b2K",
    "outputId": "023e2073-49b2-458f-90e5-e7ab0b00ec3d"
   },
   "outputs": [
    {
     "name": "stdout",
     "output_type": "stream",
     "text": [
      "longitude                 0\n",
      "latitude                  0\n",
      "housing_median_age        0\n",
      "total_rooms               0\n",
      "total_bedrooms            0\n",
      "population             6800\n",
      "households            11900\n",
      "median_income             0\n",
      "median_house_value        0\n",
      "dtype: int64\n",
      "\n",
      "longitude             0\n",
      "latitude              0\n",
      "housing_median_age    0\n",
      "total_rooms           0\n",
      "total_bedrooms        0\n",
      "population            0\n",
      "households            0\n",
      "median_income         0\n",
      "median_house_value    0\n",
      "dtype: int64\n"
     ]
    }
   ],
   "source": [
    "print(df.isnull().sum())\n",
    "print()\n",
    "\n",
    "df2 = df.fillna(0)\n",
    "print(df2.isnull().sum())"
   ]
  },
  {
   "cell_type": "markdown",
   "metadata": {
    "id": "EcNcv49U7b2K"
   },
   "source": [
    "Para séries de dados que possuam uma ordem lógica e que possam ser interpoladas podemos usar o método “bfill”:"
   ]
  },
  {
   "cell_type": "code",
   "execution_count": 15,
   "metadata": {
    "colab": {
     "base_uri": "https://localhost:8080/",
     "height": 206
    },
    "id": "n57ACCnp7b2L",
    "outputId": "d698b593-cf1e-43d5-ce28-cb3943136347"
   },
   "outputs": [
    {
     "data": {
      "text/html": [
       "<div>\n",
       "<style scoped>\n",
       "    .dataframe tbody tr th:only-of-type {\n",
       "        vertical-align: middle;\n",
       "    }\n",
       "\n",
       "    .dataframe tbody tr th {\n",
       "        vertical-align: top;\n",
       "    }\n",
       "\n",
       "    .dataframe thead th {\n",
       "        text-align: right;\n",
       "    }\n",
       "</style>\n",
       "<table border=\"1\" class=\"dataframe\">\n",
       "  <thead>\n",
       "    <tr style=\"text-align: right;\">\n",
       "      <th></th>\n",
       "      <th>longitude</th>\n",
       "      <th>latitude</th>\n",
       "      <th>housing_median_age</th>\n",
       "      <th>total_rooms</th>\n",
       "      <th>total_bedrooms</th>\n",
       "      <th>population</th>\n",
       "      <th>households</th>\n",
       "      <th>median_income</th>\n",
       "      <th>median_house_value</th>\n",
       "    </tr>\n",
       "  </thead>\n",
       "  <tbody>\n",
       "    <tr>\n",
       "      <th>0</th>\n",
       "      <td>-114.31</td>\n",
       "      <td>34.19</td>\n",
       "      <td>15.0</td>\n",
       "      <td>5612.0</td>\n",
       "      <td>1283.0</td>\n",
       "      <td>1015.0</td>\n",
       "      <td>NaN</td>\n",
       "      <td>1.4936</td>\n",
       "      <td>66900.0</td>\n",
       "    </tr>\n",
       "    <tr>\n",
       "      <th>1</th>\n",
       "      <td>-114.47</td>\n",
       "      <td>34.40</td>\n",
       "      <td>19.0</td>\n",
       "      <td>7650.0</td>\n",
       "      <td>1901.0</td>\n",
       "      <td>1129.0</td>\n",
       "      <td>NaN</td>\n",
       "      <td>1.8200</td>\n",
       "      <td>80100.0</td>\n",
       "    </tr>\n",
       "    <tr>\n",
       "      <th>2</th>\n",
       "      <td>-114.56</td>\n",
       "      <td>33.69</td>\n",
       "      <td>17.0</td>\n",
       "      <td>720.0</td>\n",
       "      <td>174.0</td>\n",
       "      <td>NaN</td>\n",
       "      <td>NaN</td>\n",
       "      <td>1.6509</td>\n",
       "      <td>85700.0</td>\n",
       "    </tr>\n",
       "    <tr>\n",
       "      <th>3</th>\n",
       "      <td>-114.57</td>\n",
       "      <td>33.64</td>\n",
       "      <td>14.0</td>\n",
       "      <td>1501.0</td>\n",
       "      <td>337.0</td>\n",
       "      <td>NaN</td>\n",
       "      <td>NaN</td>\n",
       "      <td>3.1917</td>\n",
       "      <td>73400.0</td>\n",
       "    </tr>\n",
       "    <tr>\n",
       "      <th>4</th>\n",
       "      <td>-114.57</td>\n",
       "      <td>33.57</td>\n",
       "      <td>20.0</td>\n",
       "      <td>1454.0</td>\n",
       "      <td>326.0</td>\n",
       "      <td>NaN</td>\n",
       "      <td>NaN</td>\n",
       "      <td>1.9250</td>\n",
       "      <td>65500.0</td>\n",
       "    </tr>\n",
       "  </tbody>\n",
       "</table>\n",
       "</div>"
      ],
      "text/plain": [
       "   longitude  latitude  housing_median_age  total_rooms  total_bedrooms   \n",
       "0    -114.31     34.19                15.0       5612.0          1283.0  \\\n",
       "1    -114.47     34.40                19.0       7650.0          1901.0   \n",
       "2    -114.56     33.69                17.0        720.0           174.0   \n",
       "3    -114.57     33.64                14.0       1501.0           337.0   \n",
       "4    -114.57     33.57                20.0       1454.0           326.0   \n",
       "\n",
       "   population  households  median_income  median_house_value  \n",
       "0      1015.0         NaN         1.4936             66900.0  \n",
       "1      1129.0         NaN         1.8200             80100.0  \n",
       "2         NaN         NaN         1.6509             85700.0  \n",
       "3         NaN         NaN         3.1917             73400.0  \n",
       "4         NaN         NaN         1.9250             65500.0  "
      ]
     },
     "execution_count": 15,
     "metadata": {},
     "output_type": "execute_result"
    }
   ],
   "source": [
    "df.head()"
   ]
  },
  {
   "cell_type": "code",
   "execution_count": 16,
   "metadata": {
    "colab": {
     "base_uri": "https://localhost:8080/",
     "height": 458
    },
    "id": "7o9SraDB7b2L",
    "outputId": "9ebbd1c6-1462-475f-c881-3f29ec70d707"
   },
   "outputs": [
    {
     "data": {
      "text/html": [
       "<div>\n",
       "<style scoped>\n",
       "    .dataframe tbody tr th:only-of-type {\n",
       "        vertical-align: middle;\n",
       "    }\n",
       "\n",
       "    .dataframe tbody tr th {\n",
       "        vertical-align: top;\n",
       "    }\n",
       "\n",
       "    .dataframe thead th {\n",
       "        text-align: right;\n",
       "    }\n",
       "</style>\n",
       "<table border=\"1\" class=\"dataframe\">\n",
       "  <thead>\n",
       "    <tr style=\"text-align: right;\">\n",
       "      <th></th>\n",
       "      <th>longitude</th>\n",
       "      <th>latitude</th>\n",
       "      <th>housing_median_age</th>\n",
       "      <th>total_rooms</th>\n",
       "      <th>total_bedrooms</th>\n",
       "      <th>population</th>\n",
       "      <th>households</th>\n",
       "      <th>median_income</th>\n",
       "      <th>median_house_value</th>\n",
       "    </tr>\n",
       "  </thead>\n",
       "  <tbody>\n",
       "    <tr>\n",
       "      <th>0</th>\n",
       "      <td>-114.31</td>\n",
       "      <td>34.19</td>\n",
       "      <td>15.0</td>\n",
       "      <td>5612.0</td>\n",
       "      <td>1283.0</td>\n",
       "      <td>1015.0</td>\n",
       "      <td>158.0</td>\n",
       "      <td>1.4936</td>\n",
       "      <td>66900.0</td>\n",
       "    </tr>\n",
       "    <tr>\n",
       "      <th>1</th>\n",
       "      <td>-114.47</td>\n",
       "      <td>34.40</td>\n",
       "      <td>19.0</td>\n",
       "      <td>7650.0</td>\n",
       "      <td>1901.0</td>\n",
       "      <td>1129.0</td>\n",
       "      <td>158.0</td>\n",
       "      <td>1.8200</td>\n",
       "      <td>80100.0</td>\n",
       "    </tr>\n",
       "    <tr>\n",
       "      <th>2</th>\n",
       "      <td>-114.56</td>\n",
       "      <td>33.69</td>\n",
       "      <td>17.0</td>\n",
       "      <td>720.0</td>\n",
       "      <td>174.0</td>\n",
       "      <td>671.0</td>\n",
       "      <td>158.0</td>\n",
       "      <td>1.6509</td>\n",
       "      <td>85700.0</td>\n",
       "    </tr>\n",
       "    <tr>\n",
       "      <th>3</th>\n",
       "      <td>-114.57</td>\n",
       "      <td>33.64</td>\n",
       "      <td>14.0</td>\n",
       "      <td>1501.0</td>\n",
       "      <td>337.0</td>\n",
       "      <td>671.0</td>\n",
       "      <td>158.0</td>\n",
       "      <td>3.1917</td>\n",
       "      <td>73400.0</td>\n",
       "    </tr>\n",
       "    <tr>\n",
       "      <th>4</th>\n",
       "      <td>-114.57</td>\n",
       "      <td>33.57</td>\n",
       "      <td>20.0</td>\n",
       "      <td>1454.0</td>\n",
       "      <td>326.0</td>\n",
       "      <td>671.0</td>\n",
       "      <td>158.0</td>\n",
       "      <td>1.9250</td>\n",
       "      <td>65500.0</td>\n",
       "    </tr>\n",
       "    <tr>\n",
       "      <th>...</th>\n",
       "      <td>...</td>\n",
       "      <td>...</td>\n",
       "      <td>...</td>\n",
       "      <td>...</td>\n",
       "      <td>...</td>\n",
       "      <td>...</td>\n",
       "      <td>...</td>\n",
       "      <td>...</td>\n",
       "      <td>...</td>\n",
       "    </tr>\n",
       "    <tr>\n",
       "      <th>16995</th>\n",
       "      <td>-124.26</td>\n",
       "      <td>40.58</td>\n",
       "      <td>52.0</td>\n",
       "      <td>2217.0</td>\n",
       "      <td>394.0</td>\n",
       "      <td>1194.0</td>\n",
       "      <td>456.0</td>\n",
       "      <td>2.3571</td>\n",
       "      <td>111400.0</td>\n",
       "    </tr>\n",
       "    <tr>\n",
       "      <th>16996</th>\n",
       "      <td>-124.27</td>\n",
       "      <td>40.69</td>\n",
       "      <td>36.0</td>\n",
       "      <td>2349.0</td>\n",
       "      <td>528.0</td>\n",
       "      <td>1194.0</td>\n",
       "      <td>456.0</td>\n",
       "      <td>2.5179</td>\n",
       "      <td>79000.0</td>\n",
       "    </tr>\n",
       "    <tr>\n",
       "      <th>16997</th>\n",
       "      <td>-124.30</td>\n",
       "      <td>41.84</td>\n",
       "      <td>17.0</td>\n",
       "      <td>2677.0</td>\n",
       "      <td>531.0</td>\n",
       "      <td>1244.0</td>\n",
       "      <td>456.0</td>\n",
       "      <td>3.0313</td>\n",
       "      <td>103600.0</td>\n",
       "    </tr>\n",
       "    <tr>\n",
       "      <th>16998</th>\n",
       "      <td>-124.30</td>\n",
       "      <td>41.80</td>\n",
       "      <td>19.0</td>\n",
       "      <td>2672.0</td>\n",
       "      <td>552.0</td>\n",
       "      <td>1298.0</td>\n",
       "      <td>0</td>\n",
       "      <td>1.9797</td>\n",
       "      <td>85800.0</td>\n",
       "    </tr>\n",
       "    <tr>\n",
       "      <th>16999</th>\n",
       "      <td>-124.35</td>\n",
       "      <td>40.54</td>\n",
       "      <td>52.0</td>\n",
       "      <td>1820.0</td>\n",
       "      <td>300.0</td>\n",
       "      <td>0</td>\n",
       "      <td>0</td>\n",
       "      <td>3.0147</td>\n",
       "      <td>94600.0</td>\n",
       "    </tr>\n",
       "  </tbody>\n",
       "</table>\n",
       "<p>17000 rows × 9 columns</p>\n",
       "</div>"
      ],
      "text/plain": [
       "       longitude  latitude  housing_median_age  total_rooms  total_bedrooms   \n",
       "0        -114.31     34.19                15.0       5612.0          1283.0  \\\n",
       "1        -114.47     34.40                19.0       7650.0          1901.0   \n",
       "2        -114.56     33.69                17.0        720.0           174.0   \n",
       "3        -114.57     33.64                14.0       1501.0           337.0   \n",
       "4        -114.57     33.57                20.0       1454.0           326.0   \n",
       "...          ...       ...                 ...          ...             ...   \n",
       "16995    -124.26     40.58                52.0       2217.0           394.0   \n",
       "16996    -124.27     40.69                36.0       2349.0           528.0   \n",
       "16997    -124.30     41.84                17.0       2677.0           531.0   \n",
       "16998    -124.30     41.80                19.0       2672.0           552.0   \n",
       "16999    -124.35     40.54                52.0       1820.0           300.0   \n",
       "\n",
       "      population households  median_income  median_house_value  \n",
       "0         1015.0      158.0         1.4936             66900.0  \n",
       "1         1129.0      158.0         1.8200             80100.0  \n",
       "2          671.0      158.0         1.6509             85700.0  \n",
       "3          671.0      158.0         3.1917             73400.0  \n",
       "4          671.0      158.0         1.9250             65500.0  \n",
       "...          ...        ...            ...                 ...  \n",
       "16995     1194.0      456.0         2.3571            111400.0  \n",
       "16996     1194.0      456.0         2.5179             79000.0  \n",
       "16997     1244.0      456.0         3.0313            103600.0  \n",
       "16998     1298.0          0         1.9797             85800.0  \n",
       "16999          0          0         3.0147             94600.0  \n",
       "\n",
       "[17000 rows x 9 columns]"
      ]
     },
     "execution_count": 16,
     "metadata": {},
     "output_type": "execute_result"
    }
   ],
   "source": [
    "#df.fillna(method = 'bfill', axis=0).fillna(\"0\") # deprecated\n",
    "df.bfill(axis=0).fillna(\"0\")"
   ]
  },
  {
   "cell_type": "markdown",
   "metadata": {
    "id": "rPYnQ_Av7b2L"
   },
   "source": [
    "### Imputação de dados p/ valores ausentes"
   ]
  },
  {
   "cell_type": "markdown",
   "metadata": {
    "id": "OlBTiLU_7b2M"
   },
   "source": [
    "Em dados normalmente distribuídos podemos inferir os valores dentro de 2 desvios padrão da média e preencher os valores ausentes entre $[(\\bar{x} - 2 \\times S),(\\bar{x} + 2 \\times S)]$ na coluna _polulation_:"
   ]
  },
  {
   "cell_type": "code",
   "execution_count": 17,
   "metadata": {
    "colab": {
     "base_uri": "https://localhost:8080/",
     "height": 424
    },
    "id": "W-1PFTdZ7b2M",
    "outputId": "cf07e0a1-ac75-4967-fa7c-6d5e0436a20c"
   },
   "outputs": [
    {
     "data": {
      "text/html": [
       "<div>\n",
       "<style scoped>\n",
       "    .dataframe tbody tr th:only-of-type {\n",
       "        vertical-align: middle;\n",
       "    }\n",
       "\n",
       "    .dataframe tbody tr th {\n",
       "        vertical-align: top;\n",
       "    }\n",
       "\n",
       "    .dataframe thead th {\n",
       "        text-align: right;\n",
       "    }\n",
       "</style>\n",
       "<table border=\"1\" class=\"dataframe\">\n",
       "  <thead>\n",
       "    <tr style=\"text-align: right;\">\n",
       "      <th></th>\n",
       "      <th>longitude</th>\n",
       "      <th>latitude</th>\n",
       "      <th>housing_median_age</th>\n",
       "      <th>total_rooms</th>\n",
       "      <th>total_bedrooms</th>\n",
       "      <th>population</th>\n",
       "      <th>households</th>\n",
       "      <th>median_income</th>\n",
       "      <th>median_house_value</th>\n",
       "    </tr>\n",
       "  </thead>\n",
       "  <tbody>\n",
       "    <tr>\n",
       "      <th>0</th>\n",
       "      <td>-114.31</td>\n",
       "      <td>34.19</td>\n",
       "      <td>15.0</td>\n",
       "      <td>5612.0</td>\n",
       "      <td>1283.0</td>\n",
       "      <td>1015.0</td>\n",
       "      <td>NaN</td>\n",
       "      <td>1.4936</td>\n",
       "      <td>66900.0</td>\n",
       "    </tr>\n",
       "    <tr>\n",
       "      <th>1</th>\n",
       "      <td>-114.47</td>\n",
       "      <td>34.40</td>\n",
       "      <td>19.0</td>\n",
       "      <td>7650.0</td>\n",
       "      <td>1901.0</td>\n",
       "      <td>1129.0</td>\n",
       "      <td>NaN</td>\n",
       "      <td>1.8200</td>\n",
       "      <td>80100.0</td>\n",
       "    </tr>\n",
       "    <tr>\n",
       "      <th>2</th>\n",
       "      <td>-114.56</td>\n",
       "      <td>33.69</td>\n",
       "      <td>17.0</td>\n",
       "      <td>720.0</td>\n",
       "      <td>174.0</td>\n",
       "      <td>2811.0</td>\n",
       "      <td>NaN</td>\n",
       "      <td>1.6509</td>\n",
       "      <td>85700.0</td>\n",
       "    </tr>\n",
       "    <tr>\n",
       "      <th>3</th>\n",
       "      <td>-114.57</td>\n",
       "      <td>33.64</td>\n",
       "      <td>14.0</td>\n",
       "      <td>1501.0</td>\n",
       "      <td>337.0</td>\n",
       "      <td>431.0</td>\n",
       "      <td>NaN</td>\n",
       "      <td>3.1917</td>\n",
       "      <td>73400.0</td>\n",
       "    </tr>\n",
       "    <tr>\n",
       "      <th>4</th>\n",
       "      <td>-114.57</td>\n",
       "      <td>33.57</td>\n",
       "      <td>20.0</td>\n",
       "      <td>1454.0</td>\n",
       "      <td>326.0</td>\n",
       "      <td>1376.0</td>\n",
       "      <td>NaN</td>\n",
       "      <td>1.9250</td>\n",
       "      <td>65500.0</td>\n",
       "    </tr>\n",
       "    <tr>\n",
       "      <th>...</th>\n",
       "      <td>...</td>\n",
       "      <td>...</td>\n",
       "      <td>...</td>\n",
       "      <td>...</td>\n",
       "      <td>...</td>\n",
       "      <td>...</td>\n",
       "      <td>...</td>\n",
       "      <td>...</td>\n",
       "      <td>...</td>\n",
       "    </tr>\n",
       "    <tr>\n",
       "      <th>16995</th>\n",
       "      <td>-124.26</td>\n",
       "      <td>40.58</td>\n",
       "      <td>52.0</td>\n",
       "      <td>2217.0</td>\n",
       "      <td>394.0</td>\n",
       "      <td>2423.0</td>\n",
       "      <td>NaN</td>\n",
       "      <td>2.3571</td>\n",
       "      <td>111400.0</td>\n",
       "    </tr>\n",
       "    <tr>\n",
       "      <th>16996</th>\n",
       "      <td>-124.27</td>\n",
       "      <td>40.69</td>\n",
       "      <td>36.0</td>\n",
       "      <td>2349.0</td>\n",
       "      <td>528.0</td>\n",
       "      <td>1194.0</td>\n",
       "      <td>NaN</td>\n",
       "      <td>2.5179</td>\n",
       "      <td>79000.0</td>\n",
       "    </tr>\n",
       "    <tr>\n",
       "      <th>16997</th>\n",
       "      <td>-124.30</td>\n",
       "      <td>41.84</td>\n",
       "      <td>17.0</td>\n",
       "      <td>2677.0</td>\n",
       "      <td>531.0</td>\n",
       "      <td>1244.0</td>\n",
       "      <td>456.0</td>\n",
       "      <td>3.0313</td>\n",
       "      <td>103600.0</td>\n",
       "    </tr>\n",
       "    <tr>\n",
       "      <th>16998</th>\n",
       "      <td>-124.30</td>\n",
       "      <td>41.80</td>\n",
       "      <td>19.0</td>\n",
       "      <td>2672.0</td>\n",
       "      <td>552.0</td>\n",
       "      <td>1298.0</td>\n",
       "      <td>NaN</td>\n",
       "      <td>1.9797</td>\n",
       "      <td>85800.0</td>\n",
       "    </tr>\n",
       "    <tr>\n",
       "      <th>16999</th>\n",
       "      <td>-124.35</td>\n",
       "      <td>40.54</td>\n",
       "      <td>52.0</td>\n",
       "      <td>1820.0</td>\n",
       "      <td>300.0</td>\n",
       "      <td>-728.0</td>\n",
       "      <td>NaN</td>\n",
       "      <td>3.0147</td>\n",
       "      <td>94600.0</td>\n",
       "    </tr>\n",
       "  </tbody>\n",
       "</table>\n",
       "<p>17000 rows × 9 columns</p>\n",
       "</div>"
      ],
      "text/plain": [
       "       longitude  latitude  housing_median_age  total_rooms  total_bedrooms   \n",
       "0        -114.31     34.19                15.0       5612.0          1283.0  \\\n",
       "1        -114.47     34.40                19.0       7650.0          1901.0   \n",
       "2        -114.56     33.69                17.0        720.0           174.0   \n",
       "3        -114.57     33.64                14.0       1501.0           337.0   \n",
       "4        -114.57     33.57                20.0       1454.0           326.0   \n",
       "...          ...       ...                 ...          ...             ...   \n",
       "16995    -124.26     40.58                52.0       2217.0           394.0   \n",
       "16996    -124.27     40.69                36.0       2349.0           528.0   \n",
       "16997    -124.30     41.84                17.0       2677.0           531.0   \n",
       "16998    -124.30     41.80                19.0       2672.0           552.0   \n",
       "16999    -124.35     40.54                52.0       1820.0           300.0   \n",
       "\n",
       "       population  households  median_income  median_house_value  \n",
       "0          1015.0         NaN         1.4936             66900.0  \n",
       "1          1129.0         NaN         1.8200             80100.0  \n",
       "2          2811.0         NaN         1.6509             85700.0  \n",
       "3           431.0         NaN         3.1917             73400.0  \n",
       "4          1376.0         NaN         1.9250             65500.0  \n",
       "...           ...         ...            ...                 ...  \n",
       "16995      2423.0         NaN         2.3571            111400.0  \n",
       "16996      1194.0         NaN         2.5179             79000.0  \n",
       "16997      1244.0       456.0         3.0313            103600.0  \n",
       "16998      1298.0         NaN         1.9797             85800.0  \n",
       "16999      -728.0         NaN         3.0147             94600.0  \n",
       "\n",
       "[17000 rows x 9 columns]"
      ]
     },
     "execution_count": 17,
     "metadata": {},
     "output_type": "execute_result"
    }
   ],
   "source": [
    "df_fix = df.copy()\n",
    "\n",
    "df_pop_sem_nan = df_fix[~df_fix.population.isnull()]\n",
    "df_pop_nan = df_fix[df_fix.population.isnull()]\n",
    "\n",
    "pop_media = df_pop_sem_nan.population.mean()\n",
    "pop_desvpad = df_pop_sem_nan.population.std()\n",
    "pop_cont = df_pop_nan.population.isna().sum()\n",
    "\n",
    "rand = np.random.randint(pop_media - 2 * pop_desvpad,\n",
    "\t\t\t\tpop_media + 2 * pop_desvpad,\n",
    "\t\t\t\tsize = pop_cont)\n",
    "\n",
    "df_fix.loc[np.isnan(df_fix[\"population\"]), \"population\"] = rand\n",
    "\n",
    "df_fix"
   ]
  },
  {
   "cell_type": "markdown",
   "metadata": {
    "id": "x-gS_1uC7b2M"
   },
   "source": [
    "### Erros de sintaxe"
   ]
  },
  {
   "cell_type": "markdown",
   "metadata": {
    "id": "ixLjBia67b2N"
   },
   "source": [
    "Espaços em Branco (Trim)"
   ]
  },
  {
   "cell_type": "code",
   "execution_count": 46,
   "metadata": {
    "colab": {
     "base_uri": "https://localhost:8080/"
    },
    "id": "BS-rjg9u7b2R",
    "outputId": "1179b797-67a7-4b1a-9ea4-cb80c243562f"
   },
   "outputs": [
    {
     "name": "stdout",
     "output_type": "stream",
     "text": [
      "'  olá mundo ' => 'olá mundo'\n"
     ]
    }
   ],
   "source": [
    "exemplo = \"  olá mundo \"\n",
    "print(\"\\'\" + exemplo + \"\\' => \\'\" + exemplo.strip() + \"\\'\")"
   ]
  },
  {
   "cell_type": "markdown",
   "metadata": {
    "id": "He-HEJXC7b2S"
   },
   "source": [
    "Formato de Máscara (Pad strings)"
   ]
  },
  {
   "cell_type": "code",
   "execution_count": 47,
   "metadata": {
    "colab": {
     "base_uri": "https://localhost:8080/"
    },
    "id": "7cnoCxMy7b2S",
    "outputId": "6c07de54-413f-44de-eaae-178150495cfd"
   },
   "outputs": [
    {
     "name": "stdout",
     "output_type": "stream",
     "text": [
      "000313\n",
      "000313\n"
     ]
    }
   ],
   "source": [
    "exemplo = '313'\n",
    "print(exemplo.zfill(6))\n",
    "\n",
    "print(exemplo.rjust(6, '0'))"
   ]
  },
  {
   "cell_type": "markdown",
   "metadata": {
    "id": "lLVcl5L-7b2S"
   },
   "source": [
    "### Corrigindo Erros de digitação"
   ]
  },
  {
   "cell_type": "code",
   "execution_count": 48,
   "metadata": {
    "colab": {
     "base_uri": "https://localhost:8080/",
     "height": 206
    },
    "id": "cSzR9xnT7b2S",
    "outputId": "e8ccdb65-0eef-40d5-c505-196202acdc71"
   },
   "outputs": [
    {
     "data": {
      "text/html": [
       "<div>\n",
       "<style scoped>\n",
       "    .dataframe tbody tr th:only-of-type {\n",
       "        vertical-align: middle;\n",
       "    }\n",
       "\n",
       "    .dataframe tbody tr th {\n",
       "        vertical-align: top;\n",
       "    }\n",
       "\n",
       "    .dataframe thead th {\n",
       "        text-align: right;\n",
       "    }\n",
       "</style>\n",
       "<table border=\"1\" class=\"dataframe\">\n",
       "  <thead>\n",
       "    <tr style=\"text-align: right;\">\n",
       "      <th></th>\n",
       "      <th>Sexo</th>\n",
       "      <th>Tipo Sangue</th>\n",
       "      <th>Educação</th>\n",
       "    </tr>\n",
       "  </thead>\n",
       "  <tbody>\n",
       "    <tr>\n",
       "      <th>0</th>\n",
       "      <td>M</td>\n",
       "      <td>O-</td>\n",
       "      <td>Média</td>\n",
       "    </tr>\n",
       "    <tr>\n",
       "      <th>1</th>\n",
       "      <td>M</td>\n",
       "      <td>O-</td>\n",
       "      <td>Alta</td>\n",
       "    </tr>\n",
       "    <tr>\n",
       "      <th>2</th>\n",
       "      <td>Fem.</td>\n",
       "      <td>O+</td>\n",
       "      <td>Alta</td>\n",
       "    </tr>\n",
       "    <tr>\n",
       "      <th>3</th>\n",
       "      <td>F</td>\n",
       "      <td>AB</td>\n",
       "      <td>Baixa</td>\n",
       "    </tr>\n",
       "    <tr>\n",
       "      <th>4</th>\n",
       "      <td>F</td>\n",
       "      <td>B+</td>\n",
       "      <td>nan</td>\n",
       "    </tr>\n",
       "  </tbody>\n",
       "</table>\n",
       "</div>"
      ],
      "text/plain": [
       "   Sexo Tipo Sangue Educação\n",
       "0     M          O-    Média\n",
       "1     M          O-     Alta\n",
       "2  Fem.          O+     Alta\n",
       "3     F          AB    Baixa\n",
       "4     F          B+      nan"
      ]
     },
     "execution_count": 48,
     "metadata": {},
     "output_type": "execute_result"
    }
   ],
   "source": [
    "X = pd.DataFrame(\n",
    "    np.array(['M', 'O-', 'Média',\n",
    "             'M', 'O-', 'Alta',\n",
    "              'Fem.', 'O+', 'Alta',\n",
    "              'F', 'AB', 'Baixa',\n",
    "              'F', 'B+', np.NaN])\n",
    "              .reshape((5,3)),\n",
    "                columns = ['Sexo', 'Tipo Sangue', 'Educação'])\n",
    "X"
   ]
  },
  {
   "cell_type": "markdown",
   "metadata": {
    "id": "WWPqqMNF7b2S"
   },
   "source": [
    "Mapear valores para \"masculino\" ou \"feminino“"
   ]
  },
  {
   "cell_type": "code",
   "execution_count": 49,
   "metadata": {
    "colab": {
     "base_uri": "https://localhost:8080/",
     "height": 206
    },
    "id": "P_HhXcIV7b2T",
    "outputId": "88c3f081-2c79-4dfb-d3e1-b228230f08ea"
   },
   "outputs": [
    {
     "data": {
      "text/html": [
       "<div>\n",
       "<style scoped>\n",
       "    .dataframe tbody tr th:only-of-type {\n",
       "        vertical-align: middle;\n",
       "    }\n",
       "\n",
       "    .dataframe tbody tr th {\n",
       "        vertical-align: top;\n",
       "    }\n",
       "\n",
       "    .dataframe thead th {\n",
       "        text-align: right;\n",
       "    }\n",
       "</style>\n",
       "<table border=\"1\" class=\"dataframe\">\n",
       "  <thead>\n",
       "    <tr style=\"text-align: right;\">\n",
       "      <th></th>\n",
       "      <th>Sexo</th>\n",
       "      <th>Tipo Sangue</th>\n",
       "      <th>Educação</th>\n",
       "    </tr>\n",
       "  </thead>\n",
       "  <tbody>\n",
       "    <tr>\n",
       "      <th>0</th>\n",
       "      <td>masculino</td>\n",
       "      <td>O-</td>\n",
       "      <td>Média</td>\n",
       "    </tr>\n",
       "    <tr>\n",
       "      <th>1</th>\n",
       "      <td>masculino</td>\n",
       "      <td>O-</td>\n",
       "      <td>Alta</td>\n",
       "    </tr>\n",
       "    <tr>\n",
       "      <th>2</th>\n",
       "      <td>feminino</td>\n",
       "      <td>O+</td>\n",
       "      <td>Alta</td>\n",
       "    </tr>\n",
       "    <tr>\n",
       "      <th>3</th>\n",
       "      <td>feminino</td>\n",
       "      <td>AB</td>\n",
       "      <td>Baixa</td>\n",
       "    </tr>\n",
       "    <tr>\n",
       "      <th>4</th>\n",
       "      <td>feminino</td>\n",
       "      <td>B+</td>\n",
       "      <td>nan</td>\n",
       "    </tr>\n",
       "  </tbody>\n",
       "</table>\n",
       "</div>"
      ],
      "text/plain": [
       "        Sexo Tipo Sangue Educação\n",
       "0  masculino          O-    Média\n",
       "1  masculino          O-     Alta\n",
       "2   feminino          O+     Alta\n",
       "3   feminino          AB    Baixa\n",
       "4   feminino          B+      nan"
      ]
     },
     "execution_count": 49,
     "metadata": {},
     "output_type": "execute_result"
    }
   ],
   "source": [
    "sexo_fix = X['Sexo'].map({'M':'masculino', 'F':'feminino', 'Fem.':'feminino'})\n",
    "X.update(sexo_fix)\n",
    "\n",
    "X"
   ]
  },
  {
   "cell_type": "markdown",
   "metadata": {
    "id": "7NkK6xH07b2T"
   },
   "source": [
    "Correspondência de Padrões"
   ]
  },
  {
   "cell_type": "code",
   "execution_count": 50,
   "metadata": {
    "colab": {
     "base_uri": "https://localhost:8080/",
     "height": 206
    },
    "id": "_q61kO9A7b2T",
    "outputId": "4dd6d641-e19e-46f9-92f4-8cfc87ceddc7"
   },
   "outputs": [
    {
     "data": {
      "text/html": [
       "<div>\n",
       "<style scoped>\n",
       "    .dataframe tbody tr th:only-of-type {\n",
       "        vertical-align: middle;\n",
       "    }\n",
       "\n",
       "    .dataframe tbody tr th {\n",
       "        vertical-align: top;\n",
       "    }\n",
       "\n",
       "    .dataframe thead th {\n",
       "        text-align: right;\n",
       "    }\n",
       "</style>\n",
       "<table border=\"1\" class=\"dataframe\">\n",
       "  <thead>\n",
       "    <tr style=\"text-align: right;\">\n",
       "      <th></th>\n",
       "      <th>Sexo</th>\n",
       "      <th>Tipo Sangue</th>\n",
       "      <th>Educação</th>\n",
       "    </tr>\n",
       "  </thead>\n",
       "  <tbody>\n",
       "    <tr>\n",
       "      <th>0</th>\n",
       "      <td>Masculino</td>\n",
       "      <td>O-</td>\n",
       "      <td>Média</td>\n",
       "    </tr>\n",
       "    <tr>\n",
       "      <th>1</th>\n",
       "      <td>Masculino</td>\n",
       "      <td>O-</td>\n",
       "      <td>Alta</td>\n",
       "    </tr>\n",
       "    <tr>\n",
       "      <th>2</th>\n",
       "      <td>Feminino</td>\n",
       "      <td>O+</td>\n",
       "      <td>Alta</td>\n",
       "    </tr>\n",
       "    <tr>\n",
       "      <th>3</th>\n",
       "      <td>Feminino</td>\n",
       "      <td>AB</td>\n",
       "      <td>Baixa</td>\n",
       "    </tr>\n",
       "    <tr>\n",
       "      <th>4</th>\n",
       "      <td>Feminino</td>\n",
       "      <td>B+</td>\n",
       "      <td>nan</td>\n",
       "    </tr>\n",
       "  </tbody>\n",
       "</table>\n",
       "</div>"
      ],
      "text/plain": [
       "        Sexo Tipo Sangue Educação\n",
       "0  Masculino          O-    Média\n",
       "1  Masculino          O-     Alta\n",
       "2   Feminino          O+     Alta\n",
       "3   Feminino          AB    Baixa\n",
       "4   Feminino          B+      nan"
      ]
     },
     "execution_count": 50,
     "metadata": {},
     "output_type": "execute_result"
    }
   ],
   "source": [
    "import re\n",
    "\n",
    "# procurar a ocorrência de m ou M no início da string\n",
    "# re.sub(r\"^m.*$\", 'Masculino', 'masculino', flags=re.IGNORECASE)\n",
    "\n",
    "# Para procurarmos diretamente na coluna “sexo”podemos utilizar o método “apply”:\n",
    "# X['Sexo'].apply(lambda r: re.sub(r\"^m.*$\", 'Masculino', r, flags=re.IGNORECASE))\n",
    "\n",
    "# Podemos corrigir os valores de diversos padrões e substituí-los com o comando “loc”:\n",
    "X.loc[X['Sexo'].str.contains(r\"^m.*$\", flags=re.IGNORECASE, regex=True), 'Sexo'] ='Masculino'\n",
    "X.loc[X['Sexo'].str.contains(r\"^f.*$\", flags=re.IGNORECASE, regex=True), 'Sexo'] ='Feminino'\n",
    "X"
   ]
  },
  {
   "cell_type": "markdown",
   "metadata": {
    "id": "EZuwHOcP7b2T"
   },
   "source": [
    "Correspondência difusa"
   ]
  },
  {
   "cell_type": "code",
   "execution_count": 52,
   "metadata": {
    "colab": {
     "base_uri": "https://localhost:8080/",
     "height": 241
    },
    "id": "H7haUtjc7b2T",
    "outputId": "00be90e5-c712-45d2-afd7-bbea41901162"
   },
   "outputs": [
    {
     "data": {
      "text/plain": [
       "0    [Masculino, 1, 6]\n",
       "1    [Masculino, 1, 6]\n",
       "2     [Feminino, 6, 1]\n",
       "3     [Feminino, 6, 1]\n",
       "4     [Feminino, 6, 1]\n",
       "Name: Sexo, dtype: object"
      ]
     },
     "execution_count": 52,
     "metadata": {},
     "output_type": "execute_result"
    }
   ],
   "source": [
    "#!pip install python-Levenshtein\n",
    "from Levenshtein import distance\n",
    "\n",
    "# Distância de Levenshtein entre a coluna Sexo e as strings “masculino” e  “feminino”\n",
    "X['Sexo'].apply(lambda r: [r, distance(r, \"masculino\"), distance(r, \"feminino\")])"
   ]
  },
  {
   "cell_type": "markdown",
   "metadata": {
    "id": "SyJGRAlP7b2U"
   },
   "source": [
    "\"lisboa\" pode ser inserido como \"lisboa\", \"lisbona\", \"Lisbon\" etc. Distância de Levenshtein entre registros e a palavra “Lisboa”"
   ]
  },
  {
   "cell_type": "code",
   "execution_count": 53,
   "metadata": {
    "colab": {
     "base_uri": "https://localhost:8080/",
     "height": 241
    },
    "id": "FLQnL5Nw7b2U",
    "outputId": "0a8f2f18-f2f2-4c62-aa33-0a377385176e"
   },
   "outputs": [
    {
     "data": {
      "text/plain": [
       "0      [Lisboa, 0, 1.0]\n",
       "1     [lisboa, 1, 0.83]\n",
       "2    [ Lisboa, 1, 0.92]\n",
       "3    [lisbona, 2, 0.77]\n",
       "4     [london, 5, 0.17]\n",
       "Name: Cidade, dtype: object"
      ]
     },
     "execution_count": 53,
     "metadata": {},
     "output_type": "execute_result"
    }
   ],
   "source": [
    "Y = pd.DataFrame([\"Lisboa\", \"lisboa\", \" Lisboa\", \"lisbona\", \"london\"], columns=[\"Cidade\"])\n",
    "\n",
    "from Levenshtein import ratio\n",
    "Y['Cidade'].apply(lambda r: [r, distance(r, \"Lisboa\"), round(ratio(r, \"Lisboa\"),2)])"
   ]
  },
  {
   "cell_type": "markdown",
   "metadata": {
    "id": "ZXNoe6GU7b2Y"
   },
   "source": [
    "### Conversão de colunas para datetime"
   ]
  },
  {
   "cell_type": "code",
   "execution_count": 54,
   "metadata": {
    "colab": {
     "base_uri": "https://localhost:8080/",
     "height": 206
    },
    "id": "7DCRo3Ml7b2Z",
    "outputId": "f92e8993-53c6-4c6a-d941-e2a858759b8d"
   },
   "outputs": [
    {
     "data": {
      "text/html": [
       "<div>\n",
       "<style scoped>\n",
       "    .dataframe tbody tr th:only-of-type {\n",
       "        vertical-align: middle;\n",
       "    }\n",
       "\n",
       "    .dataframe tbody tr th {\n",
       "        vertical-align: top;\n",
       "    }\n",
       "\n",
       "    .dataframe thead th {\n",
       "        text-align: right;\n",
       "    }\n",
       "</style>\n",
       "<table border=\"1\" class=\"dataframe\">\n",
       "  <thead>\n",
       "    <tr style=\"text-align: right;\">\n",
       "      <th></th>\n",
       "      <th>Etapa</th>\n",
       "      <th>Data</th>\n",
       "    </tr>\n",
       "  </thead>\n",
       "  <tbody>\n",
       "    <tr>\n",
       "      <th>0</th>\n",
       "      <td>Envio</td>\n",
       "      <td>05/02/2019</td>\n",
       "    </tr>\n",
       "    <tr>\n",
       "      <th>1</th>\n",
       "      <td>Entrega</td>\n",
       "      <td>05/12/2019</td>\n",
       "    </tr>\n",
       "    <tr>\n",
       "      <th>2</th>\n",
       "      <td>Análise</td>\n",
       "      <td>06/02/2019</td>\n",
       "    </tr>\n",
       "    <tr>\n",
       "      <th>3</th>\n",
       "      <td>Aprovação</td>\n",
       "      <td>07/17/2019</td>\n",
       "    </tr>\n",
       "    <tr>\n",
       "      <th>4</th>\n",
       "      <td>Contratação</td>\n",
       "      <td>08/20/2019</td>\n",
       "    </tr>\n",
       "  </tbody>\n",
       "</table>\n",
       "</div>"
      ],
      "text/plain": [
       "         Etapa        Data\n",
       "0        Envio  05/02/2019\n",
       "1      Entrega  05/12/2019\n",
       "2      Análise  06/02/2019\n",
       "3    Aprovação  07/17/2019\n",
       "4  Contratação  08/20/2019"
      ]
     },
     "execution_count": 54,
     "metadata": {},
     "output_type": "execute_result"
    }
   ],
   "source": [
    "df = pd.DataFrame(\n",
    "    np.array(['Envio', '05/02/2019',\n",
    "             'Entrega', '05/12/2019',\n",
    "              'Análise', '06/02/2019',\n",
    "              'Aprovação', '07/17/2019',\n",
    "              'Contratação', '08/20/2019'])\n",
    "              .reshape((5,2)),\n",
    "                columns = ['Etapa', 'Data'])\n",
    "df"
   ]
  },
  {
   "cell_type": "markdown",
   "metadata": {
    "id": "KAKf7HnO7b2Z"
   },
   "source": [
    "Para converter uma coluna no formato datetime, usamos o comando to_datetime:"
   ]
  },
  {
   "cell_type": "code",
   "execution_count": 55,
   "metadata": {
    "colab": {
     "base_uri": "https://localhost:8080/",
     "height": 206
    },
    "id": "22XMS_Mg7b2Z",
    "outputId": "5137e4e6-5487-4424-8b9d-9b4fff8f37be"
   },
   "outputs": [
    {
     "data": {
      "text/html": [
       "<div>\n",
       "<style scoped>\n",
       "    .dataframe tbody tr th:only-of-type {\n",
       "        vertical-align: middle;\n",
       "    }\n",
       "\n",
       "    .dataframe tbody tr th {\n",
       "        vertical-align: top;\n",
       "    }\n",
       "\n",
       "    .dataframe thead th {\n",
       "        text-align: right;\n",
       "    }\n",
       "</style>\n",
       "<table border=\"1\" class=\"dataframe\">\n",
       "  <thead>\n",
       "    <tr style=\"text-align: right;\">\n",
       "      <th></th>\n",
       "      <th>Etapa</th>\n",
       "      <th>Data</th>\n",
       "      <th>date_parsed</th>\n",
       "    </tr>\n",
       "  </thead>\n",
       "  <tbody>\n",
       "    <tr>\n",
       "      <th>0</th>\n",
       "      <td>Envio</td>\n",
       "      <td>05/02/2019</td>\n",
       "      <td>2019-05-02</td>\n",
       "    </tr>\n",
       "    <tr>\n",
       "      <th>1</th>\n",
       "      <td>Entrega</td>\n",
       "      <td>05/12/2019</td>\n",
       "      <td>2019-05-12</td>\n",
       "    </tr>\n",
       "    <tr>\n",
       "      <th>2</th>\n",
       "      <td>Análise</td>\n",
       "      <td>06/02/2019</td>\n",
       "      <td>2019-06-02</td>\n",
       "    </tr>\n",
       "    <tr>\n",
       "      <th>3</th>\n",
       "      <td>Aprovação</td>\n",
       "      <td>07/17/2019</td>\n",
       "      <td>2019-07-17</td>\n",
       "    </tr>\n",
       "    <tr>\n",
       "      <th>4</th>\n",
       "      <td>Contratação</td>\n",
       "      <td>08/20/2019</td>\n",
       "      <td>2019-08-20</td>\n",
       "    </tr>\n",
       "  </tbody>\n",
       "</table>\n",
       "</div>"
      ],
      "text/plain": [
       "         Etapa        Data date_parsed\n",
       "0        Envio  05/02/2019  2019-05-02\n",
       "1      Entrega  05/12/2019  2019-05-12\n",
       "2      Análise  06/02/2019  2019-06-02\n",
       "3    Aprovação  07/17/2019  2019-07-17\n",
       "4  Contratação  08/20/2019  2019-08-20"
      ]
     },
     "execution_count": 55,
     "metadata": {},
     "output_type": "execute_result"
    }
   ],
   "source": [
    "df['date_parsed'] = pd.to_datetime(df['Data'], format = \"%m/%d/%Y\")\n",
    "df"
   ]
  },
  {
   "cell_type": "markdown",
   "metadata": {
    "id": "aEKSMHYc7b2Z"
   },
   "source": [
    "Podemos pedir ao pandas que “adivinhe” o formato das datas de uma coluna com o parâmetro infer_datetime_format:"
   ]
  },
  {
   "cell_type": "code",
   "execution_count": 56,
   "metadata": {
    "colab": {
     "base_uri": "https://localhost:8080/",
     "height": 261
    },
    "id": "UqYfrQi07b2Z",
    "outputId": "681dbb06-351e-4ce7-c1e0-a4d581437189"
   },
   "outputs": [
    {
     "name": "stderr",
     "output_type": "stream",
     "text": [
      "C:\\Users\\augba\\AppData\\Local\\Temp\\ipykernel_16020\\1784758694.py:1: UserWarning: The argument 'infer_datetime_format' is deprecated and will be removed in a future version. A strict version of it is now the default, see https://pandas.pydata.org/pdeps/0004-consistent-to-datetime-parsing.html. You can safely remove this argument.\n",
      "  df['date_parsed'] = pd.to_datetime(df['Data'], infer_datetime_format=True)\n"
     ]
    },
    {
     "data": {
      "text/html": [
       "<div>\n",
       "<style scoped>\n",
       "    .dataframe tbody tr th:only-of-type {\n",
       "        vertical-align: middle;\n",
       "    }\n",
       "\n",
       "    .dataframe tbody tr th {\n",
       "        vertical-align: top;\n",
       "    }\n",
       "\n",
       "    .dataframe thead th {\n",
       "        text-align: right;\n",
       "    }\n",
       "</style>\n",
       "<table border=\"1\" class=\"dataframe\">\n",
       "  <thead>\n",
       "    <tr style=\"text-align: right;\">\n",
       "      <th></th>\n",
       "      <th>Etapa</th>\n",
       "      <th>Data</th>\n",
       "      <th>date_parsed</th>\n",
       "    </tr>\n",
       "  </thead>\n",
       "  <tbody>\n",
       "    <tr>\n",
       "      <th>0</th>\n",
       "      <td>Envio</td>\n",
       "      <td>05/02/2019</td>\n",
       "      <td>2019-05-02</td>\n",
       "    </tr>\n",
       "    <tr>\n",
       "      <th>1</th>\n",
       "      <td>Entrega</td>\n",
       "      <td>05/12/2019</td>\n",
       "      <td>2019-05-12</td>\n",
       "    </tr>\n",
       "    <tr>\n",
       "      <th>2</th>\n",
       "      <td>Análise</td>\n",
       "      <td>06/02/2019</td>\n",
       "      <td>2019-06-02</td>\n",
       "    </tr>\n",
       "    <tr>\n",
       "      <th>3</th>\n",
       "      <td>Aprovação</td>\n",
       "      <td>07/17/2019</td>\n",
       "      <td>2019-07-17</td>\n",
       "    </tr>\n",
       "    <tr>\n",
       "      <th>4</th>\n",
       "      <td>Contratação</td>\n",
       "      <td>08/20/2019</td>\n",
       "      <td>2019-08-20</td>\n",
       "    </tr>\n",
       "  </tbody>\n",
       "</table>\n",
       "</div>"
      ],
      "text/plain": [
       "         Etapa        Data date_parsed\n",
       "0        Envio  05/02/2019  2019-05-02\n",
       "1      Entrega  05/12/2019  2019-05-12\n",
       "2      Análise  06/02/2019  2019-06-02\n",
       "3    Aprovação  07/17/2019  2019-07-17\n",
       "4  Contratação  08/20/2019  2019-08-20"
      ]
     },
     "execution_count": 56,
     "metadata": {},
     "output_type": "execute_result"
    }
   ],
   "source": [
    "# infer_datetime_format=True será removido pois será padrão no futuro\n",
    "df['date_parsed'] = pd.to_datetime(df['Data'], infer_datetime_format=True)\n",
    "df"
   ]
  },
  {
   "cell_type": "markdown",
   "metadata": {
    "id": "ETVXXoWc7b2a"
   },
   "source": [
    "### Verificando conversões de data"
   ]
  },
  {
   "cell_type": "markdown",
   "metadata": {
    "id": "rwmkRVN97b2a"
   },
   "source": [
    "Um método é calcular o histograma dos dias convertidos. É esperado que os dias sejam distribuídos uniformemente entre 1 e 30 (exceto 31, pois nem todos os meses tem 31 dias).\n",
    "\n",
    "* Caso a conversão esteja errada, o serão distribuídos uniformemente entre 1 e 12."
   ]
  },
  {
   "cell_type": "code",
   "execution_count": 57,
   "metadata": {
    "colab": {
     "base_uri": "https://localhost:8080/",
     "height": 467
    },
    "id": "IPNNvuxE7b2a",
    "outputId": "4d39d670-aa8b-4780-bd6c-e6bf3b79d044"
   },
   "outputs": [
    {
     "data": {
      "text/plain": [
       "<Axes: xlabel='date_parsed', ylabel='Count'>"
      ]
     },
     "execution_count": 57,
     "metadata": {},
     "output_type": "execute_result"
    },
    {
     "data": {
      "image/png": "[encoded data removed]",
      "text/plain": [
       "<Figure size 640x480 with 1 Axes>"
      ]
     },
     "metadata": {},
     "output_type": "display_data"
    }
   ],
   "source": [
    "import seaborn as sns\n",
    "day_of_month = df['date_parsed'].dt.day\n",
    "day_of_month = day_of_month.dropna()\n",
    "\n",
    "sns.histplot(day_of_month, kde=False, bins=31)"
   ]
  }
 ],
 "metadata": {
  "colab": {
   "provenance": []
  },
  "kernelspec": {
   "display_name": "Python 3 (ipykernel)",
   "language": "python",
   "name": "python3"
  },
  "language_info": {
   "codemirror_mode": {
    "name": "ipython",
    "version": 3
   },
   "file_extension": ".py",
   "mimetype": "text/x-python",
   "name": "python",
   "nbconvert_exporter": "python",
   "pygments_lexer": "ipython3",
   "version": "3.10.4"
  }
 },
 "nbformat": 4,
 "nbformat_minor": 4
}

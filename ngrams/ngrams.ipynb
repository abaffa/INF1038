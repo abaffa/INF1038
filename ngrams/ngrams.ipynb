{
 "cells": [
  {
   "cell_type": "code",
   "execution_count": 27,
   "id": "b3e04174",
   "metadata": {},
   "outputs": [],
   "source": [
    "#!pip install nltk\n",
    "import nltk\n",
    "#nltk.download('brown')"
   ]
  },
  {
   "cell_type": "code",
   "execution_count": 28,
   "id": "9b932d7e",
   "metadata": {},
   "outputs": [],
   "source": [
    "import numpy as np\n",
    "from nltk.corpus import brown\n",
    "words = list(brown.words())"
   ]
  },
  {
   "cell_type": "code",
   "execution_count": 30,
   "id": "7ec55f7d",
   "metadata": {},
   "outputs": [
    {
     "data": {
      "text/plain": [
       "1161192"
      ]
     },
     "execution_count": 30,
     "metadata": {},
     "output_type": "execute_result"
    }
   ],
   "source": [
    "len(words)"
   ]
  },
  {
   "cell_type": "code",
   "execution_count": 31,
   "id": "85c5b138",
   "metadata": {},
   "outputs": [],
   "source": [
    "sentence = 'I am planning to____________________________________'\n",
    "start_sentence = 'I am planning to'\n",
    "tokens = start_sentence.split()"
   ]
  },
  {
   "cell_type": "code",
   "execution_count": 32,
   "id": "324d5492",
   "metadata": {},
   "outputs": [
    {
     "data": {
      "text/plain": [
       "['I', 'am', 'planning', 'to']"
      ]
     },
     "execution_count": 32,
     "metadata": {},
     "output_type": "execute_result"
    }
   ],
   "source": [
    "tokens"
   ]
  },
  {
   "cell_type": "code",
   "execution_count": 33,
   "id": "35ad163d",
   "metadata": {},
   "outputs": [],
   "source": [
    "class NGrams:\n",
    "    \n",
    "    def __init__(self, words, sentence):\n",
    "        self.words = words\n",
    "        self.sentence = sentence\n",
    "        self.tokens = sentence.split()\n",
    "        \n",
    "    def get_tokens(self):\n",
    "        return self.tokens\n",
    "    \n",
    "    def add_tokens(self,value):\n",
    "        temp = self.tokens\n",
    "        temp.append(value)\n",
    "        self.tokens = temp\n",
    "        return self.tokens\n",
    "        \n",
    "    def unigram_model(self):\n",
    "        self.next_words = np.random.choice(words, size=3)\n",
    "        return self.next_words\n",
    "    \n",
    "    def bigram_model(self):\n",
    "        next_words = []\n",
    "        for i in range(len(words)-1):\n",
    "            if words[i] == self.tokens[-1]:\n",
    "                next_words.append(words[i+1])\n",
    "        self.next_words = next_words\n",
    "        return self.next_words\n",
    "    \n",
    "    def trigram_model(self):\n",
    "        next_words = []\n",
    "        for i in range(len(words)-2):\n",
    "            if words[i] == self.tokens[-2]:\n",
    "                if words[i+1] == self.tokens[-1]:\n",
    "                    next_words.append(words[i+2])\n",
    "        self.next_words = next_words\n",
    "        return self.next_words\n",
    "    \n",
    "    def fourgram_model(self):\n",
    "        next_words = []\n",
    "        for i in range(len(words)-3):\n",
    "            if words[i] == self.tokens[-3]:\n",
    "                if words[i+1] == self.tokens[-2]:\n",
    "                    if words[i+2] == self.tokens[-1]:\n",
    "                        next_words.append(words[i+3])\n",
    "        self.next_words = next_words\n",
    "        return self.next_words\n",
    "\n",
    "    def get_top_3_next_words(self,next_words):\n",
    "        next_words_dict = dict()\n",
    "        for word in next_words:\n",
    "            if not word in next_words_dict.keys():\n",
    "                next_words_dict[word] = 1\n",
    "            else:\n",
    "                next_words_dict[word] += 1\n",
    "\n",
    "        for i,j in next_words_dict.items():\n",
    "            next_words_dict[i] = np.round(j/len(next_words),2)\n",
    "\n",
    "        return sorted(next_words_dict.items(), key = lambda k:(k[1], k[0]), reverse=True)[:3]\n",
    "    \n",
    "    def model_selection(self):\n",
    "        if len(self.fourgram_model()) > 0:\n",
    "            next_words = self.fourgram_model()\n",
    "            top_words = self.get_top_3_next_words(next_words)\n",
    "            print(\"fourgram-model\")\n",
    "            return top_words\n",
    "        elif len(self.trigram_model()) > 0:\n",
    "            next_words = self.trigram_model()\n",
    "            top_words = self.get_top_3_next_words(next_words)\n",
    "            print(\"trigram-model\")\n",
    "            return top_words\n",
    "        elif len(self.bigram_model()) > 0:\n",
    "            next_words = self.bigram_model()\n",
    "            top_words = self.get_top_3_next_words(next_words)\n",
    "            print(\"bigram-model\")\n",
    "            return top_words\n",
    "        else:\n",
    "            top_words = self.unigram_model()\n",
    "            print(\"unigram-model\")\n",
    "            return top_words"
   ]
  },
  {
   "cell_type": "code",
   "execution_count": 34,
   "id": "3219e66f",
   "metadata": {},
   "outputs": [],
   "source": [
    "model = NGrams(words=words, sentence=start_sentence)"
   ]
  },
  {
   "cell_type": "code",
   "execution_count": 35,
   "id": "0204d3c0",
   "metadata": {},
   "outputs": [
    {
     "data": {
      "text/plain": [
       "['I', 'am', 'planning', 'to']"
      ]
     },
     "execution_count": 35,
     "metadata": {},
     "output_type": "execute_result"
    }
   ],
   "source": [
    "model.get_tokens()"
   ]
  },
  {
   "cell_type": "code",
   "execution_count": 36,
   "id": "c15872ea",
   "metadata": {},
   "outputs": [
    {
     "name": "stdout",
     "output_type": "stream",
     "text": [
      "trigram-model\n"
     ]
    },
    {
     "data": {
      "text/plain": [
       "[('use', 0.11), ('tour', 0.11), ('shelter', 0.11)]"
      ]
     },
     "execution_count": 36,
     "metadata": {},
     "output_type": "execute_result"
    }
   ],
   "source": [
    " model.model_selection()"
   ]
  },
  {
   "cell_type": "code",
   "execution_count": 23,
   "id": "719407d5",
   "metadata": {},
   "outputs": [
    {
     "data": {
      "text/plain": [
       "['I', 'am', 'planning', 'to', 'use']"
      ]
     },
     "execution_count": 23,
     "metadata": {},
     "output_type": "execute_result"
    }
   ],
   "source": [
    "model.add_tokens('use')"
   ]
  },
  {
   "cell_type": "code",
   "execution_count": 24,
   "id": "a200c414",
   "metadata": {},
   "outputs": [
    {
     "name": "stdout",
     "output_type": "stream",
     "text": [
      "fourgram-model\n"
     ]
    },
    {
     "data": {
      "text/plain": [
       "[('the', 1.0)]"
      ]
     },
     "execution_count": 24,
     "metadata": {},
     "output_type": "execute_result"
    }
   ],
   "source": [
    " model.model_selection()"
   ]
  },
  {
   "cell_type": "code",
   "execution_count": 38,
   "id": "12e413e0",
   "metadata": {},
   "outputs": [
    {
     "name": "stdout",
     "output_type": "stream",
     "text": [
      "trigram-model\n",
      "[('use', 0.11), ('tour', 0.11), ('shelter', 0.11)]\n",
      "fourgram-model\n",
      "[('Europe', 1.0)]\n",
      "fourgram-model\n",
      "[('for', 1.0)]\n",
      "fourgram-model\n",
      "[('longer', 1.0)]\n",
      "fourgram-model\n",
      "[('than', 1.0)]\n",
      "fourgram-model\n",
      "[('a', 1.0)]\n",
      "fourgram-model\n",
      "[('month', 0.5), ('brief', 0.5)]\n",
      "fourgram-model\n",
      "[('period', 1.0)]\n",
      "fourgram-model\n",
      "[('each', 0.5), (',', 0.5)]\n",
      "fourgram-model\n",
      "[('year', 1.0)]\n",
      "fourgram-model\n",
      "[(',', 1.0)]\n",
      "fourgram-model\n",
      "[('the', 0.67), ('(', 0.33)]\n",
      "fourgram-model\n",
      "[('B', 1.0)]\n",
      "fourgram-model\n",
      "[(')', 1.0)]\n",
      "fourgram-model\n",
      "[('and', 0.15), ('of', 0.11), ('the', 0.06)]\n",
      "fourgram-model\n",
      "[('this', 0.6), ('Theorem', 0.2), ('Section', 0.2)]\n",
      "fourgram-model\n",
      "[('section', 0.43), ('subsection', 0.14), ('paragraph', 0.14)]\n",
      "fourgram-model\n",
      "[('.', 0.5), (',', 0.5)]\n",
      "fourgram-model\n",
      "[('Whoever', 1.0)]\n",
      "fourgram-model\n",
      "[(',', 1.0)]\n",
      "fourgram-model\n",
      "[('in', 1.0)]\n",
      "fourgram-model\n",
      "[('the', 1.0)]\n",
      "fourgram-model\n",
      "[('year', 0.03), ('last', 0.02), ('form', 0.02)]\n",
      "fourgram-model\n",
      "[('of', 0.39), ('.', 0.11), (',', 0.11)]\n",
      "fourgram-model\n",
      "[('and', 0.4), ('but', 0.2), ('the', 0.1)]\n",
      "fourgram-model\n",
      "[('the', 0.13), ('if', 0.13), ('for', 0.13)]\n",
      "fourgram-model\n",
      "[('whole', 0.01), ('two', 0.01), ('rest', 0.01)]\n",
      "fourgram-model\n",
      "[('of', 0.27), ('wounded', 0.09), ('million', 0.09)]\n",
      "fourgram-model\n",
      "[('them', 0.82), ('you', 0.09), ('us', 0.09)]\n",
      "fourgram-model\n",
      "[('to', 0.11), ('were', 0.05), ('moved', 0.05)]\n"
     ]
    }
   ],
   "source": [
    "import random\n",
    "for i in range(30):\n",
    "    values = model.model_selection()\n",
    "    print(values)\n",
    "    #value = input()\n",
    "    c =  random.choice(values)\n",
    "    if len(c) > 0:\n",
    "        value = c[0]\n",
    "    else:\n",
    "        value = c\n",
    "    model.add_tokens(value)"
   ]
  },
  {
   "cell_type": "code",
   "execution_count": 39,
   "id": "61d6db11",
   "metadata": {},
   "outputs": [
    {
     "name": "stdout",
     "output_type": "stream",
     "text": [
      "I am planning to tour Europe for longer than a brief period each year , ( B ) of this subsection . Whoever , in the year , and the two of them moved\n"
     ]
    }
   ],
   "source": [
    "print(\" \".join(model.get_tokens()))"
   ]
  },
  {
   "cell_type": "code",
   "execution_count": null,
   "id": "847f4520",
   "metadata": {},
   "outputs": [],
   "source": []
  }
 ],
 "metadata": {
  "kernelspec": {
   "display_name": "Python 3 (ipykernel)",
   "language": "python",
   "name": "python3"
  },
  "language_info": {
   "codemirror_mode": {
    "name": "ipython",
    "version": 3
   },
   "file_extension": ".py",
   "mimetype": "text/x-python",
   "name": "python",
   "nbconvert_exporter": "python",
   "pygments_lexer": "ipython3",
   "version": "3.7.9"
  }
 },
 "nbformat": 4,
 "nbformat_minor": 5
}

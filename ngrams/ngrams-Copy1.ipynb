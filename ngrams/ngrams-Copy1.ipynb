{
 "cells": [
  {
   "cell_type": "code",
   "execution_count": 44,
   "id": "1adef8d7",
   "metadata": {},
   "outputs": [],
   "source": [
    "from io import BytesIO\n",
    "import pickle\n",
    "import sys\n",
    "import random\n",
    "import numpy as np\n",
    "\n",
    "def savePickleFile(filename, rule):\n",
    "    print(\"> saving file:\", filename)\n",
    "    f = open(filename,\"wb\")\n",
    "    pickle.dump(rule,f)\n",
    "    f.close()\n",
    "    print(\"> saved\")\n",
    "    \n",
    "def loadPickleFile(filename):    \n",
    "    print(\"> loading file:\", filename)\n",
    "    file = open(filename, 'rb')\n",
    "    data = pickle.load(file)\n",
    "    file.close()\n",
    "    print(\"> loaded\")\n",
    "    return data\n"
   ]
  },
  {
   "cell_type": "code",
   "execution_count": 45,
   "id": "6c11b01e",
   "metadata": {},
   "outputs": [],
   "source": [
    "class NGrams:\n",
    "    \n",
    "    def __init__(self, words, sentence):\n",
    "        self.words = words\n",
    "        self.sentence = sentence\n",
    "        self.tokens = sentence.split()\n",
    "        \n",
    "    def get_tokens(self):\n",
    "        return self.tokens\n",
    "    \n",
    "    def add_tokens(self,value):\n",
    "        temp = self.tokens\n",
    "        temp.append(value)\n",
    "        self.tokens = temp\n",
    "        return self.tokens\n",
    "        \n",
    "    def unigram_model(self):\n",
    "        self.next_words = np.random.choice(words, size=3)\n",
    "        return self.next_words\n",
    "    \n",
    "    def bigram_model(self):\n",
    "        next_words = []\n",
    "        for i in range(len(words)-1):\n",
    "            if words[i] == self.tokens[-1]:\n",
    "                next_words.append(words[i+1])\n",
    "        self.next_words = next_words\n",
    "        return self.next_words\n",
    "    \n",
    "    def trigram_model(self):\n",
    "        next_words = []\n",
    "        for i in range(len(words)-2):\n",
    "            if words[i] == self.tokens[-2]:\n",
    "                if words[i+1] == self.tokens[-1]:\n",
    "                    next_words.append(words[i+2])\n",
    "        self.next_words = next_words\n",
    "        return self.next_words\n",
    "    \n",
    "    def fourgram_model(self):\n",
    "        next_words = []\n",
    "        for i in range(len(words)-3):\n",
    "            if words[i] == self.tokens[-3]:\n",
    "                if words[i+1] == self.tokens[-2]:\n",
    "                    if words[i+2] == self.tokens[-1]:\n",
    "                        next_words.append(words[i+3])\n",
    "        self.next_words = next_words\n",
    "        return self.next_words\n",
    "\n",
    "    def get_top_3_next_words(self,next_words):\n",
    "        next_words_dict = dict()\n",
    "        for word in next_words:\n",
    "            if not word in next_words_dict.keys():\n",
    "                next_words_dict[word] = 1\n",
    "            else:\n",
    "                next_words_dict[word] += 1\n",
    "\n",
    "        for i,j in next_words_dict.items():\n",
    "            next_words_dict[i] = np.round(j/len(next_words),2)\n",
    "\n",
    "        return sorted(next_words_dict.items(), key = lambda k:(k[1], k[0]), reverse=True)[:3]\n",
    "    \n",
    "    def model_selection(self):\n",
    "        if len(self.fourgram_model()) > 0:\n",
    "            next_words = self.fourgram_model()\n",
    "            top_words = self.get_top_3_next_words(next_words)\n",
    "            print(\"fourgram-model\")\n",
    "            return top_words\n",
    "        elif len(self.trigram_model()) > 0:\n",
    "            next_words = self.trigram_model()\n",
    "            top_words = self.get_top_3_next_words(next_words)\n",
    "            print(\"trigram-model\")\n",
    "            return top_words\n",
    "        elif len(self.bigram_model()) > 0:\n",
    "            next_words = self.bigram_model()\n",
    "            top_words = self.get_top_3_next_words(next_words)\n",
    "            print(\"bigram-model\")\n",
    "            return top_words\n",
    "        else:\n",
    "            top_words = self.unigram_model()\n",
    "            print(\"unigram-model\")\n",
    "            return top_words"
   ]
  },
  {
   "cell_type": "code",
   "execution_count": 46,
   "id": "0db43bda",
   "metadata": {},
   "outputs": [
    {
     "name": "stdout",
     "output_type": "stream",
     "text": [
      "> loading file: corpus_news.pkl\n",
      "> loaded\n"
     ]
    }
   ],
   "source": [
    "words = loadPickleFile(\"corpus_news.pkl\")"
   ]
  },
  {
   "cell_type": "code",
   "execution_count": 58,
   "id": "f7e68c90",
   "metadata": {},
   "outputs": [],
   "source": [
    "start_sentence = 'o sorteio da'\n",
    "tokens = start_sentence.split()"
   ]
  },
  {
   "cell_type": "code",
   "execution_count": 64,
   "id": "8a77d401",
   "metadata": {},
   "outputs": [],
   "source": [
    "model = NGrams(words=words, sentence=start_sentence)"
   ]
  },
  {
   "cell_type": "code",
   "execution_count": 65,
   "id": "7ba6f3a4",
   "metadata": {},
   "outputs": [
    {
     "data": {
      "text/plain": [
       "['o', 'sorteio', 'da']"
      ]
     },
     "execution_count": 65,
     "metadata": {},
     "output_type": "execute_result"
    }
   ],
   "source": [
    "model.get_tokens()"
   ]
  },
  {
   "cell_type": "code",
   "execution_count": 66,
   "id": "c4a9a6e6",
   "metadata": {},
   "outputs": [
    {
     "name": "stdout",
     "output_type": "stream",
     "text": [
      "fourgram-model\n"
     ]
    },
    {
     "data": {
      "text/plain": [
       "[('ordem', 1.0)]"
      ]
     },
     "execution_count": 66,
     "metadata": {},
     "output_type": "execute_result"
    }
   ],
   "source": [
    " model.model_selection()"
   ]
  },
  {
   "cell_type": "code",
   "execution_count": 28,
   "id": "9185dffe",
   "metadata": {},
   "outputs": [
    {
     "data": {
      "text/plain": [
       "['Presidente', 'Bolsonaro', 'deve', 'ser', 'divulgado', 'nesta']"
      ]
     },
     "execution_count": 28,
     "metadata": {},
     "output_type": "execute_result"
    }
   ],
   "source": [
    "model.add_tokens('nesta')"
   ]
  },
  {
   "cell_type": "code",
   "execution_count": 29,
   "id": "68589af8",
   "metadata": {},
   "outputs": [
    {
     "name": "stdout",
     "output_type": "stream",
     "text": [
      "fourgram-model\n"
     ]
    },
    {
     "data": {
      "text/plain": [
       "[('quarta', 0.75), ('semana', 0.25)]"
      ]
     },
     "execution_count": 29,
     "metadata": {},
     "output_type": "execute_result"
    }
   ],
   "source": [
    " model.model_selection()"
   ]
  },
  {
   "cell_type": "code",
   "execution_count": 67,
   "id": "643328f0",
   "metadata": {},
   "outputs": [
    {
     "name": "stdout",
     "output_type": "stream",
     "text": [
      "fourgram-model\n",
      "[('ordem', 1.0)]\n",
      "fourgram-model\n",
      "[('dos', 1.0)]\n",
      "fourgram-model\n",
      "[('desfiles', 0.5), ('depoimentos', 0.5)]\n",
      "fourgram-model\n",
      "[('do', 0.5), ('das', 0.5)]\n",
      "fourgram-model\n",
      "[('escolas', 0.33), ('Dragões', 0.33), ('13', 0.33)]\n",
      "fourgram-model\n",
      "[('escolas', 1.0)]\n",
      "fourgram-model\n",
      "[('do', 0.5), ('deveriam', 0.5)]\n",
      "fourgram-model\n",
      "[('carnaval', 1.0)]\n",
      "fourgram-model\n",
      "[('2020', 1.0)]\n",
      "fourgram-model\n",
      "[('Duas', 1.0)]\n",
      "fourgram-model\n",
      "[('serão', 1.0)]\n",
      "fourgram-model\n",
      "[('rebaixadas', 1.0)]\n",
      "fourgram-model\n",
      "[('para', 1.0)]\n",
      "fourgram-model\n",
      "[('que', 1.0)]\n",
      "fourgram-model\n",
      "[('em', 1.0)]\n",
      "fourgram-model\n",
      "[('períodos', 0.33), ('2021', 0.33), ('2018', 0.33)]\n",
      "fourgram-model\n",
      "[('o', 1.0)]\n",
      "fourgram-model\n",
      "[('Grupo', 1.0)]\n",
      "fourgram-model\n",
      "[('Especial', 1.0)]\n",
      "fourgram-model\n",
      "[('tenha', 0.2), ('reunia', 0.2), ('em', 0.2)]\n",
      "fourgram-model\n",
      "[('2020', 0.5), ('2019', 0.17), ('2018', 0.17)]\n",
      "fourgram-model\n",
      "[('que', 0.33), ('depois', 0.33), ('Veja', 0.33)]\n",
      "fourgram-model\n",
      "[('o', 1.0)]\n",
      "fourgram-model\n",
      "[('resultado', 1.0)]\n",
      "fourgram-model\n",
      "[('da', 0.67), ('final', 0.17), ('do', 0.17)]\n",
      "fourgram-model\n",
      "[('verifica', 0.07), ('será', 0.07), ('segundo', 0.07)]\n",
      "fourgram-model\n",
      "[('divulgado', 1.0)]\n",
      "fourgram-model\n",
      "[('no', 0.33), ('em', 0.33), ('ao', 0.33)]\n",
      "fourgram-model\n",
      "[('8', 0.33), ('30', 0.33), ('2020', 0.33)]\n",
      "fourgram-model\n",
      "[('de', 1.0)]\n"
     ]
    }
   ],
   "source": [
    "for i in range(30):\n",
    "    values = model.model_selection()\n",
    "    print(values)\n",
    "    #value = input()\n",
    "    c =  random.choice(values)\n",
    "    if len(c) > 0:\n",
    "        value = c[0]\n",
    "    else:\n",
    "        value = c\n",
    "    model.add_tokens(value)"
   ]
  },
  {
   "cell_type": "code",
   "execution_count": 68,
   "id": "5eb3d0eb",
   "metadata": {},
   "outputs": [
    {
     "name": "stdout",
     "output_type": "stream",
     "text": [
      "o sorteio da ordem dos desfiles das 13 escolas do carnaval 2020 Duas serão rebaixadas para que em 2021 o Grupo Especial em 2020 Veja o resultado final será divulgado em 8 de\n"
     ]
    }
   ],
   "source": [
    "print(\" \".join(model.get_tokens()))"
   ]
  },
  {
   "cell_type": "code",
   "execution_count": null,
   "id": "a79dfbf4",
   "metadata": {},
   "outputs": [],
   "source": []
  }
 ],
 "metadata": {
  "kernelspec": {
   "display_name": "Python 3 (ipykernel)",
   "language": "python",
   "name": "python3"
  },
  "language_info": {
   "codemirror_mode": {
    "name": "ipython",
    "version": 3
   },
   "file_extension": ".py",
   "mimetype": "text/x-python",
   "name": "python",
   "nbconvert_exporter": "python",
   "pygments_lexer": "ipython3",
   "version": "3.7.9"
  }
 },
 "nbformat": 4,
 "nbformat_minor": 5
}

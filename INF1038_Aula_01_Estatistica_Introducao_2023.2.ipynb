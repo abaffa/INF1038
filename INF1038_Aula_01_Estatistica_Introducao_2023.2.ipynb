{
 "cells": [
  {
   "cell_type": "markdown",
   "metadata": {},
   "source": [
    "# Introdução ao Pandas"
   ]
  },
  {
   "cell_type": "markdown",
   "metadata": {},
   "source": [
    "Importar arquivo Excel"
   ]
  },
  {
   "cell_type": "code",
   "execution_count": 4,
   "metadata": {},
   "outputs": [],
   "source": [
    "import pandas as pd\n",
    "from pandas import ExcelFile\n",
    "\n",
    "#data = pd.read_excel('jogadores.xlsx', 'Resultados')\n",
    "data = pd.read_csv('jogadores.csv')\n"
   ]
  },
  {
   "cell_type": "code",
   "execution_count": 5,
   "metadata": {},
   "outputs": [
    {
     "data": {
      "text/html": [
       "<div>\n",
       "<style scoped>\n",
       "    .dataframe tbody tr th:only-of-type {\n",
       "        vertical-align: middle;\n",
       "    }\n",
       "\n",
       "    .dataframe tbody tr th {\n",
       "        vertical-align: top;\n",
       "    }\n",
       "\n",
       "    .dataframe thead th {\n",
       "        text-align: right;\n",
       "    }\n",
       "</style>\n",
       "<table border=\"1\" class=\"dataframe\">\n",
       "  <thead>\n",
       "    <tr style=\"text-align: right;\">\n",
       "      <th></th>\n",
       "      <th>FBID</th>\n",
       "      <th>Genero</th>\n",
       "      <th>Data</th>\n",
       "      <th>Ano</th>\n",
       "      <th>Mês</th>\n",
       "      <th>Modo</th>\n",
       "      <th>Oponente</th>\n",
       "      <th>Ganhou</th>\n",
       "      <th>Local</th>\n",
       "      <th>FusoHorario</th>\n",
       "    </tr>\n",
       "  </thead>\n",
       "  <tbody>\n",
       "    <tr>\n",
       "      <th>0</th>\n",
       "      <td>608448532822311</td>\n",
       "      <td>masculino</td>\n",
       "      <td>2019-08-02 02:19:46</td>\n",
       "      <td>2019</td>\n",
       "      <td>ago</td>\n",
       "      <td>0</td>\n",
       "      <td>1</td>\n",
       "      <td>0</td>\n",
       "      <td>es_LA</td>\n",
       "      <td>-7</td>\n",
       "    </tr>\n",
       "    <tr>\n",
       "      <th>1</th>\n",
       "      <td>608448532822311</td>\n",
       "      <td>masculino</td>\n",
       "      <td>2019-08-02 02:19:03</td>\n",
       "      <td>2019</td>\n",
       "      <td>ago</td>\n",
       "      <td>1</td>\n",
       "      <td>0</td>\n",
       "      <td>0</td>\n",
       "      <td>es_LA</td>\n",
       "      <td>-7</td>\n",
       "    </tr>\n",
       "    <tr>\n",
       "      <th>2</th>\n",
       "      <td>608448532822311</td>\n",
       "      <td>masculino</td>\n",
       "      <td>2019-08-02 02:16:54</td>\n",
       "      <td>2019</td>\n",
       "      <td>ago</td>\n",
       "      <td>0</td>\n",
       "      <td>0</td>\n",
       "      <td>1</td>\n",
       "      <td>es_LA</td>\n",
       "      <td>-7</td>\n",
       "    </tr>\n",
       "    <tr>\n",
       "      <th>3</th>\n",
       "      <td>2062477834077581</td>\n",
       "      <td>feminino</td>\n",
       "      <td>2019-07-31 05:32:48</td>\n",
       "      <td>2019</td>\n",
       "      <td>jul</td>\n",
       "      <td>0</td>\n",
       "      <td>1</td>\n",
       "      <td>0</td>\n",
       "      <td>ro_RO</td>\n",
       "      <td>3</td>\n",
       "    </tr>\n",
       "    <tr>\n",
       "      <th>4</th>\n",
       "      <td>2062477834077581</td>\n",
       "      <td>feminino</td>\n",
       "      <td>2019-07-31 05:32:09</td>\n",
       "      <td>2019</td>\n",
       "      <td>jul</td>\n",
       "      <td>0</td>\n",
       "      <td>1</td>\n",
       "      <td>0</td>\n",
       "      <td>ro_RO</td>\n",
       "      <td>3</td>\n",
       "    </tr>\n",
       "    <tr>\n",
       "      <th>...</th>\n",
       "      <td>...</td>\n",
       "      <td>...</td>\n",
       "      <td>...</td>\n",
       "      <td>...</td>\n",
       "      <td>...</td>\n",
       "      <td>...</td>\n",
       "      <td>...</td>\n",
       "      <td>...</td>\n",
       "      <td>...</td>\n",
       "      <td>...</td>\n",
       "    </tr>\n",
       "    <tr>\n",
       "      <th>5911</th>\n",
       "      <td>1036361163078035</td>\n",
       "      <td>masculino</td>\n",
       "      <td>2016-07-26 14:41:58</td>\n",
       "      <td>2016</td>\n",
       "      <td>jul</td>\n",
       "      <td>0</td>\n",
       "      <td>0</td>\n",
       "      <td>1</td>\n",
       "      <td>fr_FR</td>\n",
       "      <td>-3</td>\n",
       "    </tr>\n",
       "    <tr>\n",
       "      <th>5912</th>\n",
       "      <td>10153561414982237</td>\n",
       "      <td>masculino</td>\n",
       "      <td>2016-07-26 02:57:59</td>\n",
       "      <td>2016</td>\n",
       "      <td>jul</td>\n",
       "      <td>0</td>\n",
       "      <td>0</td>\n",
       "      <td>0</td>\n",
       "      <td>pt_BR</td>\n",
       "      <td>-3</td>\n",
       "    </tr>\n",
       "    <tr>\n",
       "      <th>5913</th>\n",
       "      <td>10153561414982237</td>\n",
       "      <td>masculino</td>\n",
       "      <td>2016-07-26 02:12:39</td>\n",
       "      <td>2016</td>\n",
       "      <td>jul</td>\n",
       "      <td>0</td>\n",
       "      <td>0</td>\n",
       "      <td>0</td>\n",
       "      <td>pt_BR</td>\n",
       "      <td>-3</td>\n",
       "    </tr>\n",
       "    <tr>\n",
       "      <th>5914</th>\n",
       "      <td>10153561414982237</td>\n",
       "      <td>masculino</td>\n",
       "      <td>2016-07-26 01:47:22</td>\n",
       "      <td>2016</td>\n",
       "      <td>jul</td>\n",
       "      <td>0</td>\n",
       "      <td>1</td>\n",
       "      <td>0</td>\n",
       "      <td>pt_BR</td>\n",
       "      <td>-3</td>\n",
       "    </tr>\n",
       "    <tr>\n",
       "      <th>5915</th>\n",
       "      <td>10153561414982237</td>\n",
       "      <td>masculino</td>\n",
       "      <td>2016-07-26 01:46:05</td>\n",
       "      <td>2016</td>\n",
       "      <td>jul</td>\n",
       "      <td>0</td>\n",
       "      <td>0</td>\n",
       "      <td>1</td>\n",
       "      <td>pt_BR</td>\n",
       "      <td>-3</td>\n",
       "    </tr>\n",
       "  </tbody>\n",
       "</table>\n",
       "<p>5916 rows × 10 columns</p>\n",
       "</div>"
      ],
      "text/plain": [
       "                   FBID     Genero                 Data   Ano  Mês  Modo  \\\n",
       "0       608448532822311  masculino  2019-08-02 02:19:46  2019  ago     0   \n",
       "1       608448532822311  masculino  2019-08-02 02:19:03  2019  ago     1   \n",
       "2       608448532822311  masculino  2019-08-02 02:16:54  2019  ago     0   \n",
       "3      2062477834077581   feminino  2019-07-31 05:32:48  2019  jul     0   \n",
       "4      2062477834077581   feminino  2019-07-31 05:32:09  2019  jul     0   \n",
       "...                 ...        ...                  ...   ...  ...   ...   \n",
       "5911   1036361163078035  masculino  2016-07-26 14:41:58  2016  jul     0   \n",
       "5912  10153561414982237  masculino  2016-07-26 02:57:59  2016  jul     0   \n",
       "5913  10153561414982237  masculino  2016-07-26 02:12:39  2016  jul     0   \n",
       "5914  10153561414982237  masculino  2016-07-26 01:47:22  2016  jul     0   \n",
       "5915  10153561414982237  masculino  2016-07-26 01:46:05  2016  jul     0   \n",
       "\n",
       "      Oponente  Ganhou  Local  FusoHorario  \n",
       "0            1       0  es_LA           -7  \n",
       "1            0       0  es_LA           -7  \n",
       "2            0       1  es_LA           -7  \n",
       "3            1       0  ro_RO            3  \n",
       "4            1       0  ro_RO            3  \n",
       "...        ...     ...    ...          ...  \n",
       "5911         0       1  fr_FR           -3  \n",
       "5912         0       0  pt_BR           -3  \n",
       "5913         0       0  pt_BR           -3  \n",
       "5914         1       0  pt_BR           -3  \n",
       "5915         0       1  pt_BR           -3  \n",
       "\n",
       "[5916 rows x 10 columns]"
      ]
     },
     "execution_count": 5,
     "metadata": {},
     "output_type": "execute_result"
    }
   ],
   "source": [
    "data"
   ]
  },
  {
   "cell_type": "markdown",
   "metadata": {},
   "source": [
    "Importar arquivo CSV"
   ]
  },
  {
   "cell_type": "code",
   "execution_count": 4,
   "metadata": {},
   "outputs": [],
   "source": [
    "import pandas as pd\n",
    "\n",
    "data = pd.read_csv(\"jogadores.csv\") \n"
   ]
  },
  {
   "cell_type": "code",
   "execution_count": 5,
   "metadata": {
    "scrolled": false
   },
   "outputs": [
    {
     "name": "stdout",
     "output_type": "stream",
     "text": [
      "                   FBID     Genero                 Data   Ano  Mês  Modo  \\\n",
      "0       608448532822311  masculino  2019-08-02 02:19:46  2019  ago     0   \n",
      "1       608448532822311  masculino  2019-08-02 02:19:03  2019  ago     1   \n",
      "2       608448532822311  masculino  2019-08-02 02:16:54  2019  ago     0   \n",
      "3      2062477834077581   feminino  2019-07-31 05:32:48  2019  jul     0   \n",
      "4      2062477834077581   feminino  2019-07-31 05:32:09  2019  jul     0   \n",
      "...                 ...        ...                  ...   ...  ...   ...   \n",
      "5911   1036361163078035  masculino  2016-07-26 14:41:58  2016  jul     0   \n",
      "5912  10153561414982237  masculino  2016-07-26 02:57:59  2016  jul     0   \n",
      "5913  10153561414982237  masculino  2016-07-26 02:12:39  2016  jul     0   \n",
      "5914  10153561414982237  masculino  2016-07-26 01:47:22  2016  jul     0   \n",
      "5915  10153561414982237  masculino  2016-07-26 01:46:05  2016  jul     0   \n",
      "\n",
      "      Oponente  Ganhou  Local  FusoHorario  \n",
      "0            1       0  es_LA           -7  \n",
      "1            0       0  es_LA           -7  \n",
      "2            0       1  es_LA           -7  \n",
      "3            1       0  ro_RO            3  \n",
      "4            1       0  ro_RO            3  \n",
      "...        ...     ...    ...          ...  \n",
      "5911         0       1  fr_FR           -3  \n",
      "5912         0       0  pt_BR           -3  \n",
      "5913         0       0  pt_BR           -3  \n",
      "5914         1       0  pt_BR           -3  \n",
      "5915         0       1  pt_BR           -3  \n",
      "\n",
      "[5916 rows x 10 columns]\n"
     ]
    }
   ],
   "source": [
    "print(data)"
   ]
  },
  {
   "cell_type": "code",
   "execution_count": 6,
   "metadata": {},
   "outputs": [
    {
     "data": {
      "text/html": [
       "<div>\n",
       "<style scoped>\n",
       "    .dataframe tbody tr th:only-of-type {\n",
       "        vertical-align: middle;\n",
       "    }\n",
       "\n",
       "    .dataframe tbody tr th {\n",
       "        vertical-align: top;\n",
       "    }\n",
       "\n",
       "    .dataframe thead th {\n",
       "        text-align: right;\n",
       "    }\n",
       "</style>\n",
       "<table border=\"1\" class=\"dataframe\">\n",
       "  <thead>\n",
       "    <tr style=\"text-align: right;\">\n",
       "      <th></th>\n",
       "      <th>FBID</th>\n",
       "      <th>Genero</th>\n",
       "      <th>Data</th>\n",
       "      <th>Ano</th>\n",
       "      <th>Mês</th>\n",
       "      <th>Modo</th>\n",
       "      <th>Oponente</th>\n",
       "      <th>Ganhou</th>\n",
       "      <th>Local</th>\n",
       "      <th>FusoHorario</th>\n",
       "    </tr>\n",
       "  </thead>\n",
       "  <tbody>\n",
       "    <tr>\n",
       "      <th>0</th>\n",
       "      <td>608448532822311</td>\n",
       "      <td>masculino</td>\n",
       "      <td>2019-08-02 02:19:46</td>\n",
       "      <td>2019</td>\n",
       "      <td>ago</td>\n",
       "      <td>0</td>\n",
       "      <td>1</td>\n",
       "      <td>0</td>\n",
       "      <td>es_LA</td>\n",
       "      <td>-7</td>\n",
       "    </tr>\n",
       "    <tr>\n",
       "      <th>1</th>\n",
       "      <td>608448532822311</td>\n",
       "      <td>masculino</td>\n",
       "      <td>2019-08-02 02:19:03</td>\n",
       "      <td>2019</td>\n",
       "      <td>ago</td>\n",
       "      <td>1</td>\n",
       "      <td>0</td>\n",
       "      <td>0</td>\n",
       "      <td>es_LA</td>\n",
       "      <td>-7</td>\n",
       "    </tr>\n",
       "    <tr>\n",
       "      <th>2</th>\n",
       "      <td>608448532822311</td>\n",
       "      <td>masculino</td>\n",
       "      <td>2019-08-02 02:16:54</td>\n",
       "      <td>2019</td>\n",
       "      <td>ago</td>\n",
       "      <td>0</td>\n",
       "      <td>0</td>\n",
       "      <td>1</td>\n",
       "      <td>es_LA</td>\n",
       "      <td>-7</td>\n",
       "    </tr>\n",
       "    <tr>\n",
       "      <th>3</th>\n",
       "      <td>2062477834077581</td>\n",
       "      <td>feminino</td>\n",
       "      <td>2019-07-31 05:32:48</td>\n",
       "      <td>2019</td>\n",
       "      <td>jul</td>\n",
       "      <td>0</td>\n",
       "      <td>1</td>\n",
       "      <td>0</td>\n",
       "      <td>ro_RO</td>\n",
       "      <td>3</td>\n",
       "    </tr>\n",
       "    <tr>\n",
       "      <th>4</th>\n",
       "      <td>2062477834077581</td>\n",
       "      <td>feminino</td>\n",
       "      <td>2019-07-31 05:32:09</td>\n",
       "      <td>2019</td>\n",
       "      <td>jul</td>\n",
       "      <td>0</td>\n",
       "      <td>1</td>\n",
       "      <td>0</td>\n",
       "      <td>ro_RO</td>\n",
       "      <td>3</td>\n",
       "    </tr>\n",
       "  </tbody>\n",
       "</table>\n",
       "</div>"
      ],
      "text/plain": [
       "               FBID     Genero                 Data   Ano  Mês  Modo  \\\n",
       "0   608448532822311  masculino  2019-08-02 02:19:46  2019  ago     0   \n",
       "1   608448532822311  masculino  2019-08-02 02:19:03  2019  ago     1   \n",
       "2   608448532822311  masculino  2019-08-02 02:16:54  2019  ago     0   \n",
       "3  2062477834077581   feminino  2019-07-31 05:32:48  2019  jul     0   \n",
       "4  2062477834077581   feminino  2019-07-31 05:32:09  2019  jul     0   \n",
       "\n",
       "   Oponente  Ganhou  Local  FusoHorario  \n",
       "0         1       0  es_LA           -7  \n",
       "1         0       0  es_LA           -7  \n",
       "2         0       1  es_LA           -7  \n",
       "3         1       0  ro_RO            3  \n",
       "4         1       0  ro_RO            3  "
      ]
     },
     "execution_count": 6,
     "metadata": {},
     "output_type": "execute_result"
    }
   ],
   "source": [
    "data.head()"
   ]
  },
  {
   "cell_type": "code",
   "execution_count": 1,
   "metadata": {},
   "outputs": [],
   "source": [
    "a= 10"
   ]
  },
  {
   "cell_type": "code",
   "execution_count": 2,
   "metadata": {},
   "outputs": [
    {
     "data": {
      "text/plain": [
       "10"
      ]
     },
     "execution_count": 2,
     "metadata": {},
     "output_type": "execute_result"
    }
   ],
   "source": [
    "a"
   ]
  },
  {
   "cell_type": "code",
   "execution_count": 7,
   "metadata": {},
   "outputs": [
    {
     "data": {
      "text/html": [
       "<div>\n",
       "<style scoped>\n",
       "    .dataframe tbody tr th:only-of-type {\n",
       "        vertical-align: middle;\n",
       "    }\n",
       "\n",
       "    .dataframe tbody tr th {\n",
       "        vertical-align: top;\n",
       "    }\n",
       "\n",
       "    .dataframe thead th {\n",
       "        text-align: right;\n",
       "    }\n",
       "</style>\n",
       "<table border=\"1\" class=\"dataframe\">\n",
       "  <thead>\n",
       "    <tr style=\"text-align: right;\">\n",
       "      <th></th>\n",
       "      <th>FBID</th>\n",
       "      <th>Genero</th>\n",
       "      <th>Data</th>\n",
       "      <th>Ano</th>\n",
       "      <th>Mês</th>\n",
       "      <th>Modo</th>\n",
       "      <th>Oponente</th>\n",
       "      <th>Ganhou</th>\n",
       "      <th>Local</th>\n",
       "      <th>FusoHorario</th>\n",
       "    </tr>\n",
       "  </thead>\n",
       "  <tbody>\n",
       "    <tr>\n",
       "      <th>0</th>\n",
       "      <td>608448532822311</td>\n",
       "      <td>masculino</td>\n",
       "      <td>2019-08-02 02:19:46</td>\n",
       "      <td>2019</td>\n",
       "      <td>ago</td>\n",
       "      <td>0</td>\n",
       "      <td>1</td>\n",
       "      <td>0</td>\n",
       "      <td>es_LA</td>\n",
       "      <td>-7</td>\n",
       "    </tr>\n",
       "    <tr>\n",
       "      <th>1</th>\n",
       "      <td>608448532822311</td>\n",
       "      <td>masculino</td>\n",
       "      <td>2019-08-02 02:19:03</td>\n",
       "      <td>2019</td>\n",
       "      <td>ago</td>\n",
       "      <td>1</td>\n",
       "      <td>0</td>\n",
       "      <td>0</td>\n",
       "      <td>es_LA</td>\n",
       "      <td>-7</td>\n",
       "    </tr>\n",
       "    <tr>\n",
       "      <th>2</th>\n",
       "      <td>608448532822311</td>\n",
       "      <td>masculino</td>\n",
       "      <td>2019-08-02 02:16:54</td>\n",
       "      <td>2019</td>\n",
       "      <td>ago</td>\n",
       "      <td>0</td>\n",
       "      <td>0</td>\n",
       "      <td>1</td>\n",
       "      <td>es_LA</td>\n",
       "      <td>-7</td>\n",
       "    </tr>\n",
       "    <tr>\n",
       "      <th>3</th>\n",
       "      <td>2062477834077581</td>\n",
       "      <td>feminino</td>\n",
       "      <td>2019-07-31 05:32:48</td>\n",
       "      <td>2019</td>\n",
       "      <td>jul</td>\n",
       "      <td>0</td>\n",
       "      <td>1</td>\n",
       "      <td>0</td>\n",
       "      <td>ro_RO</td>\n",
       "      <td>3</td>\n",
       "    </tr>\n",
       "    <tr>\n",
       "      <th>4</th>\n",
       "      <td>2062477834077581</td>\n",
       "      <td>feminino</td>\n",
       "      <td>2019-07-31 05:32:09</td>\n",
       "      <td>2019</td>\n",
       "      <td>jul</td>\n",
       "      <td>0</td>\n",
       "      <td>1</td>\n",
       "      <td>0</td>\n",
       "      <td>ro_RO</td>\n",
       "      <td>3</td>\n",
       "    </tr>\n",
       "    <tr>\n",
       "      <th>5</th>\n",
       "      <td>2076213719265645</td>\n",
       "      <td>masculino</td>\n",
       "      <td>2019-07-28 14:56:29</td>\n",
       "      <td>2019</td>\n",
       "      <td>jul</td>\n",
       "      <td>0</td>\n",
       "      <td>0</td>\n",
       "      <td>0</td>\n",
       "      <td>en_US</td>\n",
       "      <td>2</td>\n",
       "    </tr>\n",
       "    <tr>\n",
       "      <th>6</th>\n",
       "      <td>2076213719265645</td>\n",
       "      <td>masculino</td>\n",
       "      <td>2019-07-27 08:56:09</td>\n",
       "      <td>2019</td>\n",
       "      <td>jul</td>\n",
       "      <td>0</td>\n",
       "      <td>2</td>\n",
       "      <td>0</td>\n",
       "      <td>en_US</td>\n",
       "      <td>2</td>\n",
       "    </tr>\n",
       "    <tr>\n",
       "      <th>7</th>\n",
       "      <td>2076213719265645</td>\n",
       "      <td>masculino</td>\n",
       "      <td>2019-07-27 08:55:37</td>\n",
       "      <td>2019</td>\n",
       "      <td>jul</td>\n",
       "      <td>0</td>\n",
       "      <td>2</td>\n",
       "      <td>0</td>\n",
       "      <td>en_US</td>\n",
       "      <td>2</td>\n",
       "    </tr>\n",
       "    <tr>\n",
       "      <th>8</th>\n",
       "      <td>2076213719265645</td>\n",
       "      <td>masculino</td>\n",
       "      <td>2019-07-27 08:55:03</td>\n",
       "      <td>2019</td>\n",
       "      <td>jul</td>\n",
       "      <td>0</td>\n",
       "      <td>2</td>\n",
       "      <td>0</td>\n",
       "      <td>en_US</td>\n",
       "      <td>2</td>\n",
       "    </tr>\n",
       "    <tr>\n",
       "      <th>9</th>\n",
       "      <td>2076213719265645</td>\n",
       "      <td>masculino</td>\n",
       "      <td>2019-07-27 08:53:00</td>\n",
       "      <td>2019</td>\n",
       "      <td>jul</td>\n",
       "      <td>1</td>\n",
       "      <td>0</td>\n",
       "      <td>0</td>\n",
       "      <td>en_US</td>\n",
       "      <td>2</td>\n",
       "    </tr>\n",
       "  </tbody>\n",
       "</table>\n",
       "</div>"
      ],
      "text/plain": [
       "               FBID     Genero                 Data   Ano  Mês  Modo  \\\n",
       "0   608448532822311  masculino  2019-08-02 02:19:46  2019  ago     0   \n",
       "1   608448532822311  masculino  2019-08-02 02:19:03  2019  ago     1   \n",
       "2   608448532822311  masculino  2019-08-02 02:16:54  2019  ago     0   \n",
       "3  2062477834077581   feminino  2019-07-31 05:32:48  2019  jul     0   \n",
       "4  2062477834077581   feminino  2019-07-31 05:32:09  2019  jul     0   \n",
       "5  2076213719265645  masculino  2019-07-28 14:56:29  2019  jul     0   \n",
       "6  2076213719265645  masculino  2019-07-27 08:56:09  2019  jul     0   \n",
       "7  2076213719265645  masculino  2019-07-27 08:55:37  2019  jul     0   \n",
       "8  2076213719265645  masculino  2019-07-27 08:55:03  2019  jul     0   \n",
       "9  2076213719265645  masculino  2019-07-27 08:53:00  2019  jul     1   \n",
       "\n",
       "   Oponente  Ganhou  Local  FusoHorario  \n",
       "0         1       0  es_LA           -7  \n",
       "1         0       0  es_LA           -7  \n",
       "2         0       1  es_LA           -7  \n",
       "3         1       0  ro_RO            3  \n",
       "4         1       0  ro_RO            3  \n",
       "5         0       0  en_US            2  \n",
       "6         2       0  en_US            2  \n",
       "7         2       0  en_US            2  \n",
       "8         2       0  en_US            2  \n",
       "9         0       0  en_US            2  "
      ]
     },
     "execution_count": 7,
     "metadata": {},
     "output_type": "execute_result"
    }
   ],
   "source": [
    "data.head(n=10)"
   ]
  },
  {
   "cell_type": "code",
   "execution_count": 8,
   "metadata": {},
   "outputs": [
    {
     "data": {
      "text/html": [
       "<div>\n",
       "<style scoped>\n",
       "    .dataframe tbody tr th:only-of-type {\n",
       "        vertical-align: middle;\n",
       "    }\n",
       "\n",
       "    .dataframe tbody tr th {\n",
       "        vertical-align: top;\n",
       "    }\n",
       "\n",
       "    .dataframe thead th {\n",
       "        text-align: right;\n",
       "    }\n",
       "</style>\n",
       "<table border=\"1\" class=\"dataframe\">\n",
       "  <thead>\n",
       "    <tr style=\"text-align: right;\">\n",
       "      <th></th>\n",
       "      <th>FBID</th>\n",
       "      <th>Genero</th>\n",
       "      <th>Data</th>\n",
       "      <th>Ano</th>\n",
       "      <th>Mês</th>\n",
       "      <th>Modo</th>\n",
       "      <th>Oponente</th>\n",
       "      <th>Ganhou</th>\n",
       "      <th>Local</th>\n",
       "      <th>FusoHorario</th>\n",
       "    </tr>\n",
       "  </thead>\n",
       "  <tbody>\n",
       "    <tr>\n",
       "      <th>5911</th>\n",
       "      <td>1036361163078035</td>\n",
       "      <td>masculino</td>\n",
       "      <td>2016-07-26 14:41:58</td>\n",
       "      <td>2016</td>\n",
       "      <td>jul</td>\n",
       "      <td>0</td>\n",
       "      <td>0</td>\n",
       "      <td>1</td>\n",
       "      <td>fr_FR</td>\n",
       "      <td>-3</td>\n",
       "    </tr>\n",
       "    <tr>\n",
       "      <th>5912</th>\n",
       "      <td>10153561414982237</td>\n",
       "      <td>masculino</td>\n",
       "      <td>2016-07-26 02:57:59</td>\n",
       "      <td>2016</td>\n",
       "      <td>jul</td>\n",
       "      <td>0</td>\n",
       "      <td>0</td>\n",
       "      <td>0</td>\n",
       "      <td>pt_BR</td>\n",
       "      <td>-3</td>\n",
       "    </tr>\n",
       "    <tr>\n",
       "      <th>5913</th>\n",
       "      <td>10153561414982237</td>\n",
       "      <td>masculino</td>\n",
       "      <td>2016-07-26 02:12:39</td>\n",
       "      <td>2016</td>\n",
       "      <td>jul</td>\n",
       "      <td>0</td>\n",
       "      <td>0</td>\n",
       "      <td>0</td>\n",
       "      <td>pt_BR</td>\n",
       "      <td>-3</td>\n",
       "    </tr>\n",
       "    <tr>\n",
       "      <th>5914</th>\n",
       "      <td>10153561414982237</td>\n",
       "      <td>masculino</td>\n",
       "      <td>2016-07-26 01:47:22</td>\n",
       "      <td>2016</td>\n",
       "      <td>jul</td>\n",
       "      <td>0</td>\n",
       "      <td>1</td>\n",
       "      <td>0</td>\n",
       "      <td>pt_BR</td>\n",
       "      <td>-3</td>\n",
       "    </tr>\n",
       "    <tr>\n",
       "      <th>5915</th>\n",
       "      <td>10153561414982237</td>\n",
       "      <td>masculino</td>\n",
       "      <td>2016-07-26 01:46:05</td>\n",
       "      <td>2016</td>\n",
       "      <td>jul</td>\n",
       "      <td>0</td>\n",
       "      <td>0</td>\n",
       "      <td>1</td>\n",
       "      <td>pt_BR</td>\n",
       "      <td>-3</td>\n",
       "    </tr>\n",
       "  </tbody>\n",
       "</table>\n",
       "</div>"
      ],
      "text/plain": [
       "                   FBID     Genero                 Data   Ano  Mês  Modo  \\\n",
       "5911   1036361163078035  masculino  2016-07-26 14:41:58  2016  jul     0   \n",
       "5912  10153561414982237  masculino  2016-07-26 02:57:59  2016  jul     0   \n",
       "5913  10153561414982237  masculino  2016-07-26 02:12:39  2016  jul     0   \n",
       "5914  10153561414982237  masculino  2016-07-26 01:47:22  2016  jul     0   \n",
       "5915  10153561414982237  masculino  2016-07-26 01:46:05  2016  jul     0   \n",
       "\n",
       "      Oponente  Ganhou  Local  FusoHorario  \n",
       "5911         0       1  fr_FR           -3  \n",
       "5912         0       0  pt_BR           -3  \n",
       "5913         0       0  pt_BR           -3  \n",
       "5914         1       0  pt_BR           -3  \n",
       "5915         0       1  pt_BR           -3  "
      ]
     },
     "execution_count": 8,
     "metadata": {},
     "output_type": "execute_result"
    }
   ],
   "source": [
    "data.tail()"
   ]
  },
  {
   "cell_type": "code",
   "execution_count": 9,
   "metadata": {
    "scrolled": true
   },
   "outputs": [
    {
     "data": {
      "text/html": [
       "<div>\n",
       "<style scoped>\n",
       "    .dataframe tbody tr th:only-of-type {\n",
       "        vertical-align: middle;\n",
       "    }\n",
       "\n",
       "    .dataframe tbody tr th {\n",
       "        vertical-align: top;\n",
       "    }\n",
       "\n",
       "    .dataframe thead th {\n",
       "        text-align: right;\n",
       "    }\n",
       "</style>\n",
       "<table border=\"1\" class=\"dataframe\">\n",
       "  <thead>\n",
       "    <tr style=\"text-align: right;\">\n",
       "      <th></th>\n",
       "      <th>FBID</th>\n",
       "      <th>Genero</th>\n",
       "      <th>Data</th>\n",
       "      <th>Ano</th>\n",
       "      <th>Mês</th>\n",
       "      <th>Modo</th>\n",
       "      <th>Oponente</th>\n",
       "      <th>Ganhou</th>\n",
       "      <th>Local</th>\n",
       "      <th>FusoHorario</th>\n",
       "    </tr>\n",
       "  </thead>\n",
       "  <tbody>\n",
       "    <tr>\n",
       "      <th>5906</th>\n",
       "      <td>10153799677118014</td>\n",
       "      <td>feminino</td>\n",
       "      <td>2016-07-26 14:49:28</td>\n",
       "      <td>2016</td>\n",
       "      <td>jul</td>\n",
       "      <td>0</td>\n",
       "      <td>2</td>\n",
       "      <td>1</td>\n",
       "      <td>pt_BR</td>\n",
       "      <td>-3</td>\n",
       "    </tr>\n",
       "    <tr>\n",
       "      <th>5907</th>\n",
       "      <td>10153799677118014</td>\n",
       "      <td>feminino</td>\n",
       "      <td>2016-07-26 14:48:49</td>\n",
       "      <td>2016</td>\n",
       "      <td>jul</td>\n",
       "      <td>0</td>\n",
       "      <td>1</td>\n",
       "      <td>1</td>\n",
       "      <td>pt_BR</td>\n",
       "      <td>-3</td>\n",
       "    </tr>\n",
       "    <tr>\n",
       "      <th>5908</th>\n",
       "      <td>1190766150974044</td>\n",
       "      <td>feminino</td>\n",
       "      <td>2016-07-26 14:48:35</td>\n",
       "      <td>2016</td>\n",
       "      <td>jul</td>\n",
       "      <td>0</td>\n",
       "      <td>0</td>\n",
       "      <td>1</td>\n",
       "      <td>pt_BR</td>\n",
       "      <td>-3</td>\n",
       "    </tr>\n",
       "    <tr>\n",
       "      <th>5909</th>\n",
       "      <td>10153799677118014</td>\n",
       "      <td>feminino</td>\n",
       "      <td>2016-07-26 14:48:08</td>\n",
       "      <td>2016</td>\n",
       "      <td>jul</td>\n",
       "      <td>0</td>\n",
       "      <td>0</td>\n",
       "      <td>1</td>\n",
       "      <td>pt_BR</td>\n",
       "      <td>-3</td>\n",
       "    </tr>\n",
       "    <tr>\n",
       "      <th>5910</th>\n",
       "      <td>1036361163078035</td>\n",
       "      <td>masculino</td>\n",
       "      <td>2016-07-26 14:42:36</td>\n",
       "      <td>2016</td>\n",
       "      <td>jul</td>\n",
       "      <td>1</td>\n",
       "      <td>0</td>\n",
       "      <td>1</td>\n",
       "      <td>fr_FR</td>\n",
       "      <td>-3</td>\n",
       "    </tr>\n",
       "    <tr>\n",
       "      <th>5911</th>\n",
       "      <td>1036361163078035</td>\n",
       "      <td>masculino</td>\n",
       "      <td>2016-07-26 14:41:58</td>\n",
       "      <td>2016</td>\n",
       "      <td>jul</td>\n",
       "      <td>0</td>\n",
       "      <td>0</td>\n",
       "      <td>1</td>\n",
       "      <td>fr_FR</td>\n",
       "      <td>-3</td>\n",
       "    </tr>\n",
       "    <tr>\n",
       "      <th>5912</th>\n",
       "      <td>10153561414982237</td>\n",
       "      <td>masculino</td>\n",
       "      <td>2016-07-26 02:57:59</td>\n",
       "      <td>2016</td>\n",
       "      <td>jul</td>\n",
       "      <td>0</td>\n",
       "      <td>0</td>\n",
       "      <td>0</td>\n",
       "      <td>pt_BR</td>\n",
       "      <td>-3</td>\n",
       "    </tr>\n",
       "    <tr>\n",
       "      <th>5913</th>\n",
       "      <td>10153561414982237</td>\n",
       "      <td>masculino</td>\n",
       "      <td>2016-07-26 02:12:39</td>\n",
       "      <td>2016</td>\n",
       "      <td>jul</td>\n",
       "      <td>0</td>\n",
       "      <td>0</td>\n",
       "      <td>0</td>\n",
       "      <td>pt_BR</td>\n",
       "      <td>-3</td>\n",
       "    </tr>\n",
       "    <tr>\n",
       "      <th>5914</th>\n",
       "      <td>10153561414982237</td>\n",
       "      <td>masculino</td>\n",
       "      <td>2016-07-26 01:47:22</td>\n",
       "      <td>2016</td>\n",
       "      <td>jul</td>\n",
       "      <td>0</td>\n",
       "      <td>1</td>\n",
       "      <td>0</td>\n",
       "      <td>pt_BR</td>\n",
       "      <td>-3</td>\n",
       "    </tr>\n",
       "    <tr>\n",
       "      <th>5915</th>\n",
       "      <td>10153561414982237</td>\n",
       "      <td>masculino</td>\n",
       "      <td>2016-07-26 01:46:05</td>\n",
       "      <td>2016</td>\n",
       "      <td>jul</td>\n",
       "      <td>0</td>\n",
       "      <td>0</td>\n",
       "      <td>1</td>\n",
       "      <td>pt_BR</td>\n",
       "      <td>-3</td>\n",
       "    </tr>\n",
       "  </tbody>\n",
       "</table>\n",
       "</div>"
      ],
      "text/plain": [
       "                   FBID     Genero                 Data   Ano  Mês  Modo  \\\n",
       "5906  10153799677118014   feminino  2016-07-26 14:49:28  2016  jul     0   \n",
       "5907  10153799677118014   feminino  2016-07-26 14:48:49  2016  jul     0   \n",
       "5908   1190766150974044   feminino  2016-07-26 14:48:35  2016  jul     0   \n",
       "5909  10153799677118014   feminino  2016-07-26 14:48:08  2016  jul     0   \n",
       "5910   1036361163078035  masculino  2016-07-26 14:42:36  2016  jul     1   \n",
       "5911   1036361163078035  masculino  2016-07-26 14:41:58  2016  jul     0   \n",
       "5912  10153561414982237  masculino  2016-07-26 02:57:59  2016  jul     0   \n",
       "5913  10153561414982237  masculino  2016-07-26 02:12:39  2016  jul     0   \n",
       "5914  10153561414982237  masculino  2016-07-26 01:47:22  2016  jul     0   \n",
       "5915  10153561414982237  masculino  2016-07-26 01:46:05  2016  jul     0   \n",
       "\n",
       "      Oponente  Ganhou  Local  FusoHorario  \n",
       "5906         2       1  pt_BR           -3  \n",
       "5907         1       1  pt_BR           -3  \n",
       "5908         0       1  pt_BR           -3  \n",
       "5909         0       1  pt_BR           -3  \n",
       "5910         0       1  fr_FR           -3  \n",
       "5911         0       1  fr_FR           -3  \n",
       "5912         0       0  pt_BR           -3  \n",
       "5913         0       0  pt_BR           -3  \n",
       "5914         1       0  pt_BR           -3  \n",
       "5915         0       1  pt_BR           -3  "
      ]
     },
     "execution_count": 9,
     "metadata": {},
     "output_type": "execute_result"
    }
   ],
   "source": [
    "data.tail(n=10)"
   ]
  },
  {
   "cell_type": "code",
   "execution_count": 10,
   "metadata": {},
   "outputs": [
    {
     "name": "stdout",
     "output_type": "stream",
     "text": [
      "<class 'pandas.core.frame.DataFrame'>\n",
      "RangeIndex: 5916 entries, 0 to 5915\n",
      "Data columns (total 10 columns):\n",
      " #   Column       Non-Null Count  Dtype \n",
      "---  ------       --------------  ----- \n",
      " 0   FBID         5916 non-null   int64 \n",
      " 1   Genero       5916 non-null   object\n",
      " 2   Data         5916 non-null   object\n",
      " 3   Ano          5916 non-null   int64 \n",
      " 4   Mês          5916 non-null   object\n",
      " 5   Modo         5916 non-null   int64 \n",
      " 6   Oponente     5916 non-null   int64 \n",
      " 7   Ganhou       5916 non-null   int64 \n",
      " 8   Local        5916 non-null   object\n",
      " 9   FusoHorario  5916 non-null   int64 \n",
      "dtypes: int64(6), object(4)\n",
      "memory usage: 462.3+ KB\n"
     ]
    }
   ],
   "source": [
    "data.info()"
   ]
  },
  {
   "cell_type": "markdown",
   "metadata": {},
   "source": [
    "# Frequência Relativa dos Dados"
   ]
  },
  {
   "cell_type": "code",
   "execution_count": 11,
   "metadata": {},
   "outputs": [
    {
     "name": "stdout",
     "output_type": "stream",
     "text": [
      "      Ganhou\n",
      "Ano         \n",
      "2016     424\n",
      "2017     149\n",
      "2018     256\n",
      "2019       9\n"
     ]
    }
   ],
   "source": [
    "df_ganhou = data[data.Ganhou == 1]\n",
    "\n",
    "df_ganhou = pd.pivot_table(df_ganhou, values='Ganhou', \n",
    "\t\t\t\tindex=['Ano'], \n",
    "\t\t\t\t\taggfunc='count')\n",
    "\n",
    "print(df_ganhou)\n"
   ]
  },
  {
   "cell_type": "code",
   "execution_count": 12,
   "metadata": {},
   "outputs": [
    {
     "name": "stdout",
     "output_type": "stream",
     "text": [
      "      Ganhou\n",
      "Ano         \n",
      "2016    2493\n",
      "2017     915\n",
      "2018    1594\n",
      "2019      76\n",
      "      Perdeu\n",
      "Ano         \n",
      "2016    2493\n",
      "2017     915\n",
      "2018    1594\n",
      "2019      76\n"
     ]
    }
   ],
   "source": [
    "df_perdeu = data[data.Ganhou == 0]\n",
    "\n",
    "df_perdeu = pd.pivot_table(df_perdeu, values='Ganhou',\n",
    "\t\t\t\t\tindex=['Ano'],\n",
    "\t\t\t\t\taggfunc='count')\n",
    "\n",
    "print(df_perdeu)\n",
    "\n",
    "df_perdeu.rename(columns={'Ganhou':'Perdeu'}, inplace=True)\n",
    "\n",
    "print(df_perdeu)"
   ]
  },
  {
   "cell_type": "code",
   "execution_count": 13,
   "metadata": {},
   "outputs": [
    {
     "name": "stdout",
     "output_type": "stream",
     "text": [
      "      Ganhou  Perdeu\n",
      "Ano                 \n",
      "2016     424    2493\n",
      "2017     149     915\n",
      "2018     256    1594\n",
      "2019       9      76\n"
     ]
    }
   ],
   "source": [
    "df = pd.merge(df_ganhou, df_perdeu, on='Ano')\n",
    "\n",
    "print(df)"
   ]
  },
  {
   "cell_type": "code",
   "execution_count": 14,
   "metadata": {},
   "outputs": [
    {
     "name": "stdout",
     "output_type": "stream",
     "text": [
      "      Total\n",
      "Ano        \n",
      "2016   2917\n",
      "2017   1064\n",
      "2018   1850\n",
      "2019     85\n",
      "      Ganhou  Perdeu  Total\n",
      "Ano                        \n",
      "2016     424    2493   2917\n",
      "2017     149     915   1064\n",
      "2018     256    1594   1850\n",
      "2019       9      76     85\n"
     ]
    }
   ],
   "source": [
    "df_total = pd.pivot_table(data, values='Ganhou',\n",
    "\t\t\t\t  index=['Ano'],\n",
    "\t\t\t\t  aggfunc='count')\n",
    "\n",
    "df_total.rename(columns={'Ganhou':'Total'}, inplace=True)\n",
    "\n",
    "print(df_total)\n",
    "\n",
    "df = pd.merge(df, df_total, on='Ano')\n",
    "print(df)"
   ]
  },
  {
   "cell_type": "markdown",
   "metadata": {},
   "source": [
    "#### Frequências Relativas"
   ]
  },
  {
   "cell_type": "code",
   "execution_count": 15,
   "metadata": {},
   "outputs": [
    {
     "name": "stdout",
     "output_type": "stream",
     "text": [
      "      PercGanhou  PercPerdeu\n",
      "Ano                         \n",
      "2016    0.145355    0.854645\n",
      "2017    0.140038    0.859962\n",
      "2018    0.138378    0.861622\n",
      "2019    0.105882    0.894118\n",
      "      Ganhou  Perdeu  Total  PercGanhou  PercPerdeu\n",
      "Ano                                                \n",
      "2016     424    2493   2917    0.145355    0.854645\n",
      "2017     149     915   1064    0.140038    0.859962\n",
      "2018     256    1594   1850    0.138378    0.861622\n",
      "2019       9      76     85    0.105882    0.894118\n"
     ]
    }
   ],
   "source": [
    "df2 = df.apply(lambda row: pd.Series({\n",
    "\t\t\t'PercGanhou': row['Ganhou']/row['Total'], \n",
    "\t\t\t'PercPerdeu': row['Perdeu']/row['Total']}),\n",
    "\t\t axis=1)\n",
    "\n",
    "print(df2)\n",
    "\n",
    "df2 = pd.merge(df, df2, on='Ano')\n",
    "print(df2)\n",
    "\n"
   ]
  },
  {
   "cell_type": "markdown",
   "metadata": {},
   "source": [
    "Qual local registro o maior número de jogadores?"
   ]
  },
  {
   "cell_type": "code",
   "execution_count": 16,
   "metadata": {
    "scrolled": false
   },
   "outputs": [
    {
     "name": "stdout",
     "output_type": "stream",
     "text": [
      "       Ganhou\n",
      "Local        \n",
      "ar_AR      20\n",
      "bg_BG       7\n",
      "cs_CZ      10\n",
      "de_DE       7\n",
      "el_GR       9\n",
      "en_GB      23\n",
      "en_US      68\n",
      "es_ES      67\n",
      "es_LA     118\n",
      "fi_FI       1\n",
      "fr_CA       5\n",
      "fr_FR     124\n",
      "hr_HR       2\n",
      "hu_HU       7\n",
      "id_ID      19\n",
      "it_IT      26\n",
      "ja_JP       1\n",
      "ka_GE       7\n",
      "ku_TR       4\n",
      "lt_LT       1\n",
      "mk_MK       2\n",
      "mn_MN       1\n",
      "nl_BE       2\n",
      "nl_NL       6\n",
      "nn_NO       8\n",
      "pl_PL      15\n",
      "pt_BR     174\n",
      "pt_PT      29\n",
      "ro_RO      15\n",
      "ru_RU       9\n",
      "sq_AL       4\n",
      "sr_RS       2\n",
      "th_TH       1\n",
      "tr_TR      15\n",
      "vi_VN      13\n",
      "zh_CN       3\n",
      "zh_TW      13\n"
     ]
    }
   ],
   "source": [
    "df_local = data[data.Ganhou == 1]\n",
    "df_local = pd.pivot_table(df_local, values='Ganhou', \n",
    "                     index=['Local'], \n",
    "                     aggfunc='count'\n",
    "                      )\n",
    "print(df_local)\n"
   ]
  },
  {
   "cell_type": "markdown",
   "metadata": {},
   "source": [
    "Como ordenar pelos locais que mais registraram vencedores?"
   ]
  },
  {
   "cell_type": "code",
   "execution_count": 17,
   "metadata": {
    "scrolled": false
   },
   "outputs": [
    {
     "data": {
      "text/html": [
       "<div>\n",
       "<style scoped>\n",
       "    .dataframe tbody tr th:only-of-type {\n",
       "        vertical-align: middle;\n",
       "    }\n",
       "\n",
       "    .dataframe tbody tr th {\n",
       "        vertical-align: top;\n",
       "    }\n",
       "\n",
       "    .dataframe thead th {\n",
       "        text-align: right;\n",
       "    }\n",
       "</style>\n",
       "<table border=\"1\" class=\"dataframe\">\n",
       "  <thead>\n",
       "    <tr style=\"text-align: right;\">\n",
       "      <th></th>\n",
       "      <th>Ganhou</th>\n",
       "    </tr>\n",
       "    <tr>\n",
       "      <th>Local</th>\n",
       "      <th></th>\n",
       "    </tr>\n",
       "  </thead>\n",
       "  <tbody>\n",
       "    <tr>\n",
       "      <th>pt_BR</th>\n",
       "      <td>174</td>\n",
       "    </tr>\n",
       "    <tr>\n",
       "      <th>fr_FR</th>\n",
       "      <td>124</td>\n",
       "    </tr>\n",
       "    <tr>\n",
       "      <th>es_LA</th>\n",
       "      <td>118</td>\n",
       "    </tr>\n",
       "    <tr>\n",
       "      <th>en_US</th>\n",
       "      <td>68</td>\n",
       "    </tr>\n",
       "    <tr>\n",
       "      <th>es_ES</th>\n",
       "      <td>67</td>\n",
       "    </tr>\n",
       "    <tr>\n",
       "      <th>pt_PT</th>\n",
       "      <td>29</td>\n",
       "    </tr>\n",
       "    <tr>\n",
       "      <th>it_IT</th>\n",
       "      <td>26</td>\n",
       "    </tr>\n",
       "    <tr>\n",
       "      <th>en_GB</th>\n",
       "      <td>23</td>\n",
       "    </tr>\n",
       "    <tr>\n",
       "      <th>ar_AR</th>\n",
       "      <td>20</td>\n",
       "    </tr>\n",
       "    <tr>\n",
       "      <th>id_ID</th>\n",
       "      <td>19</td>\n",
       "    </tr>\n",
       "    <tr>\n",
       "      <th>tr_TR</th>\n",
       "      <td>15</td>\n",
       "    </tr>\n",
       "    <tr>\n",
       "      <th>ro_RO</th>\n",
       "      <td>15</td>\n",
       "    </tr>\n",
       "    <tr>\n",
       "      <th>pl_PL</th>\n",
       "      <td>15</td>\n",
       "    </tr>\n",
       "    <tr>\n",
       "      <th>vi_VN</th>\n",
       "      <td>13</td>\n",
       "    </tr>\n",
       "    <tr>\n",
       "      <th>zh_TW</th>\n",
       "      <td>13</td>\n",
       "    </tr>\n",
       "    <tr>\n",
       "      <th>cs_CZ</th>\n",
       "      <td>10</td>\n",
       "    </tr>\n",
       "    <tr>\n",
       "      <th>ru_RU</th>\n",
       "      <td>9</td>\n",
       "    </tr>\n",
       "    <tr>\n",
       "      <th>el_GR</th>\n",
       "      <td>9</td>\n",
       "    </tr>\n",
       "    <tr>\n",
       "      <th>nn_NO</th>\n",
       "      <td>8</td>\n",
       "    </tr>\n",
       "    <tr>\n",
       "      <th>hu_HU</th>\n",
       "      <td>7</td>\n",
       "    </tr>\n",
       "    <tr>\n",
       "      <th>ka_GE</th>\n",
       "      <td>7</td>\n",
       "    </tr>\n",
       "    <tr>\n",
       "      <th>bg_BG</th>\n",
       "      <td>7</td>\n",
       "    </tr>\n",
       "    <tr>\n",
       "      <th>de_DE</th>\n",
       "      <td>7</td>\n",
       "    </tr>\n",
       "    <tr>\n",
       "      <th>nl_NL</th>\n",
       "      <td>6</td>\n",
       "    </tr>\n",
       "    <tr>\n",
       "      <th>fr_CA</th>\n",
       "      <td>5</td>\n",
       "    </tr>\n",
       "    <tr>\n",
       "      <th>sq_AL</th>\n",
       "      <td>4</td>\n",
       "    </tr>\n",
       "    <tr>\n",
       "      <th>ku_TR</th>\n",
       "      <td>4</td>\n",
       "    </tr>\n",
       "    <tr>\n",
       "      <th>zh_CN</th>\n",
       "      <td>3</td>\n",
       "    </tr>\n",
       "    <tr>\n",
       "      <th>hr_HR</th>\n",
       "      <td>2</td>\n",
       "    </tr>\n",
       "    <tr>\n",
       "      <th>nl_BE</th>\n",
       "      <td>2</td>\n",
       "    </tr>\n",
       "    <tr>\n",
       "      <th>sr_RS</th>\n",
       "      <td>2</td>\n",
       "    </tr>\n",
       "    <tr>\n",
       "      <th>mk_MK</th>\n",
       "      <td>2</td>\n",
       "    </tr>\n",
       "    <tr>\n",
       "      <th>ja_JP</th>\n",
       "      <td>1</td>\n",
       "    </tr>\n",
       "    <tr>\n",
       "      <th>fi_FI</th>\n",
       "      <td>1</td>\n",
       "    </tr>\n",
       "    <tr>\n",
       "      <th>mn_MN</th>\n",
       "      <td>1</td>\n",
       "    </tr>\n",
       "    <tr>\n",
       "      <th>th_TH</th>\n",
       "      <td>1</td>\n",
       "    </tr>\n",
       "    <tr>\n",
       "      <th>lt_LT</th>\n",
       "      <td>1</td>\n",
       "    </tr>\n",
       "  </tbody>\n",
       "</table>\n",
       "</div>"
      ],
      "text/plain": [
       "       Ganhou\n",
       "Local        \n",
       "pt_BR     174\n",
       "fr_FR     124\n",
       "es_LA     118\n",
       "en_US      68\n",
       "es_ES      67\n",
       "pt_PT      29\n",
       "it_IT      26\n",
       "en_GB      23\n",
       "ar_AR      20\n",
       "id_ID      19\n",
       "tr_TR      15\n",
       "ro_RO      15\n",
       "pl_PL      15\n",
       "vi_VN      13\n",
       "zh_TW      13\n",
       "cs_CZ      10\n",
       "ru_RU       9\n",
       "el_GR       9\n",
       "nn_NO       8\n",
       "hu_HU       7\n",
       "ka_GE       7\n",
       "bg_BG       7\n",
       "de_DE       7\n",
       "nl_NL       6\n",
       "fr_CA       5\n",
       "sq_AL       4\n",
       "ku_TR       4\n",
       "zh_CN       3\n",
       "hr_HR       2\n",
       "nl_BE       2\n",
       "sr_RS       2\n",
       "mk_MK       2\n",
       "ja_JP       1\n",
       "fi_FI       1\n",
       "mn_MN       1\n",
       "th_TH       1\n",
       "lt_LT       1"
      ]
     },
     "execution_count": 17,
     "metadata": {},
     "output_type": "execute_result"
    }
   ],
   "source": [
    "df_local.sort_values(by='Ganhou', ascending=False)"
   ]
  },
  {
   "cell_type": "markdown",
   "metadata": {},
   "source": [
    "Como selecionar o maior e o menor resultado?"
   ]
  },
  {
   "cell_type": "code",
   "execution_count": 18,
   "metadata": {},
   "outputs": [
    {
     "name": "stdout",
     "output_type": "stream",
     "text": [
      "       Ganhou\n",
      "Local        \n",
      "pt_BR   174.0\n"
     ]
    }
   ],
   "source": [
    "df3 = df_local[df_local == df_local.Ganhou.max()]\n",
    "df3 = df3.dropna(axis='rows')\n",
    "print(df3)\n"
   ]
  },
  {
   "cell_type": "code",
   "execution_count": 19,
   "metadata": {},
   "outputs": [
    {
     "data": {
      "text/plain": [
       "'pt_BR'"
      ]
     },
     "execution_count": 19,
     "metadata": {},
     "output_type": "execute_result"
    }
   ],
   "source": [
    "# Também podemos consultar diretamente o índice que contém o valor máximo:\n",
    "\n",
    "df_local.Ganhou.idxmax(axis=0)"
   ]
  },
  {
   "cell_type": "code",
   "execution_count": 20,
   "metadata": {},
   "outputs": [
    {
     "name": "stdout",
     "output_type": "stream",
     "text": [
      "       Ganhou\n",
      "Local        \n",
      "pt_BR     174\n"
     ]
    }
   ],
   "source": [
    "# Para filtrar o dataset usando o índice usamos o código abaixo:\n",
    "\n",
    "df3 = df_local[df_local.index == df_local.Ganhou.idxmax()]\n",
    "print(df3)"
   ]
  },
  {
   "cell_type": "markdown",
   "metadata": {},
   "source": [
    "# Histogramas"
   ]
  },
  {
   "cell_type": "markdown",
   "metadata": {},
   "source": [
    "Importar arquivo CSV"
   ]
  },
  {
   "cell_type": "code",
   "execution_count": 7,
   "metadata": {},
   "outputs": [],
   "source": [
    "import pandas as pd\n",
    "\n",
    "data = pd.read_csv(\"expectativa.csv\")"
   ]
  },
  {
   "cell_type": "code",
   "execution_count": 8,
   "metadata": {},
   "outputs": [
    {
     "data": {
      "text/plain": [
       "2007"
      ]
     },
     "execution_count": 8,
     "metadata": {},
     "output_type": "execute_result"
    }
   ],
   "source": [
    "#data.head()\n",
    "data['year'].max()"
   ]
  },
  {
   "cell_type": "markdown",
   "metadata": {},
   "source": [
    "### Histogramas com matplotlib"
   ]
  },
  {
   "cell_type": "markdown",
   "metadata": {},
   "source": [
    "Desenhar o histograma da coluna “lifeExp”\n",
    "* O número de intervalos de classe padrão é 10"
   ]
  },
  {
   "cell_type": "code",
   "execution_count": 9,
   "metadata": {},
   "outputs": [
    {
     "data": {
      "text/plain": [
       "<AxesSubplot:>"
      ]
     },
     "execution_count": 9,
     "metadata": {},
     "output_type": "execute_result"
    },
    {
     "data": {
      "image/png": "[encoded data removed]",
      "text/plain": [
       "<Figure size 432x288 with 1 Axes>"
      ]
     },
     "metadata": {
      "needs_background": "light"
     },
     "output_type": "display_data"
    }
   ],
   "source": [
    "# Importar a biblioteca matplotlib\n",
    "import matplotlib.pyplot as plt\n",
    "\n",
    "data['lifeExp'].hist()"
   ]
  },
  {
   "cell_type": "markdown",
   "metadata": {},
   "source": [
    "Para desenhar o histograma com mais intervalos, usamos o parâmetro “bins”"
   ]
  },
  {
   "cell_type": "code",
   "execution_count": 10,
   "metadata": {},
   "outputs": [
    {
     "data": {
      "text/plain": [
       "<AxesSubplot:>"
      ]
     },
     "execution_count": 10,
     "metadata": {},
     "output_type": "execute_result"
    },
    {
     "data": {
      "image/png": "[encoded data removed]",
      "text/plain": [
       "<Figure size 432x288 with 1 Axes>"
      ]
     },
     "metadata": {
      "needs_background": "light"
     },
     "output_type": "display_data"
    }
   ],
   "source": [
    "data['lifeExp'].hist(bins=100)"
   ]
  },
  {
   "cell_type": "markdown",
   "metadata": {},
   "source": [
    "Incluir os nomes dos eixos"
   ]
  },
  {
   "cell_type": "code",
   "execution_count": 11,
   "metadata": {},
   "outputs": [
    {
     "data": {
      "text/plain": [
       "(22.0, 90.0)"
      ]
     },
     "execution_count": 11,
     "metadata": {},
     "output_type": "execute_result"
    },
    {
     "data": {
      "image/png": "[encoded data removed]",
      "text/plain": [
       "<Figure size 432x288 with 1 Axes>"
      ]
     },
     "metadata": {
      "needs_background": "light"
     },
     "output_type": "display_data"
    }
   ],
   "source": [
    "data['lifeExp'].hist(bins=100, grid=False, xlabelsize=12, \n",
    "\t\t\t\t\t\tylabelsize=12)\n",
    "plt.xlabel(\"Expectativa de Vida\", fontsize=15)\n",
    "plt.ylabel(\"Frequência\",fontsize=15)\n",
    "plt.xlim([22.0,90.0])"
   ]
  },
  {
   "cell_type": "markdown",
   "metadata": {},
   "source": [
    "Novo histograma para a coluna “gdpPerCap” :\n",
    "* escala logarítmica para o eixo x (comando xscale)"
   ]
  },
  {
   "cell_type": "code",
   "execution_count": 16,
   "metadata": {},
   "outputs": [
    {
     "data": {
      "image/png": "[encoded data removed]",
      "text/plain": [
       "<Figure size 432x288 with 1 Axes>"
      ]
     },
     "metadata": {
      "needs_background": "light"
     },
     "output_type": "display_data"
    }
   ],
   "source": [
    "data['gdpPercap'].hist(bins=1000,grid=False)\n",
    "\n",
    "plt.xlabel(\"Pib Per Capita\", fontsize=15)\n",
    "plt.ylabel(\"Frequêncy\",fontsize=15)\n",
    "plt.xscale('log')"
   ]
  },
  {
   "cell_type": "markdown",
   "metadata": {},
   "source": [
    "### Histogramas com seaborn"
   ]
  },
  {
   "cell_type": "markdown",
   "metadata": {},
   "source": [
    "Desenhar o histograma da coluna “lifeExp”\n",
    "* O número de intervalos de classe padrão é 18"
   ]
  },
  {
   "cell_type": "code",
   "execution_count": 33,
   "metadata": {},
   "outputs": [
    {
     "data": {
      "text/plain": [
       "<AxesSubplot:xlabel='lifeExp', ylabel='Count'>"
      ]
     },
     "execution_count": 33,
     "metadata": {},
     "output_type": "execute_result"
    },
    {
     "data": {
      "image/png": "[encoded data removed]",
      "text/plain": [
       "<Figure size 432x288 with 1 Axes>"
      ]
     },
     "metadata": {
      "needs_background": "light"
     },
     "output_type": "display_data"
    }
   ],
   "source": [
    "# Importar a biblioteca seaborn\n",
    "import seaborn as sns\n",
    "sns.histplot(data['lifeExp'], kde=True)"
   ]
  },
  {
   "cell_type": "markdown",
   "metadata": {},
   "source": [
    "Para desenhar o histograma com mais intervalos, usamos o parâmetro “bins”"
   ]
  },
  {
   "cell_type": "code",
   "execution_count": 34,
   "metadata": {},
   "outputs": [
    {
     "data": {
      "text/plain": [
       "<AxesSubplot:xlabel='lifeExp', ylabel='Count'>"
      ]
     },
     "execution_count": 34,
     "metadata": {},
     "output_type": "execute_result"
    },
    {
     "data": {
      "image/png": "[encoded data removed]",
      "text/plain": [
       "<Figure size 432x288 with 1 Axes>"
      ]
     },
     "metadata": {
      "needs_background": "light"
     },
     "output_type": "display_data"
    }
   ],
   "source": [
    "sns.histplot(data['lifeExp'],color='red', bins=100, kde=True)"
   ]
  },
  {
   "cell_type": "code",
   "execution_count": 35,
   "metadata": {},
   "outputs": [
    {
     "data": {
      "text/plain": [
       "Text(0, 0.5, 'Frequência')"
      ]
     },
     "execution_count": 35,
     "metadata": {},
     "output_type": "execute_result"
    },
    {
     "data": {
      "image/png": "[encoded data removed]",
      "text/plain": [
       "<Figure size 432x288 with 1 Axes>"
      ]
     },
     "metadata": {
      "needs_background": "light"
     },
     "output_type": "display_data"
    }
   ],
   "source": [
    "sns.histplot(data['lifeExp'],color='red', bins=100)\n",
    "\n",
    "plt.title('Expectativa de Vida', fontsize=18)\n",
    "plt.xlabel('Expectativa (anos)', fontsize=16)\n",
    "plt.ylabel('Frequência', fontsize=16)"
   ]
  },
  {
   "cell_type": "markdown",
   "metadata": {},
   "source": [
    "Filtrando o dataframe e plotando os dados para o continente África"
   ]
  },
  {
   "cell_type": "code",
   "execution_count": 36,
   "metadata": {},
   "outputs": [
    {
     "data": {
      "text/plain": [
       "<AxesSubplot:xlabel='lifeExp', ylabel='Count'>"
      ]
     },
     "execution_count": 36,
     "metadata": {},
     "output_type": "execute_result"
    },
    {
     "data": {
      "image/png": "[encoded data removed]",
      "text/plain": [
       "<Figure size 432x288 with 1 Axes>"
      ]
     },
     "metadata": {
      "needs_background": "light"
     },
     "output_type": "display_data"
    }
   ],
   "source": [
    "df = data[data.continent == 'Africa']\n",
    "sns.histplot(df['lifeExp'], label='Africa')"
   ]
  },
  {
   "cell_type": "markdown",
   "metadata": {},
   "source": [
    "Filtrando o dataframe e plotando os dados para o continente Américas"
   ]
  },
  {
   "cell_type": "code",
   "execution_count": 40,
   "metadata": {},
   "outputs": [
    {
     "data": {
      "text/plain": [
       "<AxesSubplot:xlabel='lifeExp', ylabel='Count'>"
      ]
     },
     "execution_count": 40,
     "metadata": {},
     "output_type": "execute_result"
    },
    {
     "data": {
      "image/png": "[encoded data removed]",
      "text/plain": [
       "<Figure size 432x288 with 1 Axes>"
      ]
     },
     "metadata": {
      "needs_background": "light"
     },
     "output_type": "display_data"
    }
   ],
   "source": [
    "df = data[data.continent == 'Americas']\n",
    "sns.histplot(df['lifeExp'],  label='Americas')"
   ]
  },
  {
   "cell_type": "markdown",
   "metadata": {},
   "source": [
    "Juntar ambos os histogramas em uma única imagem"
   ]
  },
  {
   "cell_type": "code",
   "execution_count": 43,
   "metadata": {},
   "outputs": [
    {
     "data": {
      "text/plain": [
       "Text(0, 0.5, 'Densidade')"
      ]
     },
     "execution_count": 43,
     "metadata": {},
     "output_type": "execute_result"
    },
    {
     "data": {
      "image/png": "[encoded data removed]",
      "text/plain": [
       "<Figure size 432x288 with 1 Axes>"
      ]
     },
     "metadata": {
      "needs_background": "light"
     },
     "output_type": "display_data"
    }
   ],
   "source": [
    "df = data[data.continent == 'Africa']\n",
    "sns.histplot(df['lifeExp'], label='Africa')\n",
    "\n",
    "df = data[data.continent == 'Americas']\n",
    "sns.histplot(df['lifeExp'], label='Americas', color='red')\n",
    "\n",
    "plt.legend(prop={'size': 12})\n",
    "plt.title('Expectativa de vida entre continentes')\n",
    "plt.xlabel('Expectativa de Vida (anos)')\n",
    "plt.ylabel('Densidade')"
   ]
  },
  {
   "cell_type": "markdown",
   "metadata": {},
   "source": [
    "Podemos mostrar apenas as distribuições e remover o histograma.\n",
    "* parâmetro hist = False remove o gráfico de barras do histograma\n",
    "* para incluir o polígono de frequências (distribuição) usamos o parâmetro kde = True"
   ]
  },
  {
   "cell_type": "code",
   "execution_count": 39,
   "metadata": {},
   "outputs": [
    {
     "data": {
      "text/plain": [
       "Text(0, 0.5, 'Densidade')"
      ]
     },
     "execution_count": 39,
     "metadata": {},
     "output_type": "execute_result"
    },
    {
     "data": {
      "image/png": "[encoded data removed]",
      "text/plain": [
       "<Figure size 432x288 with 1 Axes>"
      ]
     },
     "metadata": {
      "needs_background": "light"
     },
     "output_type": "display_data"
    }
   ],
   "source": [
    "df = data[(data.continent == 'Africa') & (data.year == 2007)]\n",
    "sns.kdeplot(df['lifeExp'], label='Africa')\n",
    "\n",
    "df = data[(data.continent == 'Americas') & (data.year == 2007)]\n",
    "sns.kdeplot(df['lifeExp'], label='Americas')\n",
    "\n",
    "plt.legend(prop={'size': 12})\n",
    "plt.title('Expectativa de vida entre continentes')\n",
    "plt.xlabel('Expectativa de Vida (anos)')\n",
    "plt.ylabel('Densidade')\n"
   ]
  },
  {
   "cell_type": "code",
   "execution_count": null,
   "metadata": {},
   "outputs": [],
   "source": []
  }
 ],
 "metadata": {
  "kernelspec": {
   "display_name": "Python 3 (ipykernel)",
   "language": "python",
   "name": "python3"
  },
  "language_info": {
   "codemirror_mode": {
    "name": "ipython",
    "version": 3
   },
   "file_extension": ".py",
   "mimetype": "text/x-python",
   "name": "python",
   "nbconvert_exporter": "python",
   "pygments_lexer": "ipython3",
   "version": "3.7.9"
  }
 },
 "nbformat": 4,
 "nbformat_minor": 4
}

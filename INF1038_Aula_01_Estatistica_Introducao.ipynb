{
  "cells": [
    {
      "cell_type": "markdown",
      "metadata": {
        "id": "_uFWuFMRVY1o"
      },
      "source": [
        "# Introdução ao Pandas"
      ]
    },
    {
      "cell_type": "markdown",
      "metadata": {
        "id": "Xh3O-hkdVY1s"
      },
      "source": [
        "Importar arquivo Excel"
      ]
    },
    {
      "cell_type": "code",
      "execution_count": 6,
      "metadata": {
        "id": "Wb_pX1DoVY1t",
        "outputId": "a298982b-81dc-48b4-f9fd-f63fcf880749",
        "colab": {
          "base_uri": "https://localhost:8080/",
          "height": 35
        }
      },
      "outputs": [
        {
          "output_type": "execute_result",
          "data": {
            "text/plain": [
              "\"\\nimport pandas as pd\\nfrom pandas import ExcelFile\\n\\ndata = pd.read_excel('jogadores.xlsx', 'Resultados')\\n\""
            ],
            "application/vnd.google.colaboratory.intrinsic+json": {
              "type": "string"
            }
          },
          "metadata": {},
          "execution_count": 6
        }
      ],
      "source": [
        "\"\"\"\n",
        "import pandas as pd\n",
        "from pandas import ExcelFile\n",
        "\n",
        "data = pd.read_excel('jogadores.xlsx', 'Resultados')\n",
        "\"\"\""
      ]
    },
    {
      "cell_type": "code",
      "execution_count": 7,
      "metadata": {
        "id": "RCdtDqjKVY1u"
      },
      "outputs": [],
      "source": [
        "#data"
      ]
    },
    {
      "cell_type": "markdown",
      "metadata": {
        "id": "F8h3hoyNVY1w"
      },
      "source": [
        "Importar arquivo CSV"
      ]
    },
    {
      "cell_type": "code",
      "execution_count": 8,
      "metadata": {
        "id": "5qT6hMv8VY1w"
      },
      "outputs": [],
      "source": [
        "import pandas as pd\n",
        "\n",
        "data = pd.read_csv(\"https://raw.githubusercontent.com/abaffa/INF1038/main/jogadores.csv\")"
      ]
    },
    {
      "cell_type": "code",
      "execution_count": 9,
      "metadata": {
        "scrolled": false,
        "id": "6dMuCnUNVY1w",
        "outputId": "c826ebae-2f4c-49a1-aef9-3182e1520d07",
        "colab": {
          "base_uri": "https://localhost:8080/"
        }
      },
      "outputs": [
        {
          "output_type": "stream",
          "name": "stdout",
          "text": [
            "                   FBID     Genero                 Data   Ano  Mês  Modo  \\\n",
            "0       608448532822311  masculino  2019-08-02 02:19:46  2019  ago     0   \n",
            "1       608448532822311  masculino  2019-08-02 02:19:03  2019  ago     1   \n",
            "2       608448532822311  masculino  2019-08-02 02:16:54  2019  ago     0   \n",
            "3      2062477834077581   feminino  2019-07-31 05:32:48  2019  jul     0   \n",
            "4      2062477834077581   feminino  2019-07-31 05:32:09  2019  jul     0   \n",
            "...                 ...        ...                  ...   ...  ...   ...   \n",
            "5911   1036361163078035  masculino  2016-07-26 14:41:58  2016  jul     0   \n",
            "5912  10153561414982237  masculino  2016-07-26 02:57:59  2016  jul     0   \n",
            "5913  10153561414982237  masculino  2016-07-26 02:12:39  2016  jul     0   \n",
            "5914  10153561414982237  masculino  2016-07-26 01:47:22  2016  jul     0   \n",
            "5915  10153561414982237  masculino  2016-07-26 01:46:05  2016  jul     0   \n",
            "\n",
            "      Oponente  Ganhou  Local  FusoHorario  \n",
            "0            1       0  es_LA           -7  \n",
            "1            0       0  es_LA           -7  \n",
            "2            0       1  es_LA           -7  \n",
            "3            1       0  ro_RO            3  \n",
            "4            1       0  ro_RO            3  \n",
            "...        ...     ...    ...          ...  \n",
            "5911         0       1  fr_FR           -3  \n",
            "5912         0       0  pt_BR           -3  \n",
            "5913         0       0  pt_BR           -3  \n",
            "5914         1       0  pt_BR           -3  \n",
            "5915         0       1  pt_BR           -3  \n",
            "\n",
            "[5916 rows x 10 columns]\n"
          ]
        }
      ],
      "source": [
        "print(data)"
      ]
    },
    {
      "cell_type": "code",
      "execution_count": 10,
      "metadata": {
        "id": "vlHEUgneVY1x",
        "outputId": "39ae731f-361f-461b-a30b-0aa25951dc67",
        "colab": {
          "base_uri": "https://localhost:8080/",
          "height": 206
        }
      },
      "outputs": [
        {
          "output_type": "execute_result",
          "data": {
            "text/plain": [
              "               FBID     Genero                 Data   Ano  Mês  Modo  \\\n",
              "0   608448532822311  masculino  2019-08-02 02:19:46  2019  ago     0   \n",
              "1   608448532822311  masculino  2019-08-02 02:19:03  2019  ago     1   \n",
              "2   608448532822311  masculino  2019-08-02 02:16:54  2019  ago     0   \n",
              "3  2062477834077581   feminino  2019-07-31 05:32:48  2019  jul     0   \n",
              "4  2062477834077581   feminino  2019-07-31 05:32:09  2019  jul     0   \n",
              "\n",
              "   Oponente  Ganhou  Local  FusoHorario  \n",
              "0         1       0  es_LA           -7  \n",
              "1         0       0  es_LA           -7  \n",
              "2         0       1  es_LA           -7  \n",
              "3         1       0  ro_RO            3  \n",
              "4         1       0  ro_RO            3  "
            ],
            "text/html": [
              "\n",
              "  <div id=\"df-63e535f7-421a-45b1-a481-d0c46b4797a3\" class=\"colab-df-container\">\n",
              "    <div>\n",
              "<style scoped>\n",
              "    .dataframe tbody tr th:only-of-type {\n",
              "        vertical-align: middle;\n",
              "    }\n",
              "\n",
              "    .dataframe tbody tr th {\n",
              "        vertical-align: top;\n",
              "    }\n",
              "\n",
              "    .dataframe thead th {\n",
              "        text-align: right;\n",
              "    }\n",
              "</style>\n",
              "<table border=\"1\" class=\"dataframe\">\n",
              "  <thead>\n",
              "    <tr style=\"text-align: right;\">\n",
              "      <th></th>\n",
              "      <th>FBID</th>\n",
              "      <th>Genero</th>\n",
              "      <th>Data</th>\n",
              "      <th>Ano</th>\n",
              "      <th>Mês</th>\n",
              "      <th>Modo</th>\n",
              "      <th>Oponente</th>\n",
              "      <th>Ganhou</th>\n",
              "      <th>Local</th>\n",
              "      <th>FusoHorario</th>\n",
              "    </tr>\n",
              "  </thead>\n",
              "  <tbody>\n",
              "    <tr>\n",
              "      <th>0</th>\n",
              "      <td>608448532822311</td>\n",
              "      <td>masculino</td>\n",
              "      <td>2019-08-02 02:19:46</td>\n",
              "      <td>2019</td>\n",
              "      <td>ago</td>\n",
              "      <td>0</td>\n",
              "      <td>1</td>\n",
              "      <td>0</td>\n",
              "      <td>es_LA</td>\n",
              "      <td>-7</td>\n",
              "    </tr>\n",
              "    <tr>\n",
              "      <th>1</th>\n",
              "      <td>608448532822311</td>\n",
              "      <td>masculino</td>\n",
              "      <td>2019-08-02 02:19:03</td>\n",
              "      <td>2019</td>\n",
              "      <td>ago</td>\n",
              "      <td>1</td>\n",
              "      <td>0</td>\n",
              "      <td>0</td>\n",
              "      <td>es_LA</td>\n",
              "      <td>-7</td>\n",
              "    </tr>\n",
              "    <tr>\n",
              "      <th>2</th>\n",
              "      <td>608448532822311</td>\n",
              "      <td>masculino</td>\n",
              "      <td>2019-08-02 02:16:54</td>\n",
              "      <td>2019</td>\n",
              "      <td>ago</td>\n",
              "      <td>0</td>\n",
              "      <td>0</td>\n",
              "      <td>1</td>\n",
              "      <td>es_LA</td>\n",
              "      <td>-7</td>\n",
              "    </tr>\n",
              "    <tr>\n",
              "      <th>3</th>\n",
              "      <td>2062477834077581</td>\n",
              "      <td>feminino</td>\n",
              "      <td>2019-07-31 05:32:48</td>\n",
              "      <td>2019</td>\n",
              "      <td>jul</td>\n",
              "      <td>0</td>\n",
              "      <td>1</td>\n",
              "      <td>0</td>\n",
              "      <td>ro_RO</td>\n",
              "      <td>3</td>\n",
              "    </tr>\n",
              "    <tr>\n",
              "      <th>4</th>\n",
              "      <td>2062477834077581</td>\n",
              "      <td>feminino</td>\n",
              "      <td>2019-07-31 05:32:09</td>\n",
              "      <td>2019</td>\n",
              "      <td>jul</td>\n",
              "      <td>0</td>\n",
              "      <td>1</td>\n",
              "      <td>0</td>\n",
              "      <td>ro_RO</td>\n",
              "      <td>3</td>\n",
              "    </tr>\n",
              "  </tbody>\n",
              "</table>\n",
              "</div>\n",
              "    <div class=\"colab-df-buttons\">\n",
              "\n",
              "  <div class=\"colab-df-container\">\n",
              "    <button class=\"colab-df-convert\" onclick=\"convertToInteractive('df-63e535f7-421a-45b1-a481-d0c46b4797a3')\"\n",
              "            title=\"Convert this dataframe to an interactive table.\"\n",
              "            style=\"display:none;\">\n",
              "\n",
              "  <svg xmlns=\"http://www.w3.org/2000/svg\" height=\"24px\" viewBox=\"0 -960 960 960\">\n",
              "    <path d=\"M120-120v-720h720v720H120Zm60-500h600v-160H180v160Zm220 220h160v-160H400v160Zm0 220h160v-160H400v160ZM180-400h160v-160H180v160Zm440 0h160v-160H620v160ZM180-180h160v-160H180v160Zm440 0h160v-160H620v160Z\"/>\n",
              "  </svg>\n",
              "    </button>\n",
              "\n",
              "  <style>\n",
              "    .colab-df-container {\n",
              "      display:flex;\n",
              "      gap: 12px;\n",
              "    }\n",
              "\n",
              "    .colab-df-convert {\n",
              "      background-color: #E8F0FE;\n",
              "      border: none;\n",
              "      border-radius: 50%;\n",
              "      cursor: pointer;\n",
              "      display: none;\n",
              "      fill: #1967D2;\n",
              "      height: 32px;\n",
              "      padding: 0 0 0 0;\n",
              "      width: 32px;\n",
              "    }\n",
              "\n",
              "    .colab-df-convert:hover {\n",
              "      background-color: #E2EBFA;\n",
              "      box-shadow: 0px 1px 2px rgba(60, 64, 67, 0.3), 0px 1px 3px 1px rgba(60, 64, 67, 0.15);\n",
              "      fill: #174EA6;\n",
              "    }\n",
              "\n",
              "    .colab-df-buttons div {\n",
              "      margin-bottom: 4px;\n",
              "    }\n",
              "\n",
              "    [theme=dark] .colab-df-convert {\n",
              "      background-color: #3B4455;\n",
              "      fill: #D2E3FC;\n",
              "    }\n",
              "\n",
              "    [theme=dark] .colab-df-convert:hover {\n",
              "      background-color: #434B5C;\n",
              "      box-shadow: 0px 1px 3px 1px rgba(0, 0, 0, 0.15);\n",
              "      filter: drop-shadow(0px 1px 2px rgba(0, 0, 0, 0.3));\n",
              "      fill: #FFFFFF;\n",
              "    }\n",
              "  </style>\n",
              "\n",
              "    <script>\n",
              "      const buttonEl =\n",
              "        document.querySelector('#df-63e535f7-421a-45b1-a481-d0c46b4797a3 button.colab-df-convert');\n",
              "      buttonEl.style.display =\n",
              "        google.colab.kernel.accessAllowed ? 'block' : 'none';\n",
              "\n",
              "      async function convertToInteractive(key) {\n",
              "        const element = document.querySelector('#df-63e535f7-421a-45b1-a481-d0c46b4797a3');\n",
              "        const dataTable =\n",
              "          await google.colab.kernel.invokeFunction('convertToInteractive',\n",
              "                                                    [key], {});\n",
              "        if (!dataTable) return;\n",
              "\n",
              "        const docLinkHtml = 'Like what you see? Visit the ' +\n",
              "          '<a target=\"_blank\" href=https://colab.research.google.com/notebooks/data_table.ipynb>data table notebook</a>'\n",
              "          + ' to learn more about interactive tables.';\n",
              "        element.innerHTML = '';\n",
              "        dataTable['output_type'] = 'display_data';\n",
              "        await google.colab.output.renderOutput(dataTable, element);\n",
              "        const docLink = document.createElement('div');\n",
              "        docLink.innerHTML = docLinkHtml;\n",
              "        element.appendChild(docLink);\n",
              "      }\n",
              "    </script>\n",
              "  </div>\n",
              "\n",
              "\n",
              "<div id=\"df-a96f9c67-fbee-4f58-9494-40889f3e1c9c\">\n",
              "  <button class=\"colab-df-quickchart\" onclick=\"quickchart('df-a96f9c67-fbee-4f58-9494-40889f3e1c9c')\"\n",
              "            title=\"Suggest charts\"\n",
              "            style=\"display:none;\">\n",
              "\n",
              "<svg xmlns=\"http://www.w3.org/2000/svg\" height=\"24px\"viewBox=\"0 0 24 24\"\n",
              "     width=\"24px\">\n",
              "    <g>\n",
              "        <path d=\"M19 3H5c-1.1 0-2 .9-2 2v14c0 1.1.9 2 2 2h14c1.1 0 2-.9 2-2V5c0-1.1-.9-2-2-2zM9 17H7v-7h2v7zm4 0h-2V7h2v10zm4 0h-2v-4h2v4z\"/>\n",
              "    </g>\n",
              "</svg>\n",
              "  </button>\n",
              "\n",
              "<style>\n",
              "  .colab-df-quickchart {\n",
              "      --bg-color: #E8F0FE;\n",
              "      --fill-color: #1967D2;\n",
              "      --hover-bg-color: #E2EBFA;\n",
              "      --hover-fill-color: #174EA6;\n",
              "      --disabled-fill-color: #AAA;\n",
              "      --disabled-bg-color: #DDD;\n",
              "  }\n",
              "\n",
              "  [theme=dark] .colab-df-quickchart {\n",
              "      --bg-color: #3B4455;\n",
              "      --fill-color: #D2E3FC;\n",
              "      --hover-bg-color: #434B5C;\n",
              "      --hover-fill-color: #FFFFFF;\n",
              "      --disabled-bg-color: #3B4455;\n",
              "      --disabled-fill-color: #666;\n",
              "  }\n",
              "\n",
              "  .colab-df-quickchart {\n",
              "    background-color: var(--bg-color);\n",
              "    border: none;\n",
              "    border-radius: 50%;\n",
              "    cursor: pointer;\n",
              "    display: none;\n",
              "    fill: var(--fill-color);\n",
              "    height: 32px;\n",
              "    padding: 0;\n",
              "    width: 32px;\n",
              "  }\n",
              "\n",
              "  .colab-df-quickchart:hover {\n",
              "    background-color: var(--hover-bg-color);\n",
              "    box-shadow: 0 1px 2px rgba(60, 64, 67, 0.3), 0 1px 3px 1px rgba(60, 64, 67, 0.15);\n",
              "    fill: var(--button-hover-fill-color);\n",
              "  }\n",
              "\n",
              "  .colab-df-quickchart-complete:disabled,\n",
              "  .colab-df-quickchart-complete:disabled:hover {\n",
              "    background-color: var(--disabled-bg-color);\n",
              "    fill: var(--disabled-fill-color);\n",
              "    box-shadow: none;\n",
              "  }\n",
              "\n",
              "  .colab-df-spinner {\n",
              "    border: 2px solid var(--fill-color);\n",
              "    border-color: transparent;\n",
              "    border-bottom-color: var(--fill-color);\n",
              "    animation:\n",
              "      spin 1s steps(1) infinite;\n",
              "  }\n",
              "\n",
              "  @keyframes spin {\n",
              "    0% {\n",
              "      border-color: transparent;\n",
              "      border-bottom-color: var(--fill-color);\n",
              "      border-left-color: var(--fill-color);\n",
              "    }\n",
              "    20% {\n",
              "      border-color: transparent;\n",
              "      border-left-color: var(--fill-color);\n",
              "      border-top-color: var(--fill-color);\n",
              "    }\n",
              "    30% {\n",
              "      border-color: transparent;\n",
              "      border-left-color: var(--fill-color);\n",
              "      border-top-color: var(--fill-color);\n",
              "      border-right-color: var(--fill-color);\n",
              "    }\n",
              "    40% {\n",
              "      border-color: transparent;\n",
              "      border-right-color: var(--fill-color);\n",
              "      border-top-color: var(--fill-color);\n",
              "    }\n",
              "    60% {\n",
              "      border-color: transparent;\n",
              "      border-right-color: var(--fill-color);\n",
              "    }\n",
              "    80% {\n",
              "      border-color: transparent;\n",
              "      border-right-color: var(--fill-color);\n",
              "      border-bottom-color: var(--fill-color);\n",
              "    }\n",
              "    90% {\n",
              "      border-color: transparent;\n",
              "      border-bottom-color: var(--fill-color);\n",
              "    }\n",
              "  }\n",
              "</style>\n",
              "\n",
              "  <script>\n",
              "    async function quickchart(key) {\n",
              "      const quickchartButtonEl =\n",
              "        document.querySelector('#' + key + ' button');\n",
              "      quickchartButtonEl.disabled = true;  // To prevent multiple clicks.\n",
              "      quickchartButtonEl.classList.add('colab-df-spinner');\n",
              "      try {\n",
              "        const charts = await google.colab.kernel.invokeFunction(\n",
              "            'suggestCharts', [key], {});\n",
              "      } catch (error) {\n",
              "        console.error('Error during call to suggestCharts:', error);\n",
              "      }\n",
              "      quickchartButtonEl.classList.remove('colab-df-spinner');\n",
              "      quickchartButtonEl.classList.add('colab-df-quickchart-complete');\n",
              "    }\n",
              "    (() => {\n",
              "      let quickchartButtonEl =\n",
              "        document.querySelector('#df-a96f9c67-fbee-4f58-9494-40889f3e1c9c button');\n",
              "      quickchartButtonEl.style.display =\n",
              "        google.colab.kernel.accessAllowed ? 'block' : 'none';\n",
              "    })();\n",
              "  </script>\n",
              "</div>\n",
              "\n",
              "    </div>\n",
              "  </div>\n"
            ],
            "application/vnd.google.colaboratory.intrinsic+json": {
              "type": "dataframe",
              "variable_name": "data",
              "summary": "{\n  \"name\": \"data\",\n  \"rows\": 5916,\n  \"fields\": [\n    {\n      \"column\": \"FBID\",\n      \"properties\": {\n        \"dtype\": \"number\",\n        \"std\": 2936273620415151,\n        \"min\": 101722973945622,\n        \"max\": 10217250012780524,\n        \"num_unique_values\": 1403,\n        \"samples\": [\n          1680472725606047,\n          174705099627095,\n          1929744787329200\n        ],\n        \"semantic_type\": \"\",\n        \"description\": \"\"\n      }\n    },\n    {\n      \"column\": \"Genero\",\n      \"properties\": {\n        \"dtype\": \"category\",\n        \"num_unique_values\": 2,\n        \"samples\": [\n          \"feminino\",\n          \"masculino\"\n        ],\n        \"semantic_type\": \"\",\n        \"description\": \"\"\n      }\n    },\n    {\n      \"column\": \"Data\",\n      \"properties\": {\n        \"dtype\": \"object\",\n        \"num_unique_values\": 5912,\n        \"samples\": [\n          \"2016-07-26 14:49:34\",\n          \"2016-08-31 20:55:10\"\n        ],\n        \"semantic_type\": \"\",\n        \"description\": \"\"\n      }\n    },\n    {\n      \"column\": \"Ano\",\n      \"properties\": {\n        \"dtype\": \"number\",\n        \"std\": 0,\n        \"min\": 2016,\n        \"max\": 2019,\n        \"num_unique_values\": 4,\n        \"samples\": [\n          2018,\n          2016\n        ],\n        \"semantic_type\": \"\",\n        \"description\": \"\"\n      }\n    },\n    {\n      \"column\": \"M\\u00eas\",\n      \"properties\": {\n        \"dtype\": \"category\",\n        \"num_unique_values\": 12,\n        \"samples\": [\n          \"jun\",\n          \"set\"\n        ],\n        \"semantic_type\": \"\",\n        \"description\": \"\"\n      }\n    },\n    {\n      \"column\": \"Modo\",\n      \"properties\": {\n        \"dtype\": \"number\",\n        \"std\": 0,\n        \"min\": 0,\n        \"max\": 2,\n        \"num_unique_values\": 3,\n        \"samples\": [\n          0,\n          1\n        ],\n        \"semantic_type\": \"\",\n        \"description\": \"\"\n      }\n    },\n    {\n      \"column\": \"Oponente\",\n      \"properties\": {\n        \"dtype\": \"number\",\n        \"std\": 0,\n        \"min\": 0,\n        \"max\": 2,\n        \"num_unique_values\": 3,\n        \"samples\": [\n          1,\n          0\n        ],\n        \"semantic_type\": \"\",\n        \"description\": \"\"\n      }\n    },\n    {\n      \"column\": \"Ganhou\",\n      \"properties\": {\n        \"dtype\": \"number\",\n        \"std\": 0,\n        \"min\": 0,\n        \"max\": 1,\n        \"num_unique_values\": 2,\n        \"samples\": [\n          1,\n          0\n        ],\n        \"semantic_type\": \"\",\n        \"description\": \"\"\n      }\n    },\n    {\n      \"column\": \"Local\",\n      \"properties\": {\n        \"dtype\": \"category\",\n        \"num_unique_values\": 49,\n        \"samples\": [\n          \"id_ID\",\n          \"fi_FI\"\n        ],\n        \"semantic_type\": \"\",\n        \"description\": \"\"\n      }\n    },\n    {\n      \"column\": \"FusoHorario\",\n      \"properties\": {\n        \"dtype\": \"number\",\n        \"std\": 3,\n        \"min\": -10,\n        \"max\": 14,\n        \"num_unique_values\": 22,\n        \"samples\": [\n          -7,\n          5\n        ],\n        \"semantic_type\": \"\",\n        \"description\": \"\"\n      }\n    }\n  ]\n}"
            }
          },
          "metadata": {},
          "execution_count": 10
        }
      ],
      "source": [
        "data.head()"
      ]
    },
    {
      "cell_type": "code",
      "execution_count": 11,
      "metadata": {
        "id": "OK_OSIHsVY1x"
      },
      "outputs": [],
      "source": [
        "a= 10"
      ]
    },
    {
      "cell_type": "code",
      "execution_count": 12,
      "metadata": {
        "id": "wFuAhOObVY1y",
        "outputId": "f73dd386-84ed-486b-81c8-0cf99b61d05d",
        "colab": {
          "base_uri": "https://localhost:8080/"
        }
      },
      "outputs": [
        {
          "output_type": "execute_result",
          "data": {
            "text/plain": [
              "10"
            ]
          },
          "metadata": {},
          "execution_count": 12
        }
      ],
      "source": [
        "a"
      ]
    },
    {
      "cell_type": "code",
      "execution_count": 13,
      "metadata": {
        "id": "9TmcThiYVY1y",
        "outputId": "56c0f10f-0023-4cea-8dbf-ff0a4f1092d3",
        "colab": {
          "base_uri": "https://localhost:8080/",
          "height": 363
        }
      },
      "outputs": [
        {
          "output_type": "execute_result",
          "data": {
            "text/plain": [
              "               FBID     Genero                 Data   Ano  Mês  Modo  \\\n",
              "0   608448532822311  masculino  2019-08-02 02:19:46  2019  ago     0   \n",
              "1   608448532822311  masculino  2019-08-02 02:19:03  2019  ago     1   \n",
              "2   608448532822311  masculino  2019-08-02 02:16:54  2019  ago     0   \n",
              "3  2062477834077581   feminino  2019-07-31 05:32:48  2019  jul     0   \n",
              "4  2062477834077581   feminino  2019-07-31 05:32:09  2019  jul     0   \n",
              "5  2076213719265645  masculino  2019-07-28 14:56:29  2019  jul     0   \n",
              "6  2076213719265645  masculino  2019-07-27 08:56:09  2019  jul     0   \n",
              "7  2076213719265645  masculino  2019-07-27 08:55:37  2019  jul     0   \n",
              "8  2076213719265645  masculino  2019-07-27 08:55:03  2019  jul     0   \n",
              "9  2076213719265645  masculino  2019-07-27 08:53:00  2019  jul     1   \n",
              "\n",
              "   Oponente  Ganhou  Local  FusoHorario  \n",
              "0         1       0  es_LA           -7  \n",
              "1         0       0  es_LA           -7  \n",
              "2         0       1  es_LA           -7  \n",
              "3         1       0  ro_RO            3  \n",
              "4         1       0  ro_RO            3  \n",
              "5         0       0  en_US            2  \n",
              "6         2       0  en_US            2  \n",
              "7         2       0  en_US            2  \n",
              "8         2       0  en_US            2  \n",
              "9         0       0  en_US            2  "
            ],
            "text/html": [
              "\n",
              "  <div id=\"df-c4f9288a-a846-4555-b400-c26eb6730eca\" class=\"colab-df-container\">\n",
              "    <div>\n",
              "<style scoped>\n",
              "    .dataframe tbody tr th:only-of-type {\n",
              "        vertical-align: middle;\n",
              "    }\n",
              "\n",
              "    .dataframe tbody tr th {\n",
              "        vertical-align: top;\n",
              "    }\n",
              "\n",
              "    .dataframe thead th {\n",
              "        text-align: right;\n",
              "    }\n",
              "</style>\n",
              "<table border=\"1\" class=\"dataframe\">\n",
              "  <thead>\n",
              "    <tr style=\"text-align: right;\">\n",
              "      <th></th>\n",
              "      <th>FBID</th>\n",
              "      <th>Genero</th>\n",
              "      <th>Data</th>\n",
              "      <th>Ano</th>\n",
              "      <th>Mês</th>\n",
              "      <th>Modo</th>\n",
              "      <th>Oponente</th>\n",
              "      <th>Ganhou</th>\n",
              "      <th>Local</th>\n",
              "      <th>FusoHorario</th>\n",
              "    </tr>\n",
              "  </thead>\n",
              "  <tbody>\n",
              "    <tr>\n",
              "      <th>0</th>\n",
              "      <td>608448532822311</td>\n",
              "      <td>masculino</td>\n",
              "      <td>2019-08-02 02:19:46</td>\n",
              "      <td>2019</td>\n",
              "      <td>ago</td>\n",
              "      <td>0</td>\n",
              "      <td>1</td>\n",
              "      <td>0</td>\n",
              "      <td>es_LA</td>\n",
              "      <td>-7</td>\n",
              "    </tr>\n",
              "    <tr>\n",
              "      <th>1</th>\n",
              "      <td>608448532822311</td>\n",
              "      <td>masculino</td>\n",
              "      <td>2019-08-02 02:19:03</td>\n",
              "      <td>2019</td>\n",
              "      <td>ago</td>\n",
              "      <td>1</td>\n",
              "      <td>0</td>\n",
              "      <td>0</td>\n",
              "      <td>es_LA</td>\n",
              "      <td>-7</td>\n",
              "    </tr>\n",
              "    <tr>\n",
              "      <th>2</th>\n",
              "      <td>608448532822311</td>\n",
              "      <td>masculino</td>\n",
              "      <td>2019-08-02 02:16:54</td>\n",
              "      <td>2019</td>\n",
              "      <td>ago</td>\n",
              "      <td>0</td>\n",
              "      <td>0</td>\n",
              "      <td>1</td>\n",
              "      <td>es_LA</td>\n",
              "      <td>-7</td>\n",
              "    </tr>\n",
              "    <tr>\n",
              "      <th>3</th>\n",
              "      <td>2062477834077581</td>\n",
              "      <td>feminino</td>\n",
              "      <td>2019-07-31 05:32:48</td>\n",
              "      <td>2019</td>\n",
              "      <td>jul</td>\n",
              "      <td>0</td>\n",
              "      <td>1</td>\n",
              "      <td>0</td>\n",
              "      <td>ro_RO</td>\n",
              "      <td>3</td>\n",
              "    </tr>\n",
              "    <tr>\n",
              "      <th>4</th>\n",
              "      <td>2062477834077581</td>\n",
              "      <td>feminino</td>\n",
              "      <td>2019-07-31 05:32:09</td>\n",
              "      <td>2019</td>\n",
              "      <td>jul</td>\n",
              "      <td>0</td>\n",
              "      <td>1</td>\n",
              "      <td>0</td>\n",
              "      <td>ro_RO</td>\n",
              "      <td>3</td>\n",
              "    </tr>\n",
              "    <tr>\n",
              "      <th>5</th>\n",
              "      <td>2076213719265645</td>\n",
              "      <td>masculino</td>\n",
              "      <td>2019-07-28 14:56:29</td>\n",
              "      <td>2019</td>\n",
              "      <td>jul</td>\n",
              "      <td>0</td>\n",
              "      <td>0</td>\n",
              "      <td>0</td>\n",
              "      <td>en_US</td>\n",
              "      <td>2</td>\n",
              "    </tr>\n",
              "    <tr>\n",
              "      <th>6</th>\n",
              "      <td>2076213719265645</td>\n",
              "      <td>masculino</td>\n",
              "      <td>2019-07-27 08:56:09</td>\n",
              "      <td>2019</td>\n",
              "      <td>jul</td>\n",
              "      <td>0</td>\n",
              "      <td>2</td>\n",
              "      <td>0</td>\n",
              "      <td>en_US</td>\n",
              "      <td>2</td>\n",
              "    </tr>\n",
              "    <tr>\n",
              "      <th>7</th>\n",
              "      <td>2076213719265645</td>\n",
              "      <td>masculino</td>\n",
              "      <td>2019-07-27 08:55:37</td>\n",
              "      <td>2019</td>\n",
              "      <td>jul</td>\n",
              "      <td>0</td>\n",
              "      <td>2</td>\n",
              "      <td>0</td>\n",
              "      <td>en_US</td>\n",
              "      <td>2</td>\n",
              "    </tr>\n",
              "    <tr>\n",
              "      <th>8</th>\n",
              "      <td>2076213719265645</td>\n",
              "      <td>masculino</td>\n",
              "      <td>2019-07-27 08:55:03</td>\n",
              "      <td>2019</td>\n",
              "      <td>jul</td>\n",
              "      <td>0</td>\n",
              "      <td>2</td>\n",
              "      <td>0</td>\n",
              "      <td>en_US</td>\n",
              "      <td>2</td>\n",
              "    </tr>\n",
              "    <tr>\n",
              "      <th>9</th>\n",
              "      <td>2076213719265645</td>\n",
              "      <td>masculino</td>\n",
              "      <td>2019-07-27 08:53:00</td>\n",
              "      <td>2019</td>\n",
              "      <td>jul</td>\n",
              "      <td>1</td>\n",
              "      <td>0</td>\n",
              "      <td>0</td>\n",
              "      <td>en_US</td>\n",
              "      <td>2</td>\n",
              "    </tr>\n",
              "  </tbody>\n",
              "</table>\n",
              "</div>\n",
              "    <div class=\"colab-df-buttons\">\n",
              "\n",
              "  <div class=\"colab-df-container\">\n",
              "    <button class=\"colab-df-convert\" onclick=\"convertToInteractive('df-c4f9288a-a846-4555-b400-c26eb6730eca')\"\n",
              "            title=\"Convert this dataframe to an interactive table.\"\n",
              "            style=\"display:none;\">\n",
              "\n",
              "  <svg xmlns=\"http://www.w3.org/2000/svg\" height=\"24px\" viewBox=\"0 -960 960 960\">\n",
              "    <path d=\"M120-120v-720h720v720H120Zm60-500h600v-160H180v160Zm220 220h160v-160H400v160Zm0 220h160v-160H400v160ZM180-400h160v-160H180v160Zm440 0h160v-160H620v160ZM180-180h160v-160H180v160Zm440 0h160v-160H620v160Z\"/>\n",
              "  </svg>\n",
              "    </button>\n",
              "\n",
              "  <style>\n",
              "    .colab-df-container {\n",
              "      display:flex;\n",
              "      gap: 12px;\n",
              "    }\n",
              "\n",
              "    .colab-df-convert {\n",
              "      background-color: #E8F0FE;\n",
              "      border: none;\n",
              "      border-radius: 50%;\n",
              "      cursor: pointer;\n",
              "      display: none;\n",
              "      fill: #1967D2;\n",
              "      height: 32px;\n",
              "      padding: 0 0 0 0;\n",
              "      width: 32px;\n",
              "    }\n",
              "\n",
              "    .colab-df-convert:hover {\n",
              "      background-color: #E2EBFA;\n",
              "      box-shadow: 0px 1px 2px rgba(60, 64, 67, 0.3), 0px 1px 3px 1px rgba(60, 64, 67, 0.15);\n",
              "      fill: #174EA6;\n",
              "    }\n",
              "\n",
              "    .colab-df-buttons div {\n",
              "      margin-bottom: 4px;\n",
              "    }\n",
              "\n",
              "    [theme=dark] .colab-df-convert {\n",
              "      background-color: #3B4455;\n",
              "      fill: #D2E3FC;\n",
              "    }\n",
              "\n",
              "    [theme=dark] .colab-df-convert:hover {\n",
              "      background-color: #434B5C;\n",
              "      box-shadow: 0px 1px 3px 1px rgba(0, 0, 0, 0.15);\n",
              "      filter: drop-shadow(0px 1px 2px rgba(0, 0, 0, 0.3));\n",
              "      fill: #FFFFFF;\n",
              "    }\n",
              "  </style>\n",
              "\n",
              "    <script>\n",
              "      const buttonEl =\n",
              "        document.querySelector('#df-c4f9288a-a846-4555-b400-c26eb6730eca button.colab-df-convert');\n",
              "      buttonEl.style.display =\n",
              "        google.colab.kernel.accessAllowed ? 'block' : 'none';\n",
              "\n",
              "      async function convertToInteractive(key) {\n",
              "        const element = document.querySelector('#df-c4f9288a-a846-4555-b400-c26eb6730eca');\n",
              "        const dataTable =\n",
              "          await google.colab.kernel.invokeFunction('convertToInteractive',\n",
              "                                                    [key], {});\n",
              "        if (!dataTable) return;\n",
              "\n",
              "        const docLinkHtml = 'Like what you see? Visit the ' +\n",
              "          '<a target=\"_blank\" href=https://colab.research.google.com/notebooks/data_table.ipynb>data table notebook</a>'\n",
              "          + ' to learn more about interactive tables.';\n",
              "        element.innerHTML = '';\n",
              "        dataTable['output_type'] = 'display_data';\n",
              "        await google.colab.output.renderOutput(dataTable, element);\n",
              "        const docLink = document.createElement('div');\n",
              "        docLink.innerHTML = docLinkHtml;\n",
              "        element.appendChild(docLink);\n",
              "      }\n",
              "    </script>\n",
              "  </div>\n",
              "\n",
              "\n",
              "<div id=\"df-40bde9c9-f6a7-4860-a682-0b2753146771\">\n",
              "  <button class=\"colab-df-quickchart\" onclick=\"quickchart('df-40bde9c9-f6a7-4860-a682-0b2753146771')\"\n",
              "            title=\"Suggest charts\"\n",
              "            style=\"display:none;\">\n",
              "\n",
              "<svg xmlns=\"http://www.w3.org/2000/svg\" height=\"24px\"viewBox=\"0 0 24 24\"\n",
              "     width=\"24px\">\n",
              "    <g>\n",
              "        <path d=\"M19 3H5c-1.1 0-2 .9-2 2v14c0 1.1.9 2 2 2h14c1.1 0 2-.9 2-2V5c0-1.1-.9-2-2-2zM9 17H7v-7h2v7zm4 0h-2V7h2v10zm4 0h-2v-4h2v4z\"/>\n",
              "    </g>\n",
              "</svg>\n",
              "  </button>\n",
              "\n",
              "<style>\n",
              "  .colab-df-quickchart {\n",
              "      --bg-color: #E8F0FE;\n",
              "      --fill-color: #1967D2;\n",
              "      --hover-bg-color: #E2EBFA;\n",
              "      --hover-fill-color: #174EA6;\n",
              "      --disabled-fill-color: #AAA;\n",
              "      --disabled-bg-color: #DDD;\n",
              "  }\n",
              "\n",
              "  [theme=dark] .colab-df-quickchart {\n",
              "      --bg-color: #3B4455;\n",
              "      --fill-color: #D2E3FC;\n",
              "      --hover-bg-color: #434B5C;\n",
              "      --hover-fill-color: #FFFFFF;\n",
              "      --disabled-bg-color: #3B4455;\n",
              "      --disabled-fill-color: #666;\n",
              "  }\n",
              "\n",
              "  .colab-df-quickchart {\n",
              "    background-color: var(--bg-color);\n",
              "    border: none;\n",
              "    border-radius: 50%;\n",
              "    cursor: pointer;\n",
              "    display: none;\n",
              "    fill: var(--fill-color);\n",
              "    height: 32px;\n",
              "    padding: 0;\n",
              "    width: 32px;\n",
              "  }\n",
              "\n",
              "  .colab-df-quickchart:hover {\n",
              "    background-color: var(--hover-bg-color);\n",
              "    box-shadow: 0 1px 2px rgba(60, 64, 67, 0.3), 0 1px 3px 1px rgba(60, 64, 67, 0.15);\n",
              "    fill: var(--button-hover-fill-color);\n",
              "  }\n",
              "\n",
              "  .colab-df-quickchart-complete:disabled,\n",
              "  .colab-df-quickchart-complete:disabled:hover {\n",
              "    background-color: var(--disabled-bg-color);\n",
              "    fill: var(--disabled-fill-color);\n",
              "    box-shadow: none;\n",
              "  }\n",
              "\n",
              "  .colab-df-spinner {\n",
              "    border: 2px solid var(--fill-color);\n",
              "    border-color: transparent;\n",
              "    border-bottom-color: var(--fill-color);\n",
              "    animation:\n",
              "      spin 1s steps(1) infinite;\n",
              "  }\n",
              "\n",
              "  @keyframes spin {\n",
              "    0% {\n",
              "      border-color: transparent;\n",
              "      border-bottom-color: var(--fill-color);\n",
              "      border-left-color: var(--fill-color);\n",
              "    }\n",
              "    20% {\n",
              "      border-color: transparent;\n",
              "      border-left-color: var(--fill-color);\n",
              "      border-top-color: var(--fill-color);\n",
              "    }\n",
              "    30% {\n",
              "      border-color: transparent;\n",
              "      border-left-color: var(--fill-color);\n",
              "      border-top-color: var(--fill-color);\n",
              "      border-right-color: var(--fill-color);\n",
              "    }\n",
              "    40% {\n",
              "      border-color: transparent;\n",
              "      border-right-color: var(--fill-color);\n",
              "      border-top-color: var(--fill-color);\n",
              "    }\n",
              "    60% {\n",
              "      border-color: transparent;\n",
              "      border-right-color: var(--fill-color);\n",
              "    }\n",
              "    80% {\n",
              "      border-color: transparent;\n",
              "      border-right-color: var(--fill-color);\n",
              "      border-bottom-color: var(--fill-color);\n",
              "    }\n",
              "    90% {\n",
              "      border-color: transparent;\n",
              "      border-bottom-color: var(--fill-color);\n",
              "    }\n",
              "  }\n",
              "</style>\n",
              "\n",
              "  <script>\n",
              "    async function quickchart(key) {\n",
              "      const quickchartButtonEl =\n",
              "        document.querySelector('#' + key + ' button');\n",
              "      quickchartButtonEl.disabled = true;  // To prevent multiple clicks.\n",
              "      quickchartButtonEl.classList.add('colab-df-spinner');\n",
              "      try {\n",
              "        const charts = await google.colab.kernel.invokeFunction(\n",
              "            'suggestCharts', [key], {});\n",
              "      } catch (error) {\n",
              "        console.error('Error during call to suggestCharts:', error);\n",
              "      }\n",
              "      quickchartButtonEl.classList.remove('colab-df-spinner');\n",
              "      quickchartButtonEl.classList.add('colab-df-quickchart-complete');\n",
              "    }\n",
              "    (() => {\n",
              "      let quickchartButtonEl =\n",
              "        document.querySelector('#df-40bde9c9-f6a7-4860-a682-0b2753146771 button');\n",
              "      quickchartButtonEl.style.display =\n",
              "        google.colab.kernel.accessAllowed ? 'block' : 'none';\n",
              "    })();\n",
              "  </script>\n",
              "</div>\n",
              "\n",
              "    </div>\n",
              "  </div>\n"
            ],
            "application/vnd.google.colaboratory.intrinsic+json": {
              "type": "dataframe",
              "variable_name": "data",
              "summary": "{\n  \"name\": \"data\",\n  \"rows\": 5916,\n  \"fields\": [\n    {\n      \"column\": \"FBID\",\n      \"properties\": {\n        \"dtype\": \"number\",\n        \"std\": 2936273620415151,\n        \"min\": 101722973945622,\n        \"max\": 10217250012780524,\n        \"num_unique_values\": 1403,\n        \"samples\": [\n          1680472725606047,\n          174705099627095,\n          1929744787329200\n        ],\n        \"semantic_type\": \"\",\n        \"description\": \"\"\n      }\n    },\n    {\n      \"column\": \"Genero\",\n      \"properties\": {\n        \"dtype\": \"category\",\n        \"num_unique_values\": 2,\n        \"samples\": [\n          \"feminino\",\n          \"masculino\"\n        ],\n        \"semantic_type\": \"\",\n        \"description\": \"\"\n      }\n    },\n    {\n      \"column\": \"Data\",\n      \"properties\": {\n        \"dtype\": \"object\",\n        \"num_unique_values\": 5912,\n        \"samples\": [\n          \"2016-07-26 14:49:34\",\n          \"2016-08-31 20:55:10\"\n        ],\n        \"semantic_type\": \"\",\n        \"description\": \"\"\n      }\n    },\n    {\n      \"column\": \"Ano\",\n      \"properties\": {\n        \"dtype\": \"number\",\n        \"std\": 0,\n        \"min\": 2016,\n        \"max\": 2019,\n        \"num_unique_values\": 4,\n        \"samples\": [\n          2018,\n          2016\n        ],\n        \"semantic_type\": \"\",\n        \"description\": \"\"\n      }\n    },\n    {\n      \"column\": \"M\\u00eas\",\n      \"properties\": {\n        \"dtype\": \"category\",\n        \"num_unique_values\": 12,\n        \"samples\": [\n          \"jun\",\n          \"set\"\n        ],\n        \"semantic_type\": \"\",\n        \"description\": \"\"\n      }\n    },\n    {\n      \"column\": \"Modo\",\n      \"properties\": {\n        \"dtype\": \"number\",\n        \"std\": 0,\n        \"min\": 0,\n        \"max\": 2,\n        \"num_unique_values\": 3,\n        \"samples\": [\n          0,\n          1\n        ],\n        \"semantic_type\": \"\",\n        \"description\": \"\"\n      }\n    },\n    {\n      \"column\": \"Oponente\",\n      \"properties\": {\n        \"dtype\": \"number\",\n        \"std\": 0,\n        \"min\": 0,\n        \"max\": 2,\n        \"num_unique_values\": 3,\n        \"samples\": [\n          1,\n          0\n        ],\n        \"semantic_type\": \"\",\n        \"description\": \"\"\n      }\n    },\n    {\n      \"column\": \"Ganhou\",\n      \"properties\": {\n        \"dtype\": \"number\",\n        \"std\": 0,\n        \"min\": 0,\n        \"max\": 1,\n        \"num_unique_values\": 2,\n        \"samples\": [\n          1,\n          0\n        ],\n        \"semantic_type\": \"\",\n        \"description\": \"\"\n      }\n    },\n    {\n      \"column\": \"Local\",\n      \"properties\": {\n        \"dtype\": \"category\",\n        \"num_unique_values\": 49,\n        \"samples\": [\n          \"id_ID\",\n          \"fi_FI\"\n        ],\n        \"semantic_type\": \"\",\n        \"description\": \"\"\n      }\n    },\n    {\n      \"column\": \"FusoHorario\",\n      \"properties\": {\n        \"dtype\": \"number\",\n        \"std\": 3,\n        \"min\": -10,\n        \"max\": 14,\n        \"num_unique_values\": 22,\n        \"samples\": [\n          -7,\n          5\n        ],\n        \"semantic_type\": \"\",\n        \"description\": \"\"\n      }\n    }\n  ]\n}"
            }
          },
          "metadata": {},
          "execution_count": 13
        }
      ],
      "source": [
        "data.head(n=10)"
      ]
    },
    {
      "cell_type": "code",
      "execution_count": 14,
      "metadata": {
        "id": "PKeu0c2xVY1y",
        "outputId": "2391d8d8-bf35-4eb3-8b2e-9c29d3cccebb",
        "colab": {
          "base_uri": "https://localhost:8080/",
          "height": 206
        }
      },
      "outputs": [
        {
          "output_type": "execute_result",
          "data": {
            "text/plain": [
              "                   FBID     Genero                 Data   Ano  Mês  Modo  \\\n",
              "5911   1036361163078035  masculino  2016-07-26 14:41:58  2016  jul     0   \n",
              "5912  10153561414982237  masculino  2016-07-26 02:57:59  2016  jul     0   \n",
              "5913  10153561414982237  masculino  2016-07-26 02:12:39  2016  jul     0   \n",
              "5914  10153561414982237  masculino  2016-07-26 01:47:22  2016  jul     0   \n",
              "5915  10153561414982237  masculino  2016-07-26 01:46:05  2016  jul     0   \n",
              "\n",
              "      Oponente  Ganhou  Local  FusoHorario  \n",
              "5911         0       1  fr_FR           -3  \n",
              "5912         0       0  pt_BR           -3  \n",
              "5913         0       0  pt_BR           -3  \n",
              "5914         1       0  pt_BR           -3  \n",
              "5915         0       1  pt_BR           -3  "
            ],
            "text/html": [
              "\n",
              "  <div id=\"df-27b5608f-b2e1-4cee-8fcf-a65b556e0c09\" class=\"colab-df-container\">\n",
              "    <div>\n",
              "<style scoped>\n",
              "    .dataframe tbody tr th:only-of-type {\n",
              "        vertical-align: middle;\n",
              "    }\n",
              "\n",
              "    .dataframe tbody tr th {\n",
              "        vertical-align: top;\n",
              "    }\n",
              "\n",
              "    .dataframe thead th {\n",
              "        text-align: right;\n",
              "    }\n",
              "</style>\n",
              "<table border=\"1\" class=\"dataframe\">\n",
              "  <thead>\n",
              "    <tr style=\"text-align: right;\">\n",
              "      <th></th>\n",
              "      <th>FBID</th>\n",
              "      <th>Genero</th>\n",
              "      <th>Data</th>\n",
              "      <th>Ano</th>\n",
              "      <th>Mês</th>\n",
              "      <th>Modo</th>\n",
              "      <th>Oponente</th>\n",
              "      <th>Ganhou</th>\n",
              "      <th>Local</th>\n",
              "      <th>FusoHorario</th>\n",
              "    </tr>\n",
              "  </thead>\n",
              "  <tbody>\n",
              "    <tr>\n",
              "      <th>5911</th>\n",
              "      <td>1036361163078035</td>\n",
              "      <td>masculino</td>\n",
              "      <td>2016-07-26 14:41:58</td>\n",
              "      <td>2016</td>\n",
              "      <td>jul</td>\n",
              "      <td>0</td>\n",
              "      <td>0</td>\n",
              "      <td>1</td>\n",
              "      <td>fr_FR</td>\n",
              "      <td>-3</td>\n",
              "    </tr>\n",
              "    <tr>\n",
              "      <th>5912</th>\n",
              "      <td>10153561414982237</td>\n",
              "      <td>masculino</td>\n",
              "      <td>2016-07-26 02:57:59</td>\n",
              "      <td>2016</td>\n",
              "      <td>jul</td>\n",
              "      <td>0</td>\n",
              "      <td>0</td>\n",
              "      <td>0</td>\n",
              "      <td>pt_BR</td>\n",
              "      <td>-3</td>\n",
              "    </tr>\n",
              "    <tr>\n",
              "      <th>5913</th>\n",
              "      <td>10153561414982237</td>\n",
              "      <td>masculino</td>\n",
              "      <td>2016-07-26 02:12:39</td>\n",
              "      <td>2016</td>\n",
              "      <td>jul</td>\n",
              "      <td>0</td>\n",
              "      <td>0</td>\n",
              "      <td>0</td>\n",
              "      <td>pt_BR</td>\n",
              "      <td>-3</td>\n",
              "    </tr>\n",
              "    <tr>\n",
              "      <th>5914</th>\n",
              "      <td>10153561414982237</td>\n",
              "      <td>masculino</td>\n",
              "      <td>2016-07-26 01:47:22</td>\n",
              "      <td>2016</td>\n",
              "      <td>jul</td>\n",
              "      <td>0</td>\n",
              "      <td>1</td>\n",
              "      <td>0</td>\n",
              "      <td>pt_BR</td>\n",
              "      <td>-3</td>\n",
              "    </tr>\n",
              "    <tr>\n",
              "      <th>5915</th>\n",
              "      <td>10153561414982237</td>\n",
              "      <td>masculino</td>\n",
              "      <td>2016-07-26 01:46:05</td>\n",
              "      <td>2016</td>\n",
              "      <td>jul</td>\n",
              "      <td>0</td>\n",
              "      <td>0</td>\n",
              "      <td>1</td>\n",
              "      <td>pt_BR</td>\n",
              "      <td>-3</td>\n",
              "    </tr>\n",
              "  </tbody>\n",
              "</table>\n",
              "</div>\n",
              "    <div class=\"colab-df-buttons\">\n",
              "\n",
              "  <div class=\"colab-df-container\">\n",
              "    <button class=\"colab-df-convert\" onclick=\"convertToInteractive('df-27b5608f-b2e1-4cee-8fcf-a65b556e0c09')\"\n",
              "            title=\"Convert this dataframe to an interactive table.\"\n",
              "            style=\"display:none;\">\n",
              "\n",
              "  <svg xmlns=\"http://www.w3.org/2000/svg\" height=\"24px\" viewBox=\"0 -960 960 960\">\n",
              "    <path d=\"M120-120v-720h720v720H120Zm60-500h600v-160H180v160Zm220 220h160v-160H400v160Zm0 220h160v-160H400v160ZM180-400h160v-160H180v160Zm440 0h160v-160H620v160ZM180-180h160v-160H180v160Zm440 0h160v-160H620v160Z\"/>\n",
              "  </svg>\n",
              "    </button>\n",
              "\n",
              "  <style>\n",
              "    .colab-df-container {\n",
              "      display:flex;\n",
              "      gap: 12px;\n",
              "    }\n",
              "\n",
              "    .colab-df-convert {\n",
              "      background-color: #E8F0FE;\n",
              "      border: none;\n",
              "      border-radius: 50%;\n",
              "      cursor: pointer;\n",
              "      display: none;\n",
              "      fill: #1967D2;\n",
              "      height: 32px;\n",
              "      padding: 0 0 0 0;\n",
              "      width: 32px;\n",
              "    }\n",
              "\n",
              "    .colab-df-convert:hover {\n",
              "      background-color: #E2EBFA;\n",
              "      box-shadow: 0px 1px 2px rgba(60, 64, 67, 0.3), 0px 1px 3px 1px rgba(60, 64, 67, 0.15);\n",
              "      fill: #174EA6;\n",
              "    }\n",
              "\n",
              "    .colab-df-buttons div {\n",
              "      margin-bottom: 4px;\n",
              "    }\n",
              "\n",
              "    [theme=dark] .colab-df-convert {\n",
              "      background-color: #3B4455;\n",
              "      fill: #D2E3FC;\n",
              "    }\n",
              "\n",
              "    [theme=dark] .colab-df-convert:hover {\n",
              "      background-color: #434B5C;\n",
              "      box-shadow: 0px 1px 3px 1px rgba(0, 0, 0, 0.15);\n",
              "      filter: drop-shadow(0px 1px 2px rgba(0, 0, 0, 0.3));\n",
              "      fill: #FFFFFF;\n",
              "    }\n",
              "  </style>\n",
              "\n",
              "    <script>\n",
              "      const buttonEl =\n",
              "        document.querySelector('#df-27b5608f-b2e1-4cee-8fcf-a65b556e0c09 button.colab-df-convert');\n",
              "      buttonEl.style.display =\n",
              "        google.colab.kernel.accessAllowed ? 'block' : 'none';\n",
              "\n",
              "      async function convertToInteractive(key) {\n",
              "        const element = document.querySelector('#df-27b5608f-b2e1-4cee-8fcf-a65b556e0c09');\n",
              "        const dataTable =\n",
              "          await google.colab.kernel.invokeFunction('convertToInteractive',\n",
              "                                                    [key], {});\n",
              "        if (!dataTable) return;\n",
              "\n",
              "        const docLinkHtml = 'Like what you see? Visit the ' +\n",
              "          '<a target=\"_blank\" href=https://colab.research.google.com/notebooks/data_table.ipynb>data table notebook</a>'\n",
              "          + ' to learn more about interactive tables.';\n",
              "        element.innerHTML = '';\n",
              "        dataTable['output_type'] = 'display_data';\n",
              "        await google.colab.output.renderOutput(dataTable, element);\n",
              "        const docLink = document.createElement('div');\n",
              "        docLink.innerHTML = docLinkHtml;\n",
              "        element.appendChild(docLink);\n",
              "      }\n",
              "    </script>\n",
              "  </div>\n",
              "\n",
              "\n",
              "<div id=\"df-b83c914b-6a1e-41c7-ad23-40e9d1e65ab0\">\n",
              "  <button class=\"colab-df-quickchart\" onclick=\"quickchart('df-b83c914b-6a1e-41c7-ad23-40e9d1e65ab0')\"\n",
              "            title=\"Suggest charts\"\n",
              "            style=\"display:none;\">\n",
              "\n",
              "<svg xmlns=\"http://www.w3.org/2000/svg\" height=\"24px\"viewBox=\"0 0 24 24\"\n",
              "     width=\"24px\">\n",
              "    <g>\n",
              "        <path d=\"M19 3H5c-1.1 0-2 .9-2 2v14c0 1.1.9 2 2 2h14c1.1 0 2-.9 2-2V5c0-1.1-.9-2-2-2zM9 17H7v-7h2v7zm4 0h-2V7h2v10zm4 0h-2v-4h2v4z\"/>\n",
              "    </g>\n",
              "</svg>\n",
              "  </button>\n",
              "\n",
              "<style>\n",
              "  .colab-df-quickchart {\n",
              "      --bg-color: #E8F0FE;\n",
              "      --fill-color: #1967D2;\n",
              "      --hover-bg-color: #E2EBFA;\n",
              "      --hover-fill-color: #174EA6;\n",
              "      --disabled-fill-color: #AAA;\n",
              "      --disabled-bg-color: #DDD;\n",
              "  }\n",
              "\n",
              "  [theme=dark] .colab-df-quickchart {\n",
              "      --bg-color: #3B4455;\n",
              "      --fill-color: #D2E3FC;\n",
              "      --hover-bg-color: #434B5C;\n",
              "      --hover-fill-color: #FFFFFF;\n",
              "      --disabled-bg-color: #3B4455;\n",
              "      --disabled-fill-color: #666;\n",
              "  }\n",
              "\n",
              "  .colab-df-quickchart {\n",
              "    background-color: var(--bg-color);\n",
              "    border: none;\n",
              "    border-radius: 50%;\n",
              "    cursor: pointer;\n",
              "    display: none;\n",
              "    fill: var(--fill-color);\n",
              "    height: 32px;\n",
              "    padding: 0;\n",
              "    width: 32px;\n",
              "  }\n",
              "\n",
              "  .colab-df-quickchart:hover {\n",
              "    background-color: var(--hover-bg-color);\n",
              "    box-shadow: 0 1px 2px rgba(60, 64, 67, 0.3), 0 1px 3px 1px rgba(60, 64, 67, 0.15);\n",
              "    fill: var(--button-hover-fill-color);\n",
              "  }\n",
              "\n",
              "  .colab-df-quickchart-complete:disabled,\n",
              "  .colab-df-quickchart-complete:disabled:hover {\n",
              "    background-color: var(--disabled-bg-color);\n",
              "    fill: var(--disabled-fill-color);\n",
              "    box-shadow: none;\n",
              "  }\n",
              "\n",
              "  .colab-df-spinner {\n",
              "    border: 2px solid var(--fill-color);\n",
              "    border-color: transparent;\n",
              "    border-bottom-color: var(--fill-color);\n",
              "    animation:\n",
              "      spin 1s steps(1) infinite;\n",
              "  }\n",
              "\n",
              "  @keyframes spin {\n",
              "    0% {\n",
              "      border-color: transparent;\n",
              "      border-bottom-color: var(--fill-color);\n",
              "      border-left-color: var(--fill-color);\n",
              "    }\n",
              "    20% {\n",
              "      border-color: transparent;\n",
              "      border-left-color: var(--fill-color);\n",
              "      border-top-color: var(--fill-color);\n",
              "    }\n",
              "    30% {\n",
              "      border-color: transparent;\n",
              "      border-left-color: var(--fill-color);\n",
              "      border-top-color: var(--fill-color);\n",
              "      border-right-color: var(--fill-color);\n",
              "    }\n",
              "    40% {\n",
              "      border-color: transparent;\n",
              "      border-right-color: var(--fill-color);\n",
              "      border-top-color: var(--fill-color);\n",
              "    }\n",
              "    60% {\n",
              "      border-color: transparent;\n",
              "      border-right-color: var(--fill-color);\n",
              "    }\n",
              "    80% {\n",
              "      border-color: transparent;\n",
              "      border-right-color: var(--fill-color);\n",
              "      border-bottom-color: var(--fill-color);\n",
              "    }\n",
              "    90% {\n",
              "      border-color: transparent;\n",
              "      border-bottom-color: var(--fill-color);\n",
              "    }\n",
              "  }\n",
              "</style>\n",
              "\n",
              "  <script>\n",
              "    async function quickchart(key) {\n",
              "      const quickchartButtonEl =\n",
              "        document.querySelector('#' + key + ' button');\n",
              "      quickchartButtonEl.disabled = true;  // To prevent multiple clicks.\n",
              "      quickchartButtonEl.classList.add('colab-df-spinner');\n",
              "      try {\n",
              "        const charts = await google.colab.kernel.invokeFunction(\n",
              "            'suggestCharts', [key], {});\n",
              "      } catch (error) {\n",
              "        console.error('Error during call to suggestCharts:', error);\n",
              "      }\n",
              "      quickchartButtonEl.classList.remove('colab-df-spinner');\n",
              "      quickchartButtonEl.classList.add('colab-df-quickchart-complete');\n",
              "    }\n",
              "    (() => {\n",
              "      let quickchartButtonEl =\n",
              "        document.querySelector('#df-b83c914b-6a1e-41c7-ad23-40e9d1e65ab0 button');\n",
              "      quickchartButtonEl.style.display =\n",
              "        google.colab.kernel.accessAllowed ? 'block' : 'none';\n",
              "    })();\n",
              "  </script>\n",
              "</div>\n",
              "\n",
              "    </div>\n",
              "  </div>\n"
            ],
            "application/vnd.google.colaboratory.intrinsic+json": {
              "type": "dataframe",
              "repr_error": "0"
            }
          },
          "metadata": {},
          "execution_count": 14
        }
      ],
      "source": [
        "data.tail()"
      ]
    },
    {
      "cell_type": "code",
      "execution_count": 15,
      "metadata": {
        "scrolled": true,
        "id": "DkoAa5AEVY1z",
        "outputId": "1c5f3ae2-9a38-425e-cb33-2cd932488d72",
        "colab": {
          "base_uri": "https://localhost:8080/",
          "height": 363
        }
      },
      "outputs": [
        {
          "output_type": "execute_result",
          "data": {
            "text/plain": [
              "                   FBID     Genero                 Data   Ano  Mês  Modo  \\\n",
              "5906  10153799677118014   feminino  2016-07-26 14:49:28  2016  jul     0   \n",
              "5907  10153799677118014   feminino  2016-07-26 14:48:49  2016  jul     0   \n",
              "5908   1190766150974044   feminino  2016-07-26 14:48:35  2016  jul     0   \n",
              "5909  10153799677118014   feminino  2016-07-26 14:48:08  2016  jul     0   \n",
              "5910   1036361163078035  masculino  2016-07-26 14:42:36  2016  jul     1   \n",
              "5911   1036361163078035  masculino  2016-07-26 14:41:58  2016  jul     0   \n",
              "5912  10153561414982237  masculino  2016-07-26 02:57:59  2016  jul     0   \n",
              "5913  10153561414982237  masculino  2016-07-26 02:12:39  2016  jul     0   \n",
              "5914  10153561414982237  masculino  2016-07-26 01:47:22  2016  jul     0   \n",
              "5915  10153561414982237  masculino  2016-07-26 01:46:05  2016  jul     0   \n",
              "\n",
              "      Oponente  Ganhou  Local  FusoHorario  \n",
              "5906         2       1  pt_BR           -3  \n",
              "5907         1       1  pt_BR           -3  \n",
              "5908         0       1  pt_BR           -3  \n",
              "5909         0       1  pt_BR           -3  \n",
              "5910         0       1  fr_FR           -3  \n",
              "5911         0       1  fr_FR           -3  \n",
              "5912         0       0  pt_BR           -3  \n",
              "5913         0       0  pt_BR           -3  \n",
              "5914         1       0  pt_BR           -3  \n",
              "5915         0       1  pt_BR           -3  "
            ],
            "text/html": [
              "\n",
              "  <div id=\"df-b9b15230-c6b3-4f0e-a20d-dcd8c1d8100c\" class=\"colab-df-container\">\n",
              "    <div>\n",
              "<style scoped>\n",
              "    .dataframe tbody tr th:only-of-type {\n",
              "        vertical-align: middle;\n",
              "    }\n",
              "\n",
              "    .dataframe tbody tr th {\n",
              "        vertical-align: top;\n",
              "    }\n",
              "\n",
              "    .dataframe thead th {\n",
              "        text-align: right;\n",
              "    }\n",
              "</style>\n",
              "<table border=\"1\" class=\"dataframe\">\n",
              "  <thead>\n",
              "    <tr style=\"text-align: right;\">\n",
              "      <th></th>\n",
              "      <th>FBID</th>\n",
              "      <th>Genero</th>\n",
              "      <th>Data</th>\n",
              "      <th>Ano</th>\n",
              "      <th>Mês</th>\n",
              "      <th>Modo</th>\n",
              "      <th>Oponente</th>\n",
              "      <th>Ganhou</th>\n",
              "      <th>Local</th>\n",
              "      <th>FusoHorario</th>\n",
              "    </tr>\n",
              "  </thead>\n",
              "  <tbody>\n",
              "    <tr>\n",
              "      <th>5906</th>\n",
              "      <td>10153799677118014</td>\n",
              "      <td>feminino</td>\n",
              "      <td>2016-07-26 14:49:28</td>\n",
              "      <td>2016</td>\n",
              "      <td>jul</td>\n",
              "      <td>0</td>\n",
              "      <td>2</td>\n",
              "      <td>1</td>\n",
              "      <td>pt_BR</td>\n",
              "      <td>-3</td>\n",
              "    </tr>\n",
              "    <tr>\n",
              "      <th>5907</th>\n",
              "      <td>10153799677118014</td>\n",
              "      <td>feminino</td>\n",
              "      <td>2016-07-26 14:48:49</td>\n",
              "      <td>2016</td>\n",
              "      <td>jul</td>\n",
              "      <td>0</td>\n",
              "      <td>1</td>\n",
              "      <td>1</td>\n",
              "      <td>pt_BR</td>\n",
              "      <td>-3</td>\n",
              "    </tr>\n",
              "    <tr>\n",
              "      <th>5908</th>\n",
              "      <td>1190766150974044</td>\n",
              "      <td>feminino</td>\n",
              "      <td>2016-07-26 14:48:35</td>\n",
              "      <td>2016</td>\n",
              "      <td>jul</td>\n",
              "      <td>0</td>\n",
              "      <td>0</td>\n",
              "      <td>1</td>\n",
              "      <td>pt_BR</td>\n",
              "      <td>-3</td>\n",
              "    </tr>\n",
              "    <tr>\n",
              "      <th>5909</th>\n",
              "      <td>10153799677118014</td>\n",
              "      <td>feminino</td>\n",
              "      <td>2016-07-26 14:48:08</td>\n",
              "      <td>2016</td>\n",
              "      <td>jul</td>\n",
              "      <td>0</td>\n",
              "      <td>0</td>\n",
              "      <td>1</td>\n",
              "      <td>pt_BR</td>\n",
              "      <td>-3</td>\n",
              "    </tr>\n",
              "    <tr>\n",
              "      <th>5910</th>\n",
              "      <td>1036361163078035</td>\n",
              "      <td>masculino</td>\n",
              "      <td>2016-07-26 14:42:36</td>\n",
              "      <td>2016</td>\n",
              "      <td>jul</td>\n",
              "      <td>1</td>\n",
              "      <td>0</td>\n",
              "      <td>1</td>\n",
              "      <td>fr_FR</td>\n",
              "      <td>-3</td>\n",
              "    </tr>\n",
              "    <tr>\n",
              "      <th>5911</th>\n",
              "      <td>1036361163078035</td>\n",
              "      <td>masculino</td>\n",
              "      <td>2016-07-26 14:41:58</td>\n",
              "      <td>2016</td>\n",
              "      <td>jul</td>\n",
              "      <td>0</td>\n",
              "      <td>0</td>\n",
              "      <td>1</td>\n",
              "      <td>fr_FR</td>\n",
              "      <td>-3</td>\n",
              "    </tr>\n",
              "    <tr>\n",
              "      <th>5912</th>\n",
              "      <td>10153561414982237</td>\n",
              "      <td>masculino</td>\n",
              "      <td>2016-07-26 02:57:59</td>\n",
              "      <td>2016</td>\n",
              "      <td>jul</td>\n",
              "      <td>0</td>\n",
              "      <td>0</td>\n",
              "      <td>0</td>\n",
              "      <td>pt_BR</td>\n",
              "      <td>-3</td>\n",
              "    </tr>\n",
              "    <tr>\n",
              "      <th>5913</th>\n",
              "      <td>10153561414982237</td>\n",
              "      <td>masculino</td>\n",
              "      <td>2016-07-26 02:12:39</td>\n",
              "      <td>2016</td>\n",
              "      <td>jul</td>\n",
              "      <td>0</td>\n",
              "      <td>0</td>\n",
              "      <td>0</td>\n",
              "      <td>pt_BR</td>\n",
              "      <td>-3</td>\n",
              "    </tr>\n",
              "    <tr>\n",
              "      <th>5914</th>\n",
              "      <td>10153561414982237</td>\n",
              "      <td>masculino</td>\n",
              "      <td>2016-07-26 01:47:22</td>\n",
              "      <td>2016</td>\n",
              "      <td>jul</td>\n",
              "      <td>0</td>\n",
              "      <td>1</td>\n",
              "      <td>0</td>\n",
              "      <td>pt_BR</td>\n",
              "      <td>-3</td>\n",
              "    </tr>\n",
              "    <tr>\n",
              "      <th>5915</th>\n",
              "      <td>10153561414982237</td>\n",
              "      <td>masculino</td>\n",
              "      <td>2016-07-26 01:46:05</td>\n",
              "      <td>2016</td>\n",
              "      <td>jul</td>\n",
              "      <td>0</td>\n",
              "      <td>0</td>\n",
              "      <td>1</td>\n",
              "      <td>pt_BR</td>\n",
              "      <td>-3</td>\n",
              "    </tr>\n",
              "  </tbody>\n",
              "</table>\n",
              "</div>\n",
              "    <div class=\"colab-df-buttons\">\n",
              "\n",
              "  <div class=\"colab-df-container\">\n",
              "    <button class=\"colab-df-convert\" onclick=\"convertToInteractive('df-b9b15230-c6b3-4f0e-a20d-dcd8c1d8100c')\"\n",
              "            title=\"Convert this dataframe to an interactive table.\"\n",
              "            style=\"display:none;\">\n",
              "\n",
              "  <svg xmlns=\"http://www.w3.org/2000/svg\" height=\"24px\" viewBox=\"0 -960 960 960\">\n",
              "    <path d=\"M120-120v-720h720v720H120Zm60-500h600v-160H180v160Zm220 220h160v-160H400v160Zm0 220h160v-160H400v160ZM180-400h160v-160H180v160Zm440 0h160v-160H620v160ZM180-180h160v-160H180v160Zm440 0h160v-160H620v160Z\"/>\n",
              "  </svg>\n",
              "    </button>\n",
              "\n",
              "  <style>\n",
              "    .colab-df-container {\n",
              "      display:flex;\n",
              "      gap: 12px;\n",
              "    }\n",
              "\n",
              "    .colab-df-convert {\n",
              "      background-color: #E8F0FE;\n",
              "      border: none;\n",
              "      border-radius: 50%;\n",
              "      cursor: pointer;\n",
              "      display: none;\n",
              "      fill: #1967D2;\n",
              "      height: 32px;\n",
              "      padding: 0 0 0 0;\n",
              "      width: 32px;\n",
              "    }\n",
              "\n",
              "    .colab-df-convert:hover {\n",
              "      background-color: #E2EBFA;\n",
              "      box-shadow: 0px 1px 2px rgba(60, 64, 67, 0.3), 0px 1px 3px 1px rgba(60, 64, 67, 0.15);\n",
              "      fill: #174EA6;\n",
              "    }\n",
              "\n",
              "    .colab-df-buttons div {\n",
              "      margin-bottom: 4px;\n",
              "    }\n",
              "\n",
              "    [theme=dark] .colab-df-convert {\n",
              "      background-color: #3B4455;\n",
              "      fill: #D2E3FC;\n",
              "    }\n",
              "\n",
              "    [theme=dark] .colab-df-convert:hover {\n",
              "      background-color: #434B5C;\n",
              "      box-shadow: 0px 1px 3px 1px rgba(0, 0, 0, 0.15);\n",
              "      filter: drop-shadow(0px 1px 2px rgba(0, 0, 0, 0.3));\n",
              "      fill: #FFFFFF;\n",
              "    }\n",
              "  </style>\n",
              "\n",
              "    <script>\n",
              "      const buttonEl =\n",
              "        document.querySelector('#df-b9b15230-c6b3-4f0e-a20d-dcd8c1d8100c button.colab-df-convert');\n",
              "      buttonEl.style.display =\n",
              "        google.colab.kernel.accessAllowed ? 'block' : 'none';\n",
              "\n",
              "      async function convertToInteractive(key) {\n",
              "        const element = document.querySelector('#df-b9b15230-c6b3-4f0e-a20d-dcd8c1d8100c');\n",
              "        const dataTable =\n",
              "          await google.colab.kernel.invokeFunction('convertToInteractive',\n",
              "                                                    [key], {});\n",
              "        if (!dataTable) return;\n",
              "\n",
              "        const docLinkHtml = 'Like what you see? Visit the ' +\n",
              "          '<a target=\"_blank\" href=https://colab.research.google.com/notebooks/data_table.ipynb>data table notebook</a>'\n",
              "          + ' to learn more about interactive tables.';\n",
              "        element.innerHTML = '';\n",
              "        dataTable['output_type'] = 'display_data';\n",
              "        await google.colab.output.renderOutput(dataTable, element);\n",
              "        const docLink = document.createElement('div');\n",
              "        docLink.innerHTML = docLinkHtml;\n",
              "        element.appendChild(docLink);\n",
              "      }\n",
              "    </script>\n",
              "  </div>\n",
              "\n",
              "\n",
              "<div id=\"df-c42d122b-f9f8-4ac1-bed7-4402b5abcb36\">\n",
              "  <button class=\"colab-df-quickchart\" onclick=\"quickchart('df-c42d122b-f9f8-4ac1-bed7-4402b5abcb36')\"\n",
              "            title=\"Suggest charts\"\n",
              "            style=\"display:none;\">\n",
              "\n",
              "<svg xmlns=\"http://www.w3.org/2000/svg\" height=\"24px\"viewBox=\"0 0 24 24\"\n",
              "     width=\"24px\">\n",
              "    <g>\n",
              "        <path d=\"M19 3H5c-1.1 0-2 .9-2 2v14c0 1.1.9 2 2 2h14c1.1 0 2-.9 2-2V5c0-1.1-.9-2-2-2zM9 17H7v-7h2v7zm4 0h-2V7h2v10zm4 0h-2v-4h2v4z\"/>\n",
              "    </g>\n",
              "</svg>\n",
              "  </button>\n",
              "\n",
              "<style>\n",
              "  .colab-df-quickchart {\n",
              "      --bg-color: #E8F0FE;\n",
              "      --fill-color: #1967D2;\n",
              "      --hover-bg-color: #E2EBFA;\n",
              "      --hover-fill-color: #174EA6;\n",
              "      --disabled-fill-color: #AAA;\n",
              "      --disabled-bg-color: #DDD;\n",
              "  }\n",
              "\n",
              "  [theme=dark] .colab-df-quickchart {\n",
              "      --bg-color: #3B4455;\n",
              "      --fill-color: #D2E3FC;\n",
              "      --hover-bg-color: #434B5C;\n",
              "      --hover-fill-color: #FFFFFF;\n",
              "      --disabled-bg-color: #3B4455;\n",
              "      --disabled-fill-color: #666;\n",
              "  }\n",
              "\n",
              "  .colab-df-quickchart {\n",
              "    background-color: var(--bg-color);\n",
              "    border: none;\n",
              "    border-radius: 50%;\n",
              "    cursor: pointer;\n",
              "    display: none;\n",
              "    fill: var(--fill-color);\n",
              "    height: 32px;\n",
              "    padding: 0;\n",
              "    width: 32px;\n",
              "  }\n",
              "\n",
              "  .colab-df-quickchart:hover {\n",
              "    background-color: var(--hover-bg-color);\n",
              "    box-shadow: 0 1px 2px rgba(60, 64, 67, 0.3), 0 1px 3px 1px rgba(60, 64, 67, 0.15);\n",
              "    fill: var(--button-hover-fill-color);\n",
              "  }\n",
              "\n",
              "  .colab-df-quickchart-complete:disabled,\n",
              "  .colab-df-quickchart-complete:disabled:hover {\n",
              "    background-color: var(--disabled-bg-color);\n",
              "    fill: var(--disabled-fill-color);\n",
              "    box-shadow: none;\n",
              "  }\n",
              "\n",
              "  .colab-df-spinner {\n",
              "    border: 2px solid var(--fill-color);\n",
              "    border-color: transparent;\n",
              "    border-bottom-color: var(--fill-color);\n",
              "    animation:\n",
              "      spin 1s steps(1) infinite;\n",
              "  }\n",
              "\n",
              "  @keyframes spin {\n",
              "    0% {\n",
              "      border-color: transparent;\n",
              "      border-bottom-color: var(--fill-color);\n",
              "      border-left-color: var(--fill-color);\n",
              "    }\n",
              "    20% {\n",
              "      border-color: transparent;\n",
              "      border-left-color: var(--fill-color);\n",
              "      border-top-color: var(--fill-color);\n",
              "    }\n",
              "    30% {\n",
              "      border-color: transparent;\n",
              "      border-left-color: var(--fill-color);\n",
              "      border-top-color: var(--fill-color);\n",
              "      border-right-color: var(--fill-color);\n",
              "    }\n",
              "    40% {\n",
              "      border-color: transparent;\n",
              "      border-right-color: var(--fill-color);\n",
              "      border-top-color: var(--fill-color);\n",
              "    }\n",
              "    60% {\n",
              "      border-color: transparent;\n",
              "      border-right-color: var(--fill-color);\n",
              "    }\n",
              "    80% {\n",
              "      border-color: transparent;\n",
              "      border-right-color: var(--fill-color);\n",
              "      border-bottom-color: var(--fill-color);\n",
              "    }\n",
              "    90% {\n",
              "      border-color: transparent;\n",
              "      border-bottom-color: var(--fill-color);\n",
              "    }\n",
              "  }\n",
              "</style>\n",
              "\n",
              "  <script>\n",
              "    async function quickchart(key) {\n",
              "      const quickchartButtonEl =\n",
              "        document.querySelector('#' + key + ' button');\n",
              "      quickchartButtonEl.disabled = true;  // To prevent multiple clicks.\n",
              "      quickchartButtonEl.classList.add('colab-df-spinner');\n",
              "      try {\n",
              "        const charts = await google.colab.kernel.invokeFunction(\n",
              "            'suggestCharts', [key], {});\n",
              "      } catch (error) {\n",
              "        console.error('Error during call to suggestCharts:', error);\n",
              "      }\n",
              "      quickchartButtonEl.classList.remove('colab-df-spinner');\n",
              "      quickchartButtonEl.classList.add('colab-df-quickchart-complete');\n",
              "    }\n",
              "    (() => {\n",
              "      let quickchartButtonEl =\n",
              "        document.querySelector('#df-c42d122b-f9f8-4ac1-bed7-4402b5abcb36 button');\n",
              "      quickchartButtonEl.style.display =\n",
              "        google.colab.kernel.accessAllowed ? 'block' : 'none';\n",
              "    })();\n",
              "  </script>\n",
              "</div>\n",
              "\n",
              "    </div>\n",
              "  </div>\n"
            ],
            "application/vnd.google.colaboratory.intrinsic+json": {
              "type": "dataframe",
              "repr_error": "0"
            }
          },
          "metadata": {},
          "execution_count": 15
        }
      ],
      "source": [
        "data.tail(n=10)"
      ]
    },
    {
      "cell_type": "code",
      "execution_count": 16,
      "metadata": {
        "id": "YPQ95GBbVY10",
        "outputId": "b0410cf1-f52c-4581-ab72-e56cf55c46d7",
        "colab": {
          "base_uri": "https://localhost:8080/"
        }
      },
      "outputs": [
        {
          "output_type": "stream",
          "name": "stdout",
          "text": [
            "<class 'pandas.core.frame.DataFrame'>\n",
            "RangeIndex: 5916 entries, 0 to 5915\n",
            "Data columns (total 10 columns):\n",
            " #   Column       Non-Null Count  Dtype \n",
            "---  ------       --------------  ----- \n",
            " 0   FBID         5916 non-null   int64 \n",
            " 1   Genero       5916 non-null   object\n",
            " 2   Data         5916 non-null   object\n",
            " 3   Ano          5916 non-null   int64 \n",
            " 4   Mês          5916 non-null   object\n",
            " 5   Modo         5916 non-null   int64 \n",
            " 6   Oponente     5916 non-null   int64 \n",
            " 7   Ganhou       5916 non-null   int64 \n",
            " 8   Local        5916 non-null   object\n",
            " 9   FusoHorario  5916 non-null   int64 \n",
            "dtypes: int64(6), object(4)\n",
            "memory usage: 462.3+ KB\n"
          ]
        }
      ],
      "source": [
        "data.info()"
      ]
    },
    {
      "cell_type": "markdown",
      "metadata": {
        "id": "RLKjiMQbVY10"
      },
      "source": [
        "# Frequência Relativa dos Dados"
      ]
    },
    {
      "cell_type": "code",
      "execution_count": 17,
      "metadata": {
        "id": "1-IAve6-VY10",
        "outputId": "24443d6a-2e64-41e4-c5cc-3f600f3516d5",
        "colab": {
          "base_uri": "https://localhost:8080/"
        }
      },
      "outputs": [
        {
          "output_type": "stream",
          "name": "stdout",
          "text": [
            "      Ganhou\n",
            "Ano         \n",
            "2016     424\n",
            "2017     149\n",
            "2018     256\n",
            "2019       9\n"
          ]
        }
      ],
      "source": [
        "df_ganhou = data[data.Ganhou == 1]\n",
        "\n",
        "df_ganhou = pd.pivot_table(df_ganhou, values='Ganhou',\n",
        "\t\t\t\tindex=['Ano'],\n",
        "\t\t\t\t\taggfunc='count')\n",
        "\n",
        "print(df_ganhou)\n"
      ]
    },
    {
      "cell_type": "code",
      "execution_count": 18,
      "metadata": {
        "id": "elJQag-iVY11",
        "outputId": "6e76b84f-a1b5-491c-f45c-9285b7e5c6e4",
        "colab": {
          "base_uri": "https://localhost:8080/"
        }
      },
      "outputs": [
        {
          "output_type": "stream",
          "name": "stdout",
          "text": [
            "      Ganhou\n",
            "Ano         \n",
            "2016    2493\n",
            "2017     915\n",
            "2018    1594\n",
            "2019      76\n",
            "      Perdeu\n",
            "Ano         \n",
            "2016    2493\n",
            "2017     915\n",
            "2018    1594\n",
            "2019      76\n"
          ]
        }
      ],
      "source": [
        "df_perdeu = data[data.Ganhou == 0]\n",
        "\n",
        "df_perdeu = pd.pivot_table(df_perdeu, values='Ganhou',\n",
        "\t\t\t\t\tindex=['Ano'],\n",
        "\t\t\t\t\taggfunc='count')\n",
        "\n",
        "print(df_perdeu)\n",
        "\n",
        "df_perdeu.rename(columns={'Ganhou':'Perdeu'}, inplace=True)\n",
        "\n",
        "print(df_perdeu)"
      ]
    },
    {
      "cell_type": "code",
      "execution_count": 19,
      "metadata": {
        "id": "WxGkNOd0VY11",
        "outputId": "f8d6e539-7681-43a9-9764-344c9468c474",
        "colab": {
          "base_uri": "https://localhost:8080/"
        }
      },
      "outputs": [
        {
          "output_type": "stream",
          "name": "stdout",
          "text": [
            "      Ganhou  Perdeu\n",
            "Ano                 \n",
            "2016     424    2493\n",
            "2017     149     915\n",
            "2018     256    1594\n",
            "2019       9      76\n"
          ]
        }
      ],
      "source": [
        "df = pd.merge(df_ganhou, df_perdeu, on='Ano')\n",
        "\n",
        "print(df)"
      ]
    },
    {
      "cell_type": "code",
      "execution_count": 20,
      "metadata": {
        "id": "oq1gdYFCVY11",
        "outputId": "52778777-8803-4f95-f7f5-43e44d7cd106",
        "colab": {
          "base_uri": "https://localhost:8080/"
        }
      },
      "outputs": [
        {
          "output_type": "stream",
          "name": "stdout",
          "text": [
            "      Total\n",
            "Ano        \n",
            "2016   2917\n",
            "2017   1064\n",
            "2018   1850\n",
            "2019     85\n",
            "      Ganhou  Perdeu  Total\n",
            "Ano                        \n",
            "2016     424    2493   2917\n",
            "2017     149     915   1064\n",
            "2018     256    1594   1850\n",
            "2019       9      76     85\n"
          ]
        }
      ],
      "source": [
        "df_total = pd.pivot_table(data, values='Ganhou',\n",
        "\t\t\t\t  index=['Ano'],\n",
        "\t\t\t\t  aggfunc='count')\n",
        "\n",
        "df_total.rename(columns={'Ganhou':'Total'}, inplace=True)\n",
        "\n",
        "print(df_total)\n",
        "\n",
        "df = pd.merge(df, df_total, on='Ano')\n",
        "print(df)"
      ]
    },
    {
      "cell_type": "markdown",
      "metadata": {
        "id": "6OPqg89xVY11"
      },
      "source": [
        "#### Frequências Relativas"
      ]
    },
    {
      "cell_type": "code",
      "execution_count": 21,
      "metadata": {
        "id": "3aaAYTStVY11",
        "outputId": "6823453e-97f0-4756-b50c-7ebe9faeae77",
        "colab": {
          "base_uri": "https://localhost:8080/"
        }
      },
      "outputs": [
        {
          "output_type": "stream",
          "name": "stdout",
          "text": [
            "      PercGanhou  PercPerdeu\n",
            "Ano                         \n",
            "2016    0.145355    0.854645\n",
            "2017    0.140038    0.859962\n",
            "2018    0.138378    0.861622\n",
            "2019    0.105882    0.894118\n",
            "      Ganhou  Perdeu  Total  PercGanhou  PercPerdeu\n",
            "Ano                                                \n",
            "2016     424    2493   2917    0.145355    0.854645\n",
            "2017     149     915   1064    0.140038    0.859962\n",
            "2018     256    1594   1850    0.138378    0.861622\n",
            "2019       9      76     85    0.105882    0.894118\n"
          ]
        }
      ],
      "source": [
        "df2 = df.apply(lambda row: pd.Series({\n",
        "\t\t\t'PercGanhou': row['Ganhou']/row['Total'],\n",
        "\t\t\t'PercPerdeu': row['Perdeu']/row['Total']}),\n",
        "\t\t axis=1)\n",
        "\n",
        "print(df2)\n",
        "\n",
        "df2 = pd.merge(df, df2, on='Ano')\n",
        "print(df2)\n",
        "\n"
      ]
    },
    {
      "cell_type": "markdown",
      "metadata": {
        "id": "NbQ9Y3YJVY12"
      },
      "source": [
        "Qual local registro o maior número de jogadores?"
      ]
    },
    {
      "cell_type": "code",
      "execution_count": 22,
      "metadata": {
        "scrolled": false,
        "id": "hCreQWE3VY12",
        "outputId": "44816aba-c92f-4fa5-bb45-edf0bd331c43",
        "colab": {
          "base_uri": "https://localhost:8080/"
        }
      },
      "outputs": [
        {
          "output_type": "stream",
          "name": "stdout",
          "text": [
            "       Ganhou\n",
            "Local        \n",
            "ar_AR      20\n",
            "bg_BG       7\n",
            "cs_CZ      10\n",
            "de_DE       7\n",
            "el_GR       9\n",
            "en_GB      23\n",
            "en_US      68\n",
            "es_ES      67\n",
            "es_LA     118\n",
            "fi_FI       1\n",
            "fr_CA       5\n",
            "fr_FR     124\n",
            "hr_HR       2\n",
            "hu_HU       7\n",
            "id_ID      19\n",
            "it_IT      26\n",
            "ja_JP       1\n",
            "ka_GE       7\n",
            "ku_TR       4\n",
            "lt_LT       1\n",
            "mk_MK       2\n",
            "mn_MN       1\n",
            "nl_BE       2\n",
            "nl_NL       6\n",
            "nn_NO       8\n",
            "pl_PL      15\n",
            "pt_BR     174\n",
            "pt_PT      29\n",
            "ro_RO      15\n",
            "ru_RU       9\n",
            "sq_AL       4\n",
            "sr_RS       2\n",
            "th_TH       1\n",
            "tr_TR      15\n",
            "vi_VN      13\n",
            "zh_CN       3\n",
            "zh_TW      13\n"
          ]
        }
      ],
      "source": [
        "df_local = data[data.Ganhou == 1]\n",
        "df_local = pd.pivot_table(df_local, values='Ganhou',\n",
        "                     index=['Local'],\n",
        "                     aggfunc='count'\n",
        "                      )\n",
        "print(df_local)\n"
      ]
    },
    {
      "cell_type": "markdown",
      "metadata": {
        "id": "5n7WqVJrVY12"
      },
      "source": [
        "Como ordenar pelos locais que mais registraram vencedores?"
      ]
    },
    {
      "cell_type": "code",
      "execution_count": 23,
      "metadata": {
        "scrolled": false,
        "id": "WIAz14t1VY12",
        "outputId": "0c2729cd-827b-4be0-ef5f-d3f0d0f91be8",
        "colab": {
          "base_uri": "https://localhost:8080/",
          "height": 1000
        }
      },
      "outputs": [
        {
          "output_type": "execute_result",
          "data": {
            "text/plain": [
              "       Ganhou\n",
              "Local        \n",
              "pt_BR     174\n",
              "fr_FR     124\n",
              "es_LA     118\n",
              "en_US      68\n",
              "es_ES      67\n",
              "pt_PT      29\n",
              "it_IT      26\n",
              "en_GB      23\n",
              "ar_AR      20\n",
              "id_ID      19\n",
              "tr_TR      15\n",
              "ro_RO      15\n",
              "pl_PL      15\n",
              "vi_VN      13\n",
              "zh_TW      13\n",
              "cs_CZ      10\n",
              "ru_RU       9\n",
              "el_GR       9\n",
              "nn_NO       8\n",
              "hu_HU       7\n",
              "ka_GE       7\n",
              "bg_BG       7\n",
              "de_DE       7\n",
              "nl_NL       6\n",
              "fr_CA       5\n",
              "sq_AL       4\n",
              "ku_TR       4\n",
              "zh_CN       3\n",
              "hr_HR       2\n",
              "nl_BE       2\n",
              "sr_RS       2\n",
              "mk_MK       2\n",
              "ja_JP       1\n",
              "fi_FI       1\n",
              "mn_MN       1\n",
              "th_TH       1\n",
              "lt_LT       1"
            ],
            "text/html": [
              "\n",
              "  <div id=\"df-7f6f60a4-8c5a-4f9e-bbfd-a74960fe0e9c\" class=\"colab-df-container\">\n",
              "    <div>\n",
              "<style scoped>\n",
              "    .dataframe tbody tr th:only-of-type {\n",
              "        vertical-align: middle;\n",
              "    }\n",
              "\n",
              "    .dataframe tbody tr th {\n",
              "        vertical-align: top;\n",
              "    }\n",
              "\n",
              "    .dataframe thead th {\n",
              "        text-align: right;\n",
              "    }\n",
              "</style>\n",
              "<table border=\"1\" class=\"dataframe\">\n",
              "  <thead>\n",
              "    <tr style=\"text-align: right;\">\n",
              "      <th></th>\n",
              "      <th>Ganhou</th>\n",
              "    </tr>\n",
              "    <tr>\n",
              "      <th>Local</th>\n",
              "      <th></th>\n",
              "    </tr>\n",
              "  </thead>\n",
              "  <tbody>\n",
              "    <tr>\n",
              "      <th>pt_BR</th>\n",
              "      <td>174</td>\n",
              "    </tr>\n",
              "    <tr>\n",
              "      <th>fr_FR</th>\n",
              "      <td>124</td>\n",
              "    </tr>\n",
              "    <tr>\n",
              "      <th>es_LA</th>\n",
              "      <td>118</td>\n",
              "    </tr>\n",
              "    <tr>\n",
              "      <th>en_US</th>\n",
              "      <td>68</td>\n",
              "    </tr>\n",
              "    <tr>\n",
              "      <th>es_ES</th>\n",
              "      <td>67</td>\n",
              "    </tr>\n",
              "    <tr>\n",
              "      <th>pt_PT</th>\n",
              "      <td>29</td>\n",
              "    </tr>\n",
              "    <tr>\n",
              "      <th>it_IT</th>\n",
              "      <td>26</td>\n",
              "    </tr>\n",
              "    <tr>\n",
              "      <th>en_GB</th>\n",
              "      <td>23</td>\n",
              "    </tr>\n",
              "    <tr>\n",
              "      <th>ar_AR</th>\n",
              "      <td>20</td>\n",
              "    </tr>\n",
              "    <tr>\n",
              "      <th>id_ID</th>\n",
              "      <td>19</td>\n",
              "    </tr>\n",
              "    <tr>\n",
              "      <th>tr_TR</th>\n",
              "      <td>15</td>\n",
              "    </tr>\n",
              "    <tr>\n",
              "      <th>ro_RO</th>\n",
              "      <td>15</td>\n",
              "    </tr>\n",
              "    <tr>\n",
              "      <th>pl_PL</th>\n",
              "      <td>15</td>\n",
              "    </tr>\n",
              "    <tr>\n",
              "      <th>vi_VN</th>\n",
              "      <td>13</td>\n",
              "    </tr>\n",
              "    <tr>\n",
              "      <th>zh_TW</th>\n",
              "      <td>13</td>\n",
              "    </tr>\n",
              "    <tr>\n",
              "      <th>cs_CZ</th>\n",
              "      <td>10</td>\n",
              "    </tr>\n",
              "    <tr>\n",
              "      <th>ru_RU</th>\n",
              "      <td>9</td>\n",
              "    </tr>\n",
              "    <tr>\n",
              "      <th>el_GR</th>\n",
              "      <td>9</td>\n",
              "    </tr>\n",
              "    <tr>\n",
              "      <th>nn_NO</th>\n",
              "      <td>8</td>\n",
              "    </tr>\n",
              "    <tr>\n",
              "      <th>hu_HU</th>\n",
              "      <td>7</td>\n",
              "    </tr>\n",
              "    <tr>\n",
              "      <th>ka_GE</th>\n",
              "      <td>7</td>\n",
              "    </tr>\n",
              "    <tr>\n",
              "      <th>bg_BG</th>\n",
              "      <td>7</td>\n",
              "    </tr>\n",
              "    <tr>\n",
              "      <th>de_DE</th>\n",
              "      <td>7</td>\n",
              "    </tr>\n",
              "    <tr>\n",
              "      <th>nl_NL</th>\n",
              "      <td>6</td>\n",
              "    </tr>\n",
              "    <tr>\n",
              "      <th>fr_CA</th>\n",
              "      <td>5</td>\n",
              "    </tr>\n",
              "    <tr>\n",
              "      <th>sq_AL</th>\n",
              "      <td>4</td>\n",
              "    </tr>\n",
              "    <tr>\n",
              "      <th>ku_TR</th>\n",
              "      <td>4</td>\n",
              "    </tr>\n",
              "    <tr>\n",
              "      <th>zh_CN</th>\n",
              "      <td>3</td>\n",
              "    </tr>\n",
              "    <tr>\n",
              "      <th>hr_HR</th>\n",
              "      <td>2</td>\n",
              "    </tr>\n",
              "    <tr>\n",
              "      <th>nl_BE</th>\n",
              "      <td>2</td>\n",
              "    </tr>\n",
              "    <tr>\n",
              "      <th>sr_RS</th>\n",
              "      <td>2</td>\n",
              "    </tr>\n",
              "    <tr>\n",
              "      <th>mk_MK</th>\n",
              "      <td>2</td>\n",
              "    </tr>\n",
              "    <tr>\n",
              "      <th>ja_JP</th>\n",
              "      <td>1</td>\n",
              "    </tr>\n",
              "    <tr>\n",
              "      <th>fi_FI</th>\n",
              "      <td>1</td>\n",
              "    </tr>\n",
              "    <tr>\n",
              "      <th>mn_MN</th>\n",
              "      <td>1</td>\n",
              "    </tr>\n",
              "    <tr>\n",
              "      <th>th_TH</th>\n",
              "      <td>1</td>\n",
              "    </tr>\n",
              "    <tr>\n",
              "      <th>lt_LT</th>\n",
              "      <td>1</td>\n",
              "    </tr>\n",
              "  </tbody>\n",
              "</table>\n",
              "</div>\n",
              "    <div class=\"colab-df-buttons\">\n",
              "\n",
              "  <div class=\"colab-df-container\">\n",
              "    <button class=\"colab-df-convert\" onclick=\"convertToInteractive('df-7f6f60a4-8c5a-4f9e-bbfd-a74960fe0e9c')\"\n",
              "            title=\"Convert this dataframe to an interactive table.\"\n",
              "            style=\"display:none;\">\n",
              "\n",
              "  <svg xmlns=\"http://www.w3.org/2000/svg\" height=\"24px\" viewBox=\"0 -960 960 960\">\n",
              "    <path d=\"M120-120v-720h720v720H120Zm60-500h600v-160H180v160Zm220 220h160v-160H400v160Zm0 220h160v-160H400v160ZM180-400h160v-160H180v160Zm440 0h160v-160H620v160ZM180-180h160v-160H180v160Zm440 0h160v-160H620v160Z\"/>\n",
              "  </svg>\n",
              "    </button>\n",
              "\n",
              "  <style>\n",
              "    .colab-df-container {\n",
              "      display:flex;\n",
              "      gap: 12px;\n",
              "    }\n",
              "\n",
              "    .colab-df-convert {\n",
              "      background-color: #E8F0FE;\n",
              "      border: none;\n",
              "      border-radius: 50%;\n",
              "      cursor: pointer;\n",
              "      display: none;\n",
              "      fill: #1967D2;\n",
              "      height: 32px;\n",
              "      padding: 0 0 0 0;\n",
              "      width: 32px;\n",
              "    }\n",
              "\n",
              "    .colab-df-convert:hover {\n",
              "      background-color: #E2EBFA;\n",
              "      box-shadow: 0px 1px 2px rgba(60, 64, 67, 0.3), 0px 1px 3px 1px rgba(60, 64, 67, 0.15);\n",
              "      fill: #174EA6;\n",
              "    }\n",
              "\n",
              "    .colab-df-buttons div {\n",
              "      margin-bottom: 4px;\n",
              "    }\n",
              "\n",
              "    [theme=dark] .colab-df-convert {\n",
              "      background-color: #3B4455;\n",
              "      fill: #D2E3FC;\n",
              "    }\n",
              "\n",
              "    [theme=dark] .colab-df-convert:hover {\n",
              "      background-color: #434B5C;\n",
              "      box-shadow: 0px 1px 3px 1px rgba(0, 0, 0, 0.15);\n",
              "      filter: drop-shadow(0px 1px 2px rgba(0, 0, 0, 0.3));\n",
              "      fill: #FFFFFF;\n",
              "    }\n",
              "  </style>\n",
              "\n",
              "    <script>\n",
              "      const buttonEl =\n",
              "        document.querySelector('#df-7f6f60a4-8c5a-4f9e-bbfd-a74960fe0e9c button.colab-df-convert');\n",
              "      buttonEl.style.display =\n",
              "        google.colab.kernel.accessAllowed ? 'block' : 'none';\n",
              "\n",
              "      async function convertToInteractive(key) {\n",
              "        const element = document.querySelector('#df-7f6f60a4-8c5a-4f9e-bbfd-a74960fe0e9c');\n",
              "        const dataTable =\n",
              "          await google.colab.kernel.invokeFunction('convertToInteractive',\n",
              "                                                    [key], {});\n",
              "        if (!dataTable) return;\n",
              "\n",
              "        const docLinkHtml = 'Like what you see? Visit the ' +\n",
              "          '<a target=\"_blank\" href=https://colab.research.google.com/notebooks/data_table.ipynb>data table notebook</a>'\n",
              "          + ' to learn more about interactive tables.';\n",
              "        element.innerHTML = '';\n",
              "        dataTable['output_type'] = 'display_data';\n",
              "        await google.colab.output.renderOutput(dataTable, element);\n",
              "        const docLink = document.createElement('div');\n",
              "        docLink.innerHTML = docLinkHtml;\n",
              "        element.appendChild(docLink);\n",
              "      }\n",
              "    </script>\n",
              "  </div>\n",
              "\n",
              "\n",
              "<div id=\"df-f084510a-c348-403b-8c6e-0afd746d6a15\">\n",
              "  <button class=\"colab-df-quickchart\" onclick=\"quickchart('df-f084510a-c348-403b-8c6e-0afd746d6a15')\"\n",
              "            title=\"Suggest charts\"\n",
              "            style=\"display:none;\">\n",
              "\n",
              "<svg xmlns=\"http://www.w3.org/2000/svg\" height=\"24px\"viewBox=\"0 0 24 24\"\n",
              "     width=\"24px\">\n",
              "    <g>\n",
              "        <path d=\"M19 3H5c-1.1 0-2 .9-2 2v14c0 1.1.9 2 2 2h14c1.1 0 2-.9 2-2V5c0-1.1-.9-2-2-2zM9 17H7v-7h2v7zm4 0h-2V7h2v10zm4 0h-2v-4h2v4z\"/>\n",
              "    </g>\n",
              "</svg>\n",
              "  </button>\n",
              "\n",
              "<style>\n",
              "  .colab-df-quickchart {\n",
              "      --bg-color: #E8F0FE;\n",
              "      --fill-color: #1967D2;\n",
              "      --hover-bg-color: #E2EBFA;\n",
              "      --hover-fill-color: #174EA6;\n",
              "      --disabled-fill-color: #AAA;\n",
              "      --disabled-bg-color: #DDD;\n",
              "  }\n",
              "\n",
              "  [theme=dark] .colab-df-quickchart {\n",
              "      --bg-color: #3B4455;\n",
              "      --fill-color: #D2E3FC;\n",
              "      --hover-bg-color: #434B5C;\n",
              "      --hover-fill-color: #FFFFFF;\n",
              "      --disabled-bg-color: #3B4455;\n",
              "      --disabled-fill-color: #666;\n",
              "  }\n",
              "\n",
              "  .colab-df-quickchart {\n",
              "    background-color: var(--bg-color);\n",
              "    border: none;\n",
              "    border-radius: 50%;\n",
              "    cursor: pointer;\n",
              "    display: none;\n",
              "    fill: var(--fill-color);\n",
              "    height: 32px;\n",
              "    padding: 0;\n",
              "    width: 32px;\n",
              "  }\n",
              "\n",
              "  .colab-df-quickchart:hover {\n",
              "    background-color: var(--hover-bg-color);\n",
              "    box-shadow: 0 1px 2px rgba(60, 64, 67, 0.3), 0 1px 3px 1px rgba(60, 64, 67, 0.15);\n",
              "    fill: var(--button-hover-fill-color);\n",
              "  }\n",
              "\n",
              "  .colab-df-quickchart-complete:disabled,\n",
              "  .colab-df-quickchart-complete:disabled:hover {\n",
              "    background-color: var(--disabled-bg-color);\n",
              "    fill: var(--disabled-fill-color);\n",
              "    box-shadow: none;\n",
              "  }\n",
              "\n",
              "  .colab-df-spinner {\n",
              "    border: 2px solid var(--fill-color);\n",
              "    border-color: transparent;\n",
              "    border-bottom-color: var(--fill-color);\n",
              "    animation:\n",
              "      spin 1s steps(1) infinite;\n",
              "  }\n",
              "\n",
              "  @keyframes spin {\n",
              "    0% {\n",
              "      border-color: transparent;\n",
              "      border-bottom-color: var(--fill-color);\n",
              "      border-left-color: var(--fill-color);\n",
              "    }\n",
              "    20% {\n",
              "      border-color: transparent;\n",
              "      border-left-color: var(--fill-color);\n",
              "      border-top-color: var(--fill-color);\n",
              "    }\n",
              "    30% {\n",
              "      border-color: transparent;\n",
              "      border-left-color: var(--fill-color);\n",
              "      border-top-color: var(--fill-color);\n",
              "      border-right-color: var(--fill-color);\n",
              "    }\n",
              "    40% {\n",
              "      border-color: transparent;\n",
              "      border-right-color: var(--fill-color);\n",
              "      border-top-color: var(--fill-color);\n",
              "    }\n",
              "    60% {\n",
              "      border-color: transparent;\n",
              "      border-right-color: var(--fill-color);\n",
              "    }\n",
              "    80% {\n",
              "      border-color: transparent;\n",
              "      border-right-color: var(--fill-color);\n",
              "      border-bottom-color: var(--fill-color);\n",
              "    }\n",
              "    90% {\n",
              "      border-color: transparent;\n",
              "      border-bottom-color: var(--fill-color);\n",
              "    }\n",
              "  }\n",
              "</style>\n",
              "\n",
              "  <script>\n",
              "    async function quickchart(key) {\n",
              "      const quickchartButtonEl =\n",
              "        document.querySelector('#' + key + ' button');\n",
              "      quickchartButtonEl.disabled = true;  // To prevent multiple clicks.\n",
              "      quickchartButtonEl.classList.add('colab-df-spinner');\n",
              "      try {\n",
              "        const charts = await google.colab.kernel.invokeFunction(\n",
              "            'suggestCharts', [key], {});\n",
              "      } catch (error) {\n",
              "        console.error('Error during call to suggestCharts:', error);\n",
              "      }\n",
              "      quickchartButtonEl.classList.remove('colab-df-spinner');\n",
              "      quickchartButtonEl.classList.add('colab-df-quickchart-complete');\n",
              "    }\n",
              "    (() => {\n",
              "      let quickchartButtonEl =\n",
              "        document.querySelector('#df-f084510a-c348-403b-8c6e-0afd746d6a15 button');\n",
              "      quickchartButtonEl.style.display =\n",
              "        google.colab.kernel.accessAllowed ? 'block' : 'none';\n",
              "    })();\n",
              "  </script>\n",
              "</div>\n",
              "\n",
              "    </div>\n",
              "  </div>\n"
            ],
            "application/vnd.google.colaboratory.intrinsic+json": {
              "type": "dataframe",
              "summary": "{\n  \"name\": \"df_local\",\n  \"rows\": 37,\n  \"fields\": [\n    {\n      \"column\": \"Local\",\n      \"properties\": {\n        \"dtype\": \"string\",\n        \"num_unique_values\": 37,\n        \"samples\": [\n          \"el_GR\",\n          \"vi_VN\",\n          \"es_ES\"\n        ],\n        \"semantic_type\": \"\",\n        \"description\": \"\"\n      }\n    },\n    {\n      \"column\": \"Ganhou\",\n      \"properties\": {\n        \"dtype\": \"number\",\n        \"std\": 38,\n        \"min\": 1,\n        \"max\": 174,\n        \"num_unique_values\": 22,\n        \"samples\": [\n          174,\n          9,\n          20\n        ],\n        \"semantic_type\": \"\",\n        \"description\": \"\"\n      }\n    }\n  ]\n}"
            }
          },
          "metadata": {},
          "execution_count": 23
        }
      ],
      "source": [
        "df_local.sort_values(by='Ganhou', ascending=False)"
      ]
    },
    {
      "cell_type": "markdown",
      "metadata": {
        "id": "NH9DJ9MnVY12"
      },
      "source": [
        "Como selecionar o maior e o menor resultado?"
      ]
    },
    {
      "cell_type": "code",
      "execution_count": 24,
      "metadata": {
        "id": "ZKoHW7xzVY12",
        "outputId": "71755b84-34c4-4316-f161-2ff839e2e2a3",
        "colab": {
          "base_uri": "https://localhost:8080/"
        }
      },
      "outputs": [
        {
          "output_type": "stream",
          "name": "stdout",
          "text": [
            "       Ganhou\n",
            "Local        \n",
            "pt_BR   174.0\n"
          ]
        }
      ],
      "source": [
        "df3 = df_local[df_local == df_local.Ganhou.max()]\n",
        "df3 = df3.dropna(axis='rows')\n",
        "print(df3)\n"
      ]
    },
    {
      "cell_type": "code",
      "execution_count": 25,
      "metadata": {
        "id": "0h3TR2rIVY12",
        "outputId": "b1f0cd32-5e4e-4ce8-fa52-b14fadfd75af",
        "colab": {
          "base_uri": "https://localhost:8080/",
          "height": 35
        }
      },
      "outputs": [
        {
          "output_type": "execute_result",
          "data": {
            "text/plain": [
              "'pt_BR'"
            ],
            "application/vnd.google.colaboratory.intrinsic+json": {
              "type": "string"
            }
          },
          "metadata": {},
          "execution_count": 25
        }
      ],
      "source": [
        "# Também podemos consultar diretamente o índice que contém o valor máximo:\n",
        "\n",
        "df_local.Ganhou.idxmax(axis=0)"
      ]
    },
    {
      "cell_type": "code",
      "execution_count": 26,
      "metadata": {
        "id": "EBcd9gSIVY13",
        "outputId": "955a5ec1-b6f7-42f2-8998-20322a4ee492",
        "colab": {
          "base_uri": "https://localhost:8080/"
        }
      },
      "outputs": [
        {
          "output_type": "stream",
          "name": "stdout",
          "text": [
            "       Ganhou\n",
            "Local        \n",
            "pt_BR     174\n"
          ]
        }
      ],
      "source": [
        "# Para filtrar o dataset usando o índice usamos o código abaixo:\n",
        "\n",
        "df3 = df_local[df_local.index == df_local.Ganhou.idxmax()]\n",
        "print(df3)"
      ]
    },
    {
      "cell_type": "markdown",
      "metadata": {
        "id": "D3NiuKr5VY13"
      },
      "source": [
        "# Histogramas"
      ]
    },
    {
      "cell_type": "markdown",
      "metadata": {
        "id": "0V838qS2VY13"
      },
      "source": [
        "Importar arquivo CSV"
      ]
    },
    {
      "cell_type": "code",
      "execution_count": 28,
      "metadata": {
        "id": "OyduWUuOVY14"
      },
      "outputs": [],
      "source": [
        "import pandas as pd\n",
        "\n",
        "data = pd.read_csv(\"https://raw.githubusercontent.com/abaffa/INF1038/main/expectativa.csv\")"
      ]
    },
    {
      "cell_type": "code",
      "execution_count": 29,
      "metadata": {
        "id": "GDSMwyMGVY14",
        "outputId": "86e268ee-2752-42ba-9334-adfab4f65ead",
        "colab": {
          "base_uri": "https://localhost:8080/"
        }
      },
      "outputs": [
        {
          "output_type": "execute_result",
          "data": {
            "text/plain": [
              "2007"
            ]
          },
          "metadata": {},
          "execution_count": 29
        }
      ],
      "source": [
        "#data.head()\n",
        "data['year'].max()"
      ]
    },
    {
      "cell_type": "markdown",
      "metadata": {
        "id": "195n4OXEVY14"
      },
      "source": [
        "### Histogramas com matplotlib"
      ]
    },
    {
      "cell_type": "markdown",
      "metadata": {
        "id": "40sswalrVY15"
      },
      "source": [
        "Desenhar o histograma da coluna “lifeExp”\n",
        "* O número de intervalos de classe padrão é 10"
      ]
    },
    {
      "cell_type": "code",
      "execution_count": 30,
      "metadata": {
        "id": "AfL2aqIJVY16",
        "outputId": "f42de97c-aa85-4748-aa0a-354f503e188f",
        "colab": {
          "base_uri": "https://localhost:8080/",
          "height": 447
        }
      },
      "outputs": [
        {
          "output_type": "execute_result",
          "data": {
            "text/plain": [
              "<Axes: >"
            ]
          },
          "metadata": {},
          "execution_count": 30
        },
        {
          "output_type": "display_data",
          "data": {
            "text/plain": [
              "<Figure size 640x480 with 1 Axes>"
            ],
            "image/png": "[encoded data removed]"
          },
          "metadata": {}
        }
      ],
      "source": [
        "# Importar a biblioteca matplotlib\n",
        "import matplotlib.pyplot as plt\n",
        "\n",
        "data['lifeExp'].hist()"
      ]
    },
    {
      "cell_type": "markdown",
      "metadata": {
        "id": "s4QoUSQeVY16"
      },
      "source": [
        "Para desenhar o histograma com mais intervalos, usamos o parâmetro “bins”"
      ]
    },
    {
      "cell_type": "code",
      "execution_count": 31,
      "metadata": {
        "id": "6EYtP1wSVY17",
        "outputId": "52249091-d21a-4e34-ddf2-621251371144",
        "colab": {
          "base_uri": "https://localhost:8080/",
          "height": 447
        }
      },
      "outputs": [
        {
          "output_type": "execute_result",
          "data": {
            "text/plain": [
              "<Axes: >"
            ]
          },
          "metadata": {},
          "execution_count": 31
        },
        {
          "output_type": "display_data",
          "data": {
            "text/plain": [
              "<Figure size 640x480 with 1 Axes>"
            ],
            "image/png": "[encoded data removed]"
          },
          "metadata": {}
        }
      ],
      "source": [
        "data['lifeExp'].hist(bins=100)"
      ]
    },
    {
      "cell_type": "markdown",
      "metadata": {
        "id": "9l0wmYX0VY17"
      },
      "source": [
        "Incluir os nomes dos eixos"
      ]
    },
    {
      "cell_type": "code",
      "execution_count": 32,
      "metadata": {
        "id": "8YrLZhKSVY1_",
        "outputId": "6f5e6a17-b27e-4386-8046-463532f6b54f",
        "colab": {
          "base_uri": "https://localhost:8080/",
          "height": 476
        }
      },
      "outputs": [
        {
          "output_type": "execute_result",
          "data": {
            "text/plain": [
              "(22.0, 90.0)"
            ]
          },
          "metadata": {},
          "execution_count": 32
        },
        {
          "output_type": "display_data",
          "data": {
            "text/plain": [
              "<Figure size 640x480 with 1 Axes>"
            ],
            "image/png": "[encoded data removed]"
          },
          "metadata": {}
        }
      ],
      "source": [
        "data['lifeExp'].hist(bins=100, grid=False, xlabelsize=12,\n",
        "\t\t\t\t\t\tylabelsize=12)\n",
        "plt.xlabel(\"Expectativa de Vida\", fontsize=15)\n",
        "plt.ylabel(\"Frequência\",fontsize=15)\n",
        "plt.xlim([22.0,90.0])"
      ]
    },
    {
      "cell_type": "markdown",
      "metadata": {
        "id": "jUBQZnlbVY2A"
      },
      "source": [
        "Novo histograma para a coluna “gdpPerCap” :\n",
        "* escala logarítmica para o eixo x (comando xscale)"
      ]
    },
    {
      "cell_type": "code",
      "execution_count": 33,
      "metadata": {
        "id": "cmAXdHqyVY2A",
        "outputId": "9407665c-201a-46a3-ec22-ded3eaf390ca",
        "colab": {
          "base_uri": "https://localhost:8080/",
          "height": 460
        }
      },
      "outputs": [
        {
          "output_type": "display_data",
          "data": {
            "text/plain": [
              "<Figure size 640x480 with 1 Axes>"
            ],
            "image/png": "[encoded data removed]"
          },
          "metadata": {}
        }
      ],
      "source": [
        "data['gdpPercap'].hist(bins=1000,grid=False)\n",
        "\n",
        "plt.xlabel(\"Pib Per Capita\", fontsize=15)\n",
        "plt.ylabel(\"Frequêncy\",fontsize=15)\n",
        "plt.xscale('log')"
      ]
    },
    {
      "cell_type": "markdown",
      "metadata": {
        "id": "Y5FetvWkVY2A"
      },
      "source": [
        "### Histogramas com seaborn"
      ]
    },
    {
      "cell_type": "markdown",
      "metadata": {
        "id": "_v-Fav_tVY2A"
      },
      "source": [
        "Desenhar o histograma da coluna “lifeExp”\n",
        "* O número de intervalos de classe padrão é 18"
      ]
    },
    {
      "cell_type": "code",
      "execution_count": 34,
      "metadata": {
        "id": "sMsuhLLKVY2A",
        "outputId": "6fc1226d-0ff4-4e41-b8cf-1f838928c71f",
        "colab": {
          "base_uri": "https://localhost:8080/",
          "height": 466
        }
      },
      "outputs": [
        {
          "output_type": "execute_result",
          "data": {
            "text/plain": [
              "<Axes: xlabel='lifeExp', ylabel='Count'>"
            ]
          },
          "metadata": {},
          "execution_count": 34
        },
        {
          "output_type": "display_data",
          "data": {
            "text/plain": [
              "<Figure size 640x480 with 1 Axes>"
            ],
            "image/png": "[encoded data removed]"
          },
          "metadata": {}
        }
      ],
      "source": [
        "# Importar a biblioteca seaborn\n",
        "import seaborn as sns\n",
        "sns.histplot(data['lifeExp'], kde=True)"
      ]
    },
    {
      "cell_type": "markdown",
      "metadata": {
        "id": "OXwppeleVY2B"
      },
      "source": [
        "Para desenhar o histograma com mais intervalos, usamos o parâmetro “bins”"
      ]
    },
    {
      "cell_type": "code",
      "execution_count": 35,
      "metadata": {
        "id": "QudjRUdBVY2B",
        "outputId": "651b4c01-ef40-461a-a5b7-64246dee0797",
        "colab": {
          "base_uri": "https://localhost:8080/",
          "height": 466
        }
      },
      "outputs": [
        {
          "output_type": "execute_result",
          "data": {
            "text/plain": [
              "<Axes: xlabel='lifeExp', ylabel='Count'>"
            ]
          },
          "metadata": {},
          "execution_count": 35
        },
        {
          "output_type": "display_data",
          "data": {
            "text/plain": [
              "<Figure size 640x480 with 1 Axes>"
            ],
            "image/png": "[encoded data removed]"
          },
          "metadata": {}
        }
      ],
      "source": [
        "sns.histplot(data['lifeExp'],color='red', bins=100, kde=True)"
      ]
    },
    {
      "cell_type": "code",
      "execution_count": 36,
      "metadata": {
        "id": "42z8mJkTVY2B",
        "outputId": "e617788d-f6bb-4d3e-85e9-202f543b95d7",
        "colab": {
          "base_uri": "https://localhost:8080/",
          "height": 500
        }
      },
      "outputs": [
        {
          "output_type": "execute_result",
          "data": {
            "text/plain": [
              "Text(0, 0.5, 'Frequência')"
            ]
          },
          "metadata": {},
          "execution_count": 36
        },
        {
          "output_type": "display_data",
          "data": {
            "text/plain": [
              "<Figure size 640x480 with 1 Axes>"
            ],
            "image/png": "[encoded data removed]"
          },
          "metadata": {}
        }
      ],
      "source": [
        "sns.histplot(data['lifeExp'],color='red', bins=100)\n",
        "\n",
        "plt.title('Expectativa de Vida', fontsize=18)\n",
        "plt.xlabel('Expectativa (anos)', fontsize=16)\n",
        "plt.ylabel('Frequência', fontsize=16)"
      ]
    },
    {
      "cell_type": "markdown",
      "metadata": {
        "id": "Oud3-EK-VY2B"
      },
      "source": [
        "Filtrando o dataframe e plotando os dados para o continente África"
      ]
    },
    {
      "cell_type": "code",
      "execution_count": 37,
      "metadata": {
        "id": "GPT3daR4VY2B",
        "outputId": "e665bc31-79fe-4143-dac6-b8dd91a6aa1c",
        "colab": {
          "base_uri": "https://localhost:8080/",
          "height": 466
        }
      },
      "outputs": [
        {
          "output_type": "execute_result",
          "data": {
            "text/plain": [
              "<Axes: xlabel='lifeExp', ylabel='Count'>"
            ]
          },
          "metadata": {},
          "execution_count": 37
        },
        {
          "output_type": "display_data",
          "data": {
            "text/plain": [
              "<Figure size 640x480 with 1 Axes>"
            ],
            "image/png": "[encoded data removed]"
          },
          "metadata": {}
        }
      ],
      "source": [
        "df = data[data.continent == 'Africa']\n",
        "sns.histplot(df['lifeExp'], label='Africa')"
      ]
    },
    {
      "cell_type": "markdown",
      "metadata": {
        "id": "bHxcXBYVVY2C"
      },
      "source": [
        "Filtrando o dataframe e plotando os dados para o continente Américas"
      ]
    },
    {
      "cell_type": "code",
      "execution_count": 38,
      "metadata": {
        "id": "c0eJQURkVY2C",
        "outputId": "3b4e630f-f9dd-4dab-c89e-7caa12686b09",
        "colab": {
          "base_uri": "https://localhost:8080/",
          "height": 466
        }
      },
      "outputs": [
        {
          "output_type": "execute_result",
          "data": {
            "text/plain": [
              "<Axes: xlabel='lifeExp', ylabel='Count'>"
            ]
          },
          "metadata": {},
          "execution_count": 38
        },
        {
          "output_type": "display_data",
          "data": {
            "text/plain": [
              "<Figure size 640x480 with 1 Axes>"
            ],
            "image/png": "[encoded data removed]"
          },
          "metadata": {}
        }
      ],
      "source": [
        "df = data[data.continent == 'Americas']\n",
        "sns.histplot(df['lifeExp'],  label='Americas')"
      ]
    },
    {
      "cell_type": "markdown",
      "metadata": {
        "id": "6JaK96DaVY2C"
      },
      "source": [
        "Juntar ambos os histogramas em uma única imagem"
      ]
    },
    {
      "cell_type": "code",
      "execution_count": 39,
      "metadata": {
        "id": "wDbK5r7TVY2C",
        "outputId": "550ff08a-a8d9-470b-f4e4-670bac9b2632",
        "colab": {
          "base_uri": "https://localhost:8080/",
          "height": 489
        }
      },
      "outputs": [
        {
          "output_type": "execute_result",
          "data": {
            "text/plain": [
              "Text(0, 0.5, 'Densidade')"
            ]
          },
          "metadata": {},
          "execution_count": 39
        },
        {
          "output_type": "display_data",
          "data": {
            "text/plain": [
              "<Figure size 640x480 with 1 Axes>"
            ],
            "image/png": "[encoded data removed]"
          },
          "metadata": {}
        }
      ],
      "source": [
        "df = data[data.continent == 'Africa']\n",
        "sns.histplot(df['lifeExp'], label='Africa')\n",
        "\n",
        "df = data[data.continent == 'Americas']\n",
        "sns.histplot(df['lifeExp'], label='Americas', color='red')\n",
        "\n",
        "plt.legend(prop={'size': 12})\n",
        "plt.title('Expectativa de vida entre continentes')\n",
        "plt.xlabel('Expectativa de Vida (anos)')\n",
        "plt.ylabel('Densidade')"
      ]
    },
    {
      "cell_type": "markdown",
      "metadata": {
        "id": "-FYKrYSaVY2D"
      },
      "source": [
        "Podemos mostrar apenas as distribuições e remover o histograma.\n",
        "* parâmetro hist = False remove o gráfico de barras do histograma\n",
        "* para incluir o polígono de frequências (distribuição) usamos o parâmetro kde = True"
      ]
    },
    {
      "cell_type": "code",
      "execution_count": 40,
      "metadata": {
        "id": "X-TiehD1VY2D",
        "outputId": "6e74aa01-25d6-4911-9f02-f9b9f02cc7d0",
        "colab": {
          "base_uri": "https://localhost:8080/",
          "height": 489
        }
      },
      "outputs": [
        {
          "output_type": "execute_result",
          "data": {
            "text/plain": [
              "Text(0, 0.5, 'Densidade')"
            ]
          },
          "metadata": {},
          "execution_count": 40
        },
        {
          "output_type": "display_data",
          "data": {
            "text/plain": [
              "<Figure size 640x480 with 1 Axes>"
            ],
            "image/png": "[encoded data removed]"
          },
          "metadata": {}
        }
      ],
      "source": [
        "df = data[(data.continent == 'Africa') & (data.year == 2007)]\n",
        "sns.kdeplot(df['lifeExp'], label='Africa')\n",
        "\n",
        "df = data[(data.continent == 'Americas') & (data.year == 2007)]\n",
        "sns.kdeplot(df['lifeExp'], label='Americas')\n",
        "\n",
        "plt.legend(prop={'size': 12})\n",
        "plt.title('Expectativa de vida entre continentes')\n",
        "plt.xlabel('Expectativa de Vida (anos)')\n",
        "plt.ylabel('Densidade')\n"
      ]
    },
    {
      "cell_type": "code",
      "execution_count": null,
      "metadata": {
        "id": "CcuWdXBNVY2D"
      },
      "outputs": [],
      "source": []
    }
  ],
  "metadata": {
    "kernelspec": {
      "display_name": "Python 3 (ipykernel)",
      "language": "python",
      "name": "python3"
    },
    "language_info": {
      "codemirror_mode": {
        "name": "ipython",
        "version": 3
      },
      "file_extension": ".py",
      "mimetype": "text/x-python",
      "name": "python",
      "nbconvert_exporter": "python",
      "pygments_lexer": "ipython3",
      "version": "3.7.9"
    },
    "colab": {
      "provenance": []
    }
  },
  "nbformat": 4,
  "nbformat_minor": 0
}
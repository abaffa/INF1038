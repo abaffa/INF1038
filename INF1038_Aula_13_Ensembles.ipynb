{
 "cells": [
  {
   "cell_type": "markdown",
   "id": "b455e778",
   "metadata": {},
   "source": [
    "### Bagging"
   ]
  },
  {
   "cell_type": "code",
   "execution_count": 102,
   "id": "d54f3939",
   "metadata": {},
   "outputs": [],
   "source": [
    "from numpy import mean\n",
    "from numpy import std\n",
    "from sklearn.datasets import make_classification\n",
    "\n",
    "# Cria exemplos - default classes = 2\n",
    "X, y = make_classification(n_samples=1000, n_features=20, n_informative=15, n_redundant=5, random_state=5)"
   ]
  },
  {
   "cell_type": "code",
   "execution_count": 103,
   "id": "497bbf4b",
   "metadata": {},
   "outputs": [
    {
     "name": "stdout",
     "output_type": "stream",
     "text": [
      "Acurácia: 0.860 (0.044)\n"
     ]
    }
   ],
   "source": [
    "from sklearn.ensemble import BaggingClassifier\n",
    "from sklearn.model_selection import cross_val_score\n",
    "from sklearn.model_selection import RepeatedStratifiedKFold\n",
    "\n",
    "model = BaggingClassifier() # 10 estimadores\n",
    "\n",
    "cv = RepeatedStratifiedKFold(n_splits=10, n_repeats=3, random_state=1)\n",
    "n_scores = cross_val_score(model, X, y, scoring='accuracy', cv=cv, n_jobs=-1, error_score='raise')\n",
    "\n",
    "print('Acurácia: %.3f (%.3f)' % (mean(n_scores), std(n_scores)))"
   ]
  },
  {
   "cell_type": "markdown",
   "id": "425a33af",
   "metadata": {},
   "source": [
    "### Bagging Hyperparameters"
   ]
  },
  {
   "cell_type": "code",
   "execution_count": 105,
   "id": "5c6a8081",
   "metadata": {},
   "outputs": [],
   "source": [
    "from matplotlib import pyplot\n",
    "\n",
    "def evaluate_model(model, X, y):\n",
    "    cv = RepeatedStratifiedKFold(n_splits=10, n_repeats=3, random_state=1)\n",
    "    scores = cross_val_score(model, X, y, scoring='accuracy', cv=cv, n_jobs=-1)\n",
    "    return scores\n",
    "\n",
    "def executar_teste(models):\n",
    "    results, names = list(), list() # avaliar resultados e guardar em results\n",
    "\n",
    "    for name, model in models.items():\n",
    "\n",
    "        scores = evaluate_model(model, X, y)\n",
    "        results.append(scores)\n",
    "        names.append(name)\n",
    "\n",
    "        print('>%s %.3f (%.3f)' % (name, mean(scores), std(scores)))\n",
    "\n",
    "\n",
    "    pyplot.boxplot(results, labels=names, showmeans=True)\n",
    "    pyplot.show()"
   ]
  },
  {
   "cell_type": "markdown",
   "id": "fbf0ca84",
   "metadata": {},
   "source": [
    "#### Verificar Número de Árvores"
   ]
  },
  {
   "cell_type": "code",
   "execution_count": 106,
   "id": "e29cd92b",
   "metadata": {},
   "outputs": [
    {
     "name": "stdout",
     "output_type": "stream",
     "text": [
      ">10 0.855 (0.041)\n",
      ">50 0.882 (0.038)\n",
      ">100 0.885 (0.038)\n",
      ">500 0.887 (0.038)\n",
      ">1000 0.884 (0.037)\n",
      ">5000 0.886 (0.036)\n"
     ]
    },
    {
     "data": {
      "image/png": "[encoded data removed]",
      "text/plain": [
       "<Figure size 432x288 with 1 Axes>"
      ]
     },
     "metadata": {
      "needs_background": "light"
     },
     "output_type": "display_data"
    }
   ],
   "source": [
    "def get_models():\n",
    "    models = dict()\n",
    "    # definir numero de árvores\n",
    "    n_trees = [10, 50, 100, 500, 500, 1000, 5000]\n",
    "    for n in n_trees:\n",
    "        models[str(n)] = BaggingClassifier(n_estimators=n)\n",
    "    return models\n",
    "\n",
    "executar_teste(get_models())"
   ]
  },
  {
   "attachments": {},
   "cell_type": "markdown",
   "id": "5d19f9c1",
   "metadata": {},
   "source": [
    "#### Verificar Número Máximo de Exemplos"
   ]
  },
  {
   "cell_type": "code",
   "execution_count": 109,
   "id": "4539de9b",
   "metadata": {},
   "outputs": [
    {
     "name": "stdout",
     "output_type": "stream",
     "text": [
      ">0.1 0.806 (0.032)\n",
      ">0.2 0.831 (0.045)\n",
      ">0.3 0.850 (0.034)\n",
      ">0.4 0.851 (0.040)\n",
      ">0.5 0.854 (0.036)\n",
      ">0.6 0.856 (0.032)\n",
      ">0.7 0.855 (0.038)\n",
      ">0.8 0.855 (0.040)\n",
      ">0.9 0.859 (0.037)\n",
      ">1.0 0.861 (0.041)\n"
     ]
    },
    {
     "data": {
      "image/png": "[encoded data removed]",
      "text/plain": [
       "<Figure size 432x288 with 1 Axes>"
      ]
     },
     "metadata": {
      "needs_background": "light"
     },
     "output_type": "display_data"
    }
   ],
   "source": [
    "import numpy as np\n",
    "\n",
    "def get_models():\n",
    "    models = dict()\n",
    "    # definir max_samples entre 10% e 100% com passo de 10%\n",
    "    for i in np.arange(0.1, 1.1, 0.1):\n",
    "        key = '%.1f' % i\n",
    "        models[key] = BaggingClassifier(max_samples=i)\n",
    "    return models\n",
    "\n",
    "executar_teste(get_models())"
   ]
  },
  {
   "cell_type": "markdown",
   "id": "9ffe6981",
   "metadata": {},
   "source": [
    "### Carregar Digits"
   ]
  },
  {
   "cell_type": "code",
   "execution_count": 1,
   "id": "abafc0a5",
   "metadata": {},
   "outputs": [],
   "source": [
    "import multiprocessing \n",
    "from sklearn.model_selection import GridSearchCV\n",
    "from sklearn.datasets import load_digits \n",
    " \n",
    "digits = load_digits() "
   ]
  },
  {
   "cell_type": "markdown",
   "id": "4d8abc5a",
   "metadata": {},
   "source": [
    "#### Random Forest Classifier"
   ]
  },
  {
   "cell_type": "code",
   "execution_count": 2,
   "id": "ea6f0b43",
   "metadata": {},
   "outputs": [],
   "source": [
    "from sklearn.ensemble import RandomForestClassifier\n",
    "from sklearn.model_selection import cross_val_score\n",
    "\n",
    "nb_classifications = 100\n",
    "rf_accuracy = []\n",
    "\n",
    "for i in range(1, nb_classifications):\n",
    "    a = cross_val_score(RandomForestClassifier(n_estimators=i), digits.data, digits.target,  scoring='accuracy', cv=10).mean()\n",
    "    rf_accuracy.append(a)"
   ]
  },
  {
   "cell_type": "code",
   "execution_count": 3,
   "id": "24946bc5",
   "metadata": {},
   "outputs": [
    {
     "data": {
      "image/png": "[encoded data removed]",
      "text/plain": [
       "<Figure size 432x288 with 1 Axes>"
      ]
     },
     "metadata": {
      "needs_background": "light"
     },
     "output_type": "display_data"
    }
   ],
   "source": [
    "import matplotlib.pyplot as plt\n",
    "\n",
    "plt.figure()\n",
    "\n",
    "plt.plot(rf_accuracy)\n",
    "\n",
    "plt.ylabel('Acurácia')\n",
    "plt.xlabel('Número de Árvores')\n",
    "plt.show()"
   ]
  },
  {
   "cell_type": "markdown",
   "id": "b64010a8",
   "metadata": {},
   "source": [
    "#### Extra Trees Classifier"
   ]
  },
  {
   "cell_type": "code",
   "execution_count": 4,
   "id": "4307ac4b",
   "metadata": {},
   "outputs": [],
   "source": [
    "from sklearn.ensemble import ExtraTreesClassifier\n",
    "\n",
    "nb_classifications = 100\n",
    "et_accuracy = []\n",
    "\n",
    "for i in range(1, nb_classifications):\n",
    "    a = cross_val_score(ExtraTreesClassifier(n_estimators=i), digits.data, digits.target,  scoring='accuracy', cv=10).mean()\n",
    "    et_accuracy.append(a)"
   ]
  },
  {
   "cell_type": "code",
   "execution_count": 5,
   "id": "f659dfe2",
   "metadata": {},
   "outputs": [
    {
     "data": {
      "image/png": "[encoded data removed]",
      "text/plain": [
       "<Figure size 432x288 with 1 Axes>"
      ]
     },
     "metadata": {
      "needs_background": "light"
     },
     "output_type": "display_data"
    }
   ],
   "source": [
    "import matplotlib.pyplot as plt\n",
    "\n",
    "plt.figure()\n",
    "\n",
    "plt.plot(rf_accuracy,label=\"Random Forest\")\n",
    "plt.plot(et_accuracy,label=\"Extra Random Forest\")\n",
    "\n",
    "plt.ylabel('Acurácia')\n",
    "plt.xlabel('Número de Árvores')\n",
    "plt.legend()\n",
    "\n",
    "plt.show()"
   ]
  },
  {
   "cell_type": "markdown",
   "id": "28618c40",
   "metadata": {},
   "source": [
    "#### Feature Importance"
   ]
  },
  {
   "cell_type": "code",
   "execution_count": 6,
   "id": "2d8a2bf1",
   "metadata": {},
   "outputs": [],
   "source": [
    "from sklearn.datasets import make_classification\n",
    "nb_samples = 1000\n",
    "\n",
    "X, Y = make_classification(n_samples=nb_samples, n_features=20, n_informative=15, n_redundant=5, n_classes=2, n_clusters_per_class=5)\n"
   ]
  },
  {
   "cell_type": "code",
   "execution_count": 7,
   "id": "6f34424f",
   "metadata": {},
   "outputs": [
    {
     "data": {
      "text/plain": [
       "RandomForestClassifier(random_state=0)"
      ]
     },
     "execution_count": 7,
     "metadata": {},
     "output_type": "execute_result"
    }
   ],
   "source": [
    "from sklearn.ensemble import RandomForestClassifier\n",
    "\n",
    "feature_names = [f\"feature {i}\" for i in range(X.shape[1])]\n",
    "forest = RandomForestClassifier(random_state=0)\n",
    "forest.fit(X, Y)"
   ]
  },
  {
   "cell_type": "code",
   "execution_count": 8,
   "id": "563d4bf9",
   "metadata": {},
   "outputs": [
    {
     "name": "stdout",
     "output_type": "stream",
     "text": [
      "Tempo usado para computar as importâncias: 0.022 segs\n"
     ]
    }
   ],
   "source": [
    "import time\n",
    "import numpy as np\n",
    "\n",
    "start_time = time.time()\n",
    "importances = forest.feature_importances_\n",
    "std = np.std([tree.feature_importances_ for tree in forest.estimators_], axis=0)\n",
    "elapsed_time = time.time() - start_time\n",
    "\n",
    "print(f\"Tempo usado para computar as importâncias: {elapsed_time:.3f} segs\")"
   ]
  },
  {
   "cell_type": "code",
   "execution_count": 9,
   "id": "a9ddc9b8",
   "metadata": {},
   "outputs": [
    {
     "data": {
      "image/png": "[encoded data removed]",
      "text/plain": [
       "<Figure size 432x288 with 1 Axes>"
      ]
     },
     "metadata": {
      "needs_background": "light"
     },
     "output_type": "display_data"
    }
   ],
   "source": [
    "import pandas as pd\n",
    "\n",
    "forest_importances = pd.Series(importances, index=feature_names)\n",
    "\n",
    "fig, ax = plt.subplots()\n",
    "forest_importances.plot.bar(yerr=std, ax=ax)\n",
    "ax.set_title(\"Importância dos atributos\")\n",
    "ax.set_ylabel(\"Diminuição média na impureza\")  # MDI = Mean decrease in impurity \n",
    "fig.tight_layout()"
   ]
  },
  {
   "cell_type": "markdown",
   "id": "e9a43028",
   "metadata": {},
   "source": [
    "### AdaBoost"
   ]
  },
  {
   "cell_type": "code",
   "execution_count": 12,
   "id": "312df8c9",
   "metadata": {
    "scrolled": true
   },
   "outputs": [
    {
     "name": "stdout",
     "output_type": "stream",
     "text": [
      "1 100\n",
      "2 100\n",
      "3 100\n",
      "4 100\n",
      "5 100\n",
      "6 100\n",
      "7 100\n",
      "8 100\n",
      "9 100\n",
      "10 100\n",
      "11 100\n",
      "12 100\n",
      "13 100\n",
      "14 100\n",
      "15 100\n",
      "16 100\n",
      "17 100\n",
      "18 100\n",
      "19 100\n",
      "20 100\n",
      "21 100\n",
      "22 100\n",
      "23 100\n",
      "24 100\n",
      "25 100\n",
      "26 100\n",
      "27 100\n",
      "28 100\n",
      "29 100\n",
      "30 100\n",
      "31 100\n",
      "32 100\n",
      "33 100\n",
      "34 100\n",
      "35 100\n",
      "36 100\n",
      "37 100\n",
      "38 100\n",
      "39 100\n",
      "40 100\n",
      "41 100\n",
      "42 100\n",
      "43 100\n",
      "44 100\n",
      "45 100\n",
      "46 100\n",
      "47 100\n",
      "48 100\n",
      "49 100\n",
      "50 100\n",
      "51 100\n",
      "52 100\n",
      "53 100\n",
      "54 100\n",
      "55 100\n",
      "56 100\n",
      "57 100\n",
      "58 100\n",
      "59 100\n",
      "60 100\n",
      "61 100\n",
      "62 100\n",
      "63 100\n",
      "64 100\n",
      "65 100\n",
      "66 100\n",
      "67 100\n",
      "68 100\n",
      "69 100\n",
      "70 100\n",
      "71 100\n",
      "72 100\n",
      "73 100\n",
      "74 100\n",
      "75 100\n",
      "76 100\n",
      "77 100\n",
      "78 100\n",
      "79 100\n",
      "80 100\n",
      "81 100\n",
      "82 100\n",
      "83 100\n",
      "84 100\n",
      "85 100\n",
      "86 100\n",
      "87 100\n",
      "88 100\n",
      "89 100\n",
      "90 100\n",
      "91 100\n",
      "92 100\n",
      "93 100\n",
      "94 100\n",
      "95 100\n",
      "96 100\n",
      "97 100\n",
      "98 100\n",
      "99 100\n"
     ]
    }
   ],
   "source": [
    "from sklearn.ensemble import AdaBoostClassifier\n",
    "\n",
    "ab_accuracy = []\n",
    "\n",
    "nb_classifications = 100\n",
    "\n",
    "for i in range(1, nb_classifications):\n",
    "    print(i,nb_classifications)\n",
    "    a = cross_val_score(AdaBoostClassifier(n_estimators=i, learning_rate=0.01), digits.data, digits.target, scoring='accuracy', cv=10).mean()\n",
    "    ab_accuracy.append(a)"
   ]
  },
  {
   "cell_type": "code",
   "execution_count": 13,
   "id": "81d03bcb",
   "metadata": {},
   "outputs": [
    {
     "data": {
      "image/png": "[encoded data removed]",
      "text/plain": [
       "<Figure size 432x288 with 1 Axes>"
      ]
     },
     "metadata": {
      "needs_background": "light"
     },
     "output_type": "display_data"
    }
   ],
   "source": [
    "import matplotlib.pyplot as plt\n",
    "\n",
    "plt.figure()\n",
    "\n",
    "plt.plot(ab_accuracy)\n",
    "\n",
    "plt.ylabel('Acurácia')\n",
    "plt.xlabel('Número de Árvores')\n",
    "plt.show()"
   ]
  },
  {
   "cell_type": "code",
   "execution_count": 16,
   "id": "8abbc89d",
   "metadata": {
    "scrolled": true
   },
   "outputs": [
    {
     "name": "stdout",
     "output_type": "stream",
     "text": [
      "1 100\n",
      "2 100\n",
      "3 100\n",
      "4 100\n",
      "5 100\n",
      "6 100\n",
      "7 100\n",
      "8 100\n",
      "9 100\n",
      "10 100\n",
      "11 100\n",
      "12 100\n",
      "13 100\n",
      "14 100\n",
      "15 100\n",
      "16 100\n",
      "17 100\n",
      "18 100\n",
      "19 100\n",
      "20 100\n",
      "21 100\n",
      "22 100\n",
      "23 100\n",
      "24 100\n",
      "25 100\n",
      "26 100\n",
      "27 100\n",
      "28 100\n",
      "29 100\n",
      "30 100\n",
      "31 100\n",
      "32 100\n",
      "33 100\n",
      "34 100\n",
      "35 100\n",
      "36 100\n",
      "37 100\n",
      "38 100\n",
      "39 100\n",
      "40 100\n",
      "41 100\n",
      "42 100\n",
      "43 100\n",
      "44 100\n",
      "45 100\n",
      "46 100\n",
      "47 100\n",
      "48 100\n",
      "49 100\n",
      "50 100\n",
      "51 100\n",
      "52 100\n",
      "53 100\n",
      "54 100\n",
      "55 100\n",
      "56 100\n",
      "57 100\n",
      "58 100\n",
      "59 100\n",
      "60 100\n",
      "61 100\n",
      "62 100\n",
      "63 100\n",
      "64 100\n",
      "65 100\n",
      "66 100\n",
      "67 100\n",
      "68 100\n",
      "69 100\n",
      "70 100\n",
      "71 100\n",
      "72 100\n",
      "73 100\n",
      "74 100\n",
      "75 100\n",
      "76 100\n",
      "77 100\n",
      "78 100\n",
      "79 100\n",
      "80 100\n",
      "81 100\n",
      "82 100\n",
      "83 100\n",
      "84 100\n",
      "85 100\n",
      "86 100\n",
      "87 100\n",
      "88 100\n",
      "89 100\n",
      "90 100\n",
      "91 100\n",
      "92 100\n",
      "93 100\n",
      "94 100\n",
      "95 100\n",
      "96 100\n",
      "97 100\n",
      "98 100\n",
      "99 100\n"
     ]
    }
   ],
   "source": [
    "from sklearn.datasets import load_iris\n",
    "\n",
    "iris = load_iris()\n",
    "ab_accuracy2 = []\n",
    "\n",
    "#ada = AdaBoostClassifier(n_estimators=100, learning_rate=1.0)\n",
    "#print(cross_val_score(ada, iris.data, iris.target, scoring='accuracy', cv=10).mean())\n",
    "\n",
    "nb_classifications = 100\n",
    "\n",
    "for i in range(1, nb_classifications):\n",
    "    print(i,nb_classifications)\n",
    "    ada = AdaBoostClassifier(n_estimators=i, learning_rate=1.0)\n",
    "    a = cross_val_score(ada, iris.data, iris.target, scoring='accuracy', cv=10).mean()\n",
    "    ab_accuracy2.append(a)"
   ]
  },
  {
   "cell_type": "code",
   "execution_count": 17,
   "id": "a2698497",
   "metadata": {},
   "outputs": [
    {
     "data": {
      "image/png": "[encoded data removed]",
      "text/plain": [
       "<Figure size 432x288 with 1 Axes>"
      ]
     },
     "metadata": {
      "needs_background": "light"
     },
     "output_type": "display_data"
    }
   ],
   "source": [
    "import matplotlib.pyplot as plt\n",
    "\n",
    "plt.figure()\n",
    "\n",
    "plt.plot(ab_accuracy2)\n",
    "\n",
    "plt.ylabel('Acurácia')\n",
    "plt.xlabel('Número de Árvores')\n",
    "plt.show()"
   ]
  },
  {
   "cell_type": "markdown",
   "id": "138b4398",
   "metadata": {},
   "source": [
    "### Gradient Tree Boosting"
   ]
  },
  {
   "cell_type": "code",
   "execution_count": 18,
   "id": "03f79e3d",
   "metadata": {},
   "outputs": [],
   "source": [
    "from sklearn.datasets import make_classification\n",
    "\n",
    "nb_samples = 500\n",
    "\n",
    "X, Y = make_classification(n_samples=nb_samples, n_features=4, n_informative=3, n_redundant=1, n_classes=3)"
   ]
  },
  {
   "cell_type": "code",
   "execution_count": 20,
   "id": "7b6daea1",
   "metadata": {
    "scrolled": true
   },
   "outputs": [
    {
     "name": "stdout",
     "output_type": "stream",
     "text": [
      "1 100\n",
      "2 100\n",
      "3 100\n",
      "4 100\n",
      "5 100\n",
      "6 100\n",
      "7 100\n",
      "8 100\n",
      "9 100\n",
      "10 100\n",
      "11 100\n",
      "12 100\n",
      "13 100\n",
      "14 100\n",
      "15 100\n",
      "16 100\n",
      "17 100\n",
      "18 100\n",
      "19 100\n",
      "20 100\n",
      "21 100\n",
      "22 100\n",
      "23 100\n",
      "24 100\n",
      "25 100\n",
      "26 100\n",
      "27 100\n",
      "28 100\n",
      "29 100\n",
      "30 100\n",
      "31 100\n",
      "32 100\n",
      "33 100\n",
      "34 100\n",
      "35 100\n",
      "36 100\n",
      "37 100\n",
      "38 100\n",
      "39 100\n",
      "40 100\n",
      "41 100\n",
      "42 100\n",
      "43 100\n",
      "44 100\n",
      "45 100\n",
      "46 100\n",
      "47 100\n",
      "48 100\n",
      "49 100\n",
      "50 100\n",
      "51 100\n",
      "52 100\n",
      "53 100\n",
      "54 100\n",
      "55 100\n",
      "56 100\n",
      "57 100\n",
      "58 100\n",
      "59 100\n",
      "60 100\n",
      "61 100\n",
      "62 100\n",
      "63 100\n",
      "64 100\n",
      "65 100\n",
      "66 100\n",
      "67 100\n",
      "68 100\n",
      "69 100\n",
      "70 100\n",
      "71 100\n",
      "72 100\n",
      "73 100\n",
      "74 100\n",
      "75 100\n",
      "76 100\n",
      "77 100\n",
      "78 100\n",
      "79 100\n",
      "80 100\n",
      "81 100\n",
      "82 100\n",
      "83 100\n",
      "84 100\n",
      "85 100\n",
      "86 100\n",
      "87 100\n",
      "88 100\n",
      "89 100\n",
      "90 100\n",
      "91 100\n",
      "92 100\n",
      "93 100\n",
      "94 100\n",
      "95 100\n",
      "96 100\n",
      "97 100\n",
      "98 100\n",
      "99 100\n"
     ]
    }
   ],
   "source": [
    "from sklearn.ensemble import GradientBoostingClassifier\n",
    "from sklearn.model_selection import cross_val_score\n",
    "\n",
    "gb_accuracy = []\n",
    "\n",
    "max_estimators = 100\n",
    "\n",
    "for i in range(1, max_estimators):\n",
    "    print(i,nb_classifications)\n",
    "    score = cross_val_score(GradientBoostingClassifier(n_estimators=i, learning_rate=10.0/float(i)), X, Y, cv=10, scoring='accuracy').mean()\n",
    "    #score = cross_val_score(GradientBoostingClassifier(n_estimators=i, learning_rate=0.01), X, Y, cv=10, scoring='accuracy').mean()\n",
    "    gb_accuracy.append(score)"
   ]
  },
  {
   "cell_type": "code",
   "execution_count": 21,
   "id": "6c233908",
   "metadata": {},
   "outputs": [
    {
     "data": {
      "image/png": "[encoded data removed]",
      "text/plain": [
       "<Figure size 432x288 with 1 Axes>"
      ]
     },
     "metadata": {
      "needs_background": "light"
     },
     "output_type": "display_data"
    }
   ],
   "source": [
    "import matplotlib.pyplot as plt\n",
    "\n",
    "plt.figure()\n",
    "\n",
    "plt.plot(gb_accuracy)\n",
    "\n",
    "plt.ylabel('Acurácia')\n",
    "plt.xlabel('Número de Árvores')\n",
    "plt.show()"
   ]
  },
  {
   "cell_type": "code",
   "execution_count": 23,
   "id": "8d176253",
   "metadata": {},
   "outputs": [
    {
     "name": "stdout",
     "output_type": "stream",
     "text": [
      "0.772\n"
     ]
    }
   ],
   "source": [
    "print(cross_val_score(GradientBoostingClassifier(n_estimators=50, learning_rate=0.01), X, Y, cv=10, scoring='accuracy').mean())"
   ]
  },
  {
   "cell_type": "code",
   "execution_count": 22,
   "id": "f28a77af",
   "metadata": {},
   "outputs": [
    {
     "name": "stdout",
     "output_type": "stream",
     "text": [
      "1 100\n",
      "2 100\n",
      "3 100\n",
      "4 100\n",
      "5 100\n",
      "6 100\n",
      "7 100\n",
      "8 100\n",
      "9 100\n",
      "10 100\n",
      "11 100\n",
      "12 100\n",
      "13 100\n",
      "14 100\n",
      "15 100\n",
      "16 100\n",
      "17 100\n",
      "18 100\n",
      "19 100\n",
      "20 100\n",
      "21 100\n",
      "22 100\n",
      "23 100\n",
      "24 100\n",
      "25 100\n",
      "26 100\n",
      "27 100\n",
      "28 100\n",
      "29 100\n",
      "30 100\n",
      "31 100\n",
      "32 100\n",
      "33 100\n",
      "34 100\n",
      "35 100\n",
      "36 100\n",
      "37 100\n",
      "38 100\n",
      "39 100\n",
      "40 100\n",
      "41 100\n",
      "42 100\n",
      "43 100\n",
      "44 100\n",
      "45 100\n",
      "46 100\n",
      "47 100\n",
      "48 100\n",
      "49 100\n",
      "50 100\n",
      "51 100\n",
      "52 100\n",
      "53 100\n",
      "54 100\n",
      "55 100\n",
      "56 100\n",
      "57 100\n",
      "58 100\n",
      "59 100\n",
      "60 100\n",
      "61 100\n",
      "62 100\n",
      "63 100\n",
      "64 100\n",
      "65 100\n",
      "66 100\n",
      "67 100\n",
      "68 100\n",
      "69 100\n",
      "70 100\n",
      "71 100\n",
      "72 100\n",
      "73 100\n",
      "74 100\n",
      "75 100\n",
      "76 100\n",
      "77 100\n",
      "78 100\n",
      "79 100\n",
      "80 100\n",
      "81 100\n",
      "82 100\n",
      "83 100\n",
      "84 100\n",
      "85 100\n",
      "86 100\n",
      "87 100\n",
      "88 100\n",
      "89 100\n",
      "90 100\n",
      "91 100\n",
      "92 100\n",
      "93 100\n",
      "94 100\n",
      "95 100\n",
      "96 100\n",
      "97 100\n",
      "98 100\n",
      "99 100\n"
     ]
    },
    {
     "data": {
      "image/png": "[encoded data removed]",
      "text/plain": [
       "<Figure size 432x288 with 1 Axes>"
      ]
     },
     "metadata": {
      "needs_background": "light"
     },
     "output_type": "display_data"
    }
   ],
   "source": [
    "import matplotlib.pyplot as plt\n",
    "ab_accuracy = []\n",
    "\n",
    "nb_classifications = 100\n",
    "\n",
    "for i in range(1, nb_classifications):\n",
    "    print(i,nb_classifications)\n",
    "    a = cross_val_score(AdaBoostClassifier(n_estimators=i, learning_rate=0.01),  X, Y, scoring='accuracy', cv=10).mean()\n",
    "    ab_accuracy.append(a)\n",
    "    \n",
    "plt.figure()\n",
    "\n",
    "plt.plot(ab_accuracy,label=\"Ada Boost\")\n",
    "plt.plot(gb_accuracy,label=\"Gradient Boost\")\n",
    "\n",
    "plt.ylabel('Acurácia')\n",
    "plt.xlabel('Número de Árvores')\n",
    "plt.legend()\n",
    "\n",
    "plt.show()"
   ]
  },
  {
   "cell_type": "markdown",
   "id": "ecb26224",
   "metadata": {},
   "source": [
    "### Outros Algoritmos"
   ]
  },
  {
   "cell_type": "code",
   "execution_count": 58,
   "id": "08629292",
   "metadata": {},
   "outputs": [],
   "source": [
    "from sklearn.datasets import make_classification\n",
    "\n",
    "nb_samples = 500\n",
    "\n",
    "X, Y = make_classification(n_samples=nb_samples, n_features=4, n_informative=3, n_redundant=1, n_classes=3)"
   ]
  },
  {
   "cell_type": "code",
   "execution_count": 60,
   "id": "5b943d92",
   "metadata": {},
   "outputs": [
    {
     "name": "stdout",
     "output_type": "stream",
     "text": [
      "0.834\n"
     ]
    }
   ],
   "source": [
    "print(cross_val_score(GradientBoostingClassifier(n_estimators=50, learning_rate=0.01), X, Y, cv=10, scoring='accuracy').mean())"
   ]
  },
  {
   "cell_type": "code",
   "execution_count": 64,
   "id": "adc8eb7d",
   "metadata": {},
   "outputs": [
    {
     "name": "stdout",
     "output_type": "stream",
     "text": [
      "0.842\n"
     ]
    }
   ],
   "source": [
    "#!pip install lightgbm\n",
    "from lightgbm import LGBMClassifier\n",
    "\n",
    "print(cross_val_score(LGBMClassifier(n_estimators=50, learning_rate=0.01, verbose=-1), X, Y, cv=10, scoring='accuracy').mean())"
   ]
  },
  {
   "cell_type": "code",
   "execution_count": 59,
   "id": "f18567b5",
   "metadata": {},
   "outputs": [
    {
     "name": "stdout",
     "output_type": "stream",
     "text": [
      "0.8700000000000001\n"
     ]
    }
   ],
   "source": [
    "from sklearn.ensemble import HistGradientBoostingClassifier\n",
    "print(cross_val_score(HistGradientBoostingClassifier(learning_rate=0.01), X, Y, cv=10, scoring='accuracy').mean())\n"
   ]
  },
  {
   "cell_type": "code",
   "execution_count": 61,
   "id": "f3a50f21",
   "metadata": {},
   "outputs": [
    {
     "name": "stdout",
     "output_type": "stream",
     "text": [
      "0.8560000000000001\n"
     ]
    }
   ],
   "source": [
    "#!pip install xgboost\n",
    "from xgboost import XGBClassifier\n",
    "\n",
    "print(cross_val_score(XGBClassifier(n_estimators=50, learning_rate=0.01), X, Y, cv=10, scoring='accuracy').mean())"
   ]
  },
  {
   "cell_type": "code",
   "execution_count": 75,
   "id": "72f13345",
   "metadata": {},
   "outputs": [
    {
     "name": "stdout",
     "output_type": "stream",
     "text": [
      "0:\tlearn: 1.0907370\ttotal: 5.72ms\tremaining: 280ms\n",
      "1:\tlearn: 1.0833084\ttotal: 10.5ms\tremaining: 251ms\n",
      "2:\tlearn: 1.0754913\ttotal: 14.6ms\tremaining: 229ms\n",
      "3:\tlearn: 1.0676055\ttotal: 52.5ms\tremaining: 603ms\n",
      "4:\tlearn: 1.0601935\ttotal: 57.8ms\tremaining: 521ms\n",
      "5:\tlearn: 1.0522740\ttotal: 62.8ms\tremaining: 460ms\n",
      "6:\tlearn: 1.0455415\ttotal: 66.7ms\tremaining: 410ms\n",
      "7:\tlearn: 1.0382726\ttotal: 70.7ms\tremaining: 371ms\n",
      "8:\tlearn: 1.0312806\ttotal: 74.8ms\tremaining: 341ms\n",
      "9:\tlearn: 1.0236723\ttotal: 78.9ms\tremaining: 316ms\n",
      "10:\tlearn: 1.0163775\ttotal: 83.3ms\tremaining: 295ms\n",
      "11:\tlearn: 1.0103119\ttotal: 87.2ms\tremaining: 276ms\n",
      "12:\tlearn: 1.0036291\ttotal: 91.1ms\tremaining: 259ms\n",
      "13:\tlearn: 0.9975385\ttotal: 95.3ms\tremaining: 245ms\n",
      "14:\tlearn: 0.9904628\ttotal: 99.2ms\tremaining: 231ms\n",
      "15:\tlearn: 0.9840459\ttotal: 103ms\tremaining: 219ms\n",
      "16:\tlearn: 0.9775897\ttotal: 107ms\tremaining: 208ms\n",
      "17:\tlearn: 0.9717129\ttotal: 111ms\tremaining: 198ms\n",
      "18:\tlearn: 0.9649870\ttotal: 115ms\tremaining: 188ms\n",
      "19:\tlearn: 0.9588692\ttotal: 119ms\tremaining: 179ms\n",
      "20:\tlearn: 0.9528221\ttotal: 123ms\tremaining: 170ms\n",
      "21:\tlearn: 0.9468110\ttotal: 127ms\tremaining: 162ms\n",
      "22:\tlearn: 0.9412299\ttotal: 131ms\tremaining: 154ms\n",
      "23:\tlearn: 0.9360275\ttotal: 135ms\tremaining: 146ms\n",
      "24:\tlearn: 0.9309202\ttotal: 138ms\tremaining: 138ms\n",
      "25:\tlearn: 0.9245932\ttotal: 143ms\tremaining: 132ms\n",
      "26:\tlearn: 0.9193653\ttotal: 146ms\tremaining: 125ms\n",
      "27:\tlearn: 0.9140999\ttotal: 150ms\tremaining: 118ms\n",
      "28:\tlearn: 0.9083140\ttotal: 154ms\tremaining: 112ms\n",
      "29:\tlearn: 0.9033507\ttotal: 158ms\tremaining: 105ms\n",
      "30:\tlearn: 0.8984332\ttotal: 162ms\tremaining: 99.2ms\n",
      "31:\tlearn: 0.8934961\ttotal: 166ms\tremaining: 93.2ms\n",
      "32:\tlearn: 0.8885540\ttotal: 169ms\tremaining: 87.3ms\n",
      "33:\tlearn: 0.8836735\ttotal: 173ms\tremaining: 81.6ms\n",
      "34:\tlearn: 0.8781725\ttotal: 177ms\tremaining: 76ms\n",
      "35:\tlearn: 0.8732561\ttotal: 181ms\tremaining: 70.5ms\n",
      "36:\tlearn: 0.8687451\ttotal: 185ms\tremaining: 65ms\n",
      "37:\tlearn: 0.8642013\ttotal: 189ms\tremaining: 59.6ms\n",
      "38:\tlearn: 0.8595666\ttotal: 193ms\tremaining: 54.4ms\n",
      "39:\tlearn: 0.8548675\ttotal: 196ms\tremaining: 49.1ms\n",
      "40:\tlearn: 0.8501055\ttotal: 201ms\tremaining: 44ms\n",
      "41:\tlearn: 0.8454984\ttotal: 206ms\tremaining: 39.2ms\n",
      "42:\tlearn: 0.8404909\ttotal: 210ms\tremaining: 34.2ms\n",
      "43:\tlearn: 0.8361821\ttotal: 214ms\tremaining: 29.2ms\n",
      "44:\tlearn: 0.8314577\ttotal: 218ms\tremaining: 24.2ms\n",
      "45:\tlearn: 0.8266150\ttotal: 223ms\tremaining: 19.4ms\n",
      "46:\tlearn: 0.8223178\ttotal: 230ms\tremaining: 14.7ms\n",
      "47:\tlearn: 0.8178692\ttotal: 236ms\tremaining: 9.81ms\n",
      "48:\tlearn: 0.8134285\ttotal: 240ms\tremaining: 4.9ms\n",
      "49:\tlearn: 0.8095311\ttotal: 245ms\tremaining: 0us\n",
      "0:\tlearn: 1.0914247\ttotal: 4.85ms\tremaining: 237ms\n",
      "1:\tlearn: 1.0834455\ttotal: 8.8ms\tremaining: 211ms\n",
      "2:\tlearn: 1.0751218\ttotal: 12.6ms\tremaining: 198ms\n",
      "3:\tlearn: 1.0674522\ttotal: 16.4ms\tremaining: 189ms\n",
      "4:\tlearn: 1.0594813\ttotal: 20.4ms\tremaining: 183ms\n",
      "5:\tlearn: 1.0510620\ttotal: 24.3ms\tremaining: 179ms\n",
      "6:\tlearn: 1.0440156\ttotal: 28.2ms\tremaining: 173ms\n",
      "7:\tlearn: 1.0367063\ttotal: 32.4ms\tremaining: 170ms\n",
      "8:\tlearn: 1.0303410\ttotal: 36.3ms\tremaining: 165ms\n",
      "9:\tlearn: 1.0233014\ttotal: 40.1ms\tremaining: 160ms\n",
      "10:\tlearn: 1.0156198\ttotal: 43.9ms\tremaining: 156ms\n",
      "11:\tlearn: 1.0096020\ttotal: 47.8ms\tremaining: 151ms\n",
      "12:\tlearn: 1.0022107\ttotal: 51.9ms\tremaining: 148ms\n",
      "13:\tlearn: 0.9954995\ttotal: 55.7ms\tremaining: 143ms\n",
      "14:\tlearn: 0.9882967\ttotal: 59.6ms\tremaining: 139ms\n",
      "15:\tlearn: 0.9820329\ttotal: 63.5ms\tremaining: 135ms\n",
      "16:\tlearn: 0.9753296\ttotal: 67.4ms\tremaining: 131ms\n",
      "17:\tlearn: 0.9695506\ttotal: 71.3ms\tremaining: 127ms\n",
      "18:\tlearn: 0.9632430\ttotal: 75.7ms\tremaining: 124ms\n",
      "19:\tlearn: 0.9571511\ttotal: 79.6ms\tremaining: 119ms\n",
      "20:\tlearn: 0.9511473\ttotal: 83.9ms\tremaining: 116ms\n",
      "21:\tlearn: 0.9448777\ttotal: 87.8ms\tremaining: 112ms\n",
      "22:\tlearn: 0.9392923\ttotal: 91.8ms\tremaining: 108ms\n",
      "23:\tlearn: 0.9335256\ttotal: 95.8ms\tremaining: 104ms\n",
      "24:\tlearn: 0.9282774\ttotal: 99.6ms\tremaining: 99.6ms\n",
      "25:\tlearn: 0.9219461\ttotal: 104ms\tremaining: 95.6ms\n",
      "26:\tlearn: 0.9167909\ttotal: 107ms\tremaining: 91.5ms\n",
      "27:\tlearn: 0.9112626\ttotal: 111ms\tremaining: 87.4ms\n",
      "28:\tlearn: 0.9056803\ttotal: 115ms\tremaining: 83.4ms\n",
      "29:\tlearn: 0.9004912\ttotal: 119ms\tremaining: 79.4ms\n",
      "30:\tlearn: 0.8957096\ttotal: 123ms\tremaining: 75.6ms\n",
      "31:\tlearn: 0.8902453\ttotal: 127ms\tremaining: 71.7ms\n",
      "32:\tlearn: 0.8850991\ttotal: 132ms\tremaining: 67.8ms\n",
      "33:\tlearn: 0.8807002\ttotal: 136ms\tremaining: 63.8ms\n",
      "34:\tlearn: 0.8755932\ttotal: 140ms\tremaining: 59.9ms\n",
      "35:\tlearn: 0.8712147\ttotal: 145ms\tremaining: 56.5ms\n",
      "36:\tlearn: 0.8664060\ttotal: 151ms\tremaining: 53ms\n",
      "37:\tlearn: 0.8616793\ttotal: 156ms\tremaining: 49.1ms\n",
      "38:\tlearn: 0.8566687\ttotal: 160ms\tremaining: 45ms\n",
      "39:\tlearn: 0.8520687\ttotal: 164ms\tremaining: 40.9ms\n",
      "40:\tlearn: 0.8473128\ttotal: 168ms\tremaining: 36.8ms\n",
      "41:\tlearn: 0.8426129\ttotal: 172ms\tremaining: 32.7ms\n",
      "42:\tlearn: 0.8380196\ttotal: 175ms\tremaining: 28.6ms\n",
      "43:\tlearn: 0.8336835\ttotal: 181ms\tremaining: 24.6ms\n",
      "44:\tlearn: 0.8292299\ttotal: 185ms\tremaining: 20.6ms\n",
      "45:\tlearn: 0.8246286\ttotal: 190ms\tremaining: 16.5ms\n",
      "46:\tlearn: 0.8205396\ttotal: 194ms\tremaining: 12.4ms\n",
      "47:\tlearn: 0.8166513\ttotal: 198ms\tremaining: 8.23ms\n",
      "48:\tlearn: 0.8120313\ttotal: 202ms\tremaining: 4.12ms\n",
      "49:\tlearn: 0.8076645\ttotal: 206ms\tremaining: 0us\n",
      "0:\tlearn: 1.0904428\ttotal: 4.91ms\tremaining: 241ms\n",
      "1:\tlearn: 1.0830141\ttotal: 8.95ms\tremaining: 215ms\n",
      "2:\tlearn: 1.0752886\ttotal: 12.9ms\tremaining: 202ms\n",
      "3:\tlearn: 1.0673110\ttotal: 16.6ms\tremaining: 191ms\n",
      "4:\tlearn: 1.0601107\ttotal: 20.5ms\tremaining: 184ms\n",
      "5:\tlearn: 1.0517590\ttotal: 24.2ms\tremaining: 177ms\n",
      "6:\tlearn: 1.0444837\ttotal: 28ms\tremaining: 172ms\n",
      "7:\tlearn: 1.0371194\ttotal: 31.8ms\tremaining: 167ms\n",
      "8:\tlearn: 1.0302935\ttotal: 35.9ms\tremaining: 163ms\n",
      "9:\tlearn: 1.0237295\ttotal: 39.7ms\tremaining: 159ms\n",
      "10:\tlearn: 1.0167000\ttotal: 43.6ms\tremaining: 155ms\n",
      "11:\tlearn: 1.0103625\ttotal: 46.8ms\tremaining: 148ms\n",
      "12:\tlearn: 1.0039738\ttotal: 50.6ms\tremaining: 144ms\n",
      "13:\tlearn: 0.9979531\ttotal: 54.6ms\tremaining: 140ms\n",
      "14:\tlearn: 0.9907497\ttotal: 58.3ms\tremaining: 136ms\n",
      "15:\tlearn: 0.9846667\ttotal: 62.1ms\tremaining: 132ms\n",
      "16:\tlearn: 0.9784842\ttotal: 65.9ms\tremaining: 128ms\n",
      "17:\tlearn: 0.9724369\ttotal: 69.6ms\tremaining: 124ms\n",
      "18:\tlearn: 0.9662685\ttotal: 73.4ms\tremaining: 120ms\n",
      "19:\tlearn: 0.9594342\ttotal: 77.3ms\tremaining: 116ms\n",
      "20:\tlearn: 0.9544163\ttotal: 81ms\tremaining: 112ms\n",
      "21:\tlearn: 0.9484048\ttotal: 85.4ms\tremaining: 109ms\n",
      "22:\tlearn: 0.9427836\ttotal: 89.9ms\tremaining: 106ms\n",
      "23:\tlearn: 0.9376207\ttotal: 94.1ms\tremaining: 102ms\n",
      "24:\tlearn: 0.9325287\ttotal: 98.5ms\tremaining: 98.5ms\n",
      "25:\tlearn: 0.9270944\ttotal: 103ms\tremaining: 94.7ms\n",
      "26:\tlearn: 0.9220094\ttotal: 107ms\tremaining: 90.9ms\n",
      "27:\tlearn: 0.9169340\ttotal: 112ms\tremaining: 88.3ms\n",
      "28:\tlearn: 0.9111496\ttotal: 120ms\tremaining: 86.8ms\n",
      "29:\tlearn: 0.9063981\ttotal: 124ms\tremaining: 82.7ms\n",
      "30:\tlearn: 0.9014764\ttotal: 129ms\tremaining: 78.9ms\n",
      "31:\tlearn: 0.8964155\ttotal: 133ms\tremaining: 74.7ms\n",
      "32:\tlearn: 0.8914262\ttotal: 137ms\tremaining: 70.5ms\n",
      "33:\tlearn: 0.8867970\ttotal: 141ms\tremaining: 66.4ms\n",
      "34:\tlearn: 0.8818158\ttotal: 146ms\tremaining: 62.7ms\n",
      "35:\tlearn: 0.8777002\ttotal: 152ms\tremaining: 59.1ms\n",
      "36:\tlearn: 0.8732957\ttotal: 158ms\tremaining: 55.5ms\n",
      "37:\tlearn: 0.8680818\ttotal: 162ms\tremaining: 51.2ms\n",
      "38:\tlearn: 0.8628818\ttotal: 166ms\tremaining: 46.8ms\n",
      "39:\tlearn: 0.8581635\ttotal: 170ms\tremaining: 42.4ms\n",
      "40:\tlearn: 0.8533731\ttotal: 174ms\tremaining: 38.2ms\n",
      "41:\tlearn: 0.8484064\ttotal: 178ms\tremaining: 33.9ms\n",
      "42:\tlearn: 0.8439106\ttotal: 182ms\tremaining: 29.6ms\n",
      "43:\tlearn: 0.8397308\ttotal: 186ms\tremaining: 25.3ms\n",
      "44:\tlearn: 0.8352339\ttotal: 190ms\tremaining: 21.1ms\n",
      "45:\tlearn: 0.8308477\ttotal: 193ms\tremaining: 16.8ms\n",
      "46:\tlearn: 0.8263896\ttotal: 197ms\tremaining: 12.6ms\n",
      "47:\tlearn: 0.8225969\ttotal: 201ms\tremaining: 8.39ms\n",
      "48:\tlearn: 0.8185380\ttotal: 205ms\tremaining: 4.19ms\n",
      "49:\tlearn: 0.8141524\ttotal: 210ms\tremaining: 0us\n",
      "0:\tlearn: 1.0902313\ttotal: 4.72ms\tremaining: 231ms\n",
      "1:\tlearn: 1.0824505\ttotal: 8.5ms\tremaining: 204ms\n",
      "2:\tlearn: 1.0748702\ttotal: 12.4ms\tremaining: 194ms\n",
      "3:\tlearn: 1.0671224\ttotal: 16ms\tremaining: 184ms\n",
      "4:\tlearn: 1.0591815\ttotal: 19.9ms\tremaining: 179ms\n",
      "5:\tlearn: 1.0504961\ttotal: 23.9ms\tremaining: 175ms\n",
      "6:\tlearn: 1.0435562\ttotal: 27.9ms\tremaining: 171ms\n",
      "7:\tlearn: 1.0374213\ttotal: 31.7ms\tremaining: 167ms\n",
      "8:\tlearn: 1.0314427\ttotal: 35.6ms\tremaining: 162ms\n",
      "9:\tlearn: 1.0242146\ttotal: 39.9ms\tremaining: 160ms\n",
      "10:\tlearn: 1.0170722\ttotal: 44.8ms\tremaining: 159ms\n",
      "11:\tlearn: 1.0106296\ttotal: 49ms\tremaining: 155ms\n",
      "12:\tlearn: 1.0039792\ttotal: 53ms\tremaining: 151ms\n",
      "13:\tlearn: 0.9978351\ttotal: 57.1ms\tremaining: 147ms\n",
      "14:\tlearn: 0.9901879\ttotal: 64ms\tremaining: 149ms\n",
      "15:\tlearn: 0.9839023\ttotal: 69.9ms\tremaining: 149ms\n",
      "16:\tlearn: 0.9769402\ttotal: 74.1ms\tremaining: 144ms\n",
      "17:\tlearn: 0.9709607\ttotal: 77.8ms\tremaining: 138ms\n",
      "18:\tlearn: 0.9643993\ttotal: 82.3ms\tremaining: 134ms\n",
      "19:\tlearn: 0.9581462\ttotal: 86.3ms\tremaining: 129ms\n",
      "20:\tlearn: 0.9516147\ttotal: 90.1ms\tremaining: 124ms\n",
      "21:\tlearn: 0.9453890\ttotal: 94.5ms\tremaining: 120ms\n",
      "22:\tlearn: 0.9396680\ttotal: 98.3ms\tremaining: 115ms\n",
      "23:\tlearn: 0.9342442\ttotal: 102ms\tremaining: 111ms\n",
      "24:\tlearn: 0.9291568\ttotal: 106ms\tremaining: 106ms\n",
      "25:\tlearn: 0.9229864\ttotal: 110ms\tremaining: 101ms\n",
      "26:\tlearn: 0.9174608\ttotal: 113ms\tremaining: 96.6ms\n",
      "27:\tlearn: 0.9122536\ttotal: 117ms\tremaining: 92.1ms\n",
      "28:\tlearn: 0.9064439\ttotal: 121ms\tremaining: 87.7ms\n",
      "29:\tlearn: 0.9014506\ttotal: 125ms\tremaining: 83.4ms\n",
      "30:\tlearn: 0.8962459\ttotal: 129ms\tremaining: 79.1ms\n",
      "31:\tlearn: 0.8912068\ttotal: 133ms\tremaining: 74.8ms\n",
      "32:\tlearn: 0.8853941\ttotal: 137ms\tremaining: 70.4ms\n",
      "33:\tlearn: 0.8808578\ttotal: 140ms\tremaining: 66.1ms\n",
      "34:\tlearn: 0.8760869\ttotal: 144ms\tremaining: 61.9ms\n",
      "35:\tlearn: 0.8720339\ttotal: 148ms\tremaining: 57.7ms\n",
      "36:\tlearn: 0.8674264\ttotal: 152ms\tremaining: 53.4ms\n",
      "37:\tlearn: 0.8625982\ttotal: 156ms\tremaining: 49.3ms\n",
      "38:\tlearn: 0.8582530\ttotal: 160ms\tremaining: 45.1ms\n",
      "39:\tlearn: 0.8535658\ttotal: 164ms\tremaining: 40.9ms\n",
      "40:\tlearn: 0.8485182\ttotal: 168ms\tremaining: 36.8ms\n",
      "41:\tlearn: 0.8437606\ttotal: 172ms\tremaining: 32.7ms\n",
      "42:\tlearn: 0.8392132\ttotal: 176ms\tremaining: 28.6ms\n",
      "43:\tlearn: 0.8348011\ttotal: 180ms\tremaining: 24.5ms\n",
      "44:\tlearn: 0.8302064\ttotal: 183ms\tremaining: 20.4ms\n",
      "45:\tlearn: 0.8256509\ttotal: 187ms\tremaining: 16.3ms\n",
      "46:\tlearn: 0.8212944\ttotal: 191ms\tremaining: 12.2ms\n",
      "47:\tlearn: 0.8168749\ttotal: 195ms\tremaining: 8.11ms\n",
      "48:\tlearn: 0.8126312\ttotal: 199ms\tremaining: 4.05ms\n",
      "49:\tlearn: 0.8080816\ttotal: 203ms\tremaining: 0us\n"
     ]
    },
    {
     "name": "stdout",
     "output_type": "stream",
     "text": [
      "0:\tlearn: 1.0902481\ttotal: 6.47ms\tremaining: 317ms\n",
      "1:\tlearn: 1.0824626\ttotal: 11.7ms\tremaining: 282ms\n",
      "2:\tlearn: 1.0747904\ttotal: 15.9ms\tremaining: 249ms\n",
      "3:\tlearn: 1.0671103\ttotal: 19.9ms\tremaining: 228ms\n",
      "4:\tlearn: 1.0599491\ttotal: 24.3ms\tremaining: 219ms\n",
      "5:\tlearn: 1.0514158\ttotal: 29ms\tremaining: 212ms\n",
      "6:\tlearn: 1.0442554\ttotal: 34.4ms\tremaining: 211ms\n",
      "7:\tlearn: 1.0370275\ttotal: 38.8ms\tremaining: 204ms\n",
      "8:\tlearn: 1.0299725\ttotal: 43.3ms\tremaining: 197ms\n",
      "9:\tlearn: 1.0227081\ttotal: 47.2ms\tremaining: 189ms\n",
      "10:\tlearn: 1.0160079\ttotal: 51ms\tremaining: 181ms\n",
      "11:\tlearn: 1.0099876\ttotal: 54.8ms\tremaining: 174ms\n",
      "12:\tlearn: 1.0026798\ttotal: 58.9ms\tremaining: 168ms\n",
      "13:\tlearn: 0.9969391\ttotal: 62.7ms\tremaining: 161ms\n",
      "14:\tlearn: 0.9904579\ttotal: 66.6ms\tremaining: 155ms\n",
      "15:\tlearn: 0.9844068\ttotal: 70.4ms\tremaining: 150ms\n",
      "16:\tlearn: 0.9777609\ttotal: 74.5ms\tremaining: 145ms\n",
      "17:\tlearn: 0.9718463\ttotal: 78.4ms\tremaining: 139ms\n",
      "18:\tlearn: 0.9656663\ttotal: 82.2ms\tremaining: 134ms\n",
      "19:\tlearn: 0.9595902\ttotal: 86.1ms\tremaining: 129ms\n",
      "20:\tlearn: 0.9531760\ttotal: 90.2ms\tremaining: 125ms\n",
      "21:\tlearn: 0.9472406\ttotal: 93.9ms\tremaining: 120ms\n",
      "22:\tlearn: 0.9415238\ttotal: 97.6ms\tremaining: 115ms\n",
      "23:\tlearn: 0.9356913\ttotal: 101ms\tremaining: 110ms\n",
      "24:\tlearn: 0.9297559\ttotal: 106ms\tremaining: 106ms\n",
      "25:\tlearn: 0.9232502\ttotal: 110ms\tremaining: 101ms\n",
      "26:\tlearn: 0.9177469\ttotal: 113ms\tremaining: 96.7ms\n",
      "27:\tlearn: 0.9127466\ttotal: 117ms\tremaining: 92.2ms\n",
      "28:\tlearn: 0.9068308\ttotal: 121ms\tremaining: 87.8ms\n",
      "29:\tlearn: 0.9017834\ttotal: 125ms\tremaining: 83.3ms\n",
      "30:\tlearn: 0.8969168\ttotal: 129ms\tremaining: 79ms\n",
      "31:\tlearn: 0.8917958\ttotal: 133ms\tremaining: 74.7ms\n",
      "32:\tlearn: 0.8864852\ttotal: 137ms\tremaining: 70.4ms\n",
      "33:\tlearn: 0.8819326\ttotal: 140ms\tremaining: 66.1ms\n",
      "34:\tlearn: 0.8768320\ttotal: 144ms\tremaining: 61.8ms\n",
      "35:\tlearn: 0.8720280\ttotal: 148ms\tremaining: 57.7ms\n",
      "36:\tlearn: 0.8672698\ttotal: 152ms\tremaining: 53.4ms\n",
      "37:\tlearn: 0.8626980\ttotal: 156ms\tremaining: 49.3ms\n",
      "38:\tlearn: 0.8578995\ttotal: 160ms\tremaining: 45.1ms\n",
      "39:\tlearn: 0.8531554\ttotal: 164ms\tremaining: 41ms\n",
      "40:\tlearn: 0.8484638\ttotal: 168ms\tremaining: 36.9ms\n",
      "41:\tlearn: 0.8440329\ttotal: 172ms\tremaining: 32.8ms\n",
      "42:\tlearn: 0.8397012\ttotal: 176ms\tremaining: 28.6ms\n",
      "43:\tlearn: 0.8353937\ttotal: 179ms\tremaining: 24.5ms\n",
      "44:\tlearn: 0.8310708\ttotal: 183ms\tremaining: 20.3ms\n",
      "45:\tlearn: 0.8265856\ttotal: 187ms\tremaining: 16.3ms\n",
      "46:\tlearn: 0.8224868\ttotal: 191ms\tremaining: 12.2ms\n",
      "47:\tlearn: 0.8184048\ttotal: 196ms\tremaining: 8.16ms\n",
      "48:\tlearn: 0.8144501\ttotal: 203ms\tremaining: 4.14ms\n",
      "49:\tlearn: 0.8100602\ttotal: 207ms\tremaining: 0us\n",
      "0:\tlearn: 1.0906780\ttotal: 8.71ms\tremaining: 427ms\n",
      "1:\tlearn: 1.0830247\ttotal: 13.4ms\tremaining: 321ms\n",
      "2:\tlearn: 1.0753259\ttotal: 17.4ms\tremaining: 273ms\n",
      "3:\tlearn: 1.0674386\ttotal: 21.3ms\tremaining: 244ms\n",
      "4:\tlearn: 1.0591257\ttotal: 25.8ms\tremaining: 232ms\n",
      "5:\tlearn: 1.0516836\ttotal: 29.6ms\tremaining: 217ms\n",
      "6:\tlearn: 1.0453988\ttotal: 33.6ms\tremaining: 206ms\n",
      "7:\tlearn: 1.0383723\ttotal: 37.5ms\tremaining: 197ms\n",
      "8:\tlearn: 1.0319555\ttotal: 41.9ms\tremaining: 191ms\n",
      "9:\tlearn: 1.0246192\ttotal: 46ms\tremaining: 184ms\n",
      "10:\tlearn: 1.0174832\ttotal: 49.8ms\tremaining: 177ms\n",
      "11:\tlearn: 1.0113667\ttotal: 53.8ms\tremaining: 170ms\n",
      "12:\tlearn: 1.0038202\ttotal: 58.2ms\tremaining: 166ms\n",
      "13:\tlearn: 0.9976345\ttotal: 62.4ms\tremaining: 161ms\n",
      "14:\tlearn: 0.9904770\ttotal: 66.3ms\tremaining: 155ms\n",
      "15:\tlearn: 0.9838257\ttotal: 71ms\tremaining: 151ms\n",
      "16:\tlearn: 0.9769162\ttotal: 75.7ms\tremaining: 147ms\n",
      "17:\tlearn: 0.9711201\ttotal: 79.5ms\tremaining: 141ms\n",
      "18:\tlearn: 0.9646975\ttotal: 83.5ms\tremaining: 136ms\n",
      "19:\tlearn: 0.9584949\ttotal: 90.4ms\tremaining: 136ms\n",
      "20:\tlearn: 0.9520607\ttotal: 96.1ms\tremaining: 133ms\n",
      "21:\tlearn: 0.9464610\ttotal: 99.9ms\tremaining: 127ms\n",
      "22:\tlearn: 0.9408243\ttotal: 105ms\tremaining: 123ms\n",
      "23:\tlearn: 0.9353582\ttotal: 109ms\tremaining: 118ms\n",
      "24:\tlearn: 0.9296061\ttotal: 113ms\tremaining: 113ms\n",
      "25:\tlearn: 0.9230832\ttotal: 117ms\tremaining: 108ms\n",
      "26:\tlearn: 0.9171240\ttotal: 121ms\tremaining: 103ms\n",
      "27:\tlearn: 0.9121837\ttotal: 126ms\tremaining: 98.9ms\n",
      "28:\tlearn: 0.9063817\ttotal: 130ms\tremaining: 93.8ms\n",
      "29:\tlearn: 0.9010767\ttotal: 134ms\tremaining: 89.3ms\n",
      "30:\tlearn: 0.8960211\ttotal: 138ms\tremaining: 84.7ms\n",
      "31:\tlearn: 0.8911007\ttotal: 142ms\tremaining: 79.9ms\n",
      "32:\tlearn: 0.8854457\ttotal: 146ms\tremaining: 75.3ms\n",
      "33:\tlearn: 0.8810347\ttotal: 150ms\tremaining: 70.7ms\n",
      "34:\tlearn: 0.8766382\ttotal: 155ms\tremaining: 66.3ms\n",
      "35:\tlearn: 0.8720348\ttotal: 160ms\tremaining: 62ms\n",
      "36:\tlearn: 0.8667766\ttotal: 164ms\tremaining: 57.5ms\n",
      "37:\tlearn: 0.8620093\ttotal: 168ms\tremaining: 53.1ms\n",
      "38:\tlearn: 0.8574183\ttotal: 173ms\tremaining: 48.8ms\n",
      "39:\tlearn: 0.8525106\ttotal: 178ms\tremaining: 44.4ms\n",
      "40:\tlearn: 0.8474734\ttotal: 185ms\tremaining: 40.6ms\n",
      "41:\tlearn: 0.8429375\ttotal: 189ms\tremaining: 36ms\n",
      "42:\tlearn: 0.8385434\ttotal: 193ms\tremaining: 31.4ms\n",
      "43:\tlearn: 0.8344238\ttotal: 197ms\tremaining: 26.8ms\n",
      "44:\tlearn: 0.8296836\ttotal: 202ms\tremaining: 22.4ms\n",
      "45:\tlearn: 0.8256925\ttotal: 205ms\tremaining: 17.9ms\n",
      "46:\tlearn: 0.8220169\ttotal: 209ms\tremaining: 13.4ms\n",
      "47:\tlearn: 0.8179747\ttotal: 213ms\tremaining: 8.87ms\n",
      "48:\tlearn: 0.8137045\ttotal: 217ms\tremaining: 4.42ms\n",
      "49:\tlearn: 0.8093369\ttotal: 221ms\tremaining: 0us\n",
      "0:\tlearn: 1.0903295\ttotal: 4.98ms\tremaining: 244ms\n",
      "1:\tlearn: 1.0823098\ttotal: 8.93ms\tremaining: 214ms\n",
      "2:\tlearn: 1.0744778\ttotal: 13.5ms\tremaining: 212ms\n",
      "3:\tlearn: 1.0666524\ttotal: 17.3ms\tremaining: 199ms\n",
      "4:\tlearn: 1.0587131\ttotal: 21.1ms\tremaining: 190ms\n",
      "5:\tlearn: 1.0511053\ttotal: 25.1ms\tremaining: 184ms\n",
      "6:\tlearn: 1.0448906\ttotal: 29.6ms\tremaining: 182ms\n",
      "7:\tlearn: 1.0377692\ttotal: 33.7ms\tremaining: 177ms\n",
      "8:\tlearn: 1.0301505\ttotal: 37.7ms\tremaining: 172ms\n",
      "9:\tlearn: 1.0228690\ttotal: 41.9ms\tremaining: 167ms\n",
      "10:\tlearn: 1.0159404\ttotal: 45.9ms\tremaining: 163ms\n",
      "11:\tlearn: 1.0097229\ttotal: 50ms\tremaining: 158ms\n",
      "12:\tlearn: 1.0033499\ttotal: 53.8ms\tremaining: 153ms\n",
      "13:\tlearn: 0.9971462\ttotal: 57.7ms\tremaining: 148ms\n",
      "14:\tlearn: 0.9914716\ttotal: 61.7ms\tremaining: 144ms\n",
      "15:\tlearn: 0.9851428\ttotal: 65.4ms\tremaining: 139ms\n",
      "16:\tlearn: 0.9784362\ttotal: 69.2ms\tremaining: 134ms\n",
      "17:\tlearn: 0.9721023\ttotal: 72.9ms\tremaining: 130ms\n",
      "18:\tlearn: 0.9654653\ttotal: 77ms\tremaining: 126ms\n",
      "19:\tlearn: 0.9583670\ttotal: 80.8ms\tremaining: 121ms\n",
      "20:\tlearn: 0.9534586\ttotal: 84.8ms\tremaining: 117ms\n",
      "21:\tlearn: 0.9476215\ttotal: 88.6ms\tremaining: 113ms\n",
      "22:\tlearn: 0.9416447\ttotal: 92.7ms\tremaining: 109ms\n",
      "23:\tlearn: 0.9362003\ttotal: 96.7ms\tremaining: 105ms\n",
      "24:\tlearn: 0.9309173\ttotal: 101ms\tremaining: 101ms\n",
      "25:\tlearn: 0.9246099\ttotal: 105ms\tremaining: 97.1ms\n",
      "26:\tlearn: 0.9186795\ttotal: 110ms\tremaining: 93.8ms\n",
      "27:\tlearn: 0.9129479\ttotal: 114ms\tremaining: 89.6ms\n",
      "28:\tlearn: 0.9068856\ttotal: 123ms\tremaining: 88.7ms\n",
      "29:\tlearn: 0.9014816\ttotal: 128ms\tremaining: 85.2ms\n",
      "30:\tlearn: 0.8962918\ttotal: 133ms\tremaining: 81.5ms\n",
      "31:\tlearn: 0.8912072\ttotal: 137ms\tremaining: 77ms\n",
      "32:\tlearn: 0.8854253\ttotal: 142ms\tremaining: 73.3ms\n",
      "33:\tlearn: 0.8806758\ttotal: 146ms\tremaining: 68.7ms\n",
      "34:\tlearn: 0.8759036\ttotal: 151ms\tremaining: 64.5ms\n",
      "35:\tlearn: 0.8712136\ttotal: 156ms\tremaining: 60.5ms\n",
      "36:\tlearn: 0.8666025\ttotal: 160ms\tremaining: 56.2ms\n",
      "37:\tlearn: 0.8619286\ttotal: 164ms\tremaining: 51.8ms\n",
      "38:\tlearn: 0.8575100\ttotal: 168ms\tremaining: 47.3ms\n",
      "39:\tlearn: 0.8524190\ttotal: 172ms\tremaining: 43ms\n",
      "40:\tlearn: 0.8472487\ttotal: 176ms\tremaining: 38.7ms\n",
      "41:\tlearn: 0.8421440\ttotal: 180ms\tremaining: 34.3ms\n",
      "42:\tlearn: 0.8375211\ttotal: 184ms\tremaining: 29.9ms\n",
      "43:\tlearn: 0.8331473\ttotal: 189ms\tremaining: 25.7ms\n",
      "44:\tlearn: 0.8281938\ttotal: 192ms\tremaining: 21.4ms\n",
      "45:\tlearn: 0.8235319\ttotal: 197ms\tremaining: 17.1ms\n",
      "46:\tlearn: 0.8186264\ttotal: 200ms\tremaining: 12.8ms\n",
      "47:\tlearn: 0.8143070\ttotal: 205ms\tremaining: 8.53ms\n",
      "48:\tlearn: 0.8103378\ttotal: 209ms\tremaining: 4.26ms\n",
      "49:\tlearn: 0.8061161\ttotal: 213ms\tremaining: 0us\n",
      "0:\tlearn: 1.0906112\ttotal: 5.42ms\tremaining: 266ms\n",
      "1:\tlearn: 1.0825151\ttotal: 9.74ms\tremaining: 234ms\n",
      "2:\tlearn: 1.0743669\ttotal: 13.4ms\tremaining: 210ms\n",
      "3:\tlearn: 1.0653422\ttotal: 17.4ms\tremaining: 200ms\n",
      "4:\tlearn: 1.0583741\ttotal: 21.5ms\tremaining: 194ms\n",
      "5:\tlearn: 1.0506351\ttotal: 25.7ms\tremaining: 188ms\n",
      "6:\tlearn: 1.0434859\ttotal: 29.6ms\tremaining: 182ms\n",
      "7:\tlearn: 1.0358087\ttotal: 33.5ms\tremaining: 176ms\n",
      "8:\tlearn: 1.0292182\ttotal: 37.5ms\tremaining: 171ms\n",
      "9:\tlearn: 1.0215572\ttotal: 41.3ms\tremaining: 165ms\n"
     ]
    },
    {
     "name": "stdout",
     "output_type": "stream",
     "text": [
      "10:\tlearn: 1.0140322\ttotal: 45.6ms\tremaining: 162ms\n",
      "11:\tlearn: 1.0072884\ttotal: 50ms\tremaining: 158ms\n",
      "12:\tlearn: 1.0006931\ttotal: 54.2ms\tremaining: 154ms\n",
      "13:\tlearn: 0.9940671\ttotal: 58.1ms\tremaining: 149ms\n",
      "14:\tlearn: 0.9867979\ttotal: 62ms\tremaining: 145ms\n",
      "15:\tlearn: 0.9804592\ttotal: 69.7ms\tremaining: 148ms\n",
      "16:\tlearn: 0.9743606\ttotal: 74.3ms\tremaining: 144ms\n",
      "17:\tlearn: 0.9678976\ttotal: 78.2ms\tremaining: 139ms\n",
      "18:\tlearn: 0.9620869\ttotal: 82.3ms\tremaining: 134ms\n",
      "19:\tlearn: 0.9557734\ttotal: 86.3ms\tremaining: 130ms\n",
      "20:\tlearn: 0.9500473\ttotal: 90.9ms\tremaining: 126ms\n",
      "21:\tlearn: 0.9440478\ttotal: 96ms\tremaining: 122ms\n",
      "22:\tlearn: 0.9378538\ttotal: 100ms\tremaining: 117ms\n",
      "23:\tlearn: 0.9324609\ttotal: 106ms\tremaining: 114ms\n",
      "24:\tlearn: 0.9271918\ttotal: 109ms\tremaining: 109ms\n",
      "25:\tlearn: 0.9210291\ttotal: 113ms\tremaining: 105ms\n",
      "26:\tlearn: 0.9150616\ttotal: 118ms\tremaining: 100ms\n",
      "27:\tlearn: 0.9097735\ttotal: 122ms\tremaining: 96ms\n",
      "28:\tlearn: 0.9035453\ttotal: 126ms\tremaining: 91.3ms\n",
      "29:\tlearn: 0.8985746\ttotal: 130ms\tremaining: 86.6ms\n",
      "30:\tlearn: 0.8933922\ttotal: 134ms\tremaining: 82.1ms\n",
      "31:\tlearn: 0.8880642\ttotal: 138ms\tremaining: 77.5ms\n",
      "32:\tlearn: 0.8825165\ttotal: 142ms\tremaining: 73ms\n",
      "33:\tlearn: 0.8771113\ttotal: 145ms\tremaining: 68.5ms\n",
      "34:\tlearn: 0.8723159\ttotal: 150ms\tremaining: 64.2ms\n",
      "35:\tlearn: 0.8670021\ttotal: 154ms\tremaining: 59.7ms\n",
      "36:\tlearn: 0.8624562\ttotal: 157ms\tremaining: 55.3ms\n",
      "37:\tlearn: 0.8574913\ttotal: 161ms\tremaining: 50.8ms\n",
      "38:\tlearn: 0.8524590\ttotal: 165ms\tremaining: 46.5ms\n",
      "39:\tlearn: 0.8473862\ttotal: 169ms\tremaining: 42.2ms\n",
      "40:\tlearn: 0.8421398\ttotal: 173ms\tremaining: 37.9ms\n",
      "41:\tlearn: 0.8372694\ttotal: 176ms\tremaining: 33.6ms\n",
      "42:\tlearn: 0.8329406\ttotal: 180ms\tremaining: 29.3ms\n",
      "43:\tlearn: 0.8289859\ttotal: 184ms\tremaining: 25.1ms\n",
      "44:\tlearn: 0.8246710\ttotal: 187ms\tremaining: 20.8ms\n",
      "45:\tlearn: 0.8200131\ttotal: 191ms\tremaining: 16.6ms\n",
      "46:\tlearn: 0.8156064\ttotal: 195ms\tremaining: 12.5ms\n",
      "47:\tlearn: 0.8114488\ttotal: 199ms\tremaining: 8.31ms\n",
      "48:\tlearn: 0.8073847\ttotal: 203ms\tremaining: 4.15ms\n",
      "49:\tlearn: 0.8028428\ttotal: 208ms\tremaining: 0us\n",
      "0:\tlearn: 1.0912041\ttotal: 6.39ms\tremaining: 313ms\n",
      "1:\tlearn: 1.0838760\ttotal: 11ms\tremaining: 264ms\n",
      "2:\tlearn: 1.0761837\ttotal: 16.2ms\tremaining: 254ms\n",
      "3:\tlearn: 1.0682960\ttotal: 21.1ms\tremaining: 243ms\n",
      "4:\tlearn: 1.0605959\ttotal: 27.3ms\tremaining: 246ms\n",
      "5:\tlearn: 1.0525051\ttotal: 31.4ms\tremaining: 231ms\n",
      "6:\tlearn: 1.0456565\ttotal: 35.4ms\tremaining: 217ms\n",
      "7:\tlearn: 1.0381544\ttotal: 39.3ms\tremaining: 206ms\n",
      "8:\tlearn: 1.0311372\ttotal: 44ms\tremaining: 200ms\n",
      "9:\tlearn: 1.0238407\ttotal: 47.9ms\tremaining: 192ms\n",
      "10:\tlearn: 1.0169423\ttotal: 52.1ms\tremaining: 185ms\n",
      "11:\tlearn: 1.0100866\ttotal: 56.2ms\tremaining: 178ms\n",
      "12:\tlearn: 1.0036478\ttotal: 60.5ms\tremaining: 172ms\n",
      "13:\tlearn: 0.9973170\ttotal: 64.1ms\tremaining: 165ms\n",
      "14:\tlearn: 0.9901082\ttotal: 68.2ms\tremaining: 159ms\n",
      "15:\tlearn: 0.9840158\ttotal: 72.5ms\tremaining: 154ms\n",
      "16:\tlearn: 0.9783264\ttotal: 76.8ms\tremaining: 149ms\n",
      "17:\tlearn: 0.9722311\ttotal: 80.6ms\tremaining: 143ms\n",
      "18:\tlearn: 0.9657262\ttotal: 84.3ms\tremaining: 138ms\n",
      "19:\tlearn: 0.9596389\ttotal: 88.4ms\tremaining: 133ms\n",
      "20:\tlearn: 0.9535965\ttotal: 92.9ms\tremaining: 128ms\n",
      "21:\tlearn: 0.9481639\ttotal: 96.9ms\tremaining: 123ms\n",
      "22:\tlearn: 0.9423696\ttotal: 101ms\tremaining: 118ms\n",
      "23:\tlearn: 0.9369284\ttotal: 105ms\tremaining: 114ms\n",
      "24:\tlearn: 0.9316832\ttotal: 110ms\tremaining: 110ms\n",
      "25:\tlearn: 0.9255453\ttotal: 113ms\tremaining: 105ms\n",
      "26:\tlearn: 0.9194113\ttotal: 118ms\tremaining: 100ms\n",
      "27:\tlearn: 0.9134904\ttotal: 122ms\tremaining: 95.7ms\n",
      "28:\tlearn: 0.9078149\ttotal: 126ms\tremaining: 91.2ms\n",
      "29:\tlearn: 0.9034747\ttotal: 130ms\tremaining: 86.3ms\n",
      "30:\tlearn: 0.8980996\ttotal: 134ms\tremaining: 81.9ms\n",
      "31:\tlearn: 0.8929574\ttotal: 139ms\tremaining: 78.3ms\n",
      "32:\tlearn: 0.8880657\ttotal: 144ms\tremaining: 74.1ms\n",
      "33:\tlearn: 0.8833006\ttotal: 148ms\tremaining: 69.8ms\n",
      "34:\tlearn: 0.8781351\ttotal: 154ms\tremaining: 66.1ms\n",
      "35:\tlearn: 0.8733356\ttotal: 159ms\tremaining: 61.7ms\n",
      "36:\tlearn: 0.8683641\ttotal: 163ms\tremaining: 57.3ms\n",
      "37:\tlearn: 0.8632304\ttotal: 167ms\tremaining: 52.9ms\n",
      "38:\tlearn: 0.8588207\ttotal: 173ms\tremaining: 48.9ms\n",
      "39:\tlearn: 0.8538838\ttotal: 178ms\tremaining: 44.4ms\n",
      "40:\tlearn: 0.8486877\ttotal: 182ms\tremaining: 39.9ms\n",
      "41:\tlearn: 0.8439397\ttotal: 189ms\tremaining: 36ms\n",
      "42:\tlearn: 0.8393028\ttotal: 194ms\tremaining: 31.6ms\n",
      "43:\tlearn: 0.8349279\ttotal: 199ms\tremaining: 27.1ms\n",
      "44:\tlearn: 0.8304050\ttotal: 206ms\tremaining: 22.9ms\n",
      "45:\tlearn: 0.8259505\ttotal: 210ms\tremaining: 18.3ms\n",
      "46:\tlearn: 0.8219209\ttotal: 214ms\tremaining: 13.7ms\n",
      "47:\tlearn: 0.8175695\ttotal: 220ms\tremaining: 9.15ms\n",
      "48:\tlearn: 0.8135997\ttotal: 227ms\tremaining: 4.63ms\n",
      "49:\tlearn: 0.8089315\ttotal: 235ms\tremaining: 0us\n",
      "0:\tlearn: 1.0909038\ttotal: 6.04ms\tremaining: 296ms\n",
      "1:\tlearn: 1.0831801\ttotal: 10.2ms\tremaining: 244ms\n",
      "2:\tlearn: 1.0755347\ttotal: 14.5ms\tremaining: 227ms\n",
      "3:\tlearn: 1.0669069\ttotal: 18.2ms\tremaining: 210ms\n",
      "4:\tlearn: 1.0590645\ttotal: 22.1ms\tremaining: 199ms\n",
      "5:\tlearn: 1.0513580\ttotal: 26.5ms\tremaining: 195ms\n",
      "6:\tlearn: 1.0443213\ttotal: 30.8ms\tremaining: 189ms\n",
      "7:\tlearn: 1.0364668\ttotal: 34.7ms\tremaining: 182ms\n",
      "8:\tlearn: 1.0297610\ttotal: 38.8ms\tremaining: 177ms\n",
      "9:\tlearn: 1.0222472\ttotal: 42.9ms\tremaining: 172ms\n",
      "10:\tlearn: 1.0149356\ttotal: 47.1ms\tremaining: 167ms\n",
      "11:\tlearn: 1.0082817\ttotal: 51ms\tremaining: 162ms\n",
      "12:\tlearn: 1.0018406\ttotal: 55.2ms\tremaining: 157ms\n",
      "13:\tlearn: 0.9955266\ttotal: 58.9ms\tremaining: 151ms\n",
      "14:\tlearn: 0.9886452\ttotal: 63.9ms\tremaining: 149ms\n",
      "15:\tlearn: 0.9825546\ttotal: 67.9ms\tremaining: 144ms\n",
      "16:\tlearn: 0.9757872\ttotal: 71.8ms\tremaining: 139ms\n",
      "17:\tlearn: 0.9694591\ttotal: 75.7ms\tremaining: 135ms\n",
      "18:\tlearn: 0.9635224\ttotal: 79.4ms\tremaining: 130ms\n",
      "19:\tlearn: 0.9574103\ttotal: 83.4ms\tremaining: 125ms\n",
      "20:\tlearn: 0.9517869\ttotal: 87.3ms\tremaining: 121ms\n",
      "21:\tlearn: 0.9462378\ttotal: 91.2ms\tremaining: 116ms\n",
      "22:\tlearn: 0.9402796\ttotal: 95.2ms\tremaining: 112ms\n",
      "23:\tlearn: 0.9347297\ttotal: 99.2ms\tremaining: 107ms\n",
      "24:\tlearn: 0.9291715\ttotal: 103ms\tremaining: 103ms\n",
      "25:\tlearn: 0.9225301\ttotal: 107ms\tremaining: 98.9ms\n",
      "26:\tlearn: 0.9163942\ttotal: 111ms\tremaining: 94.6ms\n",
      "27:\tlearn: 0.9112384\ttotal: 115ms\tremaining: 90.2ms\n",
      "28:\tlearn: 0.9050269\ttotal: 119ms\tremaining: 86ms\n",
      "29:\tlearn: 0.9001334\ttotal: 123ms\tremaining: 81.8ms\n",
      "30:\tlearn: 0.8948307\ttotal: 128ms\tremaining: 78.4ms\n",
      "31:\tlearn: 0.8895768\ttotal: 133ms\tremaining: 74.5ms\n",
      "32:\tlearn: 0.8844788\ttotal: 136ms\tremaining: 70.3ms\n",
      "33:\tlearn: 0.8796800\ttotal: 141ms\tremaining: 66.6ms\n",
      "34:\tlearn: 0.8749810\ttotal: 145ms\tremaining: 62.4ms\n",
      "35:\tlearn: 0.8705546\ttotal: 150ms\tremaining: 58.3ms\n",
      "36:\tlearn: 0.8655411\ttotal: 155ms\tremaining: 54.6ms\n",
      "37:\tlearn: 0.8601582\ttotal: 161ms\tremaining: 50.9ms\n",
      "38:\tlearn: 0.8552335\ttotal: 165ms\tremaining: 46.6ms\n",
      "39:\tlearn: 0.8500379\ttotal: 169ms\tremaining: 42.3ms\n",
      "40:\tlearn: 0.8447991\ttotal: 174ms\tremaining: 38.2ms\n",
      "41:\tlearn: 0.8397330\ttotal: 178ms\tremaining: 33.9ms\n",
      "42:\tlearn: 0.8352986\ttotal: 181ms\tremaining: 29.5ms\n",
      "43:\tlearn: 0.8312272\ttotal: 185ms\tremaining: 25.3ms\n",
      "44:\tlearn: 0.8265812\ttotal: 189ms\tremaining: 21ms\n",
      "45:\tlearn: 0.8215459\ttotal: 193ms\tremaining: 16.8ms\n",
      "46:\tlearn: 0.8172972\ttotal: 197ms\tremaining: 12.6ms\n",
      "47:\tlearn: 0.8132837\ttotal: 200ms\tremaining: 8.33ms\n",
      "48:\tlearn: 0.8090459\ttotal: 204ms\tremaining: 4.17ms\n",
      "49:\tlearn: 0.8046816\ttotal: 208ms\tremaining: 0us\n",
      "0.8400000000000001\n"
     ]
    }
   ],
   "source": [
    "#!pip install catboost\n",
    "from catboost import CatBoostClassifier\n",
    "print(cross_val_score(CatBoostClassifier(n_estimators=50, learning_rate=0.01), X, Y, cv=10, scoring='accuracy').mean())"
   ]
  },
  {
   "cell_type": "markdown",
   "id": "01b3937c",
   "metadata": {},
   "source": [
    "### Voting classifier"
   ]
  },
  {
   "cell_type": "code",
   "execution_count": 24,
   "id": "4ebdb873",
   "metadata": {},
   "outputs": [],
   "source": [
    "from sklearn.datasets import make_classification\n",
    "\n",
    "nb_samples = 500\n",
    "\n",
    "X, Y = make_classification(n_samples=nb_samples, n_features=2, n_redundant=0, n_classes=2)"
   ]
  },
  {
   "cell_type": "code",
   "execution_count": 25,
   "id": "2aee01af",
   "metadata": {},
   "outputs": [],
   "source": [
    "X, Y = digits.data, digits.target"
   ]
  },
  {
   "cell_type": "code",
   "execution_count": 29,
   "id": "68dcdf4d",
   "metadata": {},
   "outputs": [],
   "source": [
    "from sklearn.linear_model import LogisticRegression\n",
    "from sklearn.svm import SVC\n",
    "from sklearn.tree import DecisionTreeClassifier\n",
    "from sklearn.ensemble import VotingClassifier\n",
    "\n",
    "lr = LogisticRegression(max_iter = 5000)\n",
    "svc = SVC(kernel='poly', probability=True, max_iter = 5000)\n",
    "dt = DecisionTreeClassifier()\n",
    "\n",
    "classifiers = [('lr', lr),\n",
    "               ('dt', dt),\n",
    "               ('svc', svc)]\n",
    "\n",
    "vc = VotingClassifier(estimators=classifiers, voting='hard')"
   ]
  },
  {
   "cell_type": "code",
   "execution_count": 31,
   "id": "6cd97ce5",
   "metadata": {},
   "outputs": [
    {
     "name": "stdout",
     "output_type": "stream",
     "text": [
      "Acurácia LR: 0.92764121663563\n",
      "Acurácia DT: 0.829143389199255\n",
      "Acurácia SVR: 0.9777343265052763\n",
      "Acurácia VC: 0.9532526381129733\n",
      "[0.92764122 0.82914339 0.97773433 0.95325264]\n"
     ]
    }
   ],
   "source": [
    "from sklearn.model_selection import cross_val_score\n",
    "\n",
    "a = []\n",
    "\n",
    "a.append(cross_val_score(lr, X, Y, scoring='accuracy', cv=10).mean())\n",
    "print(\"Acurácia LR:\", a[len(a)-1])\n",
    "a.append(cross_val_score(dt, X, Y, scoring='accuracy', cv=10).mean())\n",
    "print(\"Acurácia DT:\", a[len(a)-1])\n",
    "a.append(cross_val_score(svc, X, Y, scoring='accuracy', cv=10).mean())\n",
    "print(\"Acurácia SVR:\", a[len(a)-1])\n",
    "a.append(cross_val_score(vc, X, Y, scoring='accuracy', cv=10).mean())\n",
    "print(\"Acurácia VC:\", a[len(a)-1])\n",
    "\n",
    "print(np.array(a))"
   ]
  },
  {
   "cell_type": "code",
   "execution_count": 32,
   "id": "82e2b596",
   "metadata": {},
   "outputs": [
    {
     "data": {
      "image/png": "[encoded data removed]",
      "text/plain": [
       "<Figure size 432x288 with 1 Axes>"
      ]
     },
     "metadata": {
      "needs_background": "light"
     },
     "output_type": "display_data"
    }
   ],
   "source": [
    "import matplotlib.pyplot as plt\n",
    "fig = plt.figure()\n",
    "\n",
    "ax = fig.add_axes([0,0,1,1])\n",
    "\n",
    "ax.bar(['lr','dt','svc','ensenble'],np.array(a))\n",
    "\n",
    "#ax.set_xlabel(\"Features\")\n",
    "ax.set_ylabel(\"Acurácia\")\n",
    "\n",
    "plt.show()\n"
   ]
  },
  {
   "cell_type": "code",
   "execution_count": 33,
   "id": "80f11ac3",
   "metadata": {},
   "outputs": [
    {
     "name": "stdout",
     "output_type": "stream",
     "text": [
      "Acurácia VC: 0.9476846679081316\n",
      "[0.92764122 0.82914339 0.97773433 0.95325264 0.94768467]\n"
     ]
    }
   ],
   "source": [
    "vc = VotingClassifier(estimators=classifiers, voting='soft')\n",
    "a.append(cross_val_score(vc, X, Y, scoring='accuracy', cv=10).mean())\n",
    "print(\"Acurácia VC:\", a[len(a)-1])\n",
    "\n",
    "print(np.array(a))"
   ]
  },
  {
   "cell_type": "code",
   "execution_count": 34,
   "id": "35950716",
   "metadata": {},
   "outputs": [
    {
     "data": {
      "image/png": "[encoded data removed]",
      "text/plain": [
       "<Figure size 432x288 with 1 Axes>"
      ]
     },
     "metadata": {
      "needs_background": "light"
     },
     "output_type": "display_data"
    }
   ],
   "source": [
    "import matplotlib.pyplot as plt\n",
    "fig = plt.figure()\n",
    "\n",
    "ax = fig.add_axes([0,0,1,1])\n",
    "\n",
    "ax.bar(['lr','dt','svc','hard voting','soft voting'],np.array(a))\n",
    "\n",
    "#ax.set_xlabel(\"Features\")\n",
    "ax.set_ylabel(\"Acurácia\")\n",
    "\n",
    "plt.show()\n"
   ]
  },
  {
   "cell_type": "code",
   "execution_count": 40,
   "id": "d256aeb9",
   "metadata": {},
   "outputs": [
    {
     "name": "stdout",
     "output_type": "stream",
     "text": [
      "Acurácia VC: 0.9627188081936685\n",
      "[0.92764122 0.82914339 0.97773433 0.95325264 0.94768467 0.96271881]\n"
     ]
    }
   ],
   "source": [
    "weights = [0.75, 0.5, 1.5]\n",
    "\n",
    "vc = VotingClassifier(estimators=classifiers, weights=weights, voting='soft')\n",
    "a.append(cross_val_score(vc, X, Y, scoring='accuracy', cv=10).mean())\n",
    "print(\"Acurácia VC:\", a[len(a)-1])\n",
    "\n",
    "print(np.array(a))"
   ]
  },
  {
   "cell_type": "code",
   "execution_count": 41,
   "id": "28494158",
   "metadata": {},
   "outputs": [
    {
     "data": {
      "image/png": "[encoded data removed]",
      "text/plain": [
       "<Figure size 432x288 with 1 Axes>"
      ]
     },
     "metadata": {
      "needs_background": "light"
     },
     "output_type": "display_data"
    }
   ],
   "source": [
    "import matplotlib.pyplot as plt\n",
    "fig = plt.figure()\n",
    "\n",
    "ax = fig.add_axes([0,0,1,1])\n",
    "\n",
    "ax.bar(['lr','dt','svc','hard voting','soft voting', 'weighed sv'],np.array(a))\n",
    "\n",
    "#ax.set_xlabel(\"Features\")\n",
    "ax.set_ylabel(\"Acurácia\")\n",
    "\n",
    "plt.show()\n"
   ]
  },
  {
   "cell_type": "code",
   "execution_count": 39,
   "id": "587a52ee",
   "metadata": {},
   "outputs": [
    {
     "data": {
      "text/plain": [
       "[0.92764121663563,\n",
       " 0.829143389199255,\n",
       " 0.9777343265052763,\n",
       " 0.9532526381129733,\n",
       " 0.9476846679081316]"
      ]
     },
     "execution_count": 39,
     "metadata": {},
     "output_type": "execute_result"
    }
   ],
   "source": []
  },
  {
   "cell_type": "code",
   "execution_count": null,
   "id": "e96dccc0",
   "metadata": {},
   "outputs": [],
   "source": [
    "cross_val_score(RandomForestClassifier(n_estimators=i), digits.data, digits.target,  scoring='accuracy', cv=10).mean()\n"
   ]
  },
  {
   "cell_type": "code",
   "execution_count": 55,
   "id": "569180c2",
   "metadata": {},
   "outputs": [],
   "source": [
    "### XGBOOSTING"
   ]
  },
  {
   "cell_type": "code",
   "execution_count": null,
   "id": "8385f508",
   "metadata": {},
   "outputs": [],
   "source": [
    "### CATBOOSTING"
   ]
  },
  {
   "cell_type": "markdown",
   "id": "943df38b",
   "metadata": {},
   "source": [
    "### Usando Ensemble para Regressões"
   ]
  },
  {
   "cell_type": "code",
   "execution_count": 94,
   "id": "44919cc7",
   "metadata": {},
   "outputs": [],
   "source": [
    "# gradient boosting for regression in scikit-learn\n",
    "from numpy import mean\n",
    "from numpy import std\n",
    "from sklearn.datasets import make_regression\n",
    "from sklearn.ensemble import GradientBoostingRegressor\n",
    "from sklearn.model_selection import cross_val_score\n",
    "from sklearn.model_selection import RepeatedKFold\n",
    "from matplotlib import pyplot\n",
    "\n",
    "X, y = make_regression(n_samples=1000, n_features=10, n_informative=5, random_state=1)\n"
   ]
  },
  {
   "cell_type": "code",
   "execution_count": 95,
   "id": "1edfad5f",
   "metadata": {},
   "outputs": [
    {
     "name": "stdout",
     "output_type": "stream",
     "text": [
      "MAE: -19.928 (2.034)\n",
      "R2: 0.953\n"
     ]
    }
   ],
   "source": [
    "from sklearn.ensemble import BaggingRegressor\n",
    "\n",
    "model = BaggingRegressor()\n",
    "cv = RepeatedKFold(n_splits=10, n_repeats=3, random_state=1)\n",
    "\n",
    "n_scores = cross_val_score(model, X, y, scoring='neg_mean_absolute_error', cv=cv, n_jobs=-1, error_score='raise')\n",
    "n_r2 = cross_val_score(model, X, y, scoring='r2', cv=cv, n_jobs=-1, error_score='raise').mean()\n",
    "print('MAE: %.3f (%.3f)' % (mean(n_scores), std(n_scores)))\n",
    "print('R2: %.3f'% n_r2)"
   ]
  },
  {
   "cell_type": "code",
   "execution_count": 101,
   "id": "0fe37712",
   "metadata": {},
   "outputs": [
    {
     "name": "stdout",
     "output_type": "stream",
     "text": [
      "MAE: -17.933 (1.914)\n",
      "R2: 0.963\n"
     ]
    }
   ],
   "source": [
    "from sklearn.ensemble import RandomForestRegressor\n",
    "\n",
    "model = RandomForestRegressor()\n",
    "cv = RepeatedKFold(n_splits=10, n_repeats=3, random_state=1)\n",
    "\n",
    "n_scores = cross_val_score(model, X, y, scoring='neg_mean_absolute_error', cv=cv, n_jobs=-1, error_score='raise')\n",
    "n_r2 = cross_val_score(model, X, y, scoring='r2', cv=cv, n_jobs=-1, error_score='raise').mean()\n",
    "print('MAE: %.3f (%.3f)' % (mean(n_scores), std(n_scores)))\n",
    "print('R2: %.3f'% n_r2)"
   ]
  },
  {
   "cell_type": "code",
   "execution_count": 96,
   "id": "13f5b328",
   "metadata": {},
   "outputs": [
    {
     "name": "stdout",
     "output_type": "stream",
     "text": [
      "MAE: -11.858 (1.125)\n",
      "R2: 0.985\n"
     ]
    }
   ],
   "source": [
    "\n",
    "model = GradientBoostingRegressor()\n",
    "cv = RepeatedKFold(n_splits=10, n_repeats=3, random_state=1)\n",
    "\n",
    "n_scores = cross_val_score(model, X, y, scoring='neg_mean_absolute_error', cv=cv, n_jobs=-1, error_score='raise')\n",
    "n_r2 = cross_val_score(model, X, y, scoring='r2', cv=cv, n_jobs=-1, error_score='raise').mean()\n",
    "print('MAE: %.3f (%.3f)' % (mean(n_scores), std(n_scores)))\n",
    "print('R2: %.3f'% n_r2)"
   ]
  },
  {
   "cell_type": "code",
   "execution_count": 99,
   "id": "14812c2e",
   "metadata": {},
   "outputs": [
    {
     "name": "stdout",
     "output_type": "stream",
     "text": [
      "MAE: -12.739 (1.408)\n",
      "R2: 0.979\n"
     ]
    }
   ],
   "source": [
    "from lightgbm import LGBMRegressor #!pip install lightgbm\n",
    "\n",
    "model = LGBMRegressor()\n",
    "cv = RepeatedKFold(n_splits=10, n_repeats=3, random_state=1)\n",
    "\n",
    "n_scores = cross_val_score(model, X, y, scoring='neg_mean_absolute_error', cv=cv, n_jobs=-1, error_score='raise')\n",
    "n_r2 = cross_val_score(model, X, y, scoring='r2', cv=cv, n_jobs=-1, error_score='raise').mean()\n",
    "print('MAE: %.3f (%.3f)' % (mean(n_scores), std(n_scores)))\n",
    "print('R2: %.3f'% n_r2)"
   ]
  },
  {
   "cell_type": "code",
   "execution_count": 97,
   "id": "4a08aaf2",
   "metadata": {},
   "outputs": [
    {
     "name": "stdout",
     "output_type": "stream",
     "text": [
      "MAE: -12.723 (1.540)\n",
      "R2: 0.979\n"
     ]
    }
   ],
   "source": [
    "from sklearn.ensemble import HistGradientBoostingRegressor\n",
    "\n",
    "model = HistGradientBoostingRegressor()\n",
    "cv = RepeatedKFold(n_splits=10, n_repeats=3, random_state=1)\n",
    "\n",
    "n_scores = cross_val_score(model, X, y, scoring='neg_mean_absolute_error', cv=cv, n_jobs=-1, error_score='raise')\n",
    "n_r2 = cross_val_score(model, X, y, scoring='r2', cv=cv, n_jobs=-1, error_score='raise').mean()\n",
    "print('MAE: %.3f (%.3f)' % (mean(n_scores), std(n_scores)))\n",
    "print('R2: %.3f'% n_r2)"
   ]
  },
  {
   "cell_type": "code",
   "execution_count": 98,
   "id": "e34bb968",
   "metadata": {},
   "outputs": [
    {
     "name": "stdout",
     "output_type": "stream",
     "text": [
      "MAE: -15.048 (1.316)\n",
      "R2: 0.974\n"
     ]
    }
   ],
   "source": [
    "from xgboost import XGBRegressor #!pip install xgboost\n",
    "from sklearn.model_selection import RepeatedKFold\n",
    "\n",
    "model = XGBRegressor(objective='reg:squarederror')\n",
    "cv = RepeatedKFold(n_splits=10, n_repeats=3, random_state=1)\n",
    "\n",
    "n_scores = cross_val_score(model, X, y, scoring='neg_mean_absolute_error', cv=cv, n_jobs=-1, error_score='raise')\n",
    "n_r2 = cross_val_score(model, X, y, scoring='r2', cv=cv, n_jobs=-1, error_score='raise').mean()\n",
    "print('MAE: %.3f (%.3f)' % (mean(n_scores), std(n_scores)))\n",
    "print('R2: %.3f'% n_r2)"
   ]
  },
  {
   "cell_type": "code",
   "execution_count": 100,
   "id": "22caabc1",
   "metadata": {},
   "outputs": [
    {
     "name": "stdout",
     "output_type": "stream",
     "text": [
      "MAE: -9.701 (1.234)\n",
      "R2: 0.988\n"
     ]
    }
   ],
   "source": [
    "from catboost import CatBoostRegressor #!pip install catboost\n",
    "\n",
    "model = CatBoostRegressor(verbose=0, n_estimators=100)\n",
    "cv = RepeatedKFold(n_splits=10, n_repeats=3, random_state=1)\n",
    "\n",
    "n_scores = cross_val_score(model, X, y, scoring='neg_mean_absolute_error', cv=cv, n_jobs=-1, error_score='raise')\n",
    "n_r2 = cross_val_score(model, X, y, scoring='r2', cv=cv, n_jobs=-1, error_score='raise').mean()\n",
    "print('MAE: %.3f (%.3f)' % (mean(n_scores), std(n_scores)))\n",
    "print('R2: %.3f'% n_r2)"
   ]
  },
  {
   "cell_type": "code",
   "execution_count": null,
   "id": "7d5e158f",
   "metadata": {},
   "outputs": [],
   "source": []
  }
 ],
 "metadata": {
  "kernelspec": {
   "display_name": "Python 3 (ipykernel)",
   "language": "python",
   "name": "python3"
  },
  "language_info": {
   "codemirror_mode": {
    "name": "ipython",
    "version": 3
   },
   "file_extension": ".py",
   "mimetype": "text/x-python",
   "name": "python",
   "nbconvert_exporter": "python",
   "pygments_lexer": "ipython3",
   "version": "3.7.9"
  }
 },
 "nbformat": 4,
 "nbformat_minor": 5
}

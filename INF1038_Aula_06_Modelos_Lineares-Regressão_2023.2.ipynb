{
 "cells": [
  {
   "cell_type": "markdown",
   "id": "a1638ed8",
   "metadata": {},
   "source": [
    "# Gerando Dados p/ Exemplo bidimensional simples"
   ]
  },
  {
   "cell_type": "markdown",
   "id": "5ab9a768",
   "metadata": {},
   "source": [
    "$y = x + 2 + \\eta$"
   ]
  },
  {
   "cell_type": "code",
   "execution_count": 1,
   "id": "849fe933",
   "metadata": {},
   "outputs": [],
   "source": [
    "import numpy as np\n",
    "\n",
    "X = np.arange(-5, 5, 0.05)\n",
    "\n",
    "nb_samples = len(X)\n",
    "\n",
    "Y = X + 2\n",
    "Y += np.random.normal(0.0, 0.5, size=nb_samples)"
   ]
  },
  {
   "cell_type": "code",
   "execution_count": 2,
   "id": "3d3aebe3",
   "metadata": {},
   "outputs": [
    {
     "data": {
      "image/png": "[encoded data removed]",
      "text/plain": [
       "<Figure size 432x288 with 1 Axes>"
      ]
     },
     "metadata": {
      "needs_background": "light"
     },
     "output_type": "display_data"
    }
   ],
   "source": [
    "import matplotlib.pyplot as plt\n",
    "\n",
    "plt.scatter(X, Y)\n",
    "plt.show()"
   ]
  },
  {
   "cell_type": "markdown",
   "id": "7c029388",
   "metadata": {},
   "source": [
    "### Função de Perda\n",
    "\n",
    "$ 𝐿=\\frac{1}{2} \\sum_{𝑖=1}^m (\\alpha + \\beta x_i + y_i)^2$\n",
    "\n",
    "\n",
    "### Gradiente\n",
    "$\\Biggl\\{\n",
    "\\begin{array}{ll}\n",
    " \\frac{\\delta L}{\\delta \\alpha} \\sum_{𝑖=1}^n (\\alpha + \\beta x_i - y_i) = 0\\\\ \n",
    " \\frac{\\delta L}{\\delta \\beta} \\sum_{𝑖=1}^n (\\alpha + \\beta x_i - y_i)x_i = 0\n",
    "\\end{array}$\n",
    "\n"
   ]
  },
  {
   "cell_type": "code",
   "execution_count": 3,
   "id": "98744291",
   "metadata": {},
   "outputs": [],
   "source": [
    "def loss(v):\n",
    "   e = 0.0\n",
    "   for i in range(nb_samples):\n",
    "      e += np.square(v[0] + v[1]*X[i] - Y[i])\n",
    "   return 0.5 * e\n",
    "\n",
    "\n",
    "def gradient(v):\n",
    "   g = np.zeros(shape=2)\n",
    "   for i in range(nb_samples):\n",
    "      g[0] += (v[0] + v[1]*X[i] - Y[i])\n",
    "      g[1] += ((v[0] + v[1]*X[i] - Y[i]) * X[i])\n",
    "   return g"
   ]
  },
  {
   "cell_type": "markdown",
   "id": "551a92ea",
   "metadata": {},
   "source": [
    "### Minimizar"
   ]
  },
  {
   "cell_type": "code",
   "execution_count": 4,
   "id": "d0d90e0e",
   "metadata": {},
   "outputs": [
    {
     "data": {
      "text/plain": [
       "      fun: 24.45791263309375\n",
       " hess_inv: <2x2 LbfgsInvHessProduct with dtype=float64>\n",
       "      jac: array([-1.18948026e-06,  4.71647197e-06])\n",
       "  message: 'CONVERGENCE: NORM_OF_PROJECTED_GRADIENT_<=_PGTOL'\n",
       "     nfev: 8\n",
       "      nit: 7\n",
       "     njev: 8\n",
       "   status: 0\n",
       "  success: True\n",
       "        x: array([2.00131112, 0.98998417])"
      ]
     },
     "execution_count": 4,
     "metadata": {},
     "output_type": "execute_result"
    }
   ],
   "source": [
    "from scipy.optimize import minimize\n",
    "res = minimize(fun=loss, x0=[0.0, 0.0], jac=gradient, method='L-BFGS-B')\n",
    "res"
   ]
  },
  {
   "cell_type": "code",
   "execution_count": 5,
   "id": "64e97a12",
   "metadata": {},
   "outputs": [],
   "source": [
    "def predictY(X, alpha, beta):\n",
    "    Ym = []\n",
    "    for i in range(len(X)):\n",
    "        Ym.append(beta * X[i] + alpha)\n",
    "    return Ym"
   ]
  },
  {
   "cell_type": "code",
   "execution_count": 6,
   "id": "9058b587",
   "metadata": {},
   "outputs": [
    {
     "name": "stdout",
     "output_type": "stream",
     "text": [
      "r2 score for perfect model is 0.9709236378675309\n"
     ]
    }
   ],
   "source": [
    "Ym = predictY(X, res.x[0], res.x[1])\n",
    "\n",
    "from sklearn.metrics import r2_score\n",
    "r2 = r2_score(Y,Ym)\n",
    "print('r2 score for perfect model is', r2)"
   ]
  },
  {
   "cell_type": "code",
   "execution_count": 7,
   "id": "7fc5a6ef",
   "metadata": {},
   "outputs": [
    {
     "data": {
      "image/png": "[encoded data removed]",
      "text/plain": [
       "<Figure size 432x288 with 1 Axes>"
      ]
     },
     "metadata": {
      "needs_background": "light"
     },
     "output_type": "display_data"
    }
   ],
   "source": [
    "import matplotlib.pyplot as plt\n",
    "\n",
    "alpha =  res.x[0]\n",
    "beta = res.x[1]\n",
    "\n",
    "Ym = predictY(X, alpha, beta)\n",
    "\n",
    "plt.scatter(X, Y)\n",
    "plt.plot(X, Ym, color=\"red\", linewidth=3)\n",
    "plt.show()"
   ]
  },
  {
   "cell_type": "markdown",
   "id": "48b83ebb",
   "metadata": {},
   "source": [
    "## Método Matricial"
   ]
  },
  {
   "cell_type": "code",
   "execution_count": 8,
   "id": "af8633b5",
   "metadata": {},
   "outputs": [
    {
     "name": "stdout",
     "output_type": "stream",
     "text": [
      "2.001311121704331 0.9899841673866592\n",
      "y =  2 + 0.99x\n"
     ]
    }
   ],
   "source": [
    "Xs = np.expand_dims(X, axis=1)\n",
    "Ys = np.expand_dims(Y, axis=1)\n",
    "Xs = np.concatenate((Xs, np.ones_like(Xs)), axis=1)\n",
    "\n",
    "result = np.linalg.inv(np.dot(Xs.T, Xs)).dot(Xs.T).dot(Y)\n",
    "print(result[1], result[0])\n",
    "print('y = %2.f + %.2fx' % (result[1], result[0]))\n"
   ]
  },
  {
   "cell_type": "code",
   "execution_count": 9,
   "id": "e3da4606",
   "metadata": {},
   "outputs": [
    {
     "data": {
      "text/plain": [
       "array([0.98998417, 2.00131112])"
      ]
     },
     "execution_count": 9,
     "metadata": {},
     "output_type": "execute_result"
    }
   ],
   "source": [
    "result"
   ]
  },
  {
   "cell_type": "code",
   "execution_count": 10,
   "id": "03823ac3",
   "metadata": {},
   "outputs": [
    {
     "name": "stdout",
     "output_type": "stream",
     "text": [
      "r2 score for perfect model is 0.9709236378675309\n"
     ]
    }
   ],
   "source": [
    "Ym = predictY(X, result[1], result[0])\n",
    "\n",
    "from sklearn.metrics import r2_score\n",
    "r2 = r2_score(Y,Ym)\n",
    "print('r2 score for perfect model is', r2)"
   ]
  },
  {
   "cell_type": "code",
   "execution_count": 11,
   "id": "fff59b4e",
   "metadata": {},
   "outputs": [
    {
     "data": {
      "image/png": "[encoded data removed]",
      "text/plain": [
       "<Figure size 432x288 with 1 Axes>"
      ]
     },
     "metadata": {
      "needs_background": "light"
     },
     "output_type": "display_data"
    }
   ],
   "source": [
    "import matplotlib.pyplot as plt\n",
    "\n",
    "alpha = result[1]\n",
    "beta = result[0]\n",
    "\n",
    "Ym = predictY(X, alpha, beta)\n",
    "\n",
    "plt.scatter(X, Y)\n",
    "plt.plot(X, Ym, color=\"red\", linewidth=3)\n",
    "plt.show()"
   ]
  },
  {
   "cell_type": "markdown",
   "id": "9f5b1d50",
   "metadata": {},
   "source": [
    "## Exemplo de Regressão"
   ]
  },
  {
   "cell_type": "code",
   "execution_count": 12,
   "id": "03091d2b",
   "metadata": {},
   "outputs": [],
   "source": [
    "import pandas as pd  # doctest: +SKIP\n",
    "import numpy as np\n",
    "\n",
    "data_url = \"http://lib.stat.cmu.edu/datasets/boston\"\n",
    "raw_df = pd.read_csv(data_url, sep=\"\\s+\", skiprows=22, header=None)\n",
    "\n",
    "boston={}\n",
    "boston[\"data\"] = np.hstack([raw_df.values[::2, :], raw_df.values[1::2, :2]])\n",
    "boston[\"target\"] = raw_df.values[1::2, 2]"
   ]
  },
  {
   "cell_type": "code",
   "execution_count": 13,
   "id": "f5018760",
   "metadata": {},
   "outputs": [
    {
     "name": "stdout",
     "output_type": "stream",
     "text": [
      "(506, 13)\n",
      "(506,)\n"
     ]
    }
   ],
   "source": [
    "print(boston[\"data\"].shape)\n",
    "\n",
    "print(boston[\"target\"].shape)\n"
   ]
  },
  {
   "cell_type": "code",
   "execution_count": 14,
   "id": "1dc59015",
   "metadata": {},
   "outputs": [],
   "source": [
    "def norma_l2(X):\n",
    "    X = X - np.mean(X, axis=0)\n",
    "    X = X / np.linalg.norm(X, axis=0)\n",
    "    return X"
   ]
  },
  {
   "cell_type": "code",
   "execution_count": 15,
   "id": "1eea72a6",
   "metadata": {},
   "outputs": [],
   "source": [
    "from sklearn.linear_model import LinearRegression\n",
    "from sklearn.pipeline import make_pipeline\n",
    "from sklearn.preprocessing import StandardScaler\n",
    "from sklearn.model_selection import train_test_split\n",
    "\n",
    "X_train, X_test, Y_train, Y_test = train_test_split(boston[\"data\"], boston[\"target\"], test_size=0.3)\n",
    "\n",
    "lr = make_pipeline(StandardScaler(with_mean=False), LinearRegression())\n",
    "reg = lr.fit(X_train, Y_train)\n"
   ]
  },
  {
   "cell_type": "code",
   "execution_count": 16,
   "id": "75194ef8",
   "metadata": {},
   "outputs": [
    {
     "name": "stdout",
     "output_type": "stream",
     "text": [
      "[-0.55853646  0.78694589  0.34591095  0.35454862 -1.62384453  2.60400789\n",
      " -0.2926983  -2.83083236  2.32316746 -2.4521339  -1.9666165   0.71921297\n",
      " -3.75055931]\n",
      "34.62464129114879\n",
      "0.6866331639847977\n"
     ]
    }
   ],
   "source": [
    "print(reg['linearregression'].coef_)\n",
    "print(reg['linearregression'].intercept_)\n",
    "print(reg.score(X_test, Y_test))\n"
   ]
  },
  {
   "cell_type": "code",
   "execution_count": 18,
   "id": "c24ca5e0",
   "metadata": {},
   "outputs": [
    {
     "data": {
      "text/plain": [
       "array([ -11.30795492,  -10.94743251,  -32.12487323,  -33.57836799,\n",
       "        -10.54825524, -149.57087382,  -12.93285837])"
      ]
     },
     "execution_count": 18,
     "metadata": {},
     "output_type": "execute_result"
    }
   ],
   "source": [
    "from sklearn.model_selection import cross_val_score\n",
    "\n",
    "scores = cross_val_score(lr, boston[\"data\"], boston[\"target\"], cv=7, scoring='neg_mean_squared_error')\n",
    "scores"
   ]
  },
  {
   "cell_type": "code",
   "execution_count": 19,
   "id": "9453f3de",
   "metadata": {},
   "outputs": [
    {
     "name": "stdout",
     "output_type": "stream",
     "text": [
      "-37.28723086835311\n",
      "46.78955638801999\n"
     ]
    }
   ],
   "source": [
    "print(scores.mean())\n",
    "print(scores.std())\n"
   ]
  },
  {
   "cell_type": "code",
   "execution_count": 20,
   "id": "ef741b39",
   "metadata": {},
   "outputs": [
    {
     "data": {
      "text/plain": [
       "array([ 0.6534446 ,  0.59631685,  0.67865382,  0.61193393,  0.51940514,\n",
       "       -0.30577687,  0.4001835 ])"
      ]
     },
     "execution_count": 20,
     "metadata": {},
     "output_type": "execute_result"
    }
   ],
   "source": [
    "scores = cross_val_score(lr, boston[\"data\"], boston[\"target\"], cv=7, scoring='r2')\n",
    "scores"
   ]
  },
  {
   "cell_type": "code",
   "execution_count": 21,
   "id": "180ff614",
   "metadata": {},
   "outputs": [
    {
     "name": "stdout",
     "output_type": "stream",
     "text": [
      "0.45059442471362715\n",
      "0.3206685989502162\n"
     ]
    }
   ],
   "source": [
    "print(scores.mean())\n",
    "print(scores.std())\n"
   ]
  },
  {
   "cell_type": "markdown",
   "id": "b0d87810",
   "metadata": {},
   "source": [
    "## Variância Explicada"
   ]
  },
  {
   "cell_type": "markdown",
   "id": "1a9fab15",
   "metadata": {},
   "source": [
    "$EV = 1-\\frac{Var[Y-\\tilde{Y}]}{Var[Y]}$"
   ]
  },
  {
   "cell_type": "code",
   "execution_count": 22,
   "id": "bce9c75d",
   "metadata": {},
   "outputs": [
    {
     "name": "stdout",
     "output_type": "stream",
     "text": [
      "[ 0.66521666  0.62517506  0.71074827  0.61741337  0.57297245 -0.15926251\n",
      "  0.49621415]\n"
     ]
    }
   ],
   "source": [
    "print(cross_val_score(lr, boston[\"data\"], boston[\"target\"], cv=7, scoring='explained_variance'))"
   ]
  },
  {
   "cell_type": "markdown",
   "id": "262c1a9b",
   "metadata": {},
   "source": [
    "## Ridge Regression"
   ]
  },
  {
   "cell_type": "code",
   "execution_count": 31,
   "id": "16c68e01",
   "metadata": {},
   "outputs": [
    {
     "name": "stdout",
     "output_type": "stream",
     "text": [
      "[ 0.6534446   0.59631685  0.67865382  0.61193393  0.51940514 -0.30577687\n",
      "  0.4001835 ]\n",
      "0.45059442471362815\n",
      "[ 0.72006099  0.6417548   0.66042987  0.61092785  0.56271438 -0.11567796\n",
      "  0.47999145]\n",
      "0.5086001970190455\n"
     ]
    }
   ],
   "source": [
    "from sklearn.linear_model import Ridge\n",
    "\n",
    "lr = LinearRegression()\n",
    "rg = Ridge(0.05)\n",
    "\n",
    "lr_scores = cross_val_score(lr,  norma_l2(boston[\"data\"]), boston[\"target\"], cv=7)\n",
    "print(lr_scores)\n",
    "print(lr_scores.mean())\n",
    "\n",
    "\n",
    "rg_scores = cross_val_score(rg,  norma_l2(boston[\"data\"]), boston[\"target\"], cv=7)\n",
    "print(rg_scores)\n",
    "print(rg_scores.mean())"
   ]
  },
  {
   "cell_type": "code",
   "execution_count": 32,
   "id": "31be5a48",
   "metadata": {},
   "outputs": [
    {
     "name": "stdout",
     "output_type": "stream",
     "text": [
      "0.1\n"
     ]
    }
   ],
   "source": [
    "from sklearn.linear_model import RidgeCV\n",
    "\n",
    "rg = RidgeCV(alphas=(1.0, 0.1, 0.01, 0.05, 0.005, 0.0025, 0.001, 0.00025),cv=7)\n",
    "rg.fit(norma_l2(boston[\"data\"]), boston[\"target\"])\n",
    "\n",
    "print(rg.alpha_)"
   ]
  },
  {
   "cell_type": "markdown",
   "id": "120dabde",
   "metadata": {},
   "source": [
    "## Lasso Regression"
   ]
  },
  {
   "cell_type": "code",
   "execution_count": 33,
   "id": "6b177c7a",
   "metadata": {},
   "outputs": [
    {
     "name": "stdout",
     "output_type": "stream",
     "text": [
      "0.45753558120784593\n"
     ]
    }
   ],
   "source": [
    "from sklearn.linear_model import Lasso\n",
    "\n",
    "ls = Lasso(alpha=0.01)\n",
    "\n",
    "ls_scores = cross_val_score(ls, norma_l2(boston[\"data\"]), boston[\"target\"], cv=7)\n",
    "\n",
    "print(ls_scores.mean())\n"
   ]
  },
  {
   "cell_type": "code",
   "execution_count": 34,
   "id": "d61dc97d",
   "metadata": {},
   "outputs": [
    {
     "name": "stdout",
     "output_type": "stream",
     "text": [
      "0.001\n"
     ]
    }
   ],
   "source": [
    "from sklearn.linear_model import LassoCV\n",
    "\n",
    "rs = LassoCV(alphas=(1.0, 0.1, 0.01, 0.005, 0.0025, 0.001, 0.00025),cv=7)\n",
    "rs.fit(norma_l2(boston[\"data\"]), boston[\"target\"])\n",
    "\n",
    "print(rs.alpha_)"
   ]
  },
  {
   "cell_type": "markdown",
   "id": "e0eb3e85",
   "metadata": {},
   "source": [
    "## ElasticNet Regression"
   ]
  },
  {
   "cell_type": "code",
   "execution_count": 35,
   "id": "1ce43934",
   "metadata": {},
   "outputs": [
    {
     "name": "stdout",
     "output_type": "stream",
     "text": [
      "0.5184128742552574\n"
     ]
    }
   ],
   "source": [
    "from sklearn.linear_model import ElasticNet, ElasticNetCV\n",
    "\n",
    "en = ElasticNet(alpha=0.001, l1_ratio=0.8)\n",
    "en_scores = cross_val_score(en, norma_l2(boston[\"data\"]), boston[\"target\"], cv=7)\n",
    "\n",
    "print(en_scores.mean()) "
   ]
  },
  {
   "cell_type": "code",
   "execution_count": 36,
   "id": "29a95389",
   "metadata": {},
   "outputs": [
    {
     "name": "stdout",
     "output_type": "stream",
     "text": [
      "0.001\n",
      "0.5\n"
     ]
    }
   ],
   "source": [
    "encv = ElasticNetCV(alphas=(0.1, 0.01,0.05, 0.005, 0.0025, 0.001), l1_ratio=(0.1, 0.25, 0.5, 0.75, 0.8),cv=7)\n",
    "encv.fit(norma_l2(boston[\"data\"]), boston[\"target\"])\n",
    "\n",
    "print(encv.alpha_)\n",
    "print(encv.l1_ratio_)\n"
   ]
  },
  {
   "cell_type": "markdown",
   "id": "9daf22a4",
   "metadata": {},
   "source": [
    "## RANSAC"
   ]
  },
  {
   "cell_type": "code",
   "execution_count": 37,
   "id": "52d69204",
   "metadata": {},
   "outputs": [],
   "source": [
    "import numpy as np\n",
    "\n",
    "X1 = np.arange(-5, 2.5, 0.05)\n",
    "\n",
    "X2 = np.arange(2.5, 5, 0.05)\n",
    "\n",
    "X = np.concatenate((X1, X2))\n",
    "\n",
    "Y1 = X1 + 2\n",
    "Y1 += np.random.normal(0.0, 0.5, size=len(X1))\n",
    "\n",
    "Y2 = X2 + 10\n",
    "Y2 += np.random.normal(0.0, 1, size=len(X2))\n",
    "\n",
    "Y = np.concatenate((Y1, Y2))"
   ]
  },
  {
   "cell_type": "code",
   "execution_count": 38,
   "id": "be51b5cb",
   "metadata": {},
   "outputs": [
    {
     "data": {
      "image/png": "[encoded data removed]",
      "text/plain": [
       "<Figure size 432x288 with 1 Axes>"
      ]
     },
     "metadata": {
      "needs_background": "light"
     },
     "output_type": "display_data"
    }
   ],
   "source": [
    "import matplotlib.pyplot as plt\n",
    "\n",
    "plt.scatter(X, Y)\n",
    "plt.show()"
   ]
  },
  {
   "cell_type": "code",
   "execution_count": 39,
   "id": "60793b9d",
   "metadata": {},
   "outputs": [
    {
     "name": "stdout",
     "output_type": "stream",
     "text": [
      "[4.01324505]\n",
      "[[1.87783292]]\n"
     ]
    }
   ],
   "source": [
    "from sklearn.linear_model import LinearRegression\n",
    "\n",
    "lr = LinearRegression()\n",
    "lr.fit(X.reshape((-1, 1)), Y.reshape((-1, 1)))\n",
    "\n",
    "print(lr.intercept_)\n",
    "\n",
    "print(lr.coef_)\n"
   ]
  },
  {
   "cell_type": "code",
   "execution_count": 95,
   "id": "65246901",
   "metadata": {},
   "outputs": [
    {
     "data": {
      "image/png": "[encoded data removed]",
      "text/plain": [
       "<Figure size 432x288 with 1 Axes>"
      ]
     },
     "metadata": {
      "needs_background": "light"
     },
     "output_type": "display_data"
    }
   ],
   "source": [
    "import matplotlib.pyplot as plt\n",
    "\n",
    "alpha =  lr.intercept_[0]\n",
    "beta = lr.coef_[0][0]\n",
    "\n",
    "Ym = predictY(X, alpha, beta)\n",
    "\n",
    "plt.scatter(X, Y)\n",
    "plt.plot(X, Ym, color=\"red\", linewidth=3)\n",
    "plt.show()"
   ]
  },
  {
   "cell_type": "code",
   "execution_count": 40,
   "id": "9d8f0b5a",
   "metadata": {},
   "outputs": [
    {
     "name": "stdout",
     "output_type": "stream",
     "text": [
      "[2.03083402]\n",
      "[[0.99282875]]\n"
     ]
    }
   ],
   "source": [
    "from sklearn.linear_model import RANSACRegressor\n",
    "\n",
    "rs = RANSACRegressor(lr)\n",
    "rs.fit(X.reshape((-1, 1)), Y.reshape((-1, 1)))\n",
    "\n",
    "print(rs.estimator_.intercept_)\n",
    "print(rs.estimator_.coef_)\n"
   ]
  },
  {
   "cell_type": "code",
   "execution_count": 41,
   "id": "5359cf39",
   "metadata": {},
   "outputs": [
    {
     "data": {
      "image/png": "[encoded data removed]",
      "text/plain": [
       "<Figure size 432x288 with 1 Axes>"
      ]
     },
     "metadata": {
      "needs_background": "light"
     },
     "output_type": "display_data"
    }
   ],
   "source": [
    "import matplotlib.pyplot as plt\n",
    "\n",
    "alpha =  rs.estimator_.intercept_[0]\n",
    "beta = rs.estimator_.coef_[0][0]\n",
    "\n",
    "Ym = predictY(X, alpha, beta)\n",
    "\n",
    "plt.scatter(X, Y)\n",
    "plt.plot(X, Ym, color=\"red\", linewidth=3)\n",
    "plt.show()"
   ]
  },
  {
   "cell_type": "markdown",
   "id": "4e7553d8",
   "metadata": {},
   "source": [
    "## Huber Regression"
   ]
  },
  {
   "cell_type": "code",
   "execution_count": 42,
   "id": "3dec3a73",
   "metadata": {},
   "outputs": [
    {
     "data": {
      "image/png": "[encoded data removed]",
      "text/plain": [
       "<Figure size 432x288 with 1 Axes>"
      ]
     },
     "metadata": {
      "needs_background": "light"
     },
     "output_type": "display_data"
    }
   ],
   "source": [
    "import matplotlib.pyplot as plt\n",
    "\n",
    "alpha =  rs.estimator_.intercept_[0]\n",
    "beta = rs.estimator_.coef_[0][0]\n",
    "\n",
    "Ym = predictY(X, alpha, beta)\n",
    "\n",
    "plt.scatter(X, Y)\n",
    "plt.plot(X, Ym, color=\"red\", linewidth=3)\n",
    "plt.show()"
   ]
  },
  {
   "cell_type": "code",
   "execution_count": 43,
   "id": "70c37dec",
   "metadata": {},
   "outputs": [],
   "source": [
    "import numpy as np\n",
    "from random import random, randint\n",
    "\n",
    "X = np.arange(-5, 5, 0.05)\n",
    "\n",
    "Y = X + 2\n",
    "\n",
    "Y += np.random.normal(0.0, 0.5, size=len(X))\n",
    "\n",
    "for i in range(0,len(Y)):\n",
    "    if random() > 0.7:\n",
    "        Y[i] += randint(0,10)"
   ]
  },
  {
   "cell_type": "code",
   "execution_count": 44,
   "id": "7d980d5d",
   "metadata": {},
   "outputs": [
    {
     "data": {
      "image/png": "[encoded data removed]",
      "text/plain": [
       "<Figure size 432x288 with 1 Axes>"
      ]
     },
     "metadata": {
      "needs_background": "light"
     },
     "output_type": "display_data"
    }
   ],
   "source": [
    "import matplotlib.pyplot as plt\n",
    "\n",
    "plt.scatter(X, Y)\n",
    "plt.show()"
   ]
  },
  {
   "cell_type": "code",
   "execution_count": 45,
   "id": "5f58a73f",
   "metadata": {},
   "outputs": [
    {
     "name": "stdout",
     "output_type": "stream",
     "text": [
      "[3.67947511]\n",
      "[[0.97508885]]\n"
     ]
    }
   ],
   "source": [
    "from sklearn.linear_model import LinearRegression\n",
    "\n",
    "lr = LinearRegression()\n",
    "lr.fit(X.reshape((-1, 1)), Y.reshape((-1, 1)))\n",
    "\n",
    "print(lr.intercept_)\n",
    "\n",
    "print(lr.coef_)\n"
   ]
  },
  {
   "cell_type": "code",
   "execution_count": 46,
   "id": "890ee7df",
   "metadata": {},
   "outputs": [
    {
     "data": {
      "image/png": "[encoded data removed]",
      "text/plain": [
       "<Figure size 432x288 with 1 Axes>"
      ]
     },
     "metadata": {
      "needs_background": "light"
     },
     "output_type": "display_data"
    }
   ],
   "source": [
    "import matplotlib.pyplot as plt\n",
    "\n",
    "alpha =  lr.intercept_[0]\n",
    "beta = lr.coef_[0][0]\n",
    "\n",
    "Ym = predictY(X, alpha, beta)\n",
    "\n",
    "plt.scatter(X, Y)\n",
    "plt.plot(X, Ym, color=\"red\", linewidth=3)\n",
    "plt.show()"
   ]
  },
  {
   "cell_type": "markdown",
   "id": "935983f8",
   "metadata": {},
   "source": [
    "#### Vamos comparar o resultado com o Ransac "
   ]
  },
  {
   "cell_type": "code",
   "execution_count": 47,
   "id": "cd925b3d",
   "metadata": {},
   "outputs": [
    {
     "name": "stdout",
     "output_type": "stream",
     "text": [
      "[2.2661663]\n",
      "[[0.99877894]]\n"
     ]
    }
   ],
   "source": [
    "from sklearn.linear_model import RANSACRegressor\n",
    "\n",
    "rs = RANSACRegressor(lr)\n",
    "rs.fit(X.reshape((-1, 1)), Y.reshape((-1, 1)))\n",
    "\n",
    "print(rs.estimator_.intercept_)\n",
    "print(rs.estimator_.coef_)\n"
   ]
  },
  {
   "cell_type": "code",
   "execution_count": 48,
   "id": "ccdea606",
   "metadata": {},
   "outputs": [
    {
     "data": {
      "image/png": "[encoded data removed]",
      "text/plain": [
       "<Figure size 432x288 with 1 Axes>"
      ]
     },
     "metadata": {
      "needs_background": "light"
     },
     "output_type": "display_data"
    }
   ],
   "source": [
    "import matplotlib.pyplot as plt\n",
    "\n",
    "alpha =  rs.estimator_.intercept_[0]\n",
    "beta = rs.estimator_.coef_[0][0]\n",
    "\n",
    "Ym = predictY(X, alpha, beta)\n",
    "\n",
    "plt.scatter(X, Y)\n",
    "plt.plot(X, Ym, color=\"red\", linewidth=3)\n",
    "plt.show()"
   ]
  },
  {
   "cell_type": "code",
   "execution_count": null,
   "id": "586e8eb5",
   "metadata": {},
   "outputs": [],
   "source": [
    "#### ... mas e se eu modificar o parâmetro tH do Huber e definir um limite?"
   ]
  },
  {
   "cell_type": "code",
   "execution_count": 50,
   "id": "e1754ade",
   "metadata": {},
   "outputs": [
    {
     "name": "stdout",
     "output_type": "stream",
     "text": [
      "2.4369151616491145\n",
      "[0.99406156]\n"
     ]
    }
   ],
   "source": [
    "from sklearn.linear_model import HuberRegressor\n",
    "\n",
    "hr = HuberRegressor(epsilon=1.25) # epsilon do sklearn é o tH\n",
    "hr.fit(X.reshape(-1, 1), Y)\n",
    "\n",
    "print(hr.intercept_)\n",
    "print(hr.coef_)\n"
   ]
  },
  {
   "cell_type": "code",
   "execution_count": 51,
   "id": "5cd1c67d",
   "metadata": {},
   "outputs": [
    {
     "data": {
      "image/png": "[encoded data removed]",
      "text/plain": [
       "<Figure size 432x288 with 1 Axes>"
      ]
     },
     "metadata": {
      "needs_background": "light"
     },
     "output_type": "display_data"
    }
   ],
   "source": [
    "import matplotlib.pyplot as plt\n",
    "\n",
    "alpha =  hr.intercept_\n",
    "beta = hr.coef_[0]\n",
    "\n",
    "Ym = predictY(X, alpha, beta)\n",
    "\n",
    "plt.scatter(X, Y)\n",
    "plt.plot(X, Ym, color=\"red\", linewidth=3)\n",
    "plt.show()"
   ]
  },
  {
   "cell_type": "markdown",
   "id": "3e1298be",
   "metadata": {},
   "source": [
    "## Polinomial Regression"
   ]
  },
  {
   "cell_type": "code",
   "execution_count": 52,
   "id": "ca0ece76",
   "metadata": {},
   "outputs": [],
   "source": [
    "import numpy as np\n",
    "\n",
    "X = np.arange(-5, 5, 0.05)\n",
    "\n",
    "nb_samples = len(X)\n",
    "\n",
    "Y = X**2 + 2\n",
    "Y += np.random.normal(0.0, 0.5, size=nb_samples)"
   ]
  },
  {
   "cell_type": "code",
   "execution_count": 53,
   "id": "1cd59a2a",
   "metadata": {},
   "outputs": [
    {
     "data": {
      "image/png": "[encoded data removed]",
      "text/plain": [
       "<Figure size 432x288 with 1 Axes>"
      ]
     },
     "metadata": {
      "needs_background": "light"
     },
     "output_type": "display_data"
    }
   ],
   "source": [
    "import matplotlib.pyplot as plt\n",
    "\n",
    "plt.scatter(X, Y)\n",
    "plt.show()"
   ]
  },
  {
   "cell_type": "code",
   "execution_count": 54,
   "id": "459bb014",
   "metadata": {},
   "outputs": [
    {
     "name": "stdout",
     "output_type": "stream",
     "text": [
      "0.0002614864945210682\n",
      "[10.30979923]\n",
      "[[-0.04182212]]\n"
     ]
    }
   ],
   "source": [
    "from sklearn.linear_model import LinearRegression\n",
    "\n",
    "lr = LinearRegression()\n",
    "lr.fit(X.reshape((-1, 1)), Y.reshape((-1, 1)))\n",
    "\n",
    "print(lr.score(X.reshape((-1, 1)), Y.reshape((-1, 1))))\n",
    "\n",
    "print(lr.intercept_)\n",
    "print(lr.coef_)"
   ]
  },
  {
   "cell_type": "code",
   "execution_count": 55,
   "id": "8253bb2b",
   "metadata": {
    "scrolled": true
   },
   "outputs": [
    {
     "data": {
      "image/png": "[encoded data removed]",
      "text/plain": [
       "<Figure size 432x288 with 1 Axes>"
      ]
     },
     "metadata": {
      "needs_background": "light"
     },
     "output_type": "display_data"
    }
   ],
   "source": [
    "import matplotlib.pyplot as plt\n",
    "\n",
    "alpha =  lr.intercept_\n",
    "beta = lr.coef_[0]\n",
    "\n",
    "Ym = predictY(X, alpha, beta)\n",
    "\n",
    "plt.scatter(X, Y)\n",
    "plt.plot(X, Ym, color=\"red\", linewidth=3)\n",
    "plt.show()"
   ]
  },
  {
   "cell_type": "code",
   "execution_count": 56,
   "id": "f29be777",
   "metadata": {},
   "outputs": [],
   "source": [
    "def predictYpolinomial(X, alpha, beta):\n",
    "    Ym = []\n",
    "    print(len(beta))\n",
    "    for i in range(len(X)):\n",
    "        y = alpha\n",
    "        for c in range(1, len(beta)):\n",
    "            y += beta[c] * (X[i]**c)\n",
    "        Ym.append(y)\n",
    "    \n",
    "    return Ym"
   ]
  },
  {
   "cell_type": "code",
   "execution_count": 57,
   "id": "856fbce0",
   "metadata": {},
   "outputs": [
    {
     "name": "stdout",
     "output_type": "stream",
     "text": [
      "0.995684544111049\n",
      "[1.98204513]\n",
      "[[0.         0.00814941 0.99943044]]\n"
     ]
    }
   ],
   "source": [
    "from sklearn.preprocessing import PolynomialFeatures\n",
    "\n",
    "pf = PolynomialFeatures(degree=2)\n",
    "Xp = pf.fit_transform(X.reshape(-1, 1))\n",
    "\n",
    "lr.fit(Xp, Y.reshape((-1, 1)))\n",
    "\n",
    "print(lr.score(Xp, Y.reshape((-1, 1))))\n",
    "print(lr.intercept_)\n",
    "print(lr.coef_)"
   ]
  },
  {
   "cell_type": "code",
   "execution_count": 58,
   "id": "14c65b18",
   "metadata": {
    "scrolled": true
   },
   "outputs": [
    {
     "name": "stdout",
     "output_type": "stream",
     "text": [
      "3\n"
     ]
    },
    {
     "data": {
      "image/png": "[encoded data removed]",
      "text/plain": [
       "<Figure size 432x288 with 1 Axes>"
      ]
     },
     "metadata": {
      "needs_background": "light"
     },
     "output_type": "display_data"
    }
   ],
   "source": [
    "import matplotlib.pyplot as plt\n",
    "\n",
    "alpha =  lr.intercept_[0]\n",
    "\n",
    "Ym = predictYpolinomial(X, alpha, lr.coef_[0])\n",
    "\n",
    "plt.scatter(X, Y)\n",
    "plt.plot(X, Ym, color=\"red\", linewidth=3)\n",
    "plt.show()"
   ]
  },
  {
   "cell_type": "markdown",
   "id": "50c77c91",
   "metadata": {},
   "source": [
    "### Grau 3"
   ]
  },
  {
   "cell_type": "code",
   "execution_count": 59,
   "id": "6f17b71c",
   "metadata": {},
   "outputs": [],
   "source": [
    "import numpy as np\n",
    "\n",
    "X = np.arange(-5, 5, 0.05)\n",
    "\n",
    "nb_samples = len(X)\n",
    "\n",
    "Y = 2*(X**3) + 0.5*(X**2) + X + 2\n",
    "Y += np.random.normal(0.0, 0.5, size=nb_samples)"
   ]
  },
  {
   "cell_type": "code",
   "execution_count": 60,
   "id": "1920d5cd",
   "metadata": {},
   "outputs": [
    {
     "data": {
      "image/png": "[encoded data removed]",
      "text/plain": [
       "<Figure size 432x288 with 1 Axes>"
      ]
     },
     "metadata": {
      "needs_background": "light"
     },
     "output_type": "display_data"
    }
   ],
   "source": [
    "import matplotlib.pyplot as plt\n",
    "\n",
    "plt.scatter(X, Y)\n",
    "plt.show()"
   ]
  },
  {
   "cell_type": "code",
   "execution_count": 61,
   "id": "17ec0cfc",
   "metadata": {},
   "outputs": [
    {
     "name": "stdout",
     "output_type": "stream",
     "text": [
      "0.847587700699957\n",
      "[5.69982526]\n",
      "[[30.9646633]]\n"
     ]
    }
   ],
   "source": [
    "from sklearn.linear_model import LinearRegression\n",
    "\n",
    "lr = LinearRegression()\n",
    "lr.fit(X.reshape((-1, 1)), Y.reshape((-1, 1)))\n",
    "\n",
    "print(lr.score(X.reshape((-1, 1)), Y.reshape((-1, 1))))\n",
    "\n",
    "print(lr.intercept_)\n",
    "print(lr.coef_)"
   ]
  },
  {
   "cell_type": "code",
   "execution_count": 62,
   "id": "4d718fa0",
   "metadata": {
    "scrolled": true
   },
   "outputs": [
    {
     "data": {
      "image/png": "[encoded data removed]",
      "text/plain": [
       "<Figure size 432x288 with 1 Axes>"
      ]
     },
     "metadata": {
      "needs_background": "light"
     },
     "output_type": "display_data"
    }
   ],
   "source": [
    "import matplotlib.pyplot as plt\n",
    "\n",
    "alpha =  lr.intercept_\n",
    "beta = lr.coef_[0]\n",
    "\n",
    "Ym = predictY(X, alpha, beta)\n",
    "\n",
    "plt.scatter(X, Y)\n",
    "plt.plot(X, Ym, color=\"red\", linewidth=3)\n",
    "plt.show()"
   ]
  },
  {
   "cell_type": "code",
   "execution_count": 63,
   "id": "ddcb4b75",
   "metadata": {},
   "outputs": [
    {
     "name": "stdout",
     "output_type": "stream",
     "text": [
      "r2 score for perfect model is 0.847587700699957\n"
     ]
    }
   ],
   "source": [
    "from sklearn.metrics import r2_score\n",
    "\n",
    "r2 = r2_score(Y,Ym)\n",
    "print('r2 score for perfect model is', r2)"
   ]
  },
  {
   "cell_type": "code",
   "execution_count": 64,
   "id": "8f6352de",
   "metadata": {},
   "outputs": [
    {
     "name": "stdout",
     "output_type": "stream",
     "text": [
      "0.9999706103114279\n",
      "[2.02969776]\n",
      "[[0.         0.97126813 0.50049218 2.00109458]]\n"
     ]
    }
   ],
   "source": [
    "from sklearn.preprocessing import PolynomialFeatures\n",
    "\n",
    "pf = PolynomialFeatures(degree=3)\n",
    "Xp = pf.fit_transform(X.reshape(-1, 1))\n",
    "\n",
    "lr.fit(Xp, Y.reshape((-1, 1)))\n",
    "\n",
    "print(lr.score(Xp, Y.reshape((-1, 1))))\n",
    "print(lr.intercept_)\n",
    "print(lr.coef_)"
   ]
  },
  {
   "cell_type": "code",
   "execution_count": 66,
   "id": "c902e74c",
   "metadata": {
    "scrolled": true
   },
   "outputs": [
    {
     "name": "stdout",
     "output_type": "stream",
     "text": [
      "4\n"
     ]
    },
    {
     "data": {
      "image/png": "[encoded data removed]",
      "text/plain": [
       "<Figure size 432x288 with 1 Axes>"
      ]
     },
     "metadata": {
      "needs_background": "light"
     },
     "output_type": "display_data"
    }
   ],
   "source": [
    "import matplotlib.pyplot as plt\n",
    "\n",
    "alpha =  lr.intercept_[0]\n",
    "\n",
    "Ym = predictYpolinomial(X, alpha, lr.coef_[0])\n",
    "\n",
    "plt.scatter(X, Y)\n",
    "plt.plot(X, Ym, color=\"red\", linewidth=3)\n",
    "plt.show()"
   ]
  },
  {
   "cell_type": "code",
   "execution_count": 67,
   "id": "79b10e08",
   "metadata": {},
   "outputs": [
    {
     "name": "stdout",
     "output_type": "stream",
     "text": [
      "r2 score for perfect model is 0.9999706103114279\n"
     ]
    }
   ],
   "source": [
    "from sklearn.metrics import r2_score\n",
    "\n",
    "r2 = r2_score(Y,Ym)\n",
    "print('r2 score for perfect model is', r2)"
   ]
  },
  {
   "cell_type": "markdown",
   "id": "73732f5f",
   "metadata": {},
   "source": [
    "### e a base boston housing?"
   ]
  },
  {
   "cell_type": "code",
   "execution_count": 68,
   "id": "27566905",
   "metadata": {},
   "outputs": [
    {
     "name": "stdout",
     "output_type": "stream",
     "text": [
      "(506, 105)\n",
      "0.9239966561367284\n"
     ]
    }
   ],
   "source": [
    "from sklearn.feature_selection import SelectFromModel\n",
    "\n",
    "pf = PolynomialFeatures(degree=2)\n",
    "Xp = pf.fit_transform(boston[\"data\"])\n",
    "\n",
    "print(Xp.shape)\n",
    "\n",
    "lr = LinearRegression()\n",
    "lr.fit(Xp, boston[\"target\"])\n",
    "print(lr.score(Xp, boston[\"target\"]))"
   ]
  },
  {
   "cell_type": "code",
   "execution_count": 69,
   "id": "b032c665",
   "metadata": {},
   "outputs": [
    {
     "name": "stdout",
     "output_type": "stream",
     "text": [
      "0.9239966561367284\n",
      "(506, 9)\n"
     ]
    }
   ],
   "source": [
    "sm = SelectFromModel(lr, threshold=10)\n",
    "Xt = sm.fit_transform(Xp, boston[\"target\"])\n",
    "\n",
    "print(sm.estimator_.score(Xp, boston[\"target\"]))\n",
    "print(Xt.shape)\n"
   ]
  },
  {
   "cell_type": "code",
   "execution_count": 70,
   "id": "dd8bd687",
   "metadata": {},
   "outputs": [
    {
     "name": "stdout",
     "output_type": "stream",
     "text": [
      "(506, 105)\n"
     ]
    }
   ],
   "source": [
    "Xo = sm.inverse_transform(Xt)\n",
    "print(Xo.shape)"
   ]
  },
  {
   "cell_type": "markdown",
   "id": "5fa87864",
   "metadata": {},
   "source": [
    "## Modelo Não-Linear\n"
   ]
  },
  {
   "cell_type": "code",
   "execution_count": 71,
   "id": "fa0fab01",
   "metadata": {},
   "outputs": [],
   "source": [
    "import matplotlib.pyplot as plt\n",
    "from scipy.optimize import curve_fit\n",
    "\n",
    "def func(x, a, b, c):\n",
    "    return a * np.exp(-b * x) + c\n",
    "\n",
    "X = np.linspace(0, 4, 50)\n",
    "Y = func(X, 2.5, 1.3, 0.5)\n",
    "\n",
    "rng = np.random.default_rng()\n",
    "\n",
    "Y_noise = 0.2 * rng.normal(size=X.size)\n",
    "\n",
    "Y = Y + Y_noise"
   ]
  },
  {
   "cell_type": "code",
   "execution_count": 72,
   "id": "14a6002f",
   "metadata": {},
   "outputs": [
    {
     "data": {
      "image/png": "[encoded data removed]",
      "text/plain": [
       "<Figure size 432x288 with 1 Axes>"
      ]
     },
     "metadata": {
      "needs_background": "light"
     },
     "output_type": "display_data"
    }
   ],
   "source": [
    "popt, pcov = curve_fit(func, X, Y)\n",
    "\n",
    "plt.scatter(X, Y)\n",
    "plt.show()"
   ]
  },
  {
   "cell_type": "code",
   "execution_count": 73,
   "id": "6a0de194",
   "metadata": {},
   "outputs": [
    {
     "name": "stdout",
     "output_type": "stream",
     "text": [
      "[2.34519288 1.44486114 0.58367771]\n",
      "[[ 0.01599037  0.00827167 -0.00063796]\n",
      " [ 0.00827167  0.02583731  0.00547849]\n",
      " [-0.00063796  0.00547849  0.00243151]]\n"
     ]
    },
    {
     "data": {
      "image/png": "[encoded data removed]",
      "text/plain": [
       "<Figure size 432x288 with 1 Axes>"
      ]
     },
     "metadata": {
      "needs_background": "light"
     },
     "output_type": "display_data"
    }
   ],
   "source": [
    "popt, pcov = curve_fit(func, X, Y)\n",
    "print(popt)\n",
    "print(pcov)\n",
    "\n",
    "Ym = func(X, *popt)\n",
    "plt.scatter(X, Y,  label='data')\n",
    "plt.plot(X, Ym, 'r-', label='fit: a=%5.3f, b=%5.3f, c=%5.3f' % tuple(popt))\n",
    "plt.legend()\n",
    "plt.show()"
   ]
  },
  {
   "cell_type": "code",
   "execution_count": 74,
   "id": "7a6c24b1",
   "metadata": {},
   "outputs": [
    {
     "name": "stdout",
     "output_type": "stream",
     "text": [
      "r2 score for perfect model is 0.8976521572387721\n"
     ]
    }
   ],
   "source": [
    "from sklearn.metrics import r2_score\n",
    "r2 = r2_score(Y,Ym)\n",
    "print('r2 score for perfect model is', r2)"
   ]
  },
  {
   "cell_type": "code",
   "execution_count": 75,
   "id": "472bb627",
   "metadata": {},
   "outputs": [
    {
     "name": "stdout",
     "output_type": "stream",
     "text": [
      "[2.20401073 1.         0.45126809]\n",
      "[[ 0.01483865  0.00313749 -0.00217886]\n",
      " [ 0.00313749  0.02000149  0.00905037]\n",
      " [-0.00217886  0.00905037  0.00599942]]\n"
     ]
    },
    {
     "data": {
      "image/png": "[encoded data removed]",
      "text/plain": [
       "<Figure size 432x288 with 1 Axes>"
      ]
     },
     "metadata": {
      "needs_background": "light"
     },
     "output_type": "display_data"
    }
   ],
   "source": [
    "popt2, pcov2 = curve_fit(func, X, Y, bounds=(0, [3., 1., 0.5]))\n",
    "print(popt2)\n",
    "print(pcov2)\n",
    "\n",
    "Ym = func(X, *popt)\n",
    "Ym2 = func(X, *popt2)\n",
    "\n",
    "plt.scatter(X, Y,  label='data')\n",
    "plt.plot(X, Ym, 'r-', label='fit: a=%5.3f, b=%5.3f, c=%5.3f' % tuple(popt))\n",
    "plt.plot(X, Ym2, 'g--', label='fit: a=%5.3f, b=%5.3f, c=%5.3f' % tuple(popt2))\n",
    "plt.legend()\n",
    "plt.show()"
   ]
  },
  {
   "cell_type": "code",
   "execution_count": 76,
   "id": "c9ea7386",
   "metadata": {},
   "outputs": [
    {
     "name": "stdout",
     "output_type": "stream",
     "text": [
      "r2 score for perfect model is 0.8781107446510887\n"
     ]
    }
   ],
   "source": [
    "from sklearn.metrics import r2_score\n",
    "r2 = r2_score(Y,Ym2)\n",
    "print('r2 score for perfect model is', r2)"
   ]
  }
 ],
 "metadata": {
  "kernelspec": {
   "display_name": "Python 3 (ipykernel)",
   "language": "python",
   "name": "python3"
  },
  "language_info": {
   "codemirror_mode": {
    "name": "ipython",
    "version": 3
   },
   "file_extension": ".py",
   "mimetype": "text/x-python",
   "name": "python",
   "nbconvert_exporter": "python",
   "pygments_lexer": "ipython3",
   "version": "3.7.9"
  }
 },
 "nbformat": 4,
 "nbformat_minor": 5
}
